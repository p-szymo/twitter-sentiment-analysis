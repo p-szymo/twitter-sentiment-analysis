{
 "cells": [
  {
   "cell_type": "code",
<<<<<<< HEAD
   "execution_count": 13,
=======
   "execution_count": 1,
>>>>>>> 71b3108ddcb4d6179e31907c2afaafce008683f1
   "metadata": {},
   "outputs": [],
   "source": [
    "import numpy as np\n",
    "import pandas as pd\n",
    "\n",
    "import gzip\n",
    "import pickle\n",
    "\n",
    "import twint\n",
    "\n",
    "# Fixes runtime errors with twint\n",
    "import nest_asyncio\n",
    "nest_asyncio.apply()\n",
    "\n",
    "import matplotlib\n",
    "%matplotlib inline\n",
    "import seaborn as sns; sns.set_style('ticks')\n",
    "\n",
    "import nltk\n",
    "from nltk import RegexpTokenizer\n",
    "from nltk.corpus import stopwords\n",
    "from textblob import TextBlob\n",
    "import re\n",
    "import string\n",
    "import emoji\n",
    "\n",
<<<<<<< HEAD
    "from gensim import models\n",
=======
    "from sklearn.metrics import accuracy_score\n",
    "from sklearn.metrics import precision_score\n",
    "from sklearn.metrics import f1_score\n",
>>>>>>> 71b3108ddcb4d6179e31907c2afaafce008683f1
    "\n",
    "%load_ext autoreload\n",
    "\n",
    "%autoreload\n",
    "\n",
    "# from functions import *"
   ]
  },
  {
   "cell_type": "markdown",
   "metadata": {},
   "source": [
    "# Loading csvs"
   ]
  },
  {
   "cell_type": "code",
   "execution_count": 2,
   "metadata": {},
   "outputs": [
    {
     "name": "stderr",
     "output_type": "stream",
     "text": [
      "/Users/eric/opt/anaconda3/lib/python3.7/site-packages/IPython/core/interactiveshell.py:3063: DtypeWarning: Columns (15) have mixed types.Specify dtype option on import or set low_memory=False.\n",
      "  interactivity=interactivity, compiler=compiler, result=result)\n"
     ]
    },
    {
     "data": {
      "text/plain": [
       "(575949, 32)"
      ]
     },
     "execution_count": 2,
     "metadata": {},
     "output_type": "execute_result"
    }
   ],
   "source": [
    "df = pd.read_csv('5k_Datasets/5k_tweets_lda_10.csv', index_col=0)\n",
    "df.shape"
   ]
  },
  {
   "cell_type": "code",
   "execution_count": 233,
   "metadata": {},
   "outputs": [],
   "source": [
    "jan = pd.read_csv('Datasets/5k_jan_tweets.csv', index_col=0)\n",
    "feb = pd.read_csv('Datasets/5k_feb_tweets.csv', index_col=0)\n",
    "mar = pd.read_csv('Datasets/5k_mar_tweets.csv', index_col=0)\n",
    "apr = pd.read_csv('Datasets/5k_apr_tweets.csv', index_col=0)\n",
    "may = pd.read_csv('Datasets/5k_may_tweets.csv', index_col=0)\n",
    "months = [jan, feb, mar, apr, may]"
   ]
  },
  {
   "cell_type": "code",
   "execution_count": 234,
   "metadata": {},
   "outputs": [
    {
     "data": {
      "text/plain": [
       "(575949, 17)"
      ]
     },
     "execution_count": 234,
     "metadata": {},
     "output_type": "execute_result"
    }
   ],
   "source": [
    "df = pd.concat(months)\n",
    "df.shape"
   ]
  },
  {
   "cell_type": "markdown",
   "metadata": {},
   "source": [
    "### Obtaining target variable"
   ]
  },
  {
   "cell_type": "code",
   "execution_count": 235,
   "metadata": {},
   "outputs": [],
   "source": [
    "from vaderSentiment.vaderSentiment import SentimentIntensityAnalyzer\n",
    "\n",
    "analyzer = SentimentIntensityAnalyzer()\n",
    "\n",
    "df['sentiment_score'] = df['tweet'].apply(lambda x: analyzer.polarity_scores(x)['compound'])"
   ]
  },
  {
   "cell_type": "code",
   "execution_count": 236,
   "metadata": {},
   "outputs": [],
   "source": [
    "conditions = [\n",
    "    df.sentiment_score > .05,\n",
    "    df.sentiment_score < -.05\n",
    "]\n",
    "\n",
    "choices = [\n",
    "    'positive',\n",
    "    'negative'\n",
    "]\n",
    "\n",
    "df['sentiment'] = np.select(conditions, choices, 'neutral')"
   ]
  },
  {
   "cell_type": "code",
   "execution_count": 334,
   "metadata": {},
   "outputs": [
    {
     "name": "stdout",
     "output_type": "stream",
     "text": [
      "(575949, 20)\n"
     ]
    }
   ],
   "source": [
    "print(df.shape)"
   ]
  },
  {
   "cell_type": "code",
   "execution_count": 257,
   "metadata": {},
   "outputs": [],
   "source": [
    "df.reset_index(drop=True, inplace=True)"
   ]
  },
  {
   "cell_type": "code",
   "execution_count": 295,
   "metadata": {},
   "outputs": [
    {
     "data": {
      "text/html": [
       "<div>\n",
       "<style scoped>\n",
       "    .dataframe tbody tr th:only-of-type {\n",
       "        vertical-align: middle;\n",
       "    }\n",
       "\n",
       "    .dataframe tbody tr th {\n",
       "        vertical-align: top;\n",
       "    }\n",
       "\n",
       "    .dataframe thead th {\n",
       "        text-align: right;\n",
       "    }\n",
       "</style>\n",
       "<table border=\"1\" class=\"dataframe\">\n",
       "  <thead>\n",
       "    <tr style=\"text-align: right;\">\n",
       "      <th></th>\n",
       "      <th>id</th>\n",
       "      <th>conversation_id</th>\n",
       "      <th>created_at</th>\n",
       "      <th>date</th>\n",
       "      <th>tweet</th>\n",
       "      <th>hashtags</th>\n",
       "      <th>user_id</th>\n",
       "      <th>username</th>\n",
       "      <th>name</th>\n",
       "      <th>link</th>\n",
       "      <th>retweet</th>\n",
       "      <th>nlikes</th>\n",
       "      <th>nreplies</th>\n",
       "      <th>nretweets</th>\n",
       "      <th>quote_url</th>\n",
       "      <th>retweet_id</th>\n",
       "      <th>reply_to</th>\n",
       "      <th>sentiment_score</th>\n",
       "      <th>sentiment</th>\n",
       "    </tr>\n",
       "  </thead>\n",
       "  <tbody>\n",
       "    <tr>\n",
       "      <th>0</th>\n",
       "      <td>1.212523e+18</td>\n",
       "      <td>1.212523e+18</td>\n",
       "      <td>1.577923e+12</td>\n",
       "      <td>2020-01-01</td>\n",
       "      <td>https://mltshp.com/p/1HLSB  \"This is the death mask of Thomas, an unknown peasant that died in a river.\"</td>\n",
       "      <td>[]</td>\n",
       "      <td>8.431951e+17</td>\n",
       "      <td>Best_of_MLTSHP</td>\n",
       "      <td>MLTSHP</td>\n",
       "      <td>https://twitter.com/Best_of_MLTSHP/status/1212523477896294400</td>\n",
       "      <td>False</td>\n",
       "      <td>1.0</td>\n",
       "      <td>0.0</td>\n",
       "      <td>1.0</td>\n",
       "      <td>NaN</td>\n",
       "      <td>NaN</td>\n",
       "      <td>[{'user_id': '843195118924546048', 'username': 'Best_of_MLTSHP'}]</td>\n",
       "      <td>-0.8176</td>\n",
       "      <td>negative</td>\n",
       "    </tr>\n",
       "    <tr>\n",
       "      <th>1</th>\n",
       "      <td>1.212518e+18</td>\n",
       "      <td>1.212518e+18</td>\n",
       "      <td>1.577922e+12</td>\n",
       "      <td>2020-01-01</td>\n",
       "      <td>Ready to heard this? Homemade hair treatment and ann cherry dead sea mud mask... Fucking putas swear they are more woman than me.... Bitch shut th...</td>\n",
       "      <td>[]</td>\n",
       "      <td>1.044739e+18</td>\n",
       "      <td>lumora_lu</td>\n",
       "      <td>MiLu</td>\n",
       "      <td>https://twitter.com/lumora_lu/status/1212518043353530368</td>\n",
       "      <td>False</td>\n",
       "      <td>0.0</td>\n",
       "      <td>0.0</td>\n",
       "      <td>0.0</td>\n",
       "      <td>NaN</td>\n",
       "      <td>NaN</td>\n",
       "      <td>[{'user_id': '1044738746913034241', 'username': 'lumora_lu'}]</td>\n",
       "      <td>-0.8905</td>\n",
       "      <td>negative</td>\n",
       "    </tr>\n",
       "    <tr>\n",
       "      <th>2</th>\n",
       "      <td>1.212518e+18</td>\n",
       "      <td>1.212518e+18</td>\n",
       "      <td>1.577922e+12</td>\n",
       "      <td>2020-01-01</td>\n",
       "      <td>We all know what a joke #CCPChina is when it comes to epidemic outbreak,think of how they stayed silent about #SARS.\\nDear world,stay away from #H...</td>\n",
       "      <td>['#ccpchina', '#sars', '#hk', '#hkers']</td>\n",
       "      <td>9.630325e+17</td>\n",
       "      <td>odiecher</td>\n",
       "      <td>odiecher</td>\n",
       "      <td>https://twitter.com/odiecher/status/1212517557690748928</td>\n",
       "      <td>False</td>\n",
       "      <td>1.0</td>\n",
       "      <td>1.0</td>\n",
       "      <td>1.0</td>\n",
       "      <td>https://twitter.com/WBYeats1865/status/1212430526826479616</td>\n",
       "      <td>NaN</td>\n",
       "      <td>[{'user_id': '963032516759207936', 'username': 'odiecher'}]</td>\n",
       "      <td>0.6705</td>\n",
       "      <td>positive</td>\n",
       "    </tr>\n",
       "    <tr>\n",
       "      <th>3</th>\n",
       "      <td>1.212516e+18</td>\n",
       "      <td>1.200523e+18</td>\n",
       "      <td>1.577921e+12</td>\n",
       "      <td>2020-01-01</td>\n",
       "      <td>Thought death masks gave you the horn freak</td>\n",
       "      <td>[]</td>\n",
       "      <td>2.819219e+09</td>\n",
       "      <td>Hevysmoker</td>\n",
       "      <td>Ashley Collins</td>\n",
       "      <td>https://twitter.com/Hevysmoker/status/1212515585562726401</td>\n",
       "      <td>False</td>\n",
       "      <td>0.0</td>\n",
       "      <td>0.0</td>\n",
       "      <td>0.0</td>\n",
       "      <td>NaN</td>\n",
       "      <td>NaN</td>\n",
       "      <td>[{'user_id': '2819219369', 'username': 'Hevysmoker'}, {'user_id': '1107018506300780544', 'username': 'cutedeadguys3'}]</td>\n",
       "      <td>-0.7783</td>\n",
       "      <td>negative</td>\n",
       "    </tr>\n",
       "    <tr>\n",
       "      <th>4</th>\n",
       "      <td>1.212510e+18</td>\n",
       "      <td>1.212391e+18</td>\n",
       "      <td>1.577920e+12</td>\n",
       "      <td>2020-01-01</td>\n",
       "      <td>Interesting cult of death mask he’s wearing, 🤔\\nelectronically posing as he did as of the CIA while Brennan was Chief. 🧐</td>\n",
       "      <td>[]</td>\n",
       "      <td>2.361956e+08</td>\n",
       "      <td>FaithR8s</td>\n",
       "      <td>❌Patriot Fan🇺🇸🗽☕️🎶❌</td>\n",
       "      <td>https://twitter.com/FaithR8s/status/1212510409858670593</td>\n",
       "      <td>False</td>\n",
       "      <td>1.0</td>\n",
       "      <td>0.0</td>\n",
       "      <td>1.0</td>\n",
       "      <td>NaN</td>\n",
       "      <td>NaN</td>\n",
       "      <td>[{'user_id': '236195607', 'username': 'FaithR8s'}, {'user_id': '14745988', 'username': 'ThunderB'}, {'user_id': '14138785', 'username': 'Telegraph...</td>\n",
       "      <td>-0.2960</td>\n",
       "      <td>negative</td>\n",
       "    </tr>\n",
       "  </tbody>\n",
       "</table>\n",
       "</div>"
      ],
      "text/plain": [
       "             id  conversation_id    created_at       date  \\\n",
       "0  1.212523e+18     1.212523e+18  1.577923e+12 2020-01-01   \n",
       "1  1.212518e+18     1.212518e+18  1.577922e+12 2020-01-01   \n",
       "2  1.212518e+18     1.212518e+18  1.577922e+12 2020-01-01   \n",
       "3  1.212516e+18     1.200523e+18  1.577921e+12 2020-01-01   \n",
       "4  1.212510e+18     1.212391e+18  1.577920e+12 2020-01-01   \n",
       "\n",
       "                                                                                                                                                   tweet  \\\n",
       "0                                               https://mltshp.com/p/1HLSB  \"This is the death mask of Thomas, an unknown peasant that died in a river.\"   \n",
       "1  Ready to heard this? Homemade hair treatment and ann cherry dead sea mud mask... Fucking putas swear they are more woman than me.... Bitch shut th...   \n",
       "2  We all know what a joke #CCPChina is when it comes to epidemic outbreak,think of how they stayed silent about #SARS.\\nDear world,stay away from #H...   \n",
       "3                                                                                                            Thought death masks gave you the horn freak   \n",
       "4                               Interesting cult of death mask he’s wearing, 🤔\\nelectronically posing as he did as of the CIA while Brennan was Chief. 🧐   \n",
       "\n",
       "                                  hashtags       user_id        username  \\\n",
       "0                                       []  8.431951e+17  Best_of_MLTSHP   \n",
       "1                                       []  1.044739e+18       lumora_lu   \n",
       "2  ['#ccpchina', '#sars', '#hk', '#hkers']  9.630325e+17        odiecher   \n",
       "3                                       []  2.819219e+09      Hevysmoker   \n",
       "4                                       []  2.361956e+08        FaithR8s   \n",
       "\n",
       "                  name  \\\n",
       "0               MLTSHP   \n",
       "1                 MiLu   \n",
       "2             odiecher   \n",
       "3       Ashley Collins   \n",
       "4  ❌Patriot Fan🇺🇸🗽☕️🎶❌   \n",
       "\n",
       "                                                            link  retweet  \\\n",
       "0  https://twitter.com/Best_of_MLTSHP/status/1212523477896294400    False   \n",
       "1       https://twitter.com/lumora_lu/status/1212518043353530368    False   \n",
       "2        https://twitter.com/odiecher/status/1212517557690748928    False   \n",
       "3      https://twitter.com/Hevysmoker/status/1212515585562726401    False   \n",
       "4        https://twitter.com/FaithR8s/status/1212510409858670593    False   \n",
       "\n",
       "   nlikes  nreplies  nretweets  \\\n",
       "0     1.0       0.0        1.0   \n",
       "1     0.0       0.0        0.0   \n",
       "2     1.0       1.0        1.0   \n",
       "3     0.0       0.0        0.0   \n",
       "4     1.0       0.0        1.0   \n",
       "\n",
       "                                                    quote_url  retweet_id  \\\n",
       "0                                                         NaN         NaN   \n",
       "1                                                         NaN         NaN   \n",
       "2  https://twitter.com/WBYeats1865/status/1212430526826479616         NaN   \n",
       "3                                                         NaN         NaN   \n",
       "4                                                         NaN         NaN   \n",
       "\n",
       "                                                                                                                                                reply_to  \\\n",
       "0                                                                                      [{'user_id': '843195118924546048', 'username': 'Best_of_MLTSHP'}]   \n",
       "1                                                                                          [{'user_id': '1044738746913034241', 'username': 'lumora_lu'}]   \n",
       "2                                                                                            [{'user_id': '963032516759207936', 'username': 'odiecher'}]   \n",
       "3                                 [{'user_id': '2819219369', 'username': 'Hevysmoker'}, {'user_id': '1107018506300780544', 'username': 'cutedeadguys3'}]   \n",
       "4  [{'user_id': '236195607', 'username': 'FaithR8s'}, {'user_id': '14745988', 'username': 'ThunderB'}, {'user_id': '14138785', 'username': 'Telegraph...   \n",
       "\n",
       "   sentiment_score sentiment  \n",
       "0          -0.8176  negative  \n",
       "1          -0.8905  negative  \n",
       "2           0.6705  positive  \n",
       "3          -0.7783  negative  \n",
       "4          -0.2960  negative  "
      ]
     },
     "execution_count": 295,
     "metadata": {},
     "output_type": "execute_result"
    }
   ],
   "source": [
    "df.head()"
   ]
  },
  {
   "cell_type": "code",
   "execution_count": 8,
   "metadata": {},
   "outputs": [],
   "source": [
    "df.to_csv('Datasets/5k_jan_thru_may_tweets.csv')"
   ]
  },
  {
   "cell_type": "markdown",
   "metadata": {},
   "source": [
    "# Big Load!!!!!"
   ]
  },
  {
   "cell_type": "code",
   "execution_count": 3,
   "metadata": {
    "scrolled": false
   },
   "outputs": [
    {
     "name": "stderr",
     "output_type": "stream",
     "text": [
      "/opt/anaconda3/envs/learn-env/lib/python3.6/site-packages/IPython/core/interactiveshell.py:3058: DtypeWarning: Columns (15) have mixed types.Specify dtype option on import or set low_memory=False.\n",
      "  interactivity=interactivity, compiler=compiler, result=result)\n"
     ]
    },
    {
     "data": {
      "text/plain": [
       "(575949, 19)"
      ]
     },
     "execution_count": 3,
     "metadata": {},
     "output_type": "execute_result"
    }
   ],
   "source": [
    "df = pd.read_csv('Datasets/5k_jan_thru_may_tweets.csv', index_col=0)\n",
    "df.shape"
   ]
  },
  {
   "cell_type": "code",
   "execution_count": 4,
   "metadata": {},
   "outputs": [],
   "source": [
    "df['date'] = df.date.astype('datetime64[ns]')"
   ]
  },
  {
   "cell_type": "code",
   "execution_count": 5,
   "metadata": {},
   "outputs": [
    {
     "data": {
      "text/plain": [
       "(575949, 19)"
      ]
     },
     "execution_count": 5,
     "metadata": {},
     "output_type": "execute_result"
    }
   ],
   "source": [
    "df.shape"
   ]
  },
  {
   "cell_type": "markdown",
   "metadata": {},
   "source": [
    "# EDA/Feature Engineering"
   ]
  },
  {
   "cell_type": "code",
   "execution_count": 6,
   "metadata": {},
   "outputs": [
    {
     "data": {
      "text/plain": [
       "sentiment\n",
       "negative    18052\n",
       "neutral      8223\n",
       "positive    21355\n",
       "Name: tweet, dtype: int64"
      ]
     },
     "execution_count": 6,
     "metadata": {},
     "output_type": "execute_result"
    }
   ],
   "source": [
    "df[df.nlikes > 10].groupby('sentiment')['tweet'].count()"
   ]
  },
  {
   "cell_type": "code",
   "execution_count": 7,
   "metadata": {},
   "outputs": [
    {
     "data": {
      "text/plain": [
       "sentiment\n",
       "negative    105452\n",
       "neutral      49210\n",
       "positive    121327\n",
       "Name: tweet, dtype: int64"
      ]
     },
     "execution_count": 7,
     "metadata": {},
     "output_type": "execute_result"
    }
   ],
   "source": [
    "df[df.nlikes > 0].groupby('sentiment')['tweet'].count()"
   ]
  },
  {
   "cell_type": "code",
   "execution_count": 8,
   "metadata": {},
   "outputs": [
    {
     "data": {
      "text/plain": [
       "sentiment\n",
       "negative    221363\n",
       "neutral     115386\n",
       "positive    239200\n",
       "Name: tweet, dtype: int64"
      ]
     },
     "execution_count": 8,
     "metadata": {},
     "output_type": "execute_result"
    }
   ],
   "source": [
    "df.groupby('sentiment')['tweet'].count()"
   ]
  },
  {
   "cell_type": "code",
   "execution_count": 9,
   "metadata": {},
   "outputs": [
    {
     "data": {
      "text/plain": [
       "Timestamp('2020-01-01 00:00:00')"
      ]
     },
     "execution_count": 9,
     "metadata": {},
     "output_type": "execute_result"
    }
   ],
   "source": [
    "df.date[0]"
   ]
  },
  {
   "cell_type": "code",
   "execution_count": 10,
   "metadata": {},
   "outputs": [
    {
     "data": {
      "text/plain": [
       "0    1\n",
       "1    1\n",
       "2    1\n",
       "3    1\n",
       "4    1\n",
       "Name: month, dtype: int64"
      ]
     },
     "execution_count": 10,
     "metadata": {},
     "output_type": "execute_result"
    }
   ],
   "source": [
    "df['month'] = df.date.apply(lambda x: x.month)\n",
    "df['month'].head()"
   ]
  },
  {
   "cell_type": "code",
   "execution_count": 11,
   "metadata": {
    "scrolled": true
   },
   "outputs": [
    {
     "data": {
      "text/plain": [
       "month  sentiment\n",
       "1      positive     0.412361\n",
       "       negative     0.409046\n",
       "       neutral      0.178592\n",
       "2      negative     0.421300\n",
       "       positive     0.401849\n",
       "       neutral      0.176851\n",
       "3      positive     0.430622\n",
       "       negative     0.387278\n",
       "       neutral      0.182100\n",
       "4      positive     0.405667\n",
       "       negative     0.346007\n",
       "       neutral      0.248327\n",
       "5      positive     0.417187\n",
       "       negative     0.393458\n",
       "       neutral      0.189355\n",
       "Name: sentiment, dtype: float64"
      ]
     },
     "execution_count": 11,
     "metadata": {},
     "output_type": "execute_result"
    }
   ],
   "source": [
    "df.groupby('month').sentiment.value_counts(normalize=True)"
   ]
  },
  {
   "cell_type": "code",
   "execution_count": 12,
   "metadata": {
    "scrolled": true
   },
   "outputs": [
    {
     "data": {
      "text/plain": [
       "count    575949.000000\n",
       "mean          0.017756\n",
       "std           0.505938\n",
       "min          -0.998400\n",
       "25%          -0.381800\n",
       "50%           0.000000\n",
       "75%           0.440400\n",
       "max           0.999600\n",
       "Name: sentiment_score, dtype: float64"
      ]
     },
     "execution_count": 12,
     "metadata": {},
     "output_type": "execute_result"
    }
   ],
   "source": [
    "df.sentiment_score.describe()"
   ]
  },
  {
   "cell_type": "code",
   "execution_count": 13,
   "metadata": {},
   "outputs": [
    {
     "data": {
      "text/plain": [
       "month  sentiment\n",
       "1      positive     0.412361\n",
       "       negative     0.409046\n",
       "       neutral      0.178592\n",
       "2      negative     0.421300\n",
       "       positive     0.401849\n",
       "       neutral      0.176851\n",
       "3      positive     0.430622\n",
       "       negative     0.387278\n",
       "       neutral      0.182100\n",
       "4      positive     0.405667\n",
       "       negative     0.346007\n",
       "       neutral      0.248327\n",
       "5      positive     0.417187\n",
       "       negative     0.393458\n",
       "       neutral      0.189355\n",
       "Name: sentiment, dtype: float64"
      ]
     },
     "execution_count": 13,
     "metadata": {},
     "output_type": "execute_result"
    }
   ],
   "source": [
    "df.groupby('month').sentiment.value_counts(normalize=True)"
   ]
  },
  {
   "cell_type": "code",
   "execution_count": 14,
   "metadata": {},
   "outputs": [
    {
     "data": {
      "text/html": [
       "<div>\n",
       "<style scoped>\n",
       "    .dataframe tbody tr th:only-of-type {\n",
       "        vertical-align: middle;\n",
       "    }\n",
       "\n",
       "    .dataframe tbody tr th {\n",
       "        vertical-align: top;\n",
       "    }\n",
       "\n",
       "    .dataframe thead th {\n",
       "        text-align: right;\n",
       "    }\n",
       "</style>\n",
       "<table border=\"1\" class=\"dataframe\">\n",
       "  <thead>\n",
       "    <tr style=\"text-align: right;\">\n",
       "      <th>sentiment</th>\n",
       "      <th>negative</th>\n",
       "      <th>neutral</th>\n",
       "      <th>positive</th>\n",
       "    </tr>\n",
       "    <tr>\n",
       "      <th>date</th>\n",
       "      <th></th>\n",
       "      <th></th>\n",
       "      <th></th>\n",
       "    </tr>\n",
       "  </thead>\n",
       "  <tbody>\n",
       "    <tr>\n",
       "      <th>2020-01-01</th>\n",
       "      <td>0.692308</td>\n",
       "      <td>0.054945</td>\n",
       "      <td>0.252747</td>\n",
       "    </tr>\n",
       "    <tr>\n",
       "      <th>2020-01-02</th>\n",
       "      <td>0.566879</td>\n",
       "      <td>0.089172</td>\n",
       "      <td>0.343949</td>\n",
       "    </tr>\n",
       "    <tr>\n",
       "      <th>2020-01-03</th>\n",
       "      <td>0.602564</td>\n",
       "      <td>0.108974</td>\n",
       "      <td>0.288462</td>\n",
       "    </tr>\n",
       "    <tr>\n",
       "      <th>2020-01-04</th>\n",
       "      <td>0.587097</td>\n",
       "      <td>0.083871</td>\n",
       "      <td>0.329032</td>\n",
       "    </tr>\n",
       "    <tr>\n",
       "      <th>2020-01-05</th>\n",
       "      <td>0.500000</td>\n",
       "      <td>0.097701</td>\n",
       "      <td>0.402299</td>\n",
       "    </tr>\n",
       "    <tr>\n",
       "      <th>...</th>\n",
       "      <td>...</td>\n",
       "      <td>...</td>\n",
       "      <td>...</td>\n",
       "    </tr>\n",
       "    <tr>\n",
       "      <th>2020-05-27</th>\n",
       "      <td>0.425400</td>\n",
       "      <td>0.180400</td>\n",
       "      <td>0.394200</td>\n",
       "    </tr>\n",
       "    <tr>\n",
       "      <th>2020-05-28</th>\n",
       "      <td>0.421400</td>\n",
       "      <td>0.177800</td>\n",
       "      <td>0.400800</td>\n",
       "    </tr>\n",
       "    <tr>\n",
       "      <th>2020-05-29</th>\n",
       "      <td>0.395200</td>\n",
       "      <td>0.148600</td>\n",
       "      <td>0.456200</td>\n",
       "    </tr>\n",
       "    <tr>\n",
       "      <th>2020-05-30</th>\n",
       "      <td>0.431400</td>\n",
       "      <td>0.149000</td>\n",
       "      <td>0.419600</td>\n",
       "    </tr>\n",
       "    <tr>\n",
       "      <th>2020-05-31</th>\n",
       "      <td>0.431200</td>\n",
       "      <td>0.141600</td>\n",
       "      <td>0.427200</td>\n",
       "    </tr>\n",
       "  </tbody>\n",
       "</table>\n",
       "<p>152 rows × 3 columns</p>\n",
       "</div>"
      ],
      "text/plain": [
       "sentiment   negative   neutral  positive\n",
       "date                                    \n",
       "2020-01-01  0.692308  0.054945  0.252747\n",
       "2020-01-02  0.566879  0.089172  0.343949\n",
       "2020-01-03  0.602564  0.108974  0.288462\n",
       "2020-01-04  0.587097  0.083871  0.329032\n",
       "2020-01-05  0.500000  0.097701  0.402299\n",
       "...              ...       ...       ...\n",
       "2020-05-27  0.425400  0.180400  0.394200\n",
       "2020-05-28  0.421400  0.177800  0.400800\n",
       "2020-05-29  0.395200  0.148600  0.456200\n",
       "2020-05-30  0.431400  0.149000  0.419600\n",
       "2020-05-31  0.431200  0.141600  0.427200\n",
       "\n",
       "[152 rows x 3 columns]"
      ]
     },
     "execution_count": 14,
     "metadata": {},
     "output_type": "execute_result"
    }
   ],
   "source": [
    "df.groupby('date').sentiment.value_counts(normalize=True).unstack()"
   ]
  },
  {
   "cell_type": "code",
   "execution_count": 15,
   "metadata": {},
   "outputs": [
    {
     "data": {
      "image/png": "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\n",
      "text/plain": [
       "<Figure size 720x432 with 1 Axes>"
      ]
     },
     "metadata": {},
     "output_type": "display_data"
    }
   ],
   "source": [
    "sns.set_style('ticks')\n",
    "\n",
    "# sort by percentage of trees in good health\n",
    "days = df.groupby('date').sentiment.value_counts(normalize=True).unstack()\n",
    "\n",
    "# plot a stacked bar graph\n",
    "p1 = days.plot.area(stacked = True, figsize=(10,6),\n",
    "#                    title = 'Tree Health Across Boroughs', \n",
    "                   color = ['red', 'goldenrod', 'green'], alpha = .70, fontsize=14)\n",
    "\n",
    "p1.set_title('Sentiment Across Time', fontsize=20, pad=10)\n",
    "p1.set_xlabel('Date', fontsize=18, labelpad=10)\n",
    "p1.set_ylabel('Sentiment', fontsize=18, labelpad=10)\n",
    "p1.legend(['negative','neutral', 'positive'], facecolor='white', framealpha=1)\n",
    "plt.show()"
   ]
  },
  {
   "cell_type": "code",
   "execution_count": 16,
   "metadata": {},
   "outputs": [
    {
     "data": {
      "image/png": "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\n",
      "text/plain": [
       "<Figure size 720x432 with 1 Axes>"
      ]
     },
     "metadata": {},
     "output_type": "display_data"
    }
   ],
   "source": [
    "# sort by percentage of trees in good health\n",
    "days = df.groupby('date').sentiment.value_counts().unstack()\n",
    "\n",
    "# plot a stacked bar graph\n",
    "p1 = days.plot.area(stacked = True, figsize=(10,6),\n",
    "#                    title = 'Tree Health Across Boroughs', \n",
    "                   color = ['red', 'goldenrod', 'green'], alpha = .70, fontsize=14)\n",
    "\n",
    "p1.set_title('Sentiment Across Time', fontsize=20, pad=10)\n",
    "p1.set_xlabel('Date', fontsize=18, labelpad=10)\n",
    "p1.set_ylabel('Sentiment', fontsize=18, labelpad=10)\n",
    "p1.legend(['negative','neutral', 'positive'], facecolor='white', framealpha=1)\n",
    "plt.show()"
   ]
  },
  {
   "cell_type": "markdown",
   "metadata": {},
   "source": [
    "# Cleaning text"
   ]
  },
  {
   "cell_type": "code",
   "execution_count": 17,
   "metadata": {},
   "outputs": [],
   "source": [
    "stop_words = stopwords.words('english')\n",
    "stop_words += ['mask', '#mask',\n",
    "               'masks', '#masks',\n",
    "               'face', '#face',\n",
    "               'facemask', '#facemask',\n",
    "               'facemasks', '#facemasks', \n",
    "               'covid', '#covid',\n",
    "               'covid19', '#covid19',\n",
    "               'corona', '#corona',\n",
    "               'coronavirus', '#coronavirus',\n",
    "               'rona', '#rona',\n",
    "               'virus', '#virus',\n",
    "               'viral', '#viral',\n",
    "               'viruses', '#viruses']\n",
    "\n",
    "# stop words from eda\n",
    "eda_stop_words = ['wear', 'wearing', 'get', 'one', 'people', 'us', 'like', 'n95',\n",
    "                   'go', 'going', 'would', 'surgical', 'via', 'also', 'use', 'even', 'know']\n",
    "\n",
    "stop_words += eda_stop_words"
   ]
  },
  {
   "cell_type": "code",
   "execution_count": 18,
   "metadata": {},
   "outputs": [
    {
     "name": "stdout",
     "output_type": "stream",
     "text": [
      "CPU times: user 6min 28s, sys: 666 ms, total: 6min 28s\n",
      "Wall time: 6min 29s\n"
     ]
    },
    {
     "data": {
      "text/plain": [
       "0                                                                                                                  death thomas unknown peasant died river\n",
       "1                                                    ready heard homemade hair treatment ann cherry dead sea mud fucking putas swear woman bitch shut fuck\n",
       "2    joke #ccpchina come epidemic outbreakthink stayed silent #sars dear worldstay away #hk im sure infected amongst already dear fellow #hkers facewit...\n",
       "3                                                                                                                            thought death gave horn freak\n",
       "4                                                              interesting cult death thinkingface electronically posing cia brennan chief facewithmonocle\n",
       "Name: clean_tweet, dtype: object"
      ]
     },
     "execution_count": 18,
     "metadata": {},
     "output_type": "execute_result"
    }
   ],
   "source": [
    "%time df['clean_tweet'] = df['tweet'].apply(lambda x: clean_text(x, stop_words))\n",
    "clean_tweets = df['clean_tweet']\n",
    "clean_tweets.head()"
   ]
  },
  {
   "cell_type": "code",
   "execution_count": 70,
   "metadata": {
    "scrolled": true
   },
   "outputs": [],
   "source": [
    "# clean_tweets.to_pickle('Datasets/clean_tweets.pkl')"
   ]
  },
  {
   "cell_type": "code",
   "execution_count": 18,
   "metadata": {},
   "outputs": [],
   "source": [
    "# clean_tweets = pd.read_pickle('Datasets/clean_tweets.pkl')"
   ]
  },
  {
   "cell_type": "code",
   "execution_count": 3,
   "metadata": {},
   "outputs": [],
   "source": [
    "# clean_tweets.to_pickle('Datasets/clean_tweets_v2.pkl')"
   ]
  },
  {
   "cell_type": "code",
<<<<<<< HEAD
   "execution_count": 7,
=======
   "execution_count": 6,
>>>>>>> 71b3108ddcb4d6179e31907c2afaafce008683f1
   "metadata": {},
   "outputs": [],
   "source": [
    "# Load clean tweets from pickle\n",
    "clean_tweets = pd.read_pickle('Datasets/clean_tweets_v2.pkl')"
   ]
  },
  {
   "cell_type": "code",
<<<<<<< HEAD
=======
   "execution_count": 7,
   "metadata": {},
   "outputs": [
    {
     "data": {
      "text/plain": [
       "(575949, 32)"
      ]
     },
     "execution_count": 7,
     "metadata": {},
     "output_type": "execute_result"
    }
   ],
   "source": [
    "df['clean_tweets'] = clean_tweets\n",
    "df.shape"
   ]
  },
  {
   "cell_type": "code",
>>>>>>> 71b3108ddcb4d6179e31907c2afaafce008683f1
   "execution_count": 8,
   "metadata": {},
   "outputs": [],
   "source": [
    "pattern = \"(#?[a-zA-Z]+[0-9]*(?:'[a-zx]+)?)\""
   ]
  },
  {
   "cell_type": "code",
   "execution_count": 9,
   "metadata": {},
   "outputs": [
    {
     "name": "stdout",
     "output_type": "stream",
     "text": [
<<<<<<< HEAD
      "CPU times: user 8.65 s, sys: 256 ms, total: 8.91 s\n",
      "Wall time: 8.99 s\n"
=======
      "CPU times: user 8.73 s, sys: 172 ms, total: 8.91 s\n",
      "Wall time: 8.92 s\n",
      "(575949, 3712)\n"
>>>>>>> 71b3108ddcb4d6179e31907c2afaafce008683f1
     ]
    },
    {
     "data": {
      "text/html": [
       "<div>\n",
       "<style scoped>\n",
       "    .dataframe tbody tr th:only-of-type {\n",
       "        vertical-align: middle;\n",
       "    }\n",
       "\n",
       "    .dataframe tbody tr th {\n",
       "        vertical-align: top;\n",
       "    }\n",
       "\n",
       "    .dataframe thead th {\n",
       "        text-align: right;\n",
       "    }\n",
       "</style>\n",
       "<table border=\"1\" class=\"dataframe\">\n",
       "  <thead>\n",
       "    <tr style=\"text-align: right;\">\n",
       "      <th></th>\n",
       "      <th>#airlines</th>\n",
       "      <th>#amazon</th>\n",
       "      <th>#america</th>\n",
       "      <th>#americanairlines</th>\n",
       "      <th>#art</th>\n",
       "      <th>#besafe</th>\n",
       "      <th>#breaking</th>\n",
       "      <th>#breakingnews</th>\n",
       "      <th>#business</th>\n",
       "      <th>#california</th>\n",
       "      <th>...</th>\n",
       "      <th>yorkers</th>\n",
       "      <th>young</th>\n",
       "      <th>youre</th>\n",
       "      <th>youth</th>\n",
       "      <th>youtube</th>\n",
       "      <th>yr</th>\n",
       "      <th>zanyface</th>\n",
       "      <th>zero</th>\n",
       "      <th>zombie</th>\n",
       "      <th>zone</th>\n",
       "    </tr>\n",
       "  </thead>\n",
       "  <tbody>\n",
       "    <tr>\n",
       "      <th>0</th>\n",
       "      <td>0</td>\n",
       "      <td>0</td>\n",
       "      <td>0</td>\n",
       "      <td>0</td>\n",
       "      <td>0</td>\n",
       "      <td>0</td>\n",
       "      <td>0</td>\n",
       "      <td>0</td>\n",
       "      <td>0</td>\n",
       "      <td>0</td>\n",
       "      <td>...</td>\n",
       "      <td>0</td>\n",
       "      <td>0</td>\n",
       "      <td>0</td>\n",
       "      <td>0</td>\n",
       "      <td>0</td>\n",
       "      <td>0</td>\n",
       "      <td>0</td>\n",
       "      <td>0</td>\n",
       "      <td>0</td>\n",
       "      <td>0</td>\n",
       "    </tr>\n",
       "    <tr>\n",
       "      <th>1</th>\n",
       "      <td>0</td>\n",
       "      <td>0</td>\n",
       "      <td>0</td>\n",
       "      <td>0</td>\n",
       "      <td>0</td>\n",
       "      <td>0</td>\n",
       "      <td>0</td>\n",
       "      <td>0</td>\n",
       "      <td>0</td>\n",
       "      <td>0</td>\n",
       "      <td>...</td>\n",
       "      <td>0</td>\n",
       "      <td>0</td>\n",
       "      <td>0</td>\n",
       "      <td>0</td>\n",
       "      <td>0</td>\n",
       "      <td>0</td>\n",
       "      <td>0</td>\n",
       "      <td>0</td>\n",
       "      <td>0</td>\n",
       "      <td>0</td>\n",
       "    </tr>\n",
       "    <tr>\n",
       "      <th>2</th>\n",
       "      <td>0</td>\n",
       "      <td>0</td>\n",
       "      <td>0</td>\n",
       "      <td>0</td>\n",
       "      <td>0</td>\n",
       "      <td>0</td>\n",
       "      <td>0</td>\n",
       "      <td>0</td>\n",
       "      <td>0</td>\n",
       "      <td>0</td>\n",
       "      <td>...</td>\n",
       "      <td>0</td>\n",
       "      <td>0</td>\n",
       "      <td>0</td>\n",
       "      <td>0</td>\n",
       "      <td>0</td>\n",
       "      <td>0</td>\n",
       "      <td>0</td>\n",
       "      <td>0</td>\n",
       "      <td>0</td>\n",
       "      <td>0</td>\n",
       "    </tr>\n",
       "    <tr>\n",
       "      <th>3</th>\n",
       "      <td>0</td>\n",
       "      <td>0</td>\n",
       "      <td>0</td>\n",
       "      <td>0</td>\n",
       "      <td>0</td>\n",
       "      <td>0</td>\n",
       "      <td>0</td>\n",
       "      <td>0</td>\n",
       "      <td>0</td>\n",
       "      <td>0</td>\n",
       "      <td>...</td>\n",
       "      <td>0</td>\n",
       "      <td>0</td>\n",
       "      <td>0</td>\n",
       "      <td>0</td>\n",
       "      <td>0</td>\n",
       "      <td>0</td>\n",
       "      <td>0</td>\n",
       "      <td>0</td>\n",
       "      <td>0</td>\n",
       "      <td>0</td>\n",
       "    </tr>\n",
       "    <tr>\n",
       "      <th>4</th>\n",
       "      <td>0</td>\n",
       "      <td>0</td>\n",
       "      <td>0</td>\n",
       "      <td>0</td>\n",
       "      <td>0</td>\n",
       "      <td>0</td>\n",
       "      <td>0</td>\n",
       "      <td>0</td>\n",
       "      <td>0</td>\n",
       "      <td>0</td>\n",
       "      <td>...</td>\n",
       "      <td>0</td>\n",
       "      <td>0</td>\n",
       "      <td>0</td>\n",
       "      <td>0</td>\n",
       "      <td>0</td>\n",
       "      <td>0</td>\n",
       "      <td>0</td>\n",
       "      <td>0</td>\n",
       "      <td>0</td>\n",
       "      <td>0</td>\n",
       "    </tr>\n",
       "  </tbody>\n",
       "</table>\n",
       "<p>5 rows × 3712 columns</p>\n",
       "</div>"
      ],
      "text/plain": [
       "   #airlines  #amazon  #america  #americanairlines  #art  #besafe  #breaking  \\\n",
       "0          0        0         0                  0     0        0          0   \n",
       "1          0        0         0                  0     0        0          0   \n",
       "2          0        0         0                  0     0        0          0   \n",
       "3          0        0         0                  0     0        0          0   \n",
       "4          0        0         0                  0     0        0          0   \n",
       "\n",
       "   #breakingnews  #business  #california  ...  yorkers  young  youre  youth  \\\n",
       "0              0          0            0  ...        0      0      0      0   \n",
       "1              0          0            0  ...        0      0      0      0   \n",
       "2              0          0            0  ...        0      0      0      0   \n",
       "3              0          0            0  ...        0      0      0      0   \n",
       "4              0          0            0  ...        0      0      0      0   \n",
       "\n",
       "   youtube  yr  zanyface  zero  zombie  zone  \n",
       "0        0   0         0     0       0     0  \n",
       "1        0   0         0     0       0     0  \n",
       "2        0   0         0     0       0     0  \n",
       "3        0   0         0     0       0     0  \n",
       "4        0   0         0     0       0     0  \n",
       "\n",
       "[5 rows x 3712 columns]"
      ]
     },
     "execution_count": 9,
     "metadata": {},
     "output_type": "execute_result"
    }
   ],
   "source": [
    "# create a document-term matrix using CountVectorizer, using custom regex tokenizing pattern\n",
    "from sklearn.feature_extraction.text import CountVectorizer\n",
    "\n",
    "# Keep only words that appear at least 25 times\n",
    "cv = CountVectorizer(min_df=250, token_pattern=pattern)\n",
    "%time data_cv = cv.fit_transform(clean_tweets)\n",
    "data_vec = pd.DataFrame(data_cv.toarray(), columns=cv.get_feature_names())\n",
    "print(data_vec.shape)\n",
    "data_vec.head()"
   ]
  },
  {
   "cell_type": "code",
   "execution_count": null,
   "metadata": {},
   "outputs": [],
   "source": [
    "# # Let's save it for later use\n",
    "# data_vec.to_csv(\"Datasets/sparse_matrix_clean.csv\")"
   ]
  },
  {
   "cell_type": "code",
   "execution_count": null,
   "metadata": {},
   "outputs": [],
   "source": [
    "# data_vec = pd.read_csv(\"Datasets/sparse_matrix_clean.csv\", index_col=0)"
   ]
  },
  {
   "cell_type": "code",
   "execution_count": 7,
   "metadata": {},
   "outputs": [],
   "source": [
    "# big_string = ' '.join(clean_tweets)\n",
    "# big_string[:100]"
   ]
  },
  {
   "cell_type": "code",
   "execution_count": 32,
   "metadata": {},
   "outputs": [],
   "source": [
    "# def corpus_from_series(corpusfolder, s):\n",
    "#     for i, r in enumerate(s):\n",
    "#         fname = f'tweet_{i}.txt'\n",
    "#         corpusfile = open(corpusfolder+fname, 'a')\n",
    "#         corpusfile.write(r)\n",
    "#         corpusfile.close()\n",
    "\n",
    "# corpus_from_series('corpus/', clean_tweets)"
   ]
  },
  {
   "cell_type": "code",
   "execution_count": 33,
   "metadata": {},
   "outputs": [
    {
     "data": {
      "text/plain": [
       "8983989"
      ]
     },
     "execution_count": 33,
     "metadata": {},
     "output_type": "execute_result"
    }
   ],
   "source": [
    "# corpus_path = 'corpus/'\n",
    "# corpus = PlaintextCorpusReader(corpus_path, '.*')\n",
    "# len(corpus.words())"
   ]
  },
  {
   "cell_type": "code",
   "execution_count": 27,
   "metadata": {},
   "outputs": [
    {
     "name": "stdout",
     "output_type": "stream",
     "text": [
      "CPU times: user 522 ms, sys: 162 ms, total: 684 ms\n",
      "Wall time: 684 ms\n"
     ]
    }
   ],
   "source": [
    "%time words = big_string.split()"
   ]
  },
  {
   "cell_type": "code",
   "execution_count": 30,
   "metadata": {},
   "outputs": [
    {
     "data": {
      "text/plain": [
       "[('hand', 40134),\n",
       " ('need', 39383),\n",
       " ('spread', 33418),\n",
       " ('protect', 32088),\n",
       " ('make', 31605),\n",
       " ('help', 30306),\n",
       " ('say', 28477),\n",
       " ('glove', 27649),\n",
       " ('public', 25717),\n",
       " ('hospital', 25525),\n",
       " ('new', 25340),\n",
       " ('time', 25085),\n",
       " ('medical', 24652),\n",
       " ('china', 24641),\n",
       " ('doctor', 24152),\n",
       " ('home', 23986),\n",
       " ('work', 23382),\n",
       " ('day', 22567),\n",
       " ('stop', 21958),\n",
       " ('trump', 21074),\n",
       " ('infected', 21008),\n",
       " ('please', 20635),\n",
       " ('everyone', 20359),\n",
       " ('health', 20312),\n",
       " ('death', 20287)]"
      ]
     },
     "execution_count": 30,
     "metadata": {},
     "output_type": "execute_result"
    }
   ],
   "source": [
    "from collections import Counter\n",
    "Counter(words).most_common(25)"
   ]
  },
  {
   "cell_type": "code",
   "execution_count": 31,
   "metadata": {},
   "outputs": [
    {
     "data": {
      "text/plain": [
       "243080"
      ]
     },
     "execution_count": 31,
     "metadata": {},
     "output_type": "execute_result"
    }
   ],
   "source": [
    "total_vocab = set(words)\n",
    "len(total_vocab)"
   ]
  },
  {
   "cell_type": "code",
   "execution_count": 32,
   "metadata": {},
   "outputs": [
    {
     "data": {
      "text/plain": [
       "7793391"
      ]
     },
     "execution_count": 32,
     "metadata": {},
     "output_type": "execute_result"
    }
   ],
   "source": [
    "len(words)"
   ]
  },
  {
   "cell_type": "code",
   "execution_count": 33,
   "metadata": {},
   "outputs": [],
   "source": [
    "from nltk.probability import FreqDist"
   ]
  },
  {
   "cell_type": "code",
   "execution_count": 34,
   "metadata": {
    "scrolled": false
   },
   "outputs": [
    {
     "data": {
      "image/png": "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\n",
      "text/plain": [
       "<Figure size 720x720 with 1 Axes>"
      ]
     },
     "metadata": {},
     "output_type": "display_data"
    },
    {
     "data": {
      "text/plain": [
       "<matplotlib.axes._subplots.AxesSubplot at 0x2ea358ada0>"
      ]
     },
     "execution_count": 34,
     "metadata": {},
     "output_type": "execute_result"
    }
   ],
   "source": [
    "fdist = FreqDist(words)\n",
    "plt.figure(figsize=(10,10))\n",
    "fdist.plot(25)"
   ]
  },
  {
   "cell_type": "markdown",
   "metadata": {},
   "source": [
    "# LDA"
   ]
  },
  {
   "cell_type": "code",
   "execution_count": 16,
   "metadata": {},
   "outputs": [],
   "source": [
    "from gensim import matutils, models\n",
    "import scipy.sparse"
   ]
  },
  {
   "cell_type": "code",
   "execution_count": 17,
   "metadata": {},
   "outputs": [
    {
     "data": {
      "text/html": [
       "<div>\n",
       "<style scoped>\n",
       "    .dataframe tbody tr th:only-of-type {\n",
       "        vertical-align: middle;\n",
       "    }\n",
       "\n",
       "    .dataframe tbody tr th {\n",
       "        vertical-align: top;\n",
       "    }\n",
       "\n",
       "    .dataframe thead th {\n",
       "        text-align: right;\n",
       "    }\n",
       "</style>\n",
       "<table border=\"1\" class=\"dataframe\">\n",
       "  <thead>\n",
       "    <tr style=\"text-align: right;\">\n",
       "      <th></th>\n",
       "      <th>0</th>\n",
       "      <th>1</th>\n",
       "      <th>2</th>\n",
       "      <th>3</th>\n",
       "      <th>4</th>\n",
       "      <th>5</th>\n",
       "      <th>6</th>\n",
       "      <th>7</th>\n",
       "      <th>8</th>\n",
       "      <th>9</th>\n",
       "      <th>...</th>\n",
       "      <th>575939</th>\n",
       "      <th>575940</th>\n",
       "      <th>575941</th>\n",
       "      <th>575942</th>\n",
       "      <th>575943</th>\n",
       "      <th>575944</th>\n",
       "      <th>575945</th>\n",
       "      <th>575946</th>\n",
       "      <th>575947</th>\n",
       "      <th>575948</th>\n",
       "    </tr>\n",
       "  </thead>\n",
       "  <tbody>\n",
       "    <tr>\n",
       "      <th>#a</th>\n",
       "      <td>0</td>\n",
       "      <td>0</td>\n",
       "      <td>0</td>\n",
       "      <td>0</td>\n",
       "      <td>0</td>\n",
       "      <td>0</td>\n",
       "      <td>0</td>\n",
       "      <td>0</td>\n",
       "      <td>0</td>\n",
       "      <td>0</td>\n",
       "      <td>...</td>\n",
       "      <td>0</td>\n",
       "      <td>0</td>\n",
       "      <td>0</td>\n",
       "      <td>0</td>\n",
       "      <td>0</td>\n",
       "      <td>0</td>\n",
       "      <td>0</td>\n",
       "      <td>0</td>\n",
       "      <td>0</td>\n",
       "      <td>0</td>\n",
       "    </tr>\n",
       "    <tr>\n",
       "      <th>#aa</th>\n",
       "      <td>0</td>\n",
       "      <td>0</td>\n",
       "      <td>0</td>\n",
       "      <td>0</td>\n",
       "      <td>0</td>\n",
       "      <td>0</td>\n",
       "      <td>0</td>\n",
       "      <td>0</td>\n",
       "      <td>0</td>\n",
       "      <td>0</td>\n",
       "      <td>...</td>\n",
       "      <td>0</td>\n",
       "      <td>0</td>\n",
       "      <td>0</td>\n",
       "      <td>0</td>\n",
       "      <td>0</td>\n",
       "      <td>0</td>\n",
       "      <td>0</td>\n",
       "      <td>0</td>\n",
       "      <td>0</td>\n",
       "      <td>0</td>\n",
       "    </tr>\n",
       "    <tr>\n",
       "      <th>#abc7</th>\n",
       "      <td>0</td>\n",
       "      <td>0</td>\n",
       "      <td>0</td>\n",
       "      <td>0</td>\n",
       "      <td>0</td>\n",
       "      <td>0</td>\n",
       "      <td>0</td>\n",
       "      <td>0</td>\n",
       "      <td>0</td>\n",
       "      <td>0</td>\n",
       "      <td>...</td>\n",
       "      <td>0</td>\n",
       "      <td>0</td>\n",
       "      <td>0</td>\n",
       "      <td>0</td>\n",
       "      <td>0</td>\n",
       "      <td>0</td>\n",
       "      <td>0</td>\n",
       "      <td>0</td>\n",
       "      <td>0</td>\n",
       "      <td>0</td>\n",
       "    </tr>\n",
       "    <tr>\n",
       "      <th>#abcnews</th>\n",
       "      <td>0</td>\n",
       "      <td>0</td>\n",
       "      <td>0</td>\n",
       "      <td>0</td>\n",
       "      <td>0</td>\n",
       "      <td>0</td>\n",
       "      <td>0</td>\n",
       "      <td>0</td>\n",
       "      <td>0</td>\n",
       "      <td>0</td>\n",
       "      <td>...</td>\n",
       "      <td>0</td>\n",
       "      <td>0</td>\n",
       "      <td>0</td>\n",
       "      <td>0</td>\n",
       "      <td>0</td>\n",
       "      <td>0</td>\n",
       "      <td>0</td>\n",
       "      <td>0</td>\n",
       "      <td>0</td>\n",
       "      <td>0</td>\n",
       "    </tr>\n",
       "    <tr>\n",
       "      <th>#abhealth</th>\n",
       "      <td>0</td>\n",
       "      <td>0</td>\n",
       "      <td>0</td>\n",
       "      <td>0</td>\n",
       "      <td>0</td>\n",
       "      <td>0</td>\n",
       "      <td>0</td>\n",
       "      <td>0</td>\n",
       "      <td>0</td>\n",
       "      <td>0</td>\n",
       "      <td>...</td>\n",
       "      <td>0</td>\n",
       "      <td>0</td>\n",
       "      <td>0</td>\n",
       "      <td>0</td>\n",
       "      <td>0</td>\n",
       "      <td>0</td>\n",
       "      <td>0</td>\n",
       "      <td>0</td>\n",
       "      <td>0</td>\n",
       "      <td>0</td>\n",
       "    </tr>\n",
       "  </tbody>\n",
       "</table>\n",
       "<p>5 rows × 575949 columns</p>\n",
       "</div>"
      ],
      "text/plain": [
       "           0       1       2       3       4       5       6       7       \\\n",
       "#a              0       0       0       0       0       0       0       0   \n",
       "#aa             0       0       0       0       0       0       0       0   \n",
       "#abc7           0       0       0       0       0       0       0       0   \n",
       "#abcnews        0       0       0       0       0       0       0       0   \n",
       "#abhealth       0       0       0       0       0       0       0       0   \n",
       "\n",
       "           8       9       ...  575939  575940  575941  575942  575943  \\\n",
       "#a              0       0  ...       0       0       0       0       0   \n",
       "#aa             0       0  ...       0       0       0       0       0   \n",
       "#abc7           0       0  ...       0       0       0       0       0   \n",
       "#abcnews        0       0  ...       0       0       0       0       0   \n",
       "#abhealth       0       0  ...       0       0       0       0       0   \n",
       "\n",
       "           575944  575945  575946  575947  575948  \n",
       "#a              0       0       0       0       0  \n",
       "#aa             0       0       0       0       0  \n",
       "#abc7           0       0       0       0       0  \n",
       "#abcnews        0       0       0       0       0  \n",
       "#abhealth       0       0       0       0       0  \n",
       "\n",
       "[5 rows x 575949 columns]"
      ]
     },
     "execution_count": 17,
     "metadata": {},
     "output_type": "execute_result"
    }
   ],
   "source": [
    "# One of the required inputs is a term-document matrix\n",
    "tdm = data_vec.transpose()\n",
    "tdm.head()"
   ]
  },
  {
   "cell_type": "code",
   "execution_count": null,
   "metadata": {},
   "outputs": [],
   "source": [
    "# We're going to put the term-document matrix into a new gensim format, from df --> sparse matrix --> gensim corpus\n",
    "%time sparse_counts = scipy.sparse.csr_matrix(tdm)"
   ]
  },
  {
   "cell_type": "code",
   "execution_count": null,
   "metadata": {},
   "outputs": [],
   "source": [
    "# corpus = matutils.Sparse2Corpus(sparse_counts)\n",
    "# len(corpus)"
   ]
  },
  {
   "cell_type": "code",
   "execution_count": null,
   "metadata": {},
   "outputs": [],
   "source": []
  },
  {
   "cell_type": "code",
   "execution_count": 4,
   "metadata": {},
   "outputs": [],
   "source": [
<<<<<<< HEAD
    "with gzip.open('Datasets/gensim_corpus.pkl', 'rb') as handle:\n",
    "    corpus = pickle.load(handle)"
=======
    "# with gzip.open('Datasets/gensim_corpus2.pkl', 'rb') as handle:\n",
    "#     corpus = pickle.load(handle)"
>>>>>>> 71b3108ddcb4d6179e31907c2afaafce008683f1
   ]
  },
  {
   "cell_type": "code",
   "execution_count": 5,
   "metadata": {},
   "outputs": [
    {
     "data": {
      "text/plain": [
       "gensim.matutils.Sparse2Corpus"
      ]
     },
     "execution_count": 5,
     "metadata": {},
     "output_type": "execute_result"
    }
   ],
   "source": [
    "type(corpus)"
   ]
  },
  {
   "cell_type": "code",
   "execution_count": 10,
   "metadata": {},
   "outputs": [],
   "source": [
    "# Gensim also requires dictionary of the all terms and their respective location in the term-document matrix\n",
    "id2word = dict((v, k) for k, v in cv.vocabulary_.items())"
   ]
  },
  {
   "cell_type": "code",
   "execution_count": 14,
   "metadata": {},
   "outputs": [
    {
     "name": "stdout",
     "output_type": "stream",
     "text": [
      "CPU times: user 10min 38s, sys: 5.41 s, total: 10min 43s\n",
      "Wall time: 10min 51s\n"
     ]
    },
    {
     "data": {
      "text/plain": [
       "[(0,\n",
       "  '0.032*\"protest\" + 0.025*\"facewithtearsofjoy\" + 0.016*\"die\" + 0.012*\"video\" + 0.011*\"rollingonthefloorlaughing\" + 0.011*\"refuse\" + 0.010*\"hoax\" + 0.010*\"without\" + 0.009*\"fucking\" + 0.009*\"want\"'),\n",
       " (1,\n",
       "  '0.033*\"care\" + 0.028*\"patient\" + 0.015*\"health\" + 0.014*\"doctor\" + 0.013*\"fauci\" + 0.013*\"taking\" + 0.013*\"positive\" + 0.013*\"hospital\" + 0.013*\"risk\" + 0.013*\"need\"'),\n",
       " (2,\n",
       "  '0.046*\"spread\" + 0.024*\"protect\" + 0.021*\"stop\" + 0.017*\"prevent\" + 0.016*\"help\" + 0.015*\"infection\" + 0.013*\"say\" + 0.012*\"cloth\" + 0.010*\"study\" + 0.010*\"public\"'),\n",
       " (3,\n",
       "  '0.038*\"facewithmedicalmask\" + 0.031*\"american\" + 0.018*\"fear\" + 0.017*\"#socialdistancing\" + 0.016*\"sanitizer\" + 0.014*\"customer\" + 0.013*\"#staysafe\" + 0.012*\"#wearamask\" + 0.011*\"#lockdown\" + 0.010*\"democrat\"'),\n",
       " (4,\n",
       "  '0.019*\"filter\" + 0.017*\"medical\" + 0.017*\"k\" + 0.016*\"protective\" + 0.015*\"pandemic\" + 0.015*\"cop\" + 0.014*\"ppe\" + 0.014*\"group\" + 0.014*\"fight\" + 0.014*\"make\"'),\n",
       " (5,\n",
       "  '0.013*\"think\" + 0.010*\"thing\" + 0.010*\"still\" + 0.009*\"want\" + 0.009*\"see\" + 0.009*\"right\" + 0.009*\"got\" + 0.008*\"time\" + 0.008*\"make\" + 0.008*\"really\"'),\n",
       " (6,\n",
       "  '0.034*\"store\" + 0.018*\"wave\" + 0.014*\"today\" + 0.014*\"grocery\" + 0.013*\"anti\" + 0.013*\"new\" + 0.012*\"republican\" + 0.012*\"precaution\" + 0.011*\"crisis\" + 0.009*\"seriously\"'),\n",
       " (7,\n",
       "  '0.022*\"state\" + 0.019*\"pandemic\" + 0.018*\"trump\" + 0.014*\"business\" + 0.013*\"police\" + 0.011*\"health\" + 0.010*\"riot\" + 0.010*\"testing\" + 0.009*\"worker\" + 0.009*\"say\"'),\n",
       " (8,\n",
       "  '0.046*\"social\" + 0.039*\"distancing\" + 0.023*\"stay\" + 0.023*\"please\" + 0.022*\"hand\" + 0.021*\"safe\" + 0.019*\"keep\" + 0.018*\"home\" + 0.015*\"others\" + 0.015*\"distance\"'),\n",
       " (9,\n",
       "  '0.030*\"death\" + 0.028*\"case\" + 0.026*\"new\" + 0.014*\"news\" + 0.013*\"lockdown\" + 0.011*\"country\" + 0.010*\"world\" + 0.010*\"may\" + 0.010*\"number\" + 0.010*\"public\"')]"
      ]
     },
     "execution_count": 14,
     "metadata": {},
     "output_type": "execute_result"
    }
   ],
   "source": [
    "# Now that we have the corpus (term-document matrix) and id2word (dictionary of location: term),\n",
    "# we need to specify two other parameters as well - the number of topics and the number of passes\n",
    "%time lda = models.LdaModel(corpus=corpus, id2word=id2word, num_topics=10, passes=5)\n",
    "lda.print_topics()"
   ]
  },
  {
   "cell_type": "code",
<<<<<<< HEAD
   "execution_count": 15,
   "metadata": {},
   "outputs": [
    {
     "ename": "NameError",
     "evalue": "name 'df' is not defined",
     "output_type": "error",
     "traceback": [
      "\u001b[0;31m---------------------------------------------------------------------------\u001b[0m",
      "\u001b[0;31mNameError\u001b[0m                                 Traceback (most recent call last)",
      "\u001b[0;32m<ipython-input-15-1065ad25f924>\u001b[0m in \u001b[0;36m<module>\u001b[0;34m\u001b[0m\n\u001b[1;32m      1\u001b[0m \u001b[0mcorpus_transformed\u001b[0m \u001b[0;34m=\u001b[0m \u001b[0mlda\u001b[0m\u001b[0;34m[\u001b[0m\u001b[0mcorpus\u001b[0m\u001b[0;34m]\u001b[0m\u001b[0;34m\u001b[0m\u001b[0;34m\u001b[0m\u001b[0m\n\u001b[0;32m----> 2\u001b[0;31m \u001b[0mdf\u001b[0m\u001b[0;34m[\u001b[0m\u001b[0;34m'lda_scores'\u001b[0m\u001b[0;34m]\u001b[0m \u001b[0;34m=\u001b[0m \u001b[0mcorpus_transformed\u001b[0m\u001b[0;34m\u001b[0m\u001b[0;34m\u001b[0m\u001b[0m\n\u001b[0m\u001b[1;32m      3\u001b[0m \u001b[0mdf\u001b[0m\u001b[0;34m[\u001b[0m\u001b[0;34m'lda_scores'\u001b[0m\u001b[0;34m]\u001b[0m\u001b[0;34m.\u001b[0m\u001b[0mhead\u001b[0m\u001b[0;34m(\u001b[0m\u001b[0;34m)\u001b[0m\u001b[0;34m\u001b[0m\u001b[0;34m\u001b[0m\u001b[0m\n",
      "\u001b[0;31mNameError\u001b[0m: name 'df' is not defined"
     ]
    }
   ],
=======
   "execution_count": null,
   "metadata": {},
   "outputs": [],
>>>>>>> 71b3108ddcb4d6179e31907c2afaafce008683f1
   "source": [
    "corpus_transformed = lda[corpus]\n",
    "df['lda_scores'] = corpus_transformed\n",
    "df['lda_scores'].head()"
   ]
  },
  {
   "cell_type": "code",
   "execution_count": 61,
   "metadata": {},
   "outputs": [],
   "source": [
    "def lda_getter(x):\n",
    "    x_dict = dict(x)\n",
    "    return int(max(x_dict, key=x_dict.get))"
   ]
  },
  {
   "cell_type": "code",
   "execution_count": 62,
   "metadata": {},
   "outputs": [
    {
     "data": {
      "text/plain": [
       "0    6\n",
       "1    5\n",
       "2    1\n",
       "3    8\n",
       "4    8\n",
       "Name: lda, dtype: int64"
      ]
     },
     "execution_count": 62,
     "metadata": {},
     "output_type": "execute_result"
    }
   ],
   "source": [
    "df['lda'] = df['lda_scores'].apply(lambda x: lda_getter(x))\n",
    "df['lda'].head()"
   ]
  },
  {
   "cell_type": "code",
   "execution_count": 63,
   "metadata": {},
   "outputs": [],
   "source": [
    "# df.to_csv('5k_Datasets/5k_tweets_lda_10')"
   ]
  },
  {
   "cell_type": "code",
   "execution_count": 18,
   "metadata": {},
   "outputs": [
    {
     "name": "stderr",
     "output_type": "stream",
     "text": [
      "/opt/anaconda3/envs/learn-env/lib/python3.6/site-packages/IPython/core/interactiveshell.py:3058: DtypeWarning: Columns (15) have mixed types.Specify dtype option on import or set low_memory=False.\n",
      "  interactivity=interactivity, compiler=compiler, result=result)\n"
     ]
    },
    {
     "data": {
      "text/plain": [
       "0    6\n",
       "1    5\n",
       "2    1\n",
       "3    8\n",
       "4    8\n",
       "Name: lda, dtype: int64"
      ]
     },
     "execution_count": 18,
     "metadata": {},
     "output_type": "execute_result"
    }
   ],
   "source": [
    "df = pd.read_csv('Datasets/5k_tweets_lda_10.csv', index_col=0)\n",
    "df.lda.head()"
   ]
  },
  {
   "cell_type": "code",
   "execution_count": 30,
   "metadata": {},
   "outputs": [
    {
     "data": {
      "text/plain": [
       "<matplotlib.legend.Legend at 0x14197df98>"
      ]
     },
     "execution_count": 30,
     "metadata": {},
     "output_type": "execute_result"
    },
    {
     "data": {
      "image/png": "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\n",
      "text/plain": [
       "<Figure size 1440x864 with 1 Axes>"
      ]
     },
     "metadata": {},
     "output_type": "display_data"
    }
   ],
   "source": [
    "# proportion of sentiment across lda topics\n",
    "sent_by_lda = df.groupby('lda').sentiment.value_counts(normalize=True).unstack()\n",
    "# plot a stacked bar graph\n",
    "p1 = sent_by_lda.plot(kind='bar', stacked = True, figsize=(20,12), \n",
    "                       color = ['red', 'goldenrod', 'green'], alpha = .70, fontsize=14)\n",
    "p1.set_title('Tweet Sentiment by Topic', fontsize=30, pad=15)\n",
    "p1.set_xlabel('LDA Topic', fontsize=28, labelpad=10)\n",
    "p1.set_ylabel('Sentiment (%)', fontsize=28, labelpad=15)\n",
    "plt.setp(p1.get_xticklabels(), fontsize=22)\n",
    "plt.setp(p1.get_yticklabels(), fontsize=22)\n",
    "plt.setp(p1.xaxis.get_majorticklabels(), rotation=0)\n",
    "p1.legend(['Negative', 'Neutral', 'Positive'], facecolor='white', framealpha=1, bbox_to_anchor=(1.01, 1.01),\n",
    "          fontsize=25)\n",
    "# plt.show()\n",
    "\n",
    "\n",
    "# # Proportion of sentiments by day\n",
    "# sent_by_day = df.groupby('date')['sentiment'].value_counts(normalize=True).unstack()\n",
    "\n",
    "# # Plot a stacked line graph\n",
    "# p1 = sent_by_day.plot.area(stacked = True, figsize=(20,12),\n",
    "#                            color = ['red', 'goldenrod', 'green'], alpha = .70, fontsize=14)\n",
    "\n",
    "# p1.set_title('Tweet Sentiment over Five Months', fontsize=30, pad=15)\n",
    "# p1.set_xlabel('Date', fontsize=28)\n",
    "# p1.set_ylabel('Sentiment (%)', fontsize=28, labelpad=15)\n",
    "# p1.legend(['Negative', 'Neutral', 'Positive'], facecolor='white', framealpha=1, fontsize=25)\n",
    "# plt.setp(p1.get_xticklabels(), fontsize=22)\n",
    "# plt.setp(p1.get_yticklabels(), fontsize=22)"
   ]
  },
  {
   "cell_type": "markdown",
   "metadata": {},
   "source": [
    "# Subjectivity Score"
   ]
  },
  {
   "cell_type": "code",
   "execution_count": 8,
   "metadata": {},
   "outputs": [
    {
     "data": {
      "text/plain": [
       "(575949, 23)"
      ]
     },
     "execution_count": 8,
     "metadata": {},
     "output_type": "execute_result"
    }
   ],
   "source": [
    "df.shape"
   ]
  },
  {
   "cell_type": "code",
   "execution_count": 9,
   "metadata": {},
   "outputs": [
    {
     "data": {
      "text/plain": [
       "Index(['id', 'conversation_id', 'created_at', 'date', 'tweet', 'hashtags',\n",
       "       'user_id', 'username', 'name', 'link', 'retweet', 'nlikes', 'nreplies',\n",
       "       'nretweets', 'quote_url', 'retweet_id', 'reply_to', 'sentiment_score',\n",
       "       'sentiment', 'lda_scores', 'lda', 'subjectivity_score', 'clean_tweets'],\n",
       "      dtype='object')"
      ]
     },
     "execution_count": 9,
     "metadata": {},
     "output_type": "execute_result"
    }
   ],
   "source": [
    "df.keys()"
   ]
  },
  {
   "cell_type": "code",
   "execution_count": 10,
   "metadata": {},
   "outputs": [
    {
     "data": {
      "text/plain": [
       "0    0.600000\n",
       "1    0.560000\n",
       "2    0.462963\n",
       "3    0.000000\n",
       "4    0.500000\n",
       "Name: subjectivity_score, dtype: float64"
      ]
     },
     "execution_count": 10,
     "metadata": {},
     "output_type": "execute_result"
    }
   ],
   "source": [
    "df['subjectivity_score'] = df['tweet'].apply(lambda x: TextBlob(x).sentiment.subjectivity)\n",
    "df.subjectivity_score.head()"
   ]
  },
  {
   "cell_type": "code",
<<<<<<< HEAD
   "execution_count": 34,
   "metadata": {},
   "outputs": [
    {
     "data": {
      "text/plain": [
       "<matplotlib.axes._subplots.AxesSubplot at 0x13c2ebda0>"
      ]
     },
     "execution_count": 34,
     "metadata": {},
     "output_type": "execute_result"
    },
    {
     "data": {
      "image/png": "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\n",
      "text/plain": [
       "<Figure size 1440x864 with 1 Axes>"
      ]
     },
     "metadata": {},
     "output_type": "display_data"
    }
   ],
   "source": [
    "df.boxplot('subjectivity_score', 'sentiment', figsize=(20,12))"
=======
   "execution_count": 11,
   "metadata": {},
   "outputs": [
    {
     "data": {
      "text/plain": [
       "Index(['id', 'conversation_id', 'created_at', 'date', 'tweet', 'hashtags',\n",
       "       'user_id', 'username', 'name', 'link', 'retweet', 'nlikes', 'nreplies',\n",
       "       'nretweets', 'quote_url', 'retweet_id', 'reply_to', 'sentiment_score',\n",
       "       'sentiment', 'lda_scores', 'lda', 'subjectivity_score', 'clean_tweets'],\n",
       "      dtype='object')"
      ]
     },
     "execution_count": 11,
     "metadata": {},
     "output_type": "execute_result"
    }
   ],
   "source": [
    "df.keys()"
   ]
  },
  {
   "cell_type": "code",
   "execution_count": 72,
   "metadata": {},
   "outputs": [],
   "source": [
    "# df.to_csv('5k_Datasets/5k_tweets_lda_10.csv')"
   ]
  },
  {
   "cell_type": "markdown",
   "metadata": {},
   "source": [
    "# LDA Dummies"
>>>>>>> 71b3108ddcb4d6179e31907c2afaafce008683f1
   ]
  },
  {
   "cell_type": "code",
<<<<<<< HEAD
   "execution_count": 33,
   "metadata": {},
=======
   "execution_count": 21,
   "metadata": {},
   "outputs": [],
   "source": [
    "lda_dummies = pd.get_dummies(df['lda'], prefix='lda', drop_first=True)"
   ]
  },
  {
   "cell_type": "code",
   "execution_count": 22,
   "metadata": {},
>>>>>>> 71b3108ddcb4d6179e31907c2afaafce008683f1
   "outputs": [
    {
     "data": {
      "text/plain": [
<<<<<<< HEAD
       "<matplotlib.axes._subplots.AxesSubplot at 0x1402075f8>"
      ]
     },
     "execution_count": 33,
     "metadata": {},
     "output_type": "execute_result"
    },
    {
     "data": {
      "image/png": "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\n",
      "text/plain": [
       "<Figure size 1440x864 with 1 Axes>"
      ]
     },
     "metadata": {},
     "output_type": "display_data"
    }
   ],
   "source": [
    "df.boxplot('subjectivity_score', 'lda', figsize=(20,12))"
=======
       "(575949, 32)"
      ]
     },
     "execution_count": 22,
     "metadata": {},
     "output_type": "execute_result"
    }
   ],
   "source": [
    "df = pd.concat([df, lda_dummies], axis=1)\n",
    "df.shape"
   ]
  },
  {
   "cell_type": "code",
   "execution_count": 24,
   "metadata": {},
   "outputs": [],
   "source": [
    "# df.to_csv('5k_Datasets/5k_tweets_lda_10.csv')"
   ]
  },
  {
   "cell_type": "markdown",
   "metadata": {},
   "source": [
    "# Preprocessing"
   ]
  },
  {
   "cell_type": "code",
   "execution_count": 10,
   "metadata": {},
   "outputs": [
    {
     "data": {
      "text/plain": [
       "Index(['id', 'conversation_id', 'created_at', 'date', 'tweet', 'hashtags',\n",
       "       'user_id', 'username', 'name', 'link', 'retweet', 'nlikes', 'nreplies',\n",
       "       'nretweets', 'quote_url', 'retweet_id', 'reply_to', 'sentiment_score',\n",
       "       'sentiment', 'lda_scores', 'lda', 'subjectivity_score', 'clean_tweets',\n",
       "       'lda_1', 'lda_2', 'lda_3', 'lda_4', 'lda_5', 'lda_6', 'lda_7', 'lda_8',\n",
       "       'lda_9'],\n",
       "      dtype='object')"
      ]
     },
     "execution_count": 10,
     "metadata": {},
     "output_type": "execute_result"
    }
   ],
   "source": [
    "df.keys()"
   ]
  },
  {
   "cell_type": "code",
   "execution_count": 11,
   "metadata": {},
   "outputs": [],
   "source": [
    "features_cols = ['nlikes', 'nreplies', 'nretweets', 'subjectivity_score',\n",
    "                'lda_1', 'lda_2', 'lda_3', 'lda_4', 'lda_5', 'lda_6', 'lda_7', 'lda_8', 'lda_9']"
   ]
  },
  {
   "cell_type": "code",
   "execution_count": 12,
   "metadata": {},
   "outputs": [
    {
     "name": "stdout",
     "output_type": "stream",
     "text": [
      "CPU times: user 56 s, sys: 14.4 s, total: 1min 10s\n",
      "Wall time: 1min 13s\n"
     ]
    },
    {
     "data": {
      "text/plain": [
       "(575949, 3725)"
      ]
     },
     "execution_count": 12,
     "metadata": {},
     "output_type": "execute_result"
    }
   ],
   "source": [
    "%time features_df = pd.concat([df[features_cols], data_vec], axis=1)\n",
    "del data_vec\n",
    "features_df.shape"
   ]
  },
  {
   "cell_type": "code",
   "execution_count": 13,
   "metadata": {},
   "outputs": [
    {
     "data": {
      "text/html": [
       "<div>\n",
       "<style scoped>\n",
       "    .dataframe tbody tr th:only-of-type {\n",
       "        vertical-align: middle;\n",
       "    }\n",
       "\n",
       "    .dataframe tbody tr th {\n",
       "        vertical-align: top;\n",
       "    }\n",
       "\n",
       "    .dataframe thead th {\n",
       "        text-align: right;\n",
       "    }\n",
       "</style>\n",
       "<table border=\"1\" class=\"dataframe\">\n",
       "  <thead>\n",
       "    <tr style=\"text-align: right;\">\n",
       "      <th></th>\n",
       "      <th>nlikes</th>\n",
       "      <th>nreplies</th>\n",
       "      <th>nretweets</th>\n",
       "      <th>subjectivity_score</th>\n",
       "      <th>lda_1</th>\n",
       "      <th>lda_2</th>\n",
       "      <th>lda_3</th>\n",
       "      <th>lda_4</th>\n",
       "      <th>lda_5</th>\n",
       "      <th>lda_6</th>\n",
       "      <th>...</th>\n",
       "      <th>yorkers</th>\n",
       "      <th>young</th>\n",
       "      <th>youre</th>\n",
       "      <th>youth</th>\n",
       "      <th>youtube</th>\n",
       "      <th>yr</th>\n",
       "      <th>zanyface</th>\n",
       "      <th>zero</th>\n",
       "      <th>zombie</th>\n",
       "      <th>zone</th>\n",
       "    </tr>\n",
       "  </thead>\n",
       "  <tbody>\n",
       "    <tr>\n",
       "      <th>0</th>\n",
       "      <td>1.0</td>\n",
       "      <td>0.0</td>\n",
       "      <td>1.0</td>\n",
       "      <td>0.600000</td>\n",
       "      <td>0</td>\n",
       "      <td>0</td>\n",
       "      <td>0</td>\n",
       "      <td>0</td>\n",
       "      <td>0</td>\n",
       "      <td>1</td>\n",
       "      <td>...</td>\n",
       "      <td>0</td>\n",
       "      <td>0</td>\n",
       "      <td>0</td>\n",
       "      <td>0</td>\n",
       "      <td>0</td>\n",
       "      <td>0</td>\n",
       "      <td>0</td>\n",
       "      <td>0</td>\n",
       "      <td>0</td>\n",
       "      <td>0</td>\n",
       "    </tr>\n",
       "    <tr>\n",
       "      <th>1</th>\n",
       "      <td>0.0</td>\n",
       "      <td>0.0</td>\n",
       "      <td>0.0</td>\n",
       "      <td>0.560000</td>\n",
       "      <td>0</td>\n",
       "      <td>0</td>\n",
       "      <td>0</td>\n",
       "      <td>0</td>\n",
       "      <td>1</td>\n",
       "      <td>0</td>\n",
       "      <td>...</td>\n",
       "      <td>0</td>\n",
       "      <td>0</td>\n",
       "      <td>0</td>\n",
       "      <td>0</td>\n",
       "      <td>0</td>\n",
       "      <td>0</td>\n",
       "      <td>0</td>\n",
       "      <td>0</td>\n",
       "      <td>0</td>\n",
       "      <td>0</td>\n",
       "    </tr>\n",
       "    <tr>\n",
       "      <th>2</th>\n",
       "      <td>1.0</td>\n",
       "      <td>1.0</td>\n",
       "      <td>1.0</td>\n",
       "      <td>0.462963</td>\n",
       "      <td>1</td>\n",
       "      <td>0</td>\n",
       "      <td>0</td>\n",
       "      <td>0</td>\n",
       "      <td>0</td>\n",
       "      <td>0</td>\n",
       "      <td>...</td>\n",
       "      <td>0</td>\n",
       "      <td>0</td>\n",
       "      <td>0</td>\n",
       "      <td>0</td>\n",
       "      <td>0</td>\n",
       "      <td>0</td>\n",
       "      <td>0</td>\n",
       "      <td>0</td>\n",
       "      <td>0</td>\n",
       "      <td>0</td>\n",
       "    </tr>\n",
       "    <tr>\n",
       "      <th>3</th>\n",
       "      <td>0.0</td>\n",
       "      <td>0.0</td>\n",
       "      <td>0.0</td>\n",
       "      <td>0.000000</td>\n",
       "      <td>0</td>\n",
       "      <td>0</td>\n",
       "      <td>0</td>\n",
       "      <td>0</td>\n",
       "      <td>0</td>\n",
       "      <td>0</td>\n",
       "      <td>...</td>\n",
       "      <td>0</td>\n",
       "      <td>0</td>\n",
       "      <td>0</td>\n",
       "      <td>0</td>\n",
       "      <td>0</td>\n",
       "      <td>0</td>\n",
       "      <td>0</td>\n",
       "      <td>0</td>\n",
       "      <td>0</td>\n",
       "      <td>0</td>\n",
       "    </tr>\n",
       "    <tr>\n",
       "      <th>4</th>\n",
       "      <td>1.0</td>\n",
       "      <td>0.0</td>\n",
       "      <td>1.0</td>\n",
       "      <td>0.500000</td>\n",
       "      <td>0</td>\n",
       "      <td>0</td>\n",
       "      <td>0</td>\n",
       "      <td>0</td>\n",
       "      <td>0</td>\n",
       "      <td>0</td>\n",
       "      <td>...</td>\n",
       "      <td>0</td>\n",
       "      <td>0</td>\n",
       "      <td>0</td>\n",
       "      <td>0</td>\n",
       "      <td>0</td>\n",
       "      <td>0</td>\n",
       "      <td>0</td>\n",
       "      <td>0</td>\n",
       "      <td>0</td>\n",
       "      <td>0</td>\n",
       "    </tr>\n",
       "  </tbody>\n",
       "</table>\n",
       "<p>5 rows × 3725 columns</p>\n",
       "</div>"
      ],
      "text/plain": [
       "   nlikes  nreplies  nretweets  subjectivity_score  lda_1  lda_2  lda_3  \\\n",
       "0     1.0       0.0        1.0            0.600000      0      0      0   \n",
       "1     0.0       0.0        0.0            0.560000      0      0      0   \n",
       "2     1.0       1.0        1.0            0.462963      1      0      0   \n",
       "3     0.0       0.0        0.0            0.000000      0      0      0   \n",
       "4     1.0       0.0        1.0            0.500000      0      0      0   \n",
       "\n",
       "   lda_4  lda_5  lda_6  ...  yorkers  young  youre  youth  youtube  yr  \\\n",
       "0      0      0      1  ...        0      0      0      0        0   0   \n",
       "1      0      1      0  ...        0      0      0      0        0   0   \n",
       "2      0      0      0  ...        0      0      0      0        0   0   \n",
       "3      0      0      0  ...        0      0      0      0        0   0   \n",
       "4      0      0      0  ...        0      0      0      0        0   0   \n",
       "\n",
       "   zanyface  zero  zombie  zone  \n",
       "0         0     0       0     0  \n",
       "1         0     0       0     0  \n",
       "2         0     0       0     0  \n",
       "3         0     0       0     0  \n",
       "4         0     0       0     0  \n",
       "\n",
       "[5 rows x 3725 columns]"
      ]
     },
     "execution_count": 13,
     "metadata": {},
     "output_type": "execute_result"
    }
   ],
   "source": [
    "features_df.head()"
   ]
  },
  {
   "cell_type": "code",
   "execution_count": 17,
   "metadata": {},
   "outputs": [],
   "source": [
    "with gzip.open('Datasets/features_df.pkl', 'wb') as handle:\n",
    "    pickle.dump(features_df, handle, protocol=pickle.HIGHEST_PROTOCOL)"
   ]
  },
  {
   "cell_type": "markdown",
   "metadata": {},
   "source": [
    "# Train Test Split"
   ]
  },
  {
   "cell_type": "code",
   "execution_count": 2,
   "metadata": {},
   "outputs": [
    {
     "name": "stderr",
     "output_type": "stream",
     "text": [
      "/Users/eric/opt/anaconda3/lib/python3.7/site-packages/IPython/core/interactiveshell.py:3063: DtypeWarning: Columns (15) have mixed types.Specify dtype option on import or set low_memory=False.\n",
      "  interactivity=interactivity, compiler=compiler, result=result)\n"
     ]
    },
    {
     "data": {
      "text/plain": [
       "(575949, 32)"
      ]
     },
     "execution_count": 2,
     "metadata": {},
     "output_type": "execute_result"
    }
   ],
   "source": [
    "df = pd.read_csv('5k_Datasets/5k_tweets_lda_10.csv', index_col=0)\n",
    "df.shape"
   ]
  },
  {
   "cell_type": "code",
   "execution_count": 3,
   "metadata": {},
   "outputs": [
    {
     "data": {
      "text/plain": [
       "(575949, 3725)"
      ]
     },
     "execution_count": 3,
     "metadata": {},
     "output_type": "execute_result"
    }
   ],
   "source": [
    "with gzip.open('Datasets/features_df.pkl', 'rb') as handle:\n",
    "    features_df = pickle.load(handle)  \n",
    "features_df.shape"
   ]
  },
  {
   "cell_type": "code",
   "execution_count": null,
   "metadata": {},
   "outputs": [],
   "source": [
    "from sklearn.model_selection import train_test_split"
   ]
  },
  {
   "cell_type": "code",
   "execution_count": 2,
   "metadata": {},
   "outputs": [
    {
     "ename": "UnpicklingError",
     "evalue": "invalid load key, '\\x1f'.",
     "output_type": "error",
     "traceback": [
      "\u001b[0;31m----------------------------------------------------------------------\u001b[0m",
      "\u001b[0;31mUnpicklingError\u001b[0m                      Traceback (most recent call last)",
      "\u001b[0;32m<ipython-input-2-f1cb37ab3694>\u001b[0m in \u001b[0;36m<module>\u001b[0;34m\u001b[0m\n\u001b[1;32m      1\u001b[0m \u001b[0;32mwith\u001b[0m \u001b[0mopen\u001b[0m\u001b[0;34m(\u001b[0m\u001b[0;34m'Datasets/features_df.pkl'\u001b[0m\u001b[0;34m,\u001b[0m \u001b[0;34m'rb'\u001b[0m\u001b[0;34m)\u001b[0m \u001b[0;32mas\u001b[0m \u001b[0mhandle\u001b[0m\u001b[0;34m:\u001b[0m\u001b[0;34m\u001b[0m\u001b[0;34m\u001b[0m\u001b[0m\n\u001b[0;32m----> 2\u001b[0;31m     \u001b[0mfeatures_df\u001b[0m \u001b[0;34m=\u001b[0m \u001b[0mpickle\u001b[0m\u001b[0;34m.\u001b[0m\u001b[0mload\u001b[0m\u001b[0;34m(\u001b[0m\u001b[0mhandle\u001b[0m\u001b[0;34m)\u001b[0m\u001b[0;34m\u001b[0m\u001b[0;34m\u001b[0m\u001b[0m\n\u001b[0m",
      "\u001b[0;31mUnpicklingError\u001b[0m: invalid load key, '\\x1f'."
     ]
    }
   ],
   "source": [
    "with open('Datasets/features_df.pkl', 'rb') as handle:\n",
    "    features_df = pickle.load(handle)"
   ]
  },
  {
   "cell_type": "code",
   "execution_count": 43,
   "metadata": {},
   "outputs": [
    {
     "data": {
      "text/plain": [
       "((431961, 3725), (143988, 3725))"
      ]
     },
     "execution_count": 43,
     "metadata": {},
     "output_type": "execute_result"
    }
   ],
   "source": [
    "# Fucntion to split data into train and test data\n",
    "def tt_split(X, y):\n",
    "    X_train, X_test, y_train, y_test = train_test_split(X, y, test_size=0.25, stratify=y, random_state=1)\n",
    "    return X_train, X_test, y_train, y_test\n",
    "\n",
    "# Split training data into train and test data\n",
    "X_train, X_test, y_train, y_test = tt_split(features_df, df['sentiment'])\n",
    "\n",
    "X_train.shape, X_test.shape"
   ]
  },
  {
   "cell_type": "markdown",
   "metadata": {},
   "source": [
    "# MinMax Scaler"
   ]
  },
  {
   "cell_type": "code",
   "execution_count": 46,
   "metadata": {},
   "outputs": [],
   "source": [
    "from sklearn.preprocessing import MinMaxScaler"
   ]
  },
  {
   "cell_type": "code",
   "execution_count": 47,
   "metadata": {},
   "outputs": [],
   "source": [
    "# MinMax Scaler\n",
    "mm_scaler = MinMaxScaler()\n",
    "X_train_mm_scl = mm_scaler.fit_transform(X_train)\n",
    "X_test_mm_scl = mm_scaler.transform(X_test)"
   ]
  },
  {
   "cell_type": "markdown",
   "metadata": {},
   "source": [
    "# Standard Scaler"
   ]
  },
  {
   "cell_type": "code",
   "execution_count": 48,
   "metadata": {},
   "outputs": [],
   "source": [
    "from sklearn.preprocessing import StandardScaler"
   ]
  },
  {
   "cell_type": "code",
   "execution_count": null,
   "metadata": {},
   "outputs": [],
   "source": [
    "# Standard Scaler\n",
    "std_scaler = StandardScaler()\n",
    "X_train_std_scl = std_scaler.fit_transform(X_train)\n",
    "X_test_std_scl = sstd_caler.transform(X_test)"
   ]
  },
  {
   "cell_type": "markdown",
   "metadata": {},
   "source": [
    "# Bernoulli Naive Bayes"
   ]
  },
  {
   "cell_type": "code",
   "execution_count": 32,
   "metadata": {},
   "outputs": [],
   "source": [
    "from sklearn.naive_bayes import BernoulliNB"
   ]
  },
  {
   "cell_type": "code",
   "execution_count": 33,
   "metadata": {},
   "outputs": [],
   "source": [
    "# Function to fit bernoulli naive bayes model\n",
    "def bnb(X_train, y_train):\n",
    "    bnb = BernoulliNB()\n",
    "    bnb_fit = bnb.fit(X_train, y_train)\n",
    "    return bnb_fit"
   ]
  },
  {
   "cell_type": "code",
   "execution_count": null,
   "metadata": {},
   "outputs": [],
   "source": [
    "# Fit bernoulli naive bayes model on train data, predict on minmax scaler test data\n",
    "bnb_fit_mm_scl = bnb(X_train_mm_scl, y_train)\n",
    "bnb_preds_mm_scl = bnb_fit_mm_scl.predict(X_test_mm_scl)\n",
    "\n",
    "accuracy_score(bnb_preds_mm_scl, y_test), f1_score(bnb_preds_mm_scl, y_test, average='weighted')"
   ]
  },
  {
   "cell_type": "code",
   "execution_count": 39,
   "metadata": {},
   "outputs": [],
   "source": [
    "# Fit bernoulli naive bayes model on train data, predict on standard scaler test data\n",
    "bnb_fit_std_scl = bnb(X_train_std_scl, y_train)\n",
    "bnb_preds_std_scl = bnb_fit_std_scl.predict(X_test_std_scl)\n",
    "\n",
    "accuracy_score(bnb_preds_std_scl, y_test), f1_score(bnb_preds_std_scl, y_test, average='weighted')"
   ]
  },
  {
   "cell_type": "markdown",
   "metadata": {},
   "source": [
    "# Multinomial Naive Bayes"
   ]
  },
  {
   "cell_type": "code",
   "execution_count": null,
   "metadata": {},
   "outputs": [],
   "source": [
    "from sklearn.naive_bayes import MultinomialNB"
   ]
  },
  {
   "cell_type": "code",
   "execution_count": 26,
   "metadata": {},
   "outputs": [],
   "source": [
    "# Function to fit multinomial naive bayes model\n",
    "def mnb(X_train, y_train):\n",
    "    mnb = MultinomialNB()\n",
    "    mnb_fit = mnb.fit(X_train, y_train)\n",
    "    return mnb_fit"
   ]
  },
  {
   "cell_type": "code",
   "execution_count": null,
   "metadata": {},
   "outputs": [],
   "source": [
    "# Fit multinomial naive bayes model on train data, predict on minmax scaler test data\n",
    "mnb_fit_mm_scl = mnb(X_train_mm_scl, y_train)\n",
    "mnb_preds_mm_scl = mnb_fit_mm_scl.predict(X_test_mm_scl)\n",
    "\n",
    "accuracy_score(mnb_preds_mm_scl, y_test), f1_score(mnb_preds_mm_scl, y_test, average='weighted')"
   ]
  },
  {
   "cell_type": "code",
   "execution_count": null,
   "metadata": {},
   "outputs": [],
   "source": [
    "# Fit multinomial naive bayes model on train data, predict on standard scaler test data\n",
    "mnb_fit_std_scl = mnb(X_train_std_scl, y_train)\n",
    "mnb_preds_std_scl = mnb_fit_std_scl.predict(X_test_std_scl)\n",
    "\n",
    "accuracy_score(mnb_preds_std_scl, y_test), f1_score(mnb_preds_std_scl, y_test, average='weighted')"
>>>>>>> 71b3108ddcb4d6179e31907c2afaafce008683f1
   ]
  },
  {
   "cell_type": "code",
   "execution_count": null,
   "metadata": {},
   "outputs": [],
   "source": [
    "from sklearn.tree import export_graphviz\n",
    "from sklearn.externals.six import StringIO  \n",
    "from IPython.display import Image  \n",
    "import pydotplus\n",
    "\n",
    "dot_data = StringIO()\n",
    "export_graphviz(MODEL_NAME, out_file=dot_data,  \n",
    "                filled=True, rounded=True,\n",
    "                special_characters=True,\n",
    "                feature_names=feature_cols,\n",
    "                class_names=['negative','neutral', 'positive'])\n",
    "graph = pydotplus.graph_from_dot_data(dot_data.getvalue())  \n",
    "graph.write_png('decision_twee.png')\n",
    "Image(graph.create_png())"
   ]
  }
 ],
 "metadata": {
  "kernelspec": {
   "display_name": "Python 3",
   "language": "python",
   "name": "python3"
  },
  "language_info": {
   "codemirror_mode": {
    "name": "ipython",
    "version": 3
   },
   "file_extension": ".py",
   "mimetype": "text/x-python",
   "name": "python",
   "nbconvert_exporter": "python",
   "pygments_lexer": "ipython3",
   "version": "3.6.9"
  }
 },
 "nbformat": 4,
 "nbformat_minor": 4
}
