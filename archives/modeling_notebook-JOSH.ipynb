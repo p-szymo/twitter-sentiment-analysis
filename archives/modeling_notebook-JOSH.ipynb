{
 "cells": [
  {
   "cell_type": "markdown",
   "metadata": {},
   "source": [
    "# Imports"
   ]
  },
  {
   "cell_type": "code",
   "execution_count": 1,
   "metadata": {},
   "outputs": [],
   "source": [
    "import numpy as np\n",
    "import pandas as pd\n",
    "\n",
    "import gzip\n",
    "import pickle\n",
    "\n",
    "from sklearn.model_selection import train_test_split\n",
    "\n",
    "from sklearn.preprocessing import MinMaxScaler\n",
    "from sklearn.preprocessing import StandardScaler\n",
    "\n",
    "from sklearn.naive_bayes import BernoulliNB\n",
    "from sklearn.naive_bayes import MultinomialNB\n",
    "\n",
    "from sklearn.tree import DecisionTreeClassifier\n",
    "\n",
    "from sklearn.metrics import accuracy_score\n",
    "from sklearn.metrics import precision_score\n",
    "from sklearn.metrics import f1_score\n",
    "\n",
    "import matplotlib\n",
    "import matplotlib.pyplot as plt\n",
    "%matplotlib inline\n",
    "import seaborn as sns"
   ]
  },
  {
   "cell_type": "code",
   "execution_count": 2,
   "metadata": {},
   "outputs": [
    {
     "name": "stderr",
     "output_type": "stream",
     "text": [
      "/opt/anaconda3/envs/learn-env/lib/python3.6/site-packages/IPython/core/interactiveshell.py:3058: DtypeWarning: Columns (15) have mixed types.Specify dtype option on import or set low_memory=False.\n",
      "  interactivity=interactivity, compiler=compiler, result=result)\n"
     ]
    },
    {
     "data": {
      "text/plain": [
       "(575949, 32)"
      ]
     },
     "execution_count": 2,
     "metadata": {},
     "output_type": "execute_result"
    }
   ],
   "source": [
    "df = pd.read_csv('Datasets/5k_tweets_lda_10.csv', index_col=0)\n",
    "df.shape"
   ]
  },
  {
   "cell_type": "code",
   "execution_count": 3,
   "metadata": {},
   "outputs": [
    {
     "data": {
      "text/plain": [
       "(575949, 3725)"
      ]
     },
     "execution_count": 3,
     "metadata": {},
     "output_type": "execute_result"
    }
   ],
   "source": [
    "with gzip.open('Datasets/features_df.pkl', 'rb') as handle:\n",
    "    features_df = pickle.load(handle)  \n",
    "features_df.shape"
   ]
  },
  {
   "cell_type": "code",
   "execution_count": 4,
   "metadata": {},
   "outputs": [],
   "source": [
    "data_vec = features_df.iloc[:,13:]"
   ]
  },
  {
   "cell_type": "markdown",
   "metadata": {},
   "source": [
    "# Train Test Split"
   ]
  },
  {
   "cell_type": "code",
   "execution_count": 5,
   "metadata": {},
   "outputs": [
    {
     "data": {
      "text/plain": [
       "((431961, 3725), (143988, 3725))"
      ]
     },
     "execution_count": 5,
     "metadata": {},
     "output_type": "execute_result"
    }
   ],
   "source": [
    "# Fucntion to split into train and test data\n",
    "def tt_split(X, y):\n",
    "    X_train, X_test, y_train, y_test = train_test_split(X, y, test_size=0.25, stratify=y, random_state=1)\n",
    "    return X_train, X_test, y_train, y_test\n",
    "\n",
    "# Split into train and test data\n",
    "X_train, X_test, y_train, y_test = tt_split(features_df, df['sentiment'])\n",
    "\n",
    "X_train.shape, X_test.shape"
   ]
  },
  {
   "cell_type": "code",
   "execution_count": 5,
   "metadata": {},
   "outputs": [],
   "source": [
    "X_train_vec, X_test_vec, y_train_vec, y_test_vec = train_test_split(data_vec, df['sentiment'], test_size=0.25,\n",
    "                                                                    stratify=df['sentiment'], random_state=1)"
   ]
  },
  {
   "cell_type": "markdown",
   "metadata": {},
   "source": [
    "# MinMax Scaler"
   ]
  },
  {
   "cell_type": "code",
   "execution_count": 6,
   "metadata": {},
   "outputs": [],
   "source": [
    "# MinMax Scaler\n",
    "mm_scaler = MinMaxScaler()\n",
    "X_train_mm_scl = mm_scaler.fit_transform(X_train)\n",
    "X_test_mm_scl = mm_scaler.transform(X_test)"
   ]
  },
  {
   "cell_type": "markdown",
   "metadata": {},
   "source": [
    "# Standard Scaler"
   ]
  },
  {
   "cell_type": "code",
   "execution_count": 17,
   "metadata": {},
   "outputs": [],
   "source": [
    "# Standard Scaler\n",
    "std_scaler = StandardScaler()\n",
    "X_train_std_scl = std_scaler.fit_transform(X_train)\n",
    "X_test_std_scl = std_scaler.transform(X_test)"
   ]
  },
  {
   "cell_type": "markdown",
   "metadata": {},
   "source": [
    "# Bernoulli Naive Bayes"
   ]
  },
  {
   "cell_type": "code",
   "execution_count": 12,
   "metadata": {},
   "outputs": [],
   "source": [
    "# Function to fit bernoulli naive bayes model\n",
    "def bnb(X_train, y_train):\n",
    "    bnb = BernoulliNB()\n",
    "    bnb_fit = bnb.fit(X_train, y_train)\n",
    "    return bnb_fit"
   ]
  },
  {
   "cell_type": "code",
   "execution_count": 13,
   "metadata": {},
   "outputs": [
    {
     "data": {
      "text/plain": [
       "(0.6962663555296275, 0.6938904652543706)"
      ]
     },
     "execution_count": 13,
     "metadata": {},
     "output_type": "execute_result"
    }
   ],
   "source": [
    "# Fit bernoulli naive bayes model on train data, predict on minmax scaler test data\n",
    "bnb_fit_mm_scl = bnb(X_train_mm_scl, y_train)\n",
    "bnb_preds_mm_scl = bnb_fit_mm_scl.predict(X_test_mm_scl)\n",
    "\n",
    "accuracy_score(bnb_preds_mm_scl, y_test), f1_score(bnb_preds_mm_scl, y_test, average='weighted')"
   ]
  },
  {
   "cell_type": "code",
   "execution_count": 18,
   "metadata": {},
   "outputs": [
    {
     "data": {
      "text/plain": [
       "(0.7007250604217018, 0.698552621939297)"
      ]
     },
     "execution_count": 18,
     "metadata": {},
     "output_type": "execute_result"
    }
   ],
   "source": [
    "# Fit bernoulli naive bayes model on train data, predict on standard scaler test data\n",
    "bnb_fit_std_scl = bnb(X_train_std_scl, y_train)\n",
    "bnb_preds_std_scl = bnb_fit_std_scl.predict(X_test_std_scl)\n",
    "\n",
    "accuracy_score(bnb_preds_std_scl, y_test), f1_score(bnb_preds_std_scl, y_test, average='weighted')"
   ]
  },
  {
   "cell_type": "markdown",
   "metadata": {},
   "source": [
    "# Multinomial Naive Bayes"
   ]
  },
  {
   "cell_type": "code",
   "execution_count": 14,
   "metadata": {},
   "outputs": [],
   "source": [
    "# Function to fit multinomial naive bayes model\n",
    "def mnb(X_train, y_train):\n",
    "    mnb = MultinomialNB()\n",
    "    mnb_fit = mnb.fit(X_train, y_train)\n",
    "    return mnb_fit"
   ]
  },
  {
   "cell_type": "code",
   "execution_count": 15,
   "metadata": {},
   "outputs": [
    {
     "data": {
      "text/plain": [
       "(0.648366530544212, 0.6560903029607621)"
      ]
     },
     "execution_count": 15,
     "metadata": {},
     "output_type": "execute_result"
    }
   ],
   "source": [
    "# Fit multinomial naive bayes model on train data, predict on minmax scaler test data\n",
    "mnb_fit_mm_scl = mnb(X_train_mm_scl, y_train)\n",
    "mnb_preds_mm_scl = mnb_fit_mm_scl.predict(X_test_mm_scl)\n",
    "\n",
    "accuracy_score(mnb_preds_mm_scl, y_test), f1_score(mnb_preds_mm_scl, y_test, average='weighted')"
   ]
  },
  {
   "cell_type": "markdown",
   "metadata": {},
   "source": [
    "# Decision Tree"
   ]
  },
  {
   "cell_type": "code",
   "execution_count": 7,
   "metadata": {},
   "outputs": [],
   "source": [
    "# Function to fit decision tree model\n",
    "def dt(X_train, y_train):\n",
    "    dt = DecisionTreeClassifier()\n",
    "    dt_fit = dt.fit(X_train, y_train)\n",
    "    return dt_fit"
   ]
  },
  {
   "cell_type": "code",
   "execution_count": 8,
   "metadata": {},
   "outputs": [
    {
     "data": {
      "text/plain": [
       "(0.7223240825624357, 0.7222870831999394)"
      ]
     },
     "execution_count": 8,
     "metadata": {},
     "output_type": "execute_result"
    }
   ],
   "source": [
    "# Fit decision tree model on train data, predict on minmax scaler test data\n",
    "dt_fit_mm_scl = dt(X_train_mm_scl, y_train)\n",
    "dt_preds_mm_scl = dt_fit_mm_scl.predict(X_test_mm_scl)\n",
    "\n",
    "accuracy_score(y_test, dt_preds_mm_scl), f1_score(y_test, dt_preds_mm_scl, average='weighted')"
   ]
  },
  {
   "cell_type": "code",
   "execution_count": 27,
   "metadata": {},
   "outputs": [
    {
     "data": {
      "text/plain": [
       "(0.7228171792093786, 0.7227790464378497)"
      ]
     },
     "execution_count": 27,
     "metadata": {},
     "output_type": "execute_result"
    }
   ],
   "source": [
    "# Fit decision tree on train data, predict on standard scaler test data\n",
    "dt_fit_std_scl = dt(X_train_std_scl, y_train)\n",
    "dt_preds_std_scl = dt_fit_std_scl.predict(X_test_std_scl)\n",
    "\n",
    "accuracy_score(dt_preds_std_scl, y_test), f1_score(dt_preds_std_scl, y_test, average='weighted')"
   ]
  },
  {
   "cell_type": "markdown",
   "metadata": {},
   "source": [
    "# DECISION TREE WITH JUST VECTORS"
   ]
  },
  {
   "cell_type": "code",
   "execution_count": 6,
   "metadata": {},
   "outputs": [
    {
     "ename": "NameError",
     "evalue": "name 'X_test_mm_scl' is not defined",
     "output_type": "error",
     "traceback": [
      "\u001b[0;31m---------------------------------------------------------------------------\u001b[0m",
      "\u001b[0;31mNameError\u001b[0m                                 Traceback (most recent call last)",
      "\u001b[0;32m<ipython-input-6-064646e4ef96>\u001b[0m in \u001b[0;36m<module>\u001b[0;34m\u001b[0m\n\u001b[1;32m      1\u001b[0m \u001b[0mdt_vec\u001b[0m \u001b[0;34m=\u001b[0m \u001b[0mDecisionTreeClassifier\u001b[0m\u001b[0;34m(\u001b[0m\u001b[0;34m)\u001b[0m\u001b[0;34m\u001b[0m\u001b[0;34m\u001b[0m\u001b[0m\n\u001b[1;32m      2\u001b[0m \u001b[0mdt_vec\u001b[0m\u001b[0;34m.\u001b[0m\u001b[0mfit\u001b[0m\u001b[0;34m(\u001b[0m\u001b[0mX_train_vec\u001b[0m\u001b[0;34m,\u001b[0m \u001b[0my_train_vec\u001b[0m\u001b[0;34m)\u001b[0m\u001b[0;34m\u001b[0m\u001b[0;34m\u001b[0m\u001b[0m\n\u001b[0;32m----> 3\u001b[0;31m \u001b[0mdt_vec_preds\u001b[0m \u001b[0;34m=\u001b[0m \u001b[0mdt_vec\u001b[0m\u001b[0;34m.\u001b[0m\u001b[0mpredict\u001b[0m\u001b[0;34m(\u001b[0m\u001b[0mX_test_mm_scl\u001b[0m\u001b[0;34m)\u001b[0m\u001b[0;34m\u001b[0m\u001b[0;34m\u001b[0m\u001b[0m\n\u001b[0m",
      "\u001b[0;31mNameError\u001b[0m: name 'X_test_mm_scl' is not defined"
     ]
    }
   ],
   "source": [
    "dt_vec = DecisionTreeClassifier()\n",
    "dt_vec.fit(X_train_vec, y_train_vec)\n"
   ]
  },
  {
   "cell_type": "code",
   "execution_count": 7,
   "metadata": {},
   "outputs": [],
   "source": [
    "dt_vec_preds = dt_vec.predict(X_test_vec)"
   ]
  },
  {
   "cell_type": "code",
   "execution_count": 8,
   "metadata": {},
   "outputs": [
    {
     "data": {
      "text/plain": [
       "(0.751270939244937, 0.7512700152265057)"
      ]
     },
     "execution_count": 8,
     "metadata": {},
     "output_type": "execute_result"
    }
   ],
   "source": [
    "accuracy_score(y_test_vec, dt_vec_preds), f1_score(y_test_vec, dt_vec_preds, average='weighted')"
   ]
  },
  {
   "cell_type": "code",
   "execution_count": 9,
   "metadata": {},
   "outputs": [
    {
     "data": {
      "text/plain": [
       "[('help', 0.012459406042767265),\n",
       " ('infected', 0.011840980185579832),\n",
       " ('safe', 0.01142629178058512),\n",
       " ('protect', 0.011069554081028702),\n",
       " ('please', 0.008345942255284488),\n",
       " ('death', 0.007986601344076652),\n",
       " ('sick', 0.007970304945149501),\n",
       " ('hand', 0.007692617267656229),\n",
       " ('good', 0.006526761450027839),\n",
       " ('best', 0.006503456782397085),\n",
       " ('care', 0.0063774237343639),\n",
       " ('facewithtearsofjoy', 0.0063457486180306544),\n",
       " ('stop', 0.006159486977454278),\n",
       " ('free', 0.006069304703165118),\n",
       " ('fight', 0.005980832960212081),\n",
       " ('dead', 0.005850489181483668),\n",
       " ('kill', 0.005598966514507042),\n",
       " ('crisis', 0.005478447993495283),\n",
       " ('fear', 0.005189700371991583),\n",
       " ('great', 0.004829568204899623)]"
      ]
     },
     "execution_count": 9,
     "metadata": {},
     "output_type": "execute_result"
    }
   ],
   "source": [
    "features_dict = dict(zip(data_vec.columns, dt_vec.feature_importances_))\n",
    "sorted_d = sorted(features_dict.items(), key=lambda x: x[1], reverse=True)[:20]\n",
    "sorted_d"
   ]
  },
  {
   "cell_type": "code",
   "execution_count": 11,
   "metadata": {},
   "outputs": [],
   "source": [
    "filename = 'models/dt_vec.sav'\n",
    "pickle.dump(dt_vec, open(filename, 'wb'))"
   ]
  },
  {
   "cell_type": "code",
   "execution_count": null,
   "metadata": {},
   "outputs": [],
   "source": []
  },
  {
   "cell_type": "markdown",
   "metadata": {},
   "source": [
    "# Confusion Matrix"
   ]
  },
  {
   "cell_type": "code",
   "execution_count": 9,
   "metadata": {},
   "outputs": [],
   "source": [
    "def plot_confusion_matrix(cm, classes,\n",
    "                          normalize=False,\n",
    "                          title='Confusion matrix',\n",
    "                          cmap=plt.cm.Blues):\n",
    "    \"\"\"\n",
    "    This function prints and plots the confusion matrix.\n",
    "    Normalization can be applied by setting `normalize=True`.\n",
    "    \"\"\"\n",
    "    if normalize:\n",
    "        cm = cm.astype('float') / cm.sum(axis=1)[:, np.newaxis]\n",
    "        print(\"Normalized confusion matrix\")\n",
    "    else:\n",
    "        print('Confusion Matrix, without normalization')\n",
    "    print(cm)\n",
    "    plt.imshow(cm, interpolation='nearest', cmap=cmap)\n",
    "    plt.title(title)\n",
    "    plt.colorbar()\n",
    "    tick_marks = np.arange(len(classes))\n",
    "    plt.xticks(tick_marks, classes, rotation=45)\n",
    "    plt.yticks(tick_marks, classes)\n",
    "    fmt = '.2f' if normalize else 'd'\n",
    "    thresh = cm.max() / 2.\n",
    "    for i, j in itertools.product(range(cm.shape[0]), range(cm.shape[1])):\n",
    "        plt.text(j, i, format(cm[i, j], fmt), fontsize=15,\n",
    "                 horizontalalignment=\"center\", verticalalignment=\"center\",\n",
    "                 color=\"white\" if cm[i, j] > thresh else \"black\")\n",
    "    plt.tight_layout()\n",
    "    plt.ylabel('True Label')\n",
    "    plt.xlabel('Predicted Label')"
   ]
  },
  {
   "cell_type": "code",
   "execution_count": 13,
   "metadata": {},
   "outputs": [],
   "source": [
    "from sklearn.metrics import confusion_matrix\n",
    "import itertools"
   ]
  },
  {
   "cell_type": "code",
   "execution_count": 14,
   "metadata": {},
   "outputs": [
    {
     "name": "stdout",
     "output_type": "stream",
     "text": [
      "Normalized confusion matrix\n",
      "[[0.70754052 0.08288611 0.20957337]\n",
      " [0.14292647 0.72818664 0.12888689]\n",
      " [0.19817726 0.06864548 0.73317726]]\n"
     ]
    },
    {
     "data": {
      "image/png": "[encoded data removed]",
      "text/plain": [
       "<Figure size 432x288 with 2 Axes>"
      ]
     },
     "metadata": {
      "needs_background": "dark"
     },
     "output_type": "display_data"
    }
   ],
   "source": [
    "cm_dt = confusion_matrix(y_test, dt_preds_mm_scl)\n",
    "classes = ['Negative', 'Neutral', 'Positive']\n",
    "plot_confusion_matrix(cm_dt, classes,\n",
    "                          normalize=True,\n",
    "                          title='Decision Tree confusion matrix',\n",
    "                          cmap=plt.cm.Blues)"
   ]
  },
  {
   "cell_type": "code",
   "execution_count": 16,
   "metadata": {},
   "outputs": [
    {
     "name": "stdout",
     "output_type": "stream",
     "text": [
      "72 [label=<#flu &le; 0.25<br/>gini = 0.498<br/>samples = 51179<br/>value = [9307, 34214, 7658]<br/>class = neutral>, fillcolor=\"#89f0b4\"] ;\n",
      "   ^\n",
      "Expected \"}\", found '['  (at char 11352), (line:147, col:4)\n"
     ]
    },
    {
     "ename": "AttributeError",
     "evalue": "'NoneType' object has no attribute 'write_png'",
     "output_type": "error",
     "traceback": [
      "\u001b[0;31m---------------------------------------------------------------------------\u001b[0m",
      "\u001b[0;31mAttributeError\u001b[0m                            Traceback (most recent call last)",
      "\u001b[0;32m<ipython-input-16-7f469faa4e6b>\u001b[0m in \u001b[0;36m<module>\u001b[0;34m\u001b[0m\n\u001b[1;32m     11\u001b[0m                 class_names=['negative','neutral', 'positive'])\n\u001b[1;32m     12\u001b[0m \u001b[0mgraph\u001b[0m \u001b[0;34m=\u001b[0m \u001b[0mpydotplus\u001b[0m\u001b[0;34m.\u001b[0m\u001b[0mgraph_from_dot_data\u001b[0m\u001b[0;34m(\u001b[0m\u001b[0mdot_data\u001b[0m\u001b[0;34m.\u001b[0m\u001b[0mgetvalue\u001b[0m\u001b[0;34m(\u001b[0m\u001b[0;34m)\u001b[0m\u001b[0;34m)\u001b[0m\u001b[0;34m\u001b[0m\u001b[0;34m\u001b[0m\u001b[0m\n\u001b[0;32m---> 13\u001b[0;31m \u001b[0mgraph\u001b[0m\u001b[0;34m.\u001b[0m\u001b[0mwrite_png\u001b[0m\u001b[0;34m(\u001b[0m\u001b[0;34m'decision_twee.png'\u001b[0m\u001b[0;34m)\u001b[0m\u001b[0;34m\u001b[0m\u001b[0;34m\u001b[0m\u001b[0m\n\u001b[0m\u001b[1;32m     14\u001b[0m \u001b[0mImage\u001b[0m\u001b[0;34m(\u001b[0m\u001b[0mgraph\u001b[0m\u001b[0;34m.\u001b[0m\u001b[0mcreate_png\u001b[0m\u001b[0;34m(\u001b[0m\u001b[0;34m)\u001b[0m\u001b[0;34m)\u001b[0m\u001b[0;34m\u001b[0m\u001b[0;34m\u001b[0m\u001b[0m\n",
      "\u001b[0;31mAttributeError\u001b[0m: 'NoneType' object has no attribute 'write_png'"
     ]
    }
   ],
   "source": [
    "from sklearn.tree import export_graphviz\n",
    "from io import StringIO \n",
    "from IPython.display import Image  \n",
    "import pydotplus\n",
    "\n",
    "dot_data = StringIO()\n",
    "export_graphviz(dt_fit_mm_scl, out_file=dot_data,  \n",
    "                filled=True, rounded=True,\n",
    "                special_characters=True,\n",
    "                feature_names=features_df.columns,\n",
    "                class_names=['negative','neutral', 'positive'])\n",
    "graph = pydotplus.graph_from_dot_data(dot_data.getvalue())  \n",
    "graph.write_png('decision_twee.png')\n",
    "Image(graph.create_png())"
   ]
  },
  {
   "cell_type": "code",
   "execution_count": 25,
   "metadata": {},
   "outputs": [
    {
     "name": "stdout",
     "output_type": "stream",
     "text": [
      "Feature: 0, Score: 0.06114\n",
      "Feature: 1, Score: 0.01385\n",
      "Feature: 2, Score: 0.01316\n",
      "Feature: 3, Score: 0.01289\n",
      "Feature: 4, Score: 0.01154\n",
      "Feature: 5, Score: 0.00937\n",
      "Feature: 6, Score: 0.00830\n",
      "Feature: 7, Score: 0.00830\n",
      "Feature: 8, Score: 0.00763\n",
      "Feature: 9, Score: 0.00724\n"
     ]
    },
    {
     "data": {
      "image/png": "[encoded data removed]",
      "text/plain": [
       "<Figure size 432x288 with 1 Axes>"
      ]
     },
     "metadata": {
      "needs_background": "dark"
     },
     "output_type": "display_data"
    }
   ],
   "source": [
    "importance = sorted(dt_fit_mm_scl.feature_importances_, reverse=True)[:10]\n",
    "# summarize feature importance\n",
    "for i,v in enumerate(importance):\n",
    "    print('Feature: %0d, Score: %.5f' % (i,v))\n",
    "# plot feature importance\n",
    "plt.bar([x for x in range(len(importance))], importance)\n",
    "plt.show()"
   ]
  },
  {
   "cell_type": "code",
   "execution_count": 24,
   "metadata": {},
   "outputs": [
    {
     "data": {
      "text/plain": [
       "[0.007240504424306654,\n",
       " 0.007628912463666636,\n",
       " 0.008299192553714098,\n",
       " 0.008301677649925244,\n",
       " 0.009366966228576242,\n",
       " 0.011543464911679947,\n",
       " 0.01288763465647588,\n",
       " 0.013160439509803794,\n",
       " 0.013852670974984875,\n",
       " 0.06113856648874364]"
      ]
     },
     "execution_count": 24,
     "metadata": {},
     "output_type": "execute_result"
    }
   ],
   "source": [
    "importance"
   ]
  },
  {
   "cell_type": "code",
   "execution_count": 32,
   "metadata": {},
   "outputs": [
    {
     "data": {
      "text/plain": [
       "[('subjectivity_score', 0.06113856648874364),\n",
       " ('nlikes', 0.013852670974984875),\n",
       " ('protect', 0.013160439509803794),\n",
       " ('help', 0.01288763465647588),\n",
       " ('infected', 0.011543464911679947),\n",
       " ('safe', 0.009366966228576242),\n",
       " ('please', 0.008301677649925244),\n",
       " ('death', 0.008299192553714098),\n",
       " ('hand', 0.007628912463666636),\n",
       " ('nreplies', 0.007240504424306654),\n",
       " ('facewithtearsofjoy', 0.006977237513460895),\n",
       " ('fight', 0.006969958824720113),\n",
       " ('stop', 0.006537092276635168),\n",
       " ('care', 0.006396877406911093),\n",
       " ('crisis', 0.006260482622134358),\n",
       " ('nretweets', 0.006194661797924139),\n",
       " ('sick', 0.006030719249420577),\n",
       " ('best', 0.005713158560595046),\n",
       " ('fear', 0.005652891009808705),\n",
       " ('kill', 0.005462036703631463)]"
      ]
     },
     "execution_count": 32,
     "metadata": {},
     "output_type": "execute_result"
    }
   ],
   "source": [
    "features_dict = dict(zip(features_df.columns, dt_fit_mm_scl.feature_importances_))\n",
    "sorted_d = sorted(features_dict.items(), key=lambda x: x[1], reverse=True)[:20]\n",
    "sorted_d"
   ]
  },
  {
   "cell_type": "code",
   "execution_count": 30,
   "metadata": {},
   "outputs": [],
   "source": [
    "sorted_d = sorted(features_dict.items(), key=lambda x: x[1], reverse=True)[:20]"
   ]
  },
  {
   "cell_type": "code",
   "execution_count": 31,
   "metadata": {},
   "outputs": [
    {
     "data": {
      "text/plain": [
       "[('subjectivity_score', 0.06113856648874364),\n",
       " ('nlikes', 0.013852670974984875),\n",
       " ('protect', 0.013160439509803794),\n",
       " ('help', 0.01288763465647588),\n",
       " ('infected', 0.011543464911679947),\n",
       " ('safe', 0.009366966228576242),\n",
       " ('please', 0.008301677649925244),\n",
       " ('death', 0.008299192553714098),\n",
       " ('hand', 0.007628912463666636),\n",
       " ('nreplies', 0.007240504424306654)]"
      ]
     },
     "execution_count": 31,
     "metadata": {},
     "output_type": "execute_result"
    }
   ],
   "source": [
    "sorted_d"
   ]
  },
  {
   "cell_type": "code",
   "execution_count": null,
   "metadata": {},
   "outputs": [],
   "source": [
    "[thing[0] for thing in sorted_d]"
   ]
  }
 ],
 "metadata": {
  "kernelspec": {
   "display_name": "Python 3",
   "language": "python",
   "name": "python3"
  },
  "language_info": {
   "codemirror_mode": {
    "name": "ipython",
    "version": 3
   },
   "file_extension": ".py",
   "mimetype": "text/x-python",
   "name": "python",
   "nbconvert_exporter": "python",
   "pygments_lexer": "ipython3",
   "version": "3.6.9"
  }
 },
 "nbformat": 4,
 "nbformat_minor": 4
}
