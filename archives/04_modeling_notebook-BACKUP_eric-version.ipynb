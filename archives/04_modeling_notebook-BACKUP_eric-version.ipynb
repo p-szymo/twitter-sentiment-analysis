{
 "cells": [
  {
   "cell_type": "markdown",
   "metadata": {},
   "source": [
    "# Modeling\n",
    "- **Import necessary libraries.**"
   ]
  },
  {
   "cell_type": "code",
   "execution_count": 1,
   "metadata": {},
   "outputs": [],
   "source": [
    "# standard libraries\n",
    "import numpy as np\n",
    "import pandas as pd\n",
    "\n",
    "# visualization libraries\n",
    "import matplotlib.pyplot as plt\n",
    "%matplotlib inline\n",
    "import seaborn as sns; sns.set_style('ticks')\n",
    "\n",
    "# modeling libraries\n",
    "from sklearn.model_selection import train_test_split\n",
    "from sklearn.preprocessing import MinMaxScaler, StandardScaler\n",
    "from sklearn.naive_bayes import BernoulliNB, MultinomialNB\n",
    "from sklearn.tree import DecisionTreeClassifier\n",
    "from sklearn.metrics import accuracy_score, precision_score, recall_score, f1_score, confusion_matrix\n",
    "\n",
    "# saving libraries\n",
    "import gzip\n",
    "import pickle\n",
    "\n",
    "# custom functions\n",
    "from functions import *\n",
    "\n",
    "# reload when functions is edited\n",
    "%load_ext autoreload\n",
    "%autoreload 2"
   ]
  },
  {
   "cell_type": "markdown",
   "metadata": {},
   "source": [
    "## Load dataframes"
   ]
  },
  {
   "cell_type": "code",
   "execution_count": 2,
   "metadata": {},
   "outputs": [
    {
     "data": {
      "text/plain": [
       "(575949, 22)"
      ]
     },
     "execution_count": 2,
     "metadata": {},
     "output_type": "execute_result"
    }
   ],
   "source": [
    "df = pd.read_csv('data/5k_jan_thru_may_tweets_plus_features.csv', index_col=0)\n",
    "df.shape"
   ]
  },
  {
   "cell_type": "code",
   "execution_count": 4,
   "metadata": {},
   "outputs": [
    {
     "data": {
      "text/plain": [
       "Index(['date', 'tweet', 'username', 'link', 'nlikes', 'nreplies', 'nretweets',\n",
       "       'sentiment_score', 'sentiment', 'clean_tweet', 'lda_topic_max', 'lda_0',\n",
       "       'lda_1', 'lda_2', 'lda_3', 'lda_4', 'lda_5', 'lda_6', 'lda_7', 'lda_8',\n",
       "       'lda_9', 'subjectivity_score'],\n",
       "      dtype='object')"
      ]
     },
     "execution_count": 4,
     "metadata": {},
     "output_type": "execute_result"
    }
   ],
   "source": [
    "df.columns"
   ]
  },
  {
   "cell_type": "code",
   "execution_count": 14,
   "metadata": {},
   "outputs": [
    {
     "data": {
      "text/plain": [
       "(575949, 3712)"
      ]
     },
     "execution_count": 14,
     "metadata": {},
     "output_type": "execute_result"
    }
   ],
   "source": [
    "with gzip.open('data/data_vec.pkl', 'rb') as hello:\n",
    "    vectors_df = pickle.load(hello)  \n",
    "vectors_df.shape"
   ]
  },
  {
   "cell_type": "markdown",
   "metadata": {},
   "source": [
    "### Combine necessary features columns"
   ]
  },
  {
   "cell_type": "code",
   "execution_count": 6,
   "metadata": {},
   "outputs": [
    {
     "data": {
      "text/html": [
       "<div>\n",
       "<style scoped>\n",
       "    .dataframe tbody tr th:only-of-type {\n",
       "        vertical-align: middle;\n",
       "    }\n",
       "\n",
       "    .dataframe tbody tr th {\n",
       "        vertical-align: top;\n",
       "    }\n",
       "\n",
       "    .dataframe thead th {\n",
       "        text-align: right;\n",
       "    }\n",
       "</style>\n",
       "<table border=\"1\" class=\"dataframe\">\n",
       "  <thead>\n",
       "    <tr style=\"text-align: right;\">\n",
       "      <th></th>\n",
       "      <th>lda_1</th>\n",
       "      <th>lda_2</th>\n",
       "      <th>lda_3</th>\n",
       "      <th>lda_4</th>\n",
       "      <th>lda_5</th>\n",
       "      <th>lda_6</th>\n",
       "      <th>lda_7</th>\n",
       "      <th>lda_8</th>\n",
       "      <th>lda_9</th>\n",
       "    </tr>\n",
       "  </thead>\n",
       "  <tbody>\n",
       "    <tr>\n",
       "      <th>count</th>\n",
       "      <td>575949.000000</td>\n",
       "      <td>575949.000000</td>\n",
       "      <td>575949.000000</td>\n",
       "      <td>575949.000000</td>\n",
       "      <td>575949.000000</td>\n",
       "      <td>575949.000000</td>\n",
       "      <td>575949.000000</td>\n",
       "      <td>575949.000000</td>\n",
       "      <td>575949.000000</td>\n",
       "    </tr>\n",
       "    <tr>\n",
       "      <th>mean</th>\n",
       "      <td>0.064772</td>\n",
       "      <td>0.089951</td>\n",
       "      <td>0.121448</td>\n",
       "      <td>0.102484</td>\n",
       "      <td>0.135416</td>\n",
       "      <td>0.053754</td>\n",
       "      <td>0.078181</td>\n",
       "      <td>0.056683</td>\n",
       "      <td>0.122927</td>\n",
       "    </tr>\n",
       "    <tr>\n",
       "      <th>std</th>\n",
       "      <td>0.084542</td>\n",
       "      <td>0.122402</td>\n",
       "      <td>0.157942</td>\n",
       "      <td>0.128598</td>\n",
       "      <td>0.156524</td>\n",
       "      <td>0.065011</td>\n",
       "      <td>0.098263</td>\n",
       "      <td>0.068388</td>\n",
       "      <td>0.155990</td>\n",
       "    </tr>\n",
       "    <tr>\n",
       "      <th>min</th>\n",
       "      <td>0.015212</td>\n",
       "      <td>0.015173</td>\n",
       "      <td>0.015566</td>\n",
       "      <td>0.014034</td>\n",
       "      <td>0.014033</td>\n",
       "      <td>0.015495</td>\n",
       "      <td>0.015167</td>\n",
       "      <td>0.015165</td>\n",
       "      <td>0.015559</td>\n",
       "    </tr>\n",
       "    <tr>\n",
       "      <th>25%</th>\n",
       "      <td>0.022714</td>\n",
       "      <td>0.023493</td>\n",
       "      <td>0.024005</td>\n",
       "      <td>0.024333</td>\n",
       "      <td>0.025375</td>\n",
       "      <td>0.022686</td>\n",
       "      <td>0.023524</td>\n",
       "      <td>0.022761</td>\n",
       "      <td>0.024353</td>\n",
       "    </tr>\n",
       "    <tr>\n",
       "      <th>50%</th>\n",
       "      <td>0.027953</td>\n",
       "      <td>0.029691</td>\n",
       "      <td>0.031358</td>\n",
       "      <td>0.031586</td>\n",
       "      <td>0.037070</td>\n",
       "      <td>0.027773</td>\n",
       "      <td>0.029737</td>\n",
       "      <td>0.027907</td>\n",
       "      <td>0.031785</td>\n",
       "    </tr>\n",
       "    <tr>\n",
       "      <th>75%</th>\n",
       "      <td>0.066274</td>\n",
       "      <td>0.108158</td>\n",
       "      <td>0.176420</td>\n",
       "      <td>0.144370</td>\n",
       "      <td>0.215923</td>\n",
       "      <td>0.041660</td>\n",
       "      <td>0.100000</td>\n",
       "      <td>0.050002</td>\n",
       "      <td>0.186281</td>\n",
       "    </tr>\n",
       "    <tr>\n",
       "      <th>max</th>\n",
       "      <td>0.749785</td>\n",
       "      <td>0.822302</td>\n",
       "      <td>0.828758</td>\n",
       "      <td>0.817670</td>\n",
       "      <td>0.822611</td>\n",
       "      <td>0.715675</td>\n",
       "      <td>0.773589</td>\n",
       "      <td>0.762236</td>\n",
       "      <td>0.830247</td>\n",
       "    </tr>\n",
       "  </tbody>\n",
       "</table>\n",
       "</div>"
      ],
      "text/plain": [
       "               lda_1          lda_2          lda_3          lda_4  \\\n",
       "count  575949.000000  575949.000000  575949.000000  575949.000000   \n",
       "mean        0.064772       0.089951       0.121448       0.102484   \n",
       "std         0.084542       0.122402       0.157942       0.128598   \n",
       "min         0.015212       0.015173       0.015566       0.014034   \n",
       "25%         0.022714       0.023493       0.024005       0.024333   \n",
       "50%         0.027953       0.029691       0.031358       0.031586   \n",
       "75%         0.066274       0.108158       0.176420       0.144370   \n",
       "max         0.749785       0.822302       0.828758       0.817670   \n",
       "\n",
       "               lda_5          lda_6          lda_7          lda_8  \\\n",
       "count  575949.000000  575949.000000  575949.000000  575949.000000   \n",
       "mean        0.135416       0.053754       0.078181       0.056683   \n",
       "std         0.156524       0.065011       0.098263       0.068388   \n",
       "min         0.014033       0.015495       0.015167       0.015165   \n",
       "25%         0.025375       0.022686       0.023524       0.022761   \n",
       "50%         0.037070       0.027773       0.029737       0.027907   \n",
       "75%         0.215923       0.041660       0.100000       0.050002   \n",
       "max         0.822611       0.715675       0.773589       0.762236   \n",
       "\n",
       "               lda_9  \n",
       "count  575949.000000  \n",
       "mean        0.122927  \n",
       "std         0.155990  \n",
       "min         0.015559  \n",
       "25%         0.024353  \n",
       "50%         0.031785  \n",
       "75%         0.186281  \n",
       "max         0.830247  "
      ]
     },
     "execution_count": 6,
     "metadata": {},
     "output_type": "execute_result"
    }
   ],
   "source": [
    "df[['lda_1', 'lda_2', 'lda_3', 'lda_4', 'lda_5', 'lda_6', 'lda_7', 'lda_8',\n",
    "       'lda_9']].describe()"
   ]
  },
  {
   "cell_type": "code",
   "execution_count": 7,
   "metadata": {},
   "outputs": [
    {
     "data": {
      "text/html": [
       "<div>\n",
       "<style scoped>\n",
       "    .dataframe tbody tr th:only-of-type {\n",
       "        vertical-align: middle;\n",
       "    }\n",
       "\n",
       "    .dataframe tbody tr th {\n",
       "        vertical-align: top;\n",
       "    }\n",
       "\n",
       "    .dataframe thead th {\n",
       "        text-align: right;\n",
       "    }\n",
       "</style>\n",
       "<table border=\"1\" class=\"dataframe\">\n",
       "  <thead>\n",
       "    <tr style=\"text-align: right;\">\n",
       "      <th></th>\n",
       "      <th>lda_1</th>\n",
       "      <th>lda_2</th>\n",
       "      <th>lda_3</th>\n",
       "      <th>lda_4</th>\n",
       "      <th>lda_5</th>\n",
       "      <th>lda_6</th>\n",
       "      <th>lda_7</th>\n",
       "      <th>lda_8</th>\n",
       "      <th>lda_9</th>\n",
       "    </tr>\n",
       "  </thead>\n",
       "  <tbody>\n",
       "    <tr>\n",
       "      <th>lda_1</th>\n",
       "      <td>1.000000</td>\n",
       "      <td>-0.054220</td>\n",
       "      <td>-0.093482</td>\n",
       "      <td>-0.086108</td>\n",
       "      <td>-0.070060</td>\n",
       "      <td>-0.019698</td>\n",
       "      <td>-0.051527</td>\n",
       "      <td>-0.011108</td>\n",
       "      <td>-0.085963</td>\n",
       "    </tr>\n",
       "    <tr>\n",
       "      <th>lda_2</th>\n",
       "      <td>-0.054220</td>\n",
       "      <td>1.000000</td>\n",
       "      <td>-0.118673</td>\n",
       "      <td>-0.109646</td>\n",
       "      <td>-0.134135</td>\n",
       "      <td>-0.053659</td>\n",
       "      <td>-0.081139</td>\n",
       "      <td>-0.046189</td>\n",
       "      <td>-0.122597</td>\n",
       "    </tr>\n",
       "    <tr>\n",
       "      <th>lda_3</th>\n",
       "      <td>-0.093482</td>\n",
       "      <td>-0.118673</td>\n",
       "      <td>1.000000</td>\n",
       "      <td>-0.098829</td>\n",
       "      <td>-0.193345</td>\n",
       "      <td>-0.049933</td>\n",
       "      <td>-0.112622</td>\n",
       "      <td>-0.060436</td>\n",
       "      <td>-0.167473</td>\n",
       "    </tr>\n",
       "    <tr>\n",
       "      <th>lda_4</th>\n",
       "      <td>-0.086108</td>\n",
       "      <td>-0.109646</td>\n",
       "      <td>-0.098829</td>\n",
       "      <td>1.000000</td>\n",
       "      <td>-0.091672</td>\n",
       "      <td>-0.049188</td>\n",
       "      <td>-0.083589</td>\n",
       "      <td>-0.065812</td>\n",
       "      <td>-0.129122</td>\n",
       "    </tr>\n",
       "    <tr>\n",
       "      <th>lda_5</th>\n",
       "      <td>-0.070060</td>\n",
       "      <td>-0.134135</td>\n",
       "      <td>-0.193345</td>\n",
       "      <td>-0.091672</td>\n",
       "      <td>1.000000</td>\n",
       "      <td>-0.063161</td>\n",
       "      <td>-0.060166</td>\n",
       "      <td>-0.064941</td>\n",
       "      <td>-0.161086</td>\n",
       "    </tr>\n",
       "    <tr>\n",
       "      <th>lda_6</th>\n",
       "      <td>-0.019698</td>\n",
       "      <td>-0.053659</td>\n",
       "      <td>-0.049933</td>\n",
       "      <td>-0.049188</td>\n",
       "      <td>-0.063161</td>\n",
       "      <td>1.000000</td>\n",
       "      <td>-0.032606</td>\n",
       "      <td>-0.016190</td>\n",
       "      <td>-0.063243</td>\n",
       "    </tr>\n",
       "    <tr>\n",
       "      <th>lda_7</th>\n",
       "      <td>-0.051527</td>\n",
       "      <td>-0.081139</td>\n",
       "      <td>-0.112622</td>\n",
       "      <td>-0.083589</td>\n",
       "      <td>-0.060166</td>\n",
       "      <td>-0.032606</td>\n",
       "      <td>1.000000</td>\n",
       "      <td>-0.043088</td>\n",
       "      <td>-0.087296</td>\n",
       "    </tr>\n",
       "    <tr>\n",
       "      <th>lda_8</th>\n",
       "      <td>-0.011108</td>\n",
       "      <td>-0.046189</td>\n",
       "      <td>-0.060436</td>\n",
       "      <td>-0.065812</td>\n",
       "      <td>-0.064941</td>\n",
       "      <td>-0.016190</td>\n",
       "      <td>-0.043088</td>\n",
       "      <td>1.000000</td>\n",
       "      <td>-0.071874</td>\n",
       "    </tr>\n",
       "    <tr>\n",
       "      <th>lda_9</th>\n",
       "      <td>-0.085963</td>\n",
       "      <td>-0.122597</td>\n",
       "      <td>-0.167473</td>\n",
       "      <td>-0.129122</td>\n",
       "      <td>-0.161086</td>\n",
       "      <td>-0.063243</td>\n",
       "      <td>-0.087296</td>\n",
       "      <td>-0.071874</td>\n",
       "      <td>1.000000</td>\n",
       "    </tr>\n",
       "  </tbody>\n",
       "</table>\n",
       "</div>"
      ],
      "text/plain": [
       "          lda_1     lda_2     lda_3     lda_4     lda_5     lda_6     lda_7  \\\n",
       "lda_1  1.000000 -0.054220 -0.093482 -0.086108 -0.070060 -0.019698 -0.051527   \n",
       "lda_2 -0.054220  1.000000 -0.118673 -0.109646 -0.134135 -0.053659 -0.081139   \n",
       "lda_3 -0.093482 -0.118673  1.000000 -0.098829 -0.193345 -0.049933 -0.112622   \n",
       "lda_4 -0.086108 -0.109646 -0.098829  1.000000 -0.091672 -0.049188 -0.083589   \n",
       "lda_5 -0.070060 -0.134135 -0.193345 -0.091672  1.000000 -0.063161 -0.060166   \n",
       "lda_6 -0.019698 -0.053659 -0.049933 -0.049188 -0.063161  1.000000 -0.032606   \n",
       "lda_7 -0.051527 -0.081139 -0.112622 -0.083589 -0.060166 -0.032606  1.000000   \n",
       "lda_8 -0.011108 -0.046189 -0.060436 -0.065812 -0.064941 -0.016190 -0.043088   \n",
       "lda_9 -0.085963 -0.122597 -0.167473 -0.129122 -0.161086 -0.063243 -0.087296   \n",
       "\n",
       "          lda_8     lda_9  \n",
       "lda_1 -0.011108 -0.085963  \n",
       "lda_2 -0.046189 -0.122597  \n",
       "lda_3 -0.060436 -0.167473  \n",
       "lda_4 -0.065812 -0.129122  \n",
       "lda_5 -0.064941 -0.161086  \n",
       "lda_6 -0.016190 -0.063243  \n",
       "lda_7 -0.043088 -0.087296  \n",
       "lda_8  1.000000 -0.071874  \n",
       "lda_9 -0.071874  1.000000  "
      ]
     },
     "execution_count": 7,
     "metadata": {},
     "output_type": "execute_result"
    }
   ],
   "source": [
    "df[['lda_1', 'lda_2', 'lda_3', 'lda_4', 'lda_5', 'lda_6', 'lda_7', 'lda_8',\n",
    "       'lda_9']].corr()"
   ]
  },
  {
   "cell_type": "code",
   "execution_count": 8,
   "metadata": {},
   "outputs": [],
   "source": [
    "feature_cols = ['nlikes', 'nreplies', 'nretweets', 'lda_0', 'lda_1', 'lda_2', 'lda_3', 'lda_4', 'lda_5',\n",
    "                'lda_6', 'lda_7', 'lda_8', 'lda_9', 'subjectivity_score']"
   ]
  },
  {
   "cell_type": "code",
   "execution_count": 12,
   "metadata": {},
   "outputs": [
    {
     "data": {
      "text/plain": [
       "<matplotlib.axes._subplots.AxesSubplot at 0x127f4ecc0>"
      ]
     },
     "execution_count": 12,
     "metadata": {},
     "output_type": "execute_result"
    },
    {
     "data": {
      "image/png": "[encoded data removed]",
      "text/plain": [
       "<Figure size 864x720 with 2 Axes>"
      ]
     },
     "metadata": {
      "needs_background": "light"
     },
     "output_type": "display_data"
    }
   ],
   "source": [
    "plt.figure(figsize=(12,10))\n",
    "sns.heatmap(df[feature_cols].corr(), annot=True)"
   ]
  },
  {
   "cell_type": "code",
   "execution_count": 13,
   "metadata": {},
   "outputs": [],
   "source": [
    "feature_cols = ['nlikes', 'nreplies', 'lda_0', 'lda_1', 'lda_2', 'lda_3', 'lda_4', 'lda_5',\n",
    "                'lda_6', 'lda_7', 'lda_8', 'lda_9', 'subjectivity_score']"
   ]
  },
  {
   "cell_type": "code",
   "execution_count": 16,
   "metadata": {},
   "outputs": [
    {
     "data": {
      "text/plain": [
       "((575949, 3725), (575949,))"
      ]
     },
     "execution_count": 16,
     "metadata": {},
     "output_type": "execute_result"
    }
   ],
   "source": [
    "X = pd.concat([df[feature_cols], vectors_df], axis=1)\n",
    "y = df['sentiment']\n",
    "\n",
    "X.shape, y.shape"
   ]
  },
  {
   "cell_type": "markdown",
   "metadata": {},
   "source": [
    "# Train Test Split"
   ]
  },
  {
   "cell_type": "code",
   "execution_count": null,
   "metadata": {},
   "outputs": [],
   "source": [
    "# Split into train and test data\n",
    "X_train, X_test, y_train, y_test = train_test_split(X, y, test_size=0.3, stratify=y, random_state=42)\n",
    "\n",
    "X_train.shape, X_test.shape"
   ]
  },
  {
   "cell_type": "markdown",
   "metadata": {},
   "source": [
    "# MinMax Scaler"
   ]
  },
  {
   "cell_type": "code",
   "execution_count": null,
   "metadata": {},
   "outputs": [],
   "source": [
    "# MinMax Scaler\n",
    "mm_scaler = MinMaxScaler()\n",
    "X_train_mm = mm_scaler.fit_transform(X_train)\n",
    "X_test_mm = mm_scaler.transform(X_test)"
   ]
  },
  {
   "cell_type": "markdown",
   "metadata": {},
   "source": [
    "# Standard Scaler"
   ]
  },
  {
   "cell_type": "code",
   "execution_count": null,
   "metadata": {},
   "outputs": [],
   "source": [
    "# Standard Scaler\n",
    "std_scaler = StandardScaler()\n",
    "X_train_ss = std_scaler.fit_transform(X_train)\n",
    "X_test_ss = std_scaler.transform(X_test)"
   ]
  },
  {
   "cell_type": "markdown",
   "metadata": {},
   "source": [
    "# Bernoulli Naive Bayes"
   ]
  },
  {
   "cell_type": "code",
   "execution_count": null,
   "metadata": {},
   "outputs": [],
   "source": [
    "# create Bernoulli Naive Bayes object\n",
    "bnb = BernoulliNB()\n",
    "\n",
    "# train model\n",
    "banaba_mm = bnb.fit(X_train_mm, y_train)\n",
    "banaba_ss = bnb.fit(X_train_ss, y_train)\n",
    "\n",
    "# predict on test data\n",
    "y_pred_bnb_mm = banaba_mm.predict(X_test_mm)\n",
    "y_pred_bnb_ss = banaba_ss.predict(X_test_ss)\n",
    "\n",
    "print('MinMaxScaler Stats:')\n",
    "# checking accuracy\n",
    "print('Test Accuracy score: ', accuracy_score(y_test, y_pred_bnb_mm))\n",
    "# checking f1\n",
    "print('Test F1 score: ', f1_score(y_test, y_pred_bnb_mm, average='weighted'))\n",
    "# checking recall\n",
    "print('Test Recall score: ', recall_score(y_test, y_pred_bnb_mm, average='weighted'))\n",
    "# checking precision\n",
    "print('Test Precision score: ', precision_score(y_test, y_pred_bnb_mm, average='weighted'))\n",
    "\n",
    "print('-' * 100)\n",
    "\n",
    "print('StandardScaler Stats:')\n",
    "# checking accuracy\n",
    "print('Test Accuracy score: ', accuracy_score(y_test, y_pred_bnb_ss))\n",
    "# checking f1\n",
    "print('Test F1 score: ', f1_score(y_test, y_pred_bnb_ss, average='weighted'))\n",
    "# checking recall\n",
    "print('Test Recall score: ', recall_score(y_test, y_pred_bnb_ss, average='weighted'))\n",
    "# checking precision\n",
    "print('Test Precision score: ', precision_score(y_test, y_pred_bnb_ss, average='weighted'))"
   ]
  },
  {
   "cell_type": "code",
   "execution_count": 12,
   "metadata": {},
   "outputs": [],
   "source": [
    "bnb = BernoulliNB()\n",
    "bnb.fit(X_train_mm_scl, y_train)\n",
    "bnb_preds = bnb.predict(X_test_mm_scl)"
   ]
  },
  {
   "cell_type": "code",
   "execution_count": 13,
   "metadata": {},
   "outputs": [
    {
     "data": {
      "text/plain": [
       "(0.6962663555296275, 0.6938904652543706)"
      ]
     },
     "execution_count": 13,
     "metadata": {},
     "output_type": "execute_result"
    }
   ],
   "source": [
    "# Fit bernoulli naive bayes model on train data, predict on minmax scaler test data\n",
    "bnb_fit_mm_scl = bnb(X_train_mm_scl, y_train)\n",
    "bnb_preds_mm_scl = bnb_fit_mm_scl.predict(X_test_mm_scl)\n",
    "\n",
    "accuracy_score(bnb_preds_mm_scl, y_test), f1_score(bnb_preds_mm_scl, y_test, average='weighted')"
   ]
  },
  {
   "cell_type": "code",
   "execution_count": 18,
   "metadata": {},
   "outputs": [
    {
     "data": {
      "text/plain": [
       "(0.7007250604217018, 0.698552621939297)"
      ]
     },
     "execution_count": 18,
     "metadata": {},
     "output_type": "execute_result"
    }
   ],
   "source": [
    "# Fit bernoulli naive bayes model on train data, predict on standard scaler test data\n",
    "bnb_fit_std_scl = bnb(X_train_std_scl, y_train)\n",
    "bnb_preds_std_scl = bnb_fit_std_scl.predict(X_test_std_scl)\n",
    "\n",
    "accuracy_score(bnb_preds_std_scl, y_test), f1_score(bnb_preds_std_scl, y_test, average='weighted')"
   ]
  },
  {
   "cell_type": "code",
   "execution_count": 57,
   "metadata": {},
   "outputs": [
    {
     "data": {
      "text/plain": [
       "array([[ 9643., 16881.,  9610., ...,   603.,   122.,   201.],\n",
       "       [ 4336.,  6795.,  4322., ...,   157.,    22.,    52.],\n",
       "       [11446., 17503., 10834., ...,   475.,    99.,   185.]])"
      ]
     },
     "execution_count": 57,
     "metadata": {},
     "output_type": "execute_result"
    }
   ],
   "source": [
    "# Feature count\n",
    "bnb_fit_std_scl.feature_count_"
   ]
  },
  {
   "cell_type": "code",
   "execution_count": 68,
   "metadata": {},
   "outputs": [
    {
     "name": "stdout",
     "output_type": "stream",
     "text": [
      "Index(['#wholesale', 'okhand', '#sale', 'smilingfacewith3',\n",
      "       'smilingfacewithheart', 'faceblowingakiss', '#love', '#safe',\n",
      "       'twohearts', 'blueheart'],\n",
      "      dtype='object')\n",
      "Index(['incompetence', 'smilingfacewithheart', 'smilingfacewith3', 'heartsuit',\n",
      "       'purpleheart', 'threatened', 'upset', 'discarded', 'noble', 'okhand'],\n",
      "      dtype='object')\n",
      "Index(['iniran', 'assault', 'suicide', 'thief', 'germany's', 'incompetence',\n",
      "       'violent', 'gross', '#fight', 'declares'],\n",
      "      dtype='object')\n"
     ]
    }
   ],
   "source": [
    "# Top 10 most important features per class\n",
    "pos_class_prob_sorted = bnb_fit_std_scl.feature_log_prob_[0, :].argsort()\n",
    "neu_class_prob_sorted = bnb_fit_std_scl.feature_log_prob_[1, :].argsort()\n",
    "neg_class_prob_sorted = bnb_fit_std_scl.feature_log_prob_[2, :].argsort()\n",
    "\n",
    "print(np.take(features_df.columns, pos_class_prob_sorted[:10]))\n",
    "print(np.take(features_df.columns, neu_class_prob_sorted[:10]))\n",
    "print(np.take(features_df.columns, neg_class_prob_sorted[:10]))"
   ]
  },
  {
   "cell_type": "markdown",
   "metadata": {},
   "source": [
    "# Multinomial Naive Bayes"
   ]
  },
  {
   "cell_type": "code",
   "execution_count": 14,
   "metadata": {},
   "outputs": [],
   "source": [
    "# Function to fit multinomial naive bayes model\n",
    "def mnb(X_train, y_train):\n",
    "    mnb = MultinomialNB()\n",
    "    mnb_fit = mnb.fit(X_train, y_train)\n",
    "    return mnb_fit"
   ]
  },
  {
   "cell_type": "code",
   "execution_count": 15,
   "metadata": {},
   "outputs": [
    {
     "data": {
      "text/plain": [
       "(0.648366530544212, 0.6560903029607621)"
      ]
     },
     "execution_count": 15,
     "metadata": {},
     "output_type": "execute_result"
    }
   ],
   "source": [
    "# Fit multinomial naive bayes model on train data, predict on minmax scaler test data\n",
    "mnb_fit_mm_scl = mnb(X_train_mm_scl, y_train)\n",
    "mnb_preds_mm_scl = mnb_fit_mm_scl.predict(X_test_mm_scl)\n",
    "\n",
    "accuracy_score(mnb_preds_mm_scl, y_test), f1_score(mnb_preds_mm_scl, y_test, average='weighted')"
   ]
  },
  {
   "cell_type": "markdown",
   "metadata": {},
   "source": [
    "# Decision Tree"
   ]
  },
  {
   "cell_type": "code",
   "execution_count": 25,
   "metadata": {},
   "outputs": [],
   "source": [
    "# Function to fit decision tree model\n",
    "def dt(X_train, y_train):\n",
    "    dt = DecisionTreeClassifier()\n",
    "    dt_fit = dt.fit(X_train, y_train)\n",
    "    return dt_fit"
   ]
  },
  {
   "cell_type": "code",
   "execution_count": 26,
   "metadata": {},
   "outputs": [
    {
     "data": {
      "text/plain": [
       "(0.723782537433675, 0.7237418687722337)"
      ]
     },
     "execution_count": 26,
     "metadata": {},
     "output_type": "execute_result"
    }
   ],
   "source": [
    "# Fit decision tree model on train data, predict on minmax scaler test data\n",
    "dt_fit_mm_scl = dt(X_train_mm_scl, y_train)\n",
    "dt_preds_mm_scl = dt_fit_mm_scl.predict(X_test_mm_scl)\n",
    "\n",
    "accuracy_score(dt_preds_mm_scl, y_test), f1_score(dt_preds_mm_scl, y_test, average='weighted')"
   ]
  },
  {
   "cell_type": "code",
   "execution_count": 27,
   "metadata": {},
   "outputs": [
    {
     "data": {
      "text/plain": [
       "(0.7228171792093786, 0.7227790464378497)"
      ]
     },
     "execution_count": 27,
     "metadata": {},
     "output_type": "execute_result"
    }
   ],
   "source": [
    "# Fit decision tree on train data, predict on standard scaler test data\n",
    "dt_fit_std_scl = dt(X_train_std_scl, y_train)\n",
    "dt_preds_std_scl = dt_fit_std_scl.predict(X_test_std_scl)\n",
    "\n",
    "accuracy_score(dt_preds_std_scl, y_test), f1_score(dt_preds_std_scl, y_test, average='weighted')"
   ]
  },
  {
   "cell_type": "code",
   "execution_count": 59,
   "metadata": {},
   "outputs": [
    {
     "data": {
      "text/plain": [
       "array([1.37984427e-02, 7.07843347e-03, 6.19432068e-03, ...,\n",
       "       1.73897035e-04, 3.40212838e-05, 9.40662773e-05])"
      ]
     },
     "execution_count": 59,
     "metadata": {},
     "output_type": "execute_result"
    }
   ],
   "source": [
    "# Feature importances\n",
    "dt_fit_std_scl.feature_importances_"
   ]
  },
  {
   "cell_type": "code",
   "execution_count": 73,
   "metadata": {},
   "outputs": [
    {
     "data": {
      "text/plain": [
       "[('subjectivity_score', 0.06111831308232892),\n",
       " ('nlikes', 0.01402649295835318),\n",
       " ('protect', 0.013184184251441364),\n",
       " ('help', 0.012865803628373692),\n",
       " ('infected', 0.011508287105684818),\n",
       " ('safe', 0.009374088894935299),\n",
       " ('please', 0.00832027302188848),\n",
       " ('death', 0.008313647504325852),\n",
       " ('hand', 0.007588242417386953),\n",
       " ('nreplies', 0.007010932702317728)]"
      ]
     },
     "execution_count": 73,
     "metadata": {},
     "output_type": "execute_result"
    }
   ],
   "source": [
    "features_dict = dict(zip(features_df.columns, dt_fit_mm_scl.feature_importances_))\n",
    "sorted_d = sorted(features_dict.items(), key=lambda x: x[1], reverse=True)[:10]\n",
    "sorted_d"
   ]
  },
  {
   "cell_type": "code",
   "execution_count": 75,
   "metadata": {},
   "outputs": [
    {
     "name": "stdout",
     "output_type": "stream",
     "text": [
      "Feature: 0, Score: 0.00000\n",
      "Feature: 1, Score: 0.00000\n",
      "Feature: 2, Score: 0.00000\n",
      "Feature: 3, Score: 0.00000\n",
      "Feature: 4, Score: 0.00000\n",
      "Feature: 5, Score: 0.00000\n",
      "Feature: 6, Score: 0.00000\n",
      "Feature: 7, Score: 0.00000\n",
      "Feature: 8, Score: 0.00000\n",
      "Feature: 9, Score: 0.00000\n"
     ]
    },
    {
     "data": {
      "image/png": "[encoded data removed]",
      "text/plain": [
       "<Figure size 432x288 with 1 Axes>"
      ]
     },
     "metadata": {
      "needs_background": "light"
     },
     "output_type": "display_data"
    }
   ],
   "source": [
    "# Top 10 most important features\n",
    "dt_importance = sorted(dt_fit_mm_scl.feature_importances_, reverse=True)[-10:]\n",
    "\n",
    "for i,v in enumerate(dt_importance):\n",
    "    print('Feature: %0d, Score: %.5f' % (i,v))\n",
    "\n",
    "plt.bar([x for x in range(len(dt_importance))], dt_importance)\n",
    "plt.show()"
   ]
  },
  {
   "cell_type": "code",
   "execution_count": 81,
   "metadata": {},
   "outputs": [
    {
     "data": {
      "text/plain": [
       "{'subjectivity_score': 0.06111831308232892,\n",
       " 'nlikes': 0.01402649295835318,\n",
       " 'protect': 0.013184184251441364,\n",
       " 'help': 0.012865803628373692,\n",
       " 'infected': 0.011508287105684818,\n",
       " 'safe': 0.009374088894935299,\n",
       " 'please': 0.00832027302188848,\n",
       " 'death': 0.008313647504325852,\n",
       " 'hand': 0.007588242417386953,\n",
       " 'nreplies': 0.007010932702317728}"
      ]
     },
     "execution_count": 81,
     "metadata": {},
     "output_type": "execute_result"
    }
   ],
   "source": [
    "dt_features = dict(zip(features_df.columns, dt_fit_mm_scl.feature_importances_))\n",
    "dt_features = dict(sorted(dt_features.items(), key=lambda x: x[1], reverse=True)[:10])\n",
    "dt_features"
   ]
  },
  {
   "cell_type": "code",
   "execution_count": 84,
   "metadata": {},
   "outputs": [
    {
     "data": {
      "text/plain": [
       "dict_keys(['subjectivity_score', 'nlikes', 'protect', 'help', 'infected', 'safe', 'please', 'death', 'hand', 'nreplies'])"
      ]
     },
     "execution_count": 84,
     "metadata": {},
     "output_type": "execute_result"
    }
   ],
   "source": [
    "dt_features.keys()"
   ]
  },
  {
   "cell_type": "code",
   "execution_count": 87,
   "metadata": {},
   "outputs": [
    {
     "data": {
      "text/plain": [
       "<BarContainer object of 10 artists>"
      ]
     },
     "execution_count": 87,
     "metadata": {},
     "output_type": "execute_result"
    },
    {
     "data": {
      "image/png": "[encoded data removed]",
      "text/plain": [
       "<Figure size 432x288 with 1 Axes>"
      ]
     },
     "metadata": {},
     "output_type": "display_data"
    }
   ],
   "source": [
    "plt.bar(dt_features.keys(), dt_features.values())"
   ]
  },
  {
   "cell_type": "markdown",
   "metadata": {},
   "source": [
    "# Confusion Matrix"
   ]
  },
  {
   "cell_type": "code",
   "execution_count": 52,
   "metadata": {},
   "outputs": [],
   "source": [
    "def plot_confusion_matrix(cm, classes,\n",
    "                          normalize=False,\n",
    "                          title='Confusion matrix',\n",
    "                          cmap=plt.cm.Blues):\n",
    "    \"\"\"\n",
    "    This function prints and plots the confusion matrix.\n",
    "    Normalization can be applied by setting `normalize=True`.\n",
    "    \"\"\"\n",
    "    if normalize:\n",
    "        cm = cm.astype('float') / cm.sum(axis=1)[:, np.newaxis]\n",
    "        print(\"Normalized confusion matrix\")\n",
    "    else:\n",
    "        print('Confusion Matrix, without normalization')\n",
    "    print(cm)\n",
    "    plt.imshow(cm, interpolation='nearest', cmap=cmap)\n",
    "    plt.title(title, color='white')\n",
    "    plt.colorbar()\n",
    "    tick_marks = np.arange(len(classes))\n",
    "    plt.xticks(tick_marks, classes, color='white', rotation=45)\n",
    "    plt.yticks(tick_marks, classes, color='white')\n",
    "    fmt = '.2f' if normalize else 'd'\n",
    "    thresh = cm.max() / 2.\n",
    "    for i, j in itertools.product(range(cm.shape[0]), range(cm.shape[1])):\n",
    "        plt.text(j, i, format(cm[i, j], fmt), fontsize=15,\n",
    "                 horizontalalignment=\"center\", verticalalignment=\"center\",\n",
    "                 color=\"white\" if cm[i, j] > thresh else \"black\")\n",
    "    plt.tight_layout()\n",
    "    plt.ylabel('True Label', color='white')\n",
    "    plt.xlabel('Predicted Label', color='white')"
   ]
  },
  {
   "cell_type": "code",
   "execution_count": 88,
   "metadata": {
    "scrolled": true
   },
   "outputs": [
    {
     "name": "stdout",
     "output_type": "stream",
     "text": [
      "Normalized confusion matrix\n",
      "[[0.70889576 0.08239822 0.20870602]\n",
      " [0.14535307 0.72822131 0.12642562]\n",
      " [0.19625418 0.06832776 0.73541806]]\n"
     ]
    },
    {
     "data": {
      "image/png": "[encoded data removed]",
      "text/plain": [
       "<Figure size 432x288 with 2 Axes>"
      ]
     },
     "metadata": {},
     "output_type": "display_data"
    }
   ],
   "source": [
    "cm_dt_mm_scl = confusion_matrix(y_test, dt_preds_mm_scl)\n",
    "classes = ['Negative', 'Neutral', 'Positive']\n",
    "plot_confusion_matrix(cm_dt_mm_scl, classes, normalize=True,\n",
    "                      title='Decision Tree Confusion Matrix', cmap=plt.cm.Blues)\n",
    "\n",
    "# plt.savefig('Images/dt_conf_matrix.png', dpi = 100)"
   ]
  },
  {
   "cell_type": "code",
   "execution_count": 49,
   "metadata": {},
   "outputs": [],
   "source": [
    "from io import StringIO\n",
    "from sklearn.tree import export_graphviz\n",
    "from IPython.display import Image  \n",
    "import pydotplus"
   ]
  },
  {
   "cell_type": "code",
   "execution_count": null,
   "metadata": {},
   "outputs": [],
   "source": [
    "dot_data = StringIO()\n",
    "export_graphviz(dt_fit_mm_scl, out_file=dot_data,  \n",
    "                filled=True, rounded=True,\n",
    "                special_characters=True,\n",
    "                feature_names=feature_cols,\n",
    "                class_names=['negative','neutral', 'positive'])\n",
    "graph = pydotplus.graph_from_dot_data(dot_data.getvalue())  \n",
    "graph.write_png('decision_twee.png')\n",
    "Image(graph.create_png())"
   ]
  }
 ],
 "metadata": {
  "kernelspec": {
   "display_name": "Python 3",
   "language": "python",
   "name": "python3"
  },
  "language_info": {
   "codemirror_mode": {
    "name": "ipython",
    "version": 3
   },
   "file_extension": ".py",
   "mimetype": "text/x-python",
   "name": "python",
   "nbconvert_exporter": "python",
   "pygments_lexer": "ipython3",
   "version": "3.6.9"
  }
 },
 "nbformat": 4,
 "nbformat_minor": 4
}
