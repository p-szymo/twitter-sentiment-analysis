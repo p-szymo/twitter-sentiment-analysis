{
 "cells": [
  {
   "cell_type": "markdown",
   "metadata": {},
   "source": [
    "# #Masks Throughout COVID-19: A Twitter Sentiment Analysis\n",
    "\n",
    "## Modeling\n",
    "\n",
    "## Table of contents\n",
    "1. [Introduction](#Introduction)\n",
    "2. [The problem domain](#The-problem-domain)\n",
    "3. [Required libraries](#Required-libraries)\n",
    "4. [Step 1: Prepping the data](#Step-1:-Prepping-the-data)\n",
    "\n",
    "    - [Train-test split](#Train-test-split)\n",
    "    \n",
    "    \n",
    "5. [Step 2: Modeling](#Step-2:-Modeling)\n",
    "\n",
    "    - [Cross-validation](#Cross-validation)\n",
    "    - [Parameter tuning](#Parameter-tuning)\n",
    "    - [Train final model](#Train-final-model)\n",
    "\n",
    "\n",
    "6. [Step 3: Reproducibility](#Step-3:-Reproducibility)\n",
    "7. [Conclusions](#Conclusions)\n",
    "8. [Acknowledgements](#Acknowledgements)"
   ]
  },
  {
   "cell_type": "markdown",
   "metadata": {},
   "source": [
    "## Introduction\n",
    "\n",
    "[[go back to the top](##Masks-Throughout-COVID-19:-A-Twitter-Sentiment-Analysis)]\n",
    "\n",
    "After scraping Twitter with [Twint](https://github.com/twintproject/twint), [Eric Blander](https://github.com/EricB10) and [I](https://github.com/p-szymo) used natural language processing (NLP) techniques to analyze the sentiment of tweets relating to masks and coronavirus.\n",
    "\n",
    "Through text processing, exploratory data analysis and feature engineering, we looked for insights into how important words, topics, and subjectivity relate to sentiment.\n",
    "\n",
    "These steps, as well as answers to some initial questions about the data and the project, can be seen in the previous [notebook](03_nlp_features_eda_notebook.ipynb).\n",
    "\n",
    "In this notebook, we will create predictive models that classify tweets as *negative*, *neutral*, or *positive*. This will help us provide further insight and confirm our findings made during EDA.\n",
    "\n",
    "## The problem domain\n",
    "\n",
    "[[go back to the top](##Masks-Throughout-COVID-19:-A-Twitter-Sentiment-Analysis)]\n",
    "\n",
    "Within the U.S., the official narrative on masks within the early days of the pandemic was surprising, in that government bodies were claiming that masks were [ineffective](https://twitter.com/surgeon_general/status/1233725785283932160?lang=en) in stopping the spread. Eventually, there was a stark shift in this narrative toward the necessity of wearing masks to \"[protect each other](https://twitter.com/surgeon_general/status/1264166726230573057?lang=en)\". The difference in tweets about masks by the Surgeon General in February (which were overwhelmingly negative) and his tweets in May (overwhelmingly positive) paint an important yet unfortunate picture of how officials dropped the ball in the pandemic's early days.\n",
    "\n",
    "We began to wonder whether there was a similar shift within the country as a whole. How has the country's attitude toward masks changed since the early days of COVID-19, or has it remained relatively constant? We decided to look to Twitter to investigate if we could develop a clearer picture of the country's mood during these crucial and trying months.\n",
    "\n",
    "## Required libraries\n",
    "\n",
    "[[go back to the top](##Masks-Throughout-COVID-19:-A-Twitter-Sentiment-Analysis)]\n",
    "\n",
    "This notebook uses several Python packages that come standard with the Anaconda Python distribution. The primary libraries that we'll be using are:\n",
    "\n",
    "- **numpy**: Provides a fast numerical array structure and helper functions.\n",
    "- **pandas**: Provides a DataFrame structure to store data in memory and work with it easily and efficiently.\n",
    "- **scikit-learn**: The essential Machine Learning package in Python.\n",
    "- **matplotlib**: Basic plotting library in Python; most other Python plotting libraries are built on top of it.\n",
    "- **seaborn**: Advanced statistical plotting library.\n",
    "- **warnings**: A helpful package to ignore warnings that unnecessarily clutter the notebook.\n",
    "- **watermark**: A Jupyter Notebook extension for printing timestamps, version numbers, and hardware information.\n",
    "\n",
    "This notebook also uses some additional packages (some are only needed in the [Reproducibility](#Step-3:-Reproducibility) section) that you may have to install:\n",
    "\n",
    "- **nltk**: The essential natural language processing package.\n",
    "- **gensim**: A more specialized natural language processing package.\n",
    "- **textblob**: A supplementary package to enhance the nltk package.\n",
    "- **vaderSentiment**: A sentiment analysis tool based on human-compiled data.\n",
    "- **wordcloud**: A library focused on plotting word frequencies.\n",
    "- **pickle**: Package to save a file as a byte stream.\n",
    "- **gzip**: Package to compress/unpack files.\n",
    "\n",
    "Finally, included within the repository, and necessary to run this workbook, is:\n",
    "- **[functions](functions.py)**: Custom functions that we built for this project.\n",
    "\n",
    "Run the cell below to import all of the necessary packages."
   ]
  },
  {
   "cell_type": "code",
   "execution_count": 1,
   "metadata": {},
   "outputs": [],
   "source": [
    "# standard packages\n",
    "import numpy as np\n",
    "import pandas as pd\n",
    "\n",
    "# visualization packages\n",
    "import matplotlib.pyplot as plt\n",
    "%matplotlib inline\n",
    "import seaborn as sns; sns.set_style('ticks')\n",
    "\n",
    "# modeling packages\n",
    "from sklearn.model_selection import train_test_split\n",
    "from sklearn.naive_bayes import BernoulliNB, MultinomialNB\n",
    "from sklearn.tree import DecisionTreeClassifier\n",
    "from sklearn.metrics import accuracy_score, precision_score, \\\n",
    "    recall_score, f1_score, confusion_matrix, classification_report\n",
    "\n",
    "# ignore sklearn warnings\n",
    "# (code from: https://stackoverflow.com/questions/32612180/eliminating-warnings-from-scikit-learn)\n",
    "def warn(*args, **kwargs):\n",
    "    pass\n",
    "import warnings\n",
    "warnings.warn = warn\n",
    "warnings.filterwarnings('ignore')\n",
    "\n",
    "# saving/loading packages\n",
    "import gzip\n",
    "import pickle\n",
    "\n",
    "# custom functions and reload after editing\n",
    "from functions import *\n",
    "%load_ext autoreload\n",
    "%autoreload 2"
   ]
  },
  {
   "cell_type": "markdown",
   "metadata": {},
   "source": [
    "# Step 1: Prepping the data\n",
    "\n",
    "[[go back to the top](##Masks-Throughout-COVID-19:-A-Twitter-Sentiment-Analysis)]\n",
    "\n",
    "- Load target/features DataFrame and word vector DataFrame.\n",
    "- Check for any highly correlated variables.\n",
    "- Combine DataFrames.\n",
    "- Train-test split."
   ]
  },
  {
   "cell_type": "code",
   "execution_count": 2,
   "metadata": {},
   "outputs": [
    {
     "data": {
      "text/plain": [
       "(575949, 19)"
      ]
     },
     "execution_count": 2,
     "metadata": {},
     "output_type": "execute_result"
    }
   ],
   "source": [
    "# load dataframe\n",
    "with gzip.open('data/jan_thru_may_labeled_mask_tweets_model_prepped.pkl', 'rb') as hello:\n",
    "    df = pickle.load(hello)\n",
    "\n",
    "# confirm shape\n",
    "df.shape"
   ]
  },
  {
   "cell_type": "code",
   "execution_count": 3,
   "metadata": {},
   "outputs": [
    {
     "data": {
      "text/plain": [
       "Index(['sentiment', 'clean_tweet', 'lda_0', 'lda_1', 'lda_2', 'lda_3', 'lda_4',\n",
       "       'lda_5', 'lda_6', 'lda_7', 'lda_8', 'lda_9', 'subjectivity_score',\n",
       "       'february', 'march', 'april', 'may', 'replies', 'likes'],\n",
       "      dtype='object')"
      ]
     },
     "execution_count": 3,
     "metadata": {},
     "output_type": "execute_result"
    }
   ],
   "source": [
    "# confirm columns look correct\n",
    "df.columns"
   ]
  },
  {
   "cell_type": "code",
   "execution_count": 4,
   "metadata": {},
   "outputs": [
    {
     "data": {
      "text/plain": [
       "(575949, 3566)"
      ]
     },
     "execution_count": 4,
     "metadata": {},
     "output_type": "execute_result"
    }
   ],
   "source": [
    "# load word vector dataframe\n",
    "with gzip.open('data/data_vec.pkl', 'rb') as hello:\n",
    "    vectors_df = pickle.load(hello)\n",
    "\n",
    "# confirm shape\n",
    "vectors_df.shape"
   ]
  },
  {
   "cell_type": "markdown",
   "metadata": {},
   "source": [
    "- Check for any highly correlated continuous variables."
   ]
  },
  {
   "cell_type": "code",
   "execution_count": 5,
   "metadata": {},
   "outputs": [],
   "source": [
    "# columns to check\n",
    "cont_cols = [\n",
    "    'lda_0', 'lda_1', 'lda_2',\n",
    "    'lda_3', 'lda_4', 'lda_5', \n",
    "    'lda_6', 'lda_7', 'lda_8', \n",
    "    'lda_9', 'subjectivity_score'\n",
    "       ]"
   ]
  },
  {
   "cell_type": "code",
   "execution_count": 6,
   "metadata": {},
   "outputs": [
    {
     "data": {
      "image/png": "[encoded data removed]",
      "text/plain": [
       "<Figure size 864x720 with 2 Axes>"
      ]
     },
     "metadata": {
      "needs_background": "light"
     },
     "output_type": "display_data"
    }
   ],
   "source": [
    "# plot correlation matrix\n",
    "plt.figure(figsize=(12,10))\n",
    "sns.heatmap(df[cont_cols].corr(), annot=True);"
   ]
  },
  {
   "cell_type": "markdown",
   "metadata": {},
   "source": [
    "- Looks good! So we can go ahead and include all of these.\n",
    "- Next, we'll combine the DataFrames."
   ]
  },
  {
   "cell_type": "code",
   "execution_count": 7,
   "metadata": {},
   "outputs": [],
   "source": [
    "# list of columns to use as features\n",
    "feature_cols = [\n",
    "    'lda_0', 'lda_1', 'lda_2', 'lda_3', 'lda_4',\n",
    "    'lda_5', 'lda_6', 'lda_7', 'lda_8', 'lda_9', \n",
    "    'subjectivity_score', 'february', 'march', \n",
    "    'april', 'may', 'replies', 'likes'\n",
    "]"
   ]
  },
  {
   "cell_type": "code",
   "execution_count": 8,
   "metadata": {},
   "outputs": [
    {
     "name": "stdout",
     "output_type": "stream",
     "text": [
      "CPU times: user 50.9 s, sys: 22.3 s, total: 1min 13s\n",
      "Wall time: 1min 23s\n"
     ]
    },
    {
     "data": {
      "text/plain": [
       "((575949, 3583), (575949,))"
      ]
     },
     "execution_count": 8,
     "metadata": {},
     "output_type": "execute_result"
    }
   ],
   "source": [
    "%%time\n",
    "\n",
    "# combine features columns and word vectors dataframe\n",
    "X = pd.concat([df[feature_cols], vectors_df], axis=1)\n",
    "y = df['sentiment']\n",
    "\n",
    "X.shape, y.shape"
   ]
  },
  {
   "cell_type": "markdown",
   "metadata": {},
   "source": [
    "## Train-test-split\n",
    "\n",
    "[[go back to the top](##Masks-Throughout-COVID-19:-A-Twitter-Sentiment-Analysis)]\n",
    "\n",
    "- Use 70% of our data as a training set and 30% as a testing set.\n",
    "- Since we want to see if our engineered features improve our models beyond those using only word vectors, we'll also create separate vector only training and testing sets.\n",
    "- Our data is all be on the same scale (between 0 and 1), so no scaler is necessary."
   ]
  },
  {
   "cell_type": "code",
   "execution_count": 9,
   "metadata": {},
   "outputs": [
    {
     "name": "stdout",
     "output_type": "stream",
     "text": [
      "CPU times: user 43.7 s, sys: 54.6 s, total: 1min 38s\n",
      "Wall time: 2min 8s\n"
     ]
    },
    {
     "data": {
      "text/plain": [
       "((403164, 3583), (172785, 3583), (403164, 3566), (172785, 3566))"
      ]
     },
     "execution_count": 9,
     "metadata": {},
     "output_type": "execute_result"
    }
   ],
   "source": [
    "%%time\n",
    "\n",
    "# split into train and test data\n",
    "X_train, X_test, y_train, y_test = train_test_split(X, y, test_size=0.3, stratify=y, random_state=1)\n",
    "\n",
    "# create vectors-only training and test sets (removing the first 17 columns)\n",
    "X_train_vec = X_train.iloc[:,17:]\n",
    "X_test_vec = X_test.iloc[:,17:]\n",
    "\n",
    "X_train.shape, X_test.shape, X_train_vec.shape, X_test_vec.shape"
   ]
  },
  {
   "cell_type": "markdown",
   "metadata": {},
   "source": [
    "# Step 2: Modeling\n",
    "\n",
    "[[go back to the top](##Masks-Throughout-COVID-19:-A-Twitter-Sentiment-Analysis)]\n",
    "\n",
    "- We'll test out untuned Naive Bayes (Bernoulli and Multinomial) and Decision Tree models on both our vectors-only sets and vectors-plus-features sets.\n",
    "- Then we'll cross-validate.\n",
    "- Then we'll tune parameters.\n",
    "- Finally, we can train and save a final model.\n",
    "\n",
    "### Bernoulli Naive Bayes - vectors only"
   ]
  },
  {
   "cell_type": "code",
   "execution_count": 11,
   "metadata": {},
   "outputs": [
    {
     "name": "stdout",
     "output_type": "stream",
     "text": [
      "CPU times: user 2min 50s, sys: 1min 26s, total: 4min 17s\n",
      "Wall time: 4min 39s\n"
     ]
    }
   ],
   "source": [
    "%%time\n",
    "\n",
    "# create Bernoulli Naive Bayes object\n",
    "bnb_vec = BernoulliNB()\n",
    "\n",
    "# train model\n",
    "benaba_vec = bnb_vec.fit(X_train_vec, y_train)\n",
    "\n",
    "# predict on train and test data\n",
    "y_train_pred_bnb_vec = benaba_vec.predict(X_train_vec)\n",
    "y_test_pred_bnb_vec = benaba_vec.predict(X_test_vec)"
   ]
  },
  {
   "cell_type": "code",
   "execution_count": 12,
   "metadata": {},
   "outputs": [
    {
     "name": "stdout",
     "output_type": "stream",
     "text": [
      "-----TRAIN-----\n",
      "Accuracy: 0.7157608318203014\n",
      "F1 score: 0.7176953642255267\n",
      "Recall: 0.7157608318203014\n",
      "Precision: 0.7257952387590993\n",
      "\n",
      "-----TEST-----\n",
      "Accuracy: 0.7127528431287438\n",
      "F1 score: 0.7147691967836526\n",
      "Recall: 0.7127528431287438\n",
      "Precision: 0.7228616573206086\n",
      "\n",
      "----------------------------------------------------------------------------------------------------\n",
      "\n",
      "              precision    recall  f1-score   support\n",
      "\n",
      "    negative       0.74      0.70      0.72     66413\n",
      "    positive       0.59      0.76      0.66     34605\n",
      "     neutral       0.78      0.71      0.74     71767\n",
      "\n",
      "    accuracy                           0.71    172785\n",
      "   macro avg       0.70      0.72      0.71    172785\n",
      "weighted avg       0.72      0.71      0.71    172785\n",
      "\n",
      "\n",
      "----------------------------------------------------------------------------------------------------\n",
      "\n",
      "CONFUSION MATRIX:\n",
      "\n",
      "[[46191  9548 10674]\n",
      " [ 4383 26204  4018]\n",
      " [12124  8885 50758]]\n"
     ]
    }
   ],
   "source": [
    "# print statistics for train data\n",
    "print('-----TRAIN-----')\n",
    "print(f'Accuracy: {accuracy_score(y_train, y_train_pred_bnb_vec)}')\n",
    "print(f'F1 score: {f1_score(y_train, y_train_pred_bnb_vec, average=\"weighted\")}')\n",
    "print(f'Recall: {recall_score(y_train, y_train_pred_bnb_vec, average=\"weighted\")}')\n",
    "print(f'Precision: {precision_score(y_train, y_train_pred_bnb_vec, average=\"weighted\")}')\n",
    "      \n",
    "# print statistics for test data\n",
    "print('\\n-----TEST-----')\n",
    "print(f'Accuracy: {accuracy_score(y_test, y_test_pred_bnb_vec)}')\n",
    "print(f'F1 score: {f1_score(y_test, y_test_pred_bnb_vec, average=\"weighted\")}')\n",
    "print(f'Recall: {recall_score(y_test, y_test_pred_bnb_vec, average=\"weighted\")}')\n",
    "print(f'Precision: {precision_score(y_test, y_test_pred_bnb_vec, average=\"weighted\")}')\n",
    "\n",
    "\n",
    "print('\\n' + '-' * 100 + '\\n')\n",
    "\n",
    "\n",
    "# print out report for test data\n",
    "print(classification_report(y_test, y_test_pred_bnb_vec, target_names=y.unique()))\n",
    "\n",
    "\n",
    "print('\\n' + '-' * 100 + '\\n')\n",
    "\n",
    "\n",
    "# print out confusion matrix of test predictions\n",
    "print(\"CONFUSION MATRIX:\\n\")\n",
    "print(confusion_matrix(y_test, y_test_pred_bnb_vec))"
   ]
  },
  {
   "cell_type": "markdown",
   "metadata": {},
   "source": [
    "- Not bad! Very well fit and decent F1 scores, though it struggles a bit in identifying *positive* tweets.\n",
    "- Let's take a quick look at important features and confusion matrices.\n",
    "\n",
    "#### Feature importances"
   ]
  },
  {
   "cell_type": "code",
   "execution_count": 13,
   "metadata": {},
   "outputs": [
    {
     "name": "stdout",
     "output_type": "stream",
     "text": [
      "Positive tweets:\n",
      "#wholesale, okhand, #sale, smilingfacewith3, faceblowingakiss, #healthy, #safe, purpleheart, blueheart, twohearts\n",
      "\n",
      "Neutral tweets:\n",
      "#love, celebrate, smilingfacewithheart, smilingfacewith3, okhand, incompetent, incompetence, improve, violent, loss\n",
      "\n",
      "Negative tweets:\n",
      "iniran, assault, thief, incompetence, suicide, germany's, #fight, fails, threatens, declares\n"
     ]
    }
   ],
   "source": [
    "# sorted features per class by importance\n",
    "pos_class_prob_sorted = benaba_vec.feature_log_prob_[0, :].argsort()\n",
    "neu_class_prob_sorted = benaba_vec.feature_log_prob_[1, :].argsort()\n",
    "neg_class_prob_sorted = benaba_vec.feature_log_prob_[2, :].argsort()\n",
    "\n",
    "# printout of each class's top 10\n",
    "print(f'Positive tweets:\\n{\", \".join(list(np.take(X_train_vec.columns, pos_class_prob_sorted[:10])))}\\n')\n",
    "print(f'Neutral tweets:\\n{\", \".join(list(np.take(X_train_vec.columns, neu_class_prob_sorted[:10])))}\\n')\n",
    "print(f'Negative tweets:\\n{\", \".join(list(np.take(X_train_vec.columns, neg_class_prob_sorted[:10])))}')"
   ]
  },
  {
   "cell_type": "markdown",
   "metadata": {},
   "source": [
    "#### Confusion matrix"
   ]
  },
  {
   "cell_type": "code",
   "execution_count": 14,
   "metadata": {},
   "outputs": [
    {
     "data": {
      "image/png": "[encoded data removed]",
      "text/plain": [
       "<Figure size 432x288 with 2 Axes>"
      ]
     },
     "metadata": {
      "needs_background": "light"
     },
     "output_type": "display_data"
    }
   ],
   "source": [
    "cm_benaba = confusion_matrix(y_test, y_test_pred_bnb_vec)\n",
    "classes = ['Negative', 'Neutral', 'Positive']\n",
    "plot_confusion_matrix(cm_benaba, classes, normalize=True,\n",
    "                      title='Bernoulli NB Confusion Matrix - Vectors Only', cmap=plt.cm.Blues)"
   ]
  },
  {
   "cell_type": "code",
   "execution_count": 15,
   "metadata": {
    "scrolled": true
   },
   "outputs": [
    {
     "data": {
      "image/png": "[encoded data removed]",
      "text/plain": [
       "<Figure size 432x288 with 2 Axes>"
      ]
     },
     "metadata": {
      "needs_background": "light"
     },
     "output_type": "display_data"
    }
   ],
   "source": [
    "cm_benaba = confusion_matrix(y_test, y_test_pred_bnb_vec)\n",
    "classes = ['Negative', 'Neutral', 'Positive']\n",
    "plot_confusion_matrix(cm_benaba, classes, normalize=False,\n",
    "                      title='Bernoulli NB Confusion Matrix - Vectors Only', cmap=plt.cm.Blues)"
   ]
  },
  {
   "cell_type": "markdown",
   "metadata": {},
   "source": [
    "- It's interesting that hashtags and emojis are so important for *positive* and *neutral* tweets, but not *negative* tweets.\n",
    "- Could it be that tweets with these \"words\" tend to be more *positive*, or does the VADER sentiment analyzer weight them more positively? It's difficult to tell here, but maybe in the future, we can try removing hashtags and emojis and see how that affects our results.\n",
    "\n",
    "### Bernoulli Naive Bayes - numerical data + vectors"
   ]
  },
  {
   "cell_type": "code",
   "execution_count": 17,
   "metadata": {},
   "outputs": [
    {
     "name": "stdout",
     "output_type": "stream",
     "text": [
      "CPU times: user 3min 4s, sys: 1min 50s, total: 4min 55s\n",
      "Wall time: 5min 26s\n"
     ]
    }
   ],
   "source": [
    "%%time\n",
    "\n",
    "# create Bernoulli Naive Bayes object\n",
    "bnb_combo = BernoulliNB()\n",
    "\n",
    "# train model\n",
    "benaba_combo = bnb_combo.fit(X_train, y_train)\n",
    "\n",
    "# predict on corresponding train and test data\n",
    "y_pred_train_bnb_combo = benaba_combo.predict(X_train)\n",
    "y_pred_test_bnb_combo = benaba_combo.predict(X_test)"
   ]
  },
  {
   "cell_type": "code",
   "execution_count": 18,
   "metadata": {},
   "outputs": [
    {
     "name": "stdout",
     "output_type": "stream",
     "text": [
      "-----TRAIN-----\n",
      "Accuracy: 0.6254229048228512\n",
      "F1 score: 0.6347419976743295\n",
      "Recall: 0.6254229048228512\n",
      "Precision: 0.6747955930823033\n",
      "\n",
      "-----TEST-----\n",
      "Accuracy: 0.6233237838932778\n",
      "F1 score: 0.6325810019992972\n",
      "Recall: 0.6233237838932778\n",
      "Precision: 0.673085341549466\n",
      "\n",
      "----------------------------------------------------------------------------------------------------\n",
      "\n",
      "              precision    recall  f1-score   support\n",
      "\n",
      "    negative       0.72      0.59      0.65     66413\n",
      "    positive       0.42      0.75      0.54     34605\n",
      "     neutral       0.75      0.59      0.66     71767\n",
      "\n",
      "    accuracy                           0.62    172785\n",
      "   macro avg       0.63      0.64      0.62    172785\n",
      "weighted avg       0.67      0.62      0.63    172785\n",
      "\n",
      "\n",
      "----------------------------------------------------------------------------------------------------\n",
      "\n",
      "CONFUSION MATRIX:\n",
      "\n",
      "[[39274 17258  9881]\n",
      " [ 4331 25937  4337]\n",
      " [10754 18523 42490]]\n"
     ]
    }
   ],
   "source": [
    "# print statistics for train data\n",
    "print('-----TRAIN-----')\n",
    "print(f'Accuracy: {accuracy_score(y_train, y_pred_train_bnb_combo)}')\n",
    "print(f'F1 score: {f1_score(y_train, y_pred_train_bnb_combo, average=\"weighted\")}')\n",
    "print(f'Recall: {recall_score(y_train, y_pred_train_bnb_combo, average=\"weighted\")}')\n",
    "print(f'Precision: {precision_score(y_train, y_pred_train_bnb_combo, average=\"weighted\")}')\n",
    "      \n",
    "# print statistics for test data\n",
    "print('\\n-----TEST-----')\n",
    "print(f'Accuracy: {accuracy_score(y_test, y_pred_test_bnb_combo)}')\n",
    "print(f'F1 score: {f1_score(y_test, y_pred_test_bnb_combo, average=\"weighted\")}')\n",
    "print(f'Recall: {recall_score(y_test, y_pred_test_bnb_combo, average=\"weighted\")}')\n",
    "print(f'Precision: {precision_score(y_test, y_pred_test_bnb_combo, average=\"weighted\")}')\n",
    "\n",
    "\n",
    "print('\\n' + '-' * 100 + '\\n')\n",
    "\n",
    "\n",
    "# print out report for test data\n",
    "print(classification_report(y_test, y_pred_test_bnb_combo, target_names=y.unique()))\n",
    "\n",
    "\n",
    "print('\\n' + '-' * 100 + '\\n')\n",
    "\n",
    "\n",
    "# print out confusion matrix of test predictions\n",
    "print(\"CONFUSION MATRIX:\\n\")\n",
    "print(confusion_matrix(y_test, y_pred_test_bnb_combo))"
   ]
  },
  {
   "cell_type": "markdown",
   "metadata": {},
   "source": [
    "- Wow! Much worse, with similar problems identifying *positive* tweets.\n",
    "- A quick look at important features below shoes no major differences.\n",
    "- The confusion matrices show that *neutral* tweets are still the most effectively predicted, without any loss by using the other features.\n",
    "\n",
    "#### Feature importances"
   ]
  },
  {
   "cell_type": "code",
   "execution_count": 19,
   "metadata": {},
   "outputs": [
    {
     "name": "stdout",
     "output_type": "stream",
     "text": [
      "Index(['#wholesale', '#sale', 'okhand', 'faceblowingakiss', 'smilingfacewith3',\n",
      "       '#healthy', '#safe', 'purpleheart', 'smilingfacewithheart', '#love'],\n",
      "      dtype='object')\n",
      "Index(['improve', '#love', 'smilingfacewith3', 'smilingfacewithheart',\n",
      "       'celebrate', 'okhand', 'incompetence', 'incompetent', 'creative',\n",
      "       'illegal'],\n",
      "      dtype='object')\n",
      "Index(['iniran', 'assault', 'thief', 'suicide', 'incompetence', 'germany's',\n",
      "       'fails', '#fight', 'threatens', 'violence'],\n",
      "      dtype='object')\n"
     ]
    }
   ],
   "source": [
    "# sorted features per class by importance\n",
    "pos_class_prob_sorted = benaba_combo.feature_log_prob_[0, :].argsort()\n",
    "neu_class_prob_sorted = benaba_combo.feature_log_prob_[1, :].argsort()\n",
    "neg_class_prob_sorted = benaba_combo.feature_log_prob_[2, :].argsort()\n",
    "\n",
    "# printout of each class's top 10\n",
    "print(np.take(X.columns, pos_class_prob_sorted[:10]))\n",
    "print(np.take(X.columns, neu_class_prob_sorted[:10]))\n",
    "print(np.take(X.columns, neg_class_prob_sorted[:10]))"
   ]
  },
  {
   "cell_type": "markdown",
   "metadata": {},
   "source": [
    "#### Confusion matrix"
   ]
  },
  {
   "cell_type": "code",
   "execution_count": 20,
   "metadata": {},
   "outputs": [
    {
     "data": {
      "image/png": "[encoded data removed]",
      "text/plain": [
       "<Figure size 432x288 with 2 Axes>"
      ]
     },
     "metadata": {
      "needs_background": "light"
     },
     "output_type": "display_data"
    }
   ],
   "source": [
    "cm_benaba = confusion_matrix(y_test, y_pred_test_bnb_combo)\n",
    "classes = ['Negative', 'Neutral', 'Positive']\n",
    "plot_confusion_matrix(cm_benaba, classes, normalize=True,\n",
    "                      title='Bernoulli NB Confusion Matrix - Combo', cmap=plt.cm.Blues)"
   ]
  },
  {
   "cell_type": "code",
   "execution_count": 21,
   "metadata": {
    "scrolled": true
   },
   "outputs": [
    {
     "data": {
      "image/png": "[encoded data removed]",
      "text/plain": [
       "<Figure size 432x288 with 2 Axes>"
      ]
     },
     "metadata": {
      "needs_background": "light"
     },
     "output_type": "display_data"
    }
   ],
   "source": [
    "cm_benaba = confusion_matrix(y_test, y_pred_test_bnb_combo)\n",
    "classes = ['Negative', 'Neutral', 'Positive']\n",
    "plot_confusion_matrix(cm_benaba, classes, normalize=False,\n",
    "                      title='Bernoulli NB Confusion Matrix - Combo', cmap=plt.cm.Blues)"
   ]
  },
  {
   "cell_type": "markdown",
   "metadata": {},
   "source": [
    "### Multinomial Naive Bayes - vectors only"
   ]
  },
  {
   "cell_type": "code",
   "execution_count": 22,
   "metadata": {},
   "outputs": [
    {
     "name": "stdout",
     "output_type": "stream",
     "text": [
      "CPU times: user 27.2 s, sys: 16.8 s, total: 44 s\n",
      "Wall time: 35.1 s\n"
     ]
    }
   ],
   "source": [
    "%%time\n",
    "\n",
    "# create Multinomial Naive Bayes object\n",
    "mnb_vec = MultinomialNB()\n",
    "\n",
    "# train model\n",
    "munaba_vec = mnb_vec.fit(X_train_vec, y_train)\n",
    "\n",
    "# predict on corresponding train and test data\n",
    "y_train_pred_mnb_vec = munaba_vec.predict(X_train_vec)\n",
    "y_test_pred_mnb_vec = munaba_vec.predict(X_test_vec)"
   ]
  },
  {
   "cell_type": "code",
   "execution_count": 23,
   "metadata": {},
   "outputs": [
    {
     "name": "stdout",
     "output_type": "stream",
     "text": [
      "-----TRAIN-----\n",
      "Accuracy: 0.692006230715044\n",
      "F1 score: 0.6774887034891885\n",
      "Recall: 0.692006230715044\n",
      "Precision: 0.6965605413145178\n",
      "\n",
      "-----TEST-----\n",
      "Accuracy: 0.688057412391122\n",
      "F1 score: 0.6733511536832583\n",
      "Recall: 0.688057412391122\n",
      "Precision: 0.6918766959418424\n",
      "\n",
      "----------------------------------------------------------------------------------------------------\n",
      "\n",
      "              precision    recall  f1-score   support\n",
      "\n",
      "    negative       0.70      0.75      0.72     66413\n",
      "    positive       0.72      0.33      0.45     34605\n",
      "     neutral       0.67      0.80      0.73     71767\n",
      "\n",
      "    accuracy                           0.69    172785\n",
      "   macro avg       0.70      0.63      0.64    172785\n",
      "weighted avg       0.69      0.69      0.67    172785\n",
      "\n",
      "\n",
      "----------------------------------------------------------------------------------------------------\n",
      "\n",
      "CONFUSION MATRIX:\n",
      "\n",
      "[[49856  2441 14116]\n",
      " [ 9189 11531 13885]\n",
      " [12122  2146 57499]]\n"
     ]
    }
   ],
   "source": [
    "# print statistics for train data\n",
    "print('-----TRAIN-----')\n",
    "print(f'Accuracy: {accuracy_score(y_train, y_train_pred_mnb_vec)}')\n",
    "print(f'F1 score: {f1_score(y_train, y_train_pred_mnb_vec, average=\"weighted\")}')\n",
    "print(f'Recall: {recall_score(y_train, y_train_pred_mnb_vec, average=\"weighted\")}')\n",
    "print(f'Precision: {precision_score(y_train, y_train_pred_mnb_vec, average=\"weighted\")}')\n",
    "      \n",
    "# print statistics for test data\n",
    "print('\\n-----TEST-----')\n",
    "print(f'Accuracy: {accuracy_score(y_test, y_test_pred_mnb_vec)}')\n",
    "print(f'F1 score: {f1_score(y_test, y_test_pred_mnb_vec, average=\"weighted\")}')\n",
    "print(f'Recall: {recall_score(y_test, y_test_pred_mnb_vec, average=\"weighted\")}')\n",
    "print(f'Precision: {precision_score(y_test, y_test_pred_mnb_vec, average=\"weighted\")}')\n",
    "\n",
    "print('\\n' + '-' * 100 + '\\n')\n",
    "\n",
    "\n",
    "# print out report for test data\n",
    "print(classification_report(y_test, y_test_pred_mnb_vec, target_names=y.unique()))\n",
    "\n",
    "\n",
    "print('\\n' + '-' * 100 + '\\n')\n",
    "\n",
    "\n",
    "# print out confusion matrix of test predictions\n",
    "print(\"CONFUSION MATRIX:\\n\")\n",
    "print(confusion_matrix(y_test, y_test_pred_mnb_vec))"
   ]
  },
  {
   "cell_type": "markdown",
   "metadata": {},
   "source": [
    "- Similar results but worse across the board.\n",
    "- We'll see if our features improve it.\n",
    "\n",
    "### Multinomial Naive Bayes - numerical data + vectors"
   ]
  },
  {
   "cell_type": "code",
   "execution_count": 25,
   "metadata": {},
   "outputs": [
    {
     "name": "stdout",
     "output_type": "stream",
     "text": [
      "CPU times: user 43.7 s, sys: 42 s, total: 1min 25s\n",
      "Wall time: 1min 26s\n"
     ]
    }
   ],
   "source": [
    "%%time\n",
    "\n",
    "# create Multinomial Naive Bayes object\n",
    "mnb_combo = MultinomialNB()\n",
    "\n",
    "# train model\n",
    "munaba_combo = mnb_combo.fit(X_train, y_train)\n",
    "\n",
    "# predict on corresponding train and test data\n",
    "y_train_pred_mnb_combo = munaba_combo.predict(X_train)\n",
    "y_test_pred_mnb_combo = munaba_combo.predict(X_test)"
   ]
  },
  {
   "cell_type": "code",
   "execution_count": 26,
   "metadata": {},
   "outputs": [
    {
     "name": "stdout",
     "output_type": "stream",
     "text": [
      "-----TRAIN-----\n",
      "Accuracy: 0.6970711670684883\n",
      "F1 score: 0.6885496709793402\n",
      "Recall: 0.6970711670684883\n",
      "Precision: 0.6990540461976077\n",
      "\n",
      "-----TEST-----\n",
      "Accuracy: 0.6945741817866135\n",
      "F1 score: 0.6860664695731379\n",
      "Recall: 0.6945741817866135\n",
      "Precision: 0.6962108790803943\n",
      "\n",
      "----------------------------------------------------------------------------------------------------\n",
      "\n",
      "              precision    recall  f1-score   support\n",
      "\n",
      "    negative       0.70      0.74      0.72     66413\n",
      "    positive       0.71      0.42      0.52     34605\n",
      "     neutral       0.69      0.79      0.73     71767\n",
      "\n",
      "    accuracy                           0.69    172785\n",
      "   macro avg       0.70      0.65      0.66    172785\n",
      "weighted avg       0.70      0.69      0.69    172785\n",
      "\n",
      "\n",
      "----------------------------------------------------------------------------------------------------\n",
      "\n",
      "CONFUSION MATRIX:\n",
      "\n",
      "[[49245  3202 13966]\n",
      " [ 8829 14390 11386]\n",
      " [12748  2642 56377]]\n"
     ]
    }
   ],
   "source": [
    "# print statistics for train data\n",
    "print('-----TRAIN-----')\n",
    "print(f'Accuracy: {accuracy_score(y_train, y_train_pred_mnb_combo)}')\n",
    "print(f'F1 score: {f1_score(y_train, y_train_pred_mnb_combo, average=\"weighted\")}')\n",
    "print(f'Recall: {recall_score(y_train, y_train_pred_mnb_combo, average=\"weighted\")}')\n",
    "print(f'Precision: {precision_score(y_train, y_train_pred_mnb_combo, average=\"weighted\")}')\n",
    "      \n",
    "# print statistics for test data\n",
    "print('\\n-----TEST-----')\n",
    "print(f'Accuracy: {accuracy_score(y_test, y_test_pred_mnb_combo)}')\n",
    "print(f'F1 score: {f1_score(y_test, y_test_pred_mnb_combo, average=\"weighted\")}')\n",
    "print(f'Recall: {recall_score(y_test, y_test_pred_mnb_combo, average=\"weighted\")}')\n",
    "print(f'Precision: {precision_score(y_test, y_test_pred_mnb_combo, average=\"weighted\")}')\n",
    "\n",
    "print('\\n' + '-' * 100 + '\\n')\n",
    "\n",
    "\n",
    "# print out report for test data\n",
    "print(classification_report(y_test, y_test_pred_mnb_combo, target_names=y.unique()))\n",
    "\n",
    "\n",
    "print('\\n' + '-' * 100 + '\\n')\n",
    "\n",
    "\n",
    "# print out confusion matrix of test predictions\n",
    "print(\"CONFUSION MATRIX:\\n\")\n",
    "print(confusion_matrix(y_test, y_test_pred_mnb_combo))"
   ]
  },
  {
   "cell_type": "markdown",
   "metadata": {},
   "source": [
    "- Interesting! Actually a very slight increase here, but still not enough to beat our first model.\n",
    "\n",
    "### Decision Tree - untuned - vectors only\n",
    "\n",
    "⏰ NOTE: Next cell takes several minutes to run."
   ]
  },
  {
   "cell_type": "code",
   "execution_count": null,
   "metadata": {},
   "outputs": [],
   "source": [
    "%%time\n",
    "\n",
    "# basic decision tree with class weights balanced\n",
    "tree_vec = DecisionTreeClassifier(class_weight='balanced', random_state=99)\n",
    "\n",
    "# fit training data\n",
    "tree_vec.fit(X_train_vec, y_train)\n",
    "\n",
    "# predict on train and test data\n",
    "y_train_pred_tree_vec = tree_vec.predict(X_train_vec)\n",
    "y_test_pred_tree_vec = tree_vec.predict(X_test_vec)"
   ]
  },
  {
   "cell_type": "code",
   "execution_count": null,
   "metadata": {},
   "outputs": [],
   "source": [
    "# print statistics for train data\n",
    "print('-----TRAIN-----')\n",
    "print(f'Accuracy: {accuracy_score(y_train, y_train_pred_tree_vec)}')\n",
    "print(f'F1 score: {f1_score(y_train, y_train_pred_tree_vec, average=\"weighted\")}')\n",
    "print(f'Recall: {recall_score(y_train, y_train_pred_tree_vec, average=\"weighted\")}')\n",
    "print(f'Precision: {precision_score(y_train, y_train_pred_tree_vec, average=\"weighted\")}')\n",
    "      \n",
    "# print statistics for test data\n",
    "print('\\n-----TEST-----')\n",
    "print(f'Accuracy: {accuracy_score(y_test, y_test_pred_tree_vec)}')\n",
    "print(f'F1 score: {f1_score(y_test, y_test_pred_tree_vec, average=\"weighted\")}')\n",
    "print(f'Recall: {recall_score(y_test, y_test_pred_tree_vec, average=\"weighted\")}')\n",
    "print(f'Precision: {precision_score(y_test, y_test_pred_tree_vec, average=\"weighted\")}')\n",
    "\n",
    "print('\\n' + '-' * 100 + '\\n')\n",
    "\n",
    "\n",
    "# print out report for test data\n",
    "print(classification_report(y_test, y_test_pred_tree_vec, target_names=y.unique()))\n",
    "\n",
    "\n",
    "print('\\n' + '-' * 100 + '\\n')\n",
    "\n",
    "\n",
    "# print out confusion matrix of test predictions\n",
    "print(\"CONFUSION MATRIX:\\n\")\n",
    "print(confusion_matrix(y_test, y_test_pred_tree_vec))"
   ]
  },
  {
   "cell_type": "markdown",
   "metadata": {},
   "source": [
    "- COMMENT\n",
    "\n",
    "#### Feature importances"
   ]
  },
  {
   "cell_type": "code",
   "execution_count": null,
   "metadata": {},
   "outputs": [],
   "source": [
    "features_dict = dict(zip(X_train_vec.columns, tree_vec.feature_importances_))\n",
    "sorted_d = sorted(features_dict.items(), key=lambda x: x[1], reverse=True)[:10]\n",
    "sorted_d"
   ]
  },
  {
   "cell_type": "code",
   "execution_count": null,
   "metadata": {},
   "outputs": [],
   "source": [
    "# top 10 most important features\n",
    "tree_importance = [x[1] for x in sorted_d]\n",
    "\n",
    "# prettify the graph\n",
    "plt.figure(figsize=(12,8))\n",
    "plt.title('Decision Tree Feature Importances', fontsize=25, pad=15)\n",
    "plt.xlabel('Feature', fontsize=22, labelpad=15)\n",
    "plt.ylabel('Gini Importance', fontsize=22, labelpad=15)\n",
    "plt.ylim(bottom=0.006, top=0.016)\n",
    "plt.xticks(rotation=60, fontsize=20)\n",
    "plt.yticks(fontsize=20)\n",
    "\n",
    "# plot\n",
    "plt.bar([x[0] for x in sorted_d], tree_importance)\n",
    "\n",
    "# # prepare to display and save\n",
    "plt.tight_layout()\n",
    "# uncomment to save\n",
    "plt.savefig('charts/tree_vec_untuned_feature_importance.png', bbox_inches='tight', transparent=True)\n",
    "\n",
    "plt.show()"
   ]
  },
  {
   "cell_type": "markdown",
   "metadata": {},
   "source": [
    "#### Confusion matrix"
   ]
  },
  {
   "cell_type": "code",
   "execution_count": null,
   "metadata": {
    "scrolled": true
   },
   "outputs": [],
   "source": [
    "cm_tree = confusion_matrix(y_test, y_test_pred_tree_vec)\n",
    "classes = ['Negative', 'Neutral', 'Positive']\n",
    "plot_confusion_matrix(cm_tree, classes, normalize=True,\n",
    "                      title='Decision Tree Confusion Matrix - Vectors Only', cmap=plt.cm.Blues)\n",
    "\n",
    "# plt.savefig('Images/dt_conf_matrix.png', dpi = 100)"
   ]
  },
  {
   "cell_type": "code",
   "execution_count": null,
   "metadata": {},
   "outputs": [],
   "source": [
    "cm_tree = confusion_matrix(y_test, y_test_pred_tree_vec)\n",
    "classes = ['Negative', 'Neutral', 'Positive']\n",
    "plot_confusion_matrix(cm_tree, classes, normalize=False,\n",
    "                      title='Decision Tree Confusion Matrix - Vectors Only', cmap=plt.cm.Blues)\n",
    "\n",
    "# plt.savefig('Images/dt_conf_matrix.png', dpi = 100)"
   ]
  },
  {
   "cell_type": "markdown",
   "metadata": {},
   "source": [
    "### Decision Tree - untuned - numerical data and vectors"
   ]
  },
  {
   "cell_type": "code",
   "execution_count": null,
   "metadata": {},
   "outputs": [],
   "source": [
    "%%time\n",
    "\n",
    "# basic decision tree with class weights balanced\n",
    "tree_combo = DecisionTreeClassifier(class_weight='balanced', random_state=99)\n",
    "\n",
    "# fit training data\n",
    "tree_combo.fit(X_train, y_train)\n",
    "\n",
    "# predict on train and test data\n",
    "y_train_pred_tree_combo = tree_combo.predict(X_train)\n",
    "y_test_pred_tree_combo = tree_combo.predict(X_test)"
   ]
  },
  {
   "cell_type": "code",
   "execution_count": null,
   "metadata": {},
   "outputs": [],
   "source": [
    "# print statistics for train data\n",
    "print('-----TRAIN-----')\n",
    "print(f'Accuracy: {accuracy_score(y_train, y_train_pred_tree_combo)}')\n",
    "print(f'F1 score: {f1_score(y_train, y_train_pred_tree_combo, average=\"weighted\")}')\n",
    "print(f'Recall: {recall_score(y_train, y_train_pred_tree_combo, average=\"weighted\")}')\n",
    "print(f'Precision: {precision_score(y_train, y_train_pred_tree_combo, average=\"weighted\")}')\n",
    "      \n",
    "# print statistics for test data\n",
    "print('\\n-----TEST-----')\n",
    "print(f'Accuracy: {accuracy_score(y_test, y_test_pred_tree_combo)}')\n",
    "print(f'F1 score: {f1_score(y_test, y_test_pred_tree_combo, average=\"weighted\")}')\n",
    "print(f'Recall: {recall_score(y_test, y_test_pred_tree_combo, average=\"weighted\")}')\n",
    "print(f'Precision: {precision_score(y_test, y_test_pred_tree_combo, average=\"weighted\")}')\n",
    "\n",
    "print('\\n' + '-' * 100 + '\\n')\n",
    "\n",
    "\n",
    "# print out report for test data\n",
    "print(classification_report(y_test, y_test_pred_tree_combo, target_names=y.unique()))\n",
    "\n",
    "\n",
    "print('\\n' + '-' * 100 + '\\n')\n",
    "\n",
    "\n",
    "# print out confusion matrix of test predictions\n",
    "print(\"CONFUSION MATRIX:\\n\")\n",
    "print(confusion_matrix(y_test, y_test_pred_tree_combo))"
   ]
  },
  {
   "cell_type": "markdown",
   "metadata": {},
   "source": [
    "- COMMENT\n",
    "\n",
    "#### Feature importances"
   ]
  },
  {
   "cell_type": "code",
   "execution_count": null,
   "metadata": {},
   "outputs": [],
   "source": [
    "features_dict = dict(zip(X.columns, tree_combo.feature_importances_))\n",
    "sorted_d = sorted(features_dict.items(), key=lambda x: x[1], reverse=True)[:10]\n",
    "sorted_d"
   ]
  },
  {
   "cell_type": "code",
   "execution_count": null,
   "metadata": {},
   "outputs": [],
   "source": [
    "# top 10 most important features\n",
    "tree_importance = [x[1] for x in sorted_d]\n",
    "\n",
    "plt.bar([x[0] for x in sorted_d], tree_importance)\n",
    "plt.xticks(rotation=80)\n",
    "plt.show()"
   ]
  },
  {
   "cell_type": "markdown",
   "metadata": {},
   "source": [
    "#### Confusion Matrix"
   ]
  },
  {
   "cell_type": "code",
   "execution_count": null,
   "metadata": {
    "scrolled": true
   },
   "outputs": [],
   "source": [
    "cm_tree = confusion_matrix(y_test, y_pred_tree_combo)\n",
    "classes = ['Negative', 'Neutral', 'Positive']\n",
    "plot_confusion_matrix(cm_tree, classes, normalize=True,\n",
    "                      title='Decision Tree Confusion Matrix - Combo', cmap=plt.cm.Blues)\n",
    "\n",
    "# plt.savefig('Images/dt_conf_matrix.png', dpi = 100)"
   ]
  },
  {
   "cell_type": "code",
   "execution_count": null,
   "metadata": {
    "scrolled": true
   },
   "outputs": [],
   "source": [
    "cm_tree = confusion_matrix(y_test, y_pred_tree_combo)\n",
    "classes = ['Negative', 'Neutral', 'Positive']\n",
    "plot_confusion_matrix(cm_tree, classes, normalize=False,\n",
    "                      title='Decision Tree Confusion Matrix - Combo', cmap=plt.cm.Blues)\n",
    "\n",
    "# plt.savefig('Images/dt_conf_matrix.png', dpi = 100)"
   ]
  },
  {
   "cell_type": "code",
   "execution_count": null,
   "metadata": {},
   "outputs": [],
   "source": []
  },
  {
   "cell_type": "markdown",
   "metadata": {},
   "source": [
    "## Cross-validation\n",
    "\n",
    "[[go back to the top](##Masks-Throughout-COVID-19:-A-Twitter-Sentiment-Analysis)]\n",
    "\n",
    "- We'll see which of these generalizes the best on unseen data using cross-validation.\n",
    "- We'll use 10 stratified folds and F1 score as our metric for this step."
   ]
  },
  {
   "cell_type": "code",
   "execution_count": null,
   "metadata": {},
   "outputs": [],
   "source": [
    "%%time\n",
    "\n",
    "# instantiate baseline model\n",
    "bnb_classifier = BernoulliNB()\n",
    "\n",
    "# cross_val_score returns a list of the scores, which I can visualize\n",
    "# to get a reasonable estimate of our classifier's performance\n",
    "cv_scores = cross_val_score(bnb_classifier, X.iloc[:,17:], y, scoring='f1_weighted', cv=10, n_jobs=-1)\n",
    "plt.hist(cv_scores)\n",
    "plt.title(f'Average score: {np.mean(cv_scores)}')\n",
    "plt.show();"
   ]
  },
  {
   "cell_type": "markdown",
   "metadata": {},
   "source": [
    "# Decision Tree - Tuned - vectors only"
   ]
  },
  {
   "cell_type": "code",
   "execution_count": null,
   "metadata": {},
   "outputs": [],
   "source": [
    "%%time\n",
    "\n",
    "# basic decision tree with class weights balanced\n",
    "tree_vec_tuned = DecisionTreeClassifier(class_weight='balanced', max_depth=1000, random_state=99)\n",
    "\n",
    "# fit training data\n",
    "tree_vec_tuned.fit(X_train_vec, y_train)\n",
    "\n",
    "# predict on test data\n",
    "y_pred_tree_vec_tuned = tree_vec_tuned.predict(X_test_vec)\n",
    "\n",
    "# check accuracy\n",
    "print('Test Accuracy score: ', accuracy_score(y_test, y_pred_tree_vec_tuned))\n",
    "# check f1\n",
    "print('Test F1 score: ', f1_score(y_test, y_pred_tree_vec_tuned, average='weighted'))\n",
    "# check recall\n",
    "print('Test Recall score: ', recall_score(y_test, y_pred_tree_vec_tuned, average='weighted'))\n",
    "# check precision\n",
    "print('Test Precision score: ', precision_score(y_test, y_pred_tree_vec_tuned, average='weighted'))"
   ]
  },
  {
   "cell_type": "code",
   "execution_count": null,
   "metadata": {},
   "outputs": [],
   "source": [
    "features_dict = dict(zip(X_train_vec.columns, tree_vec_tuned.feature_importances_))\n",
    "sorted_d = sorted(features_dict.items(), key=lambda x: x[1], reverse=True)[:10]\n",
    "sorted_d"
   ]
  },
  {
   "cell_type": "code",
   "execution_count": null,
   "metadata": {},
   "outputs": [],
   "source": [
    "# top 10 most important features\n",
    "tree_importance = [x[1] for x in sorted_d]\n",
    "\n",
    "# prettify the graph\n",
    "plt.figure(figsize=(12,8))\n",
    "plt.title('Decision Tree Feature Importances', fontsize=25, pad=15)\n",
    "plt.xlabel('Feature', fontsize=22, labelpad=15)\n",
    "plt.ylabel('Gini Importance', fontsize=22, labelpad=15)\n",
    "plt.ylim(bottom=0.006, top=0.016)\n",
    "plt.xticks(rotation=60, fontsize=20)\n",
    "plt.yticks(fontsize=20)\n",
    "\n",
    "# plot\n",
    "plt.bar([x[0] for x in sorted_d], tree_importance)\n",
    "\n",
    "# # prepare to display and save\n",
    "plt.tight_layout()\n",
    "# uncomment to save\n",
    "plt.savefig('charts/tuned_tree_feature_importance.png', bbox_inches='tight', transparent=True)\n",
    "\n",
    "plt.show()"
   ]
  },
  {
   "cell_type": "markdown",
   "metadata": {},
   "source": [
    "### Confusion Matrix"
   ]
  },
  {
   "cell_type": "code",
   "execution_count": null,
   "metadata": {
    "scrolled": true
   },
   "outputs": [],
   "source": [
    "cm_tree = confusion_matrix(y_test, y_pred_tree_vec_tuned)\n",
    "classes = ['Negative', 'Neutral', 'Positive']\n",
    "plot_confusion_matrix(cm_tree, classes, normalize=True,\n",
    "                      title='Decision Tree Confusion Matrix', cmap=plt.cm.Blues)\n",
    "\n",
    "# plt.savefig('Images/dt_conf_matrix.png', dpi = 100)"
   ]
  },
  {
   "cell_type": "code",
   "execution_count": null,
   "metadata": {},
   "outputs": [],
   "source": [
    "cm_tree = confusion_matrix(y_test, y_pred_tree_vec_tuned)\n",
    "classes = ['Negative', 'Neutral', 'Positive']\n",
    "plot_confusion_matrix(cm_tree, classes, normalize=False,\n",
    "                      title='Decision Tree Confusion Matrix', cmap=plt.cm.Blues)\n",
    "\n",
    "# plt.savefig('Images/dt_conf_matrix.png', dpi = 100)"
   ]
  },
  {
   "cell_type": "code",
   "execution_count": null,
   "metadata": {},
   "outputs": [],
   "source": []
  },
  {
   "cell_type": "markdown",
   "metadata": {},
   "source": [
    "# Decision Tree - Tuned - vectors only - v2"
   ]
  },
  {
   "cell_type": "code",
   "execution_count": null,
   "metadata": {},
   "outputs": [],
   "source": [
    "%%time\n",
    "\n",
    "# basic decision tree with class weights balanced\n",
    "tree_vec_tuned2 = DecisionTreeClassifier(class_weight='balanced', max_depth=500, random_state=99)\n",
    "\n",
    "# fit training data\n",
    "tree_vec_tuned2.fit(X_train_vec, y_train)\n",
    "\n",
    "# predict on test data\n",
    "y_pred_tree_vec_tuned2 = tree_vec_tuned2.predict(X_test_vec)\n",
    "\n",
    "# check accuracy\n",
    "print('Test Accuracy score: ', accuracy_score(y_test, y_pred_tree_vec_tuned2))\n",
    "# check f1\n",
    "print('Test F1 score: ', f1_score(y_test, y_pred_tree_vec_tuned2, average='weighted'))\n",
    "# check recall\n",
    "print('Test Recall score: ', recall_score(y_test, y_pred_tree_vec_tuned2, average='weighted'))\n",
    "# check precision\n",
    "print('Test Precision score: ', precision_score(y_test, y_pred_tree_vec_tuned2, average='weighted'))"
   ]
  },
  {
   "cell_type": "code",
   "execution_count": null,
   "metadata": {},
   "outputs": [],
   "source": [
    "%%time\n",
    "\n",
    "# basic decision tree with class weights balanced\n",
    "tree_vec_tuned2 = DecisionTreeClassifier(class_weight='balanced', max_depth=500, random_state=99)\n",
    "\n",
    "# fit training data\n",
    "tree_vec_tuned2.fit(X_train_vec, y_train)\n",
    "\n",
    "# predict on test data\n",
    "y_pred_tree_vec_tuned2 = tree_vec_tuned2.predict(X_test_vec)\n",
    "\n",
    "# check accuracy\n",
    "print('Test Accuracy score: ', accuracy_score(y_test, y_pred_tree_vec_tuned2))\n",
    "# check f1\n",
    "print('Test F1 score: ', f1_score(y_test, y_pred_tree_vec_tuned2, average='weighted'))\n",
    "# check recall\n",
    "print('Test Recall score: ', recall_score(y_test, y_pred_tree_vec_tuned2, average='weighted'))\n",
    "# check precision\n",
    "print('Test Precision score: ', precision_score(y_test, y_pred_tree_vec_tuned2, average='weighted'))"
   ]
  },
  {
   "cell_type": "code",
   "execution_count": null,
   "metadata": {},
   "outputs": [],
   "source": [
    "ytrainpreds=tree_vec_tuned2.predict(X_train_mm_vec)\n",
    "accuracy_score(y_train, ytrainpreds)"
   ]
  },
  {
   "cell_type": "code",
   "execution_count": null,
   "metadata": {},
   "outputs": [],
   "source": [
    "features_dict = dict(zip(X_train_vec.columns, tree_vec_tuned.feature_importances_))\n",
    "sorted_d = sorted(features_dict.items(), key=lambda x: x[1], reverse=True)[:10]\n",
    "sorted_d"
   ]
  },
  {
   "cell_type": "code",
   "execution_count": null,
   "metadata": {},
   "outputs": [],
   "source": [
    "# top 10 most important features\n",
    "tree_importance = [x[1] for x in sorted_d]\n",
    "\n",
    "# prettify the graph\n",
    "plt.figure(figsize=(12,8))\n",
    "plt.title('Decision Tree Feature Importances', fontsize=25, pad=15)\n",
    "plt.xlabel('Feature', fontsize=22, labelpad=15)\n",
    "plt.ylabel('Gini Importance', fontsize=22, labelpad=15)\n",
    "plt.ylim(bottom=0.006, top=0.016)\n",
    "plt.xticks(rotation=60, fontsize=20)\n",
    "plt.yticks(fontsize=20)\n",
    "\n",
    "# plot\n",
    "plt.bar([x[0] for x in sorted_d], tree_importance)\n",
    "\n",
    "# # prepare to display and save\n",
    "plt.tight_layout()\n",
    "# uncomment to save\n",
    "plt.savefig('charts/tuned_tree_feature_importance.png', bbox_inches='tight', transparent=True)\n",
    "\n",
    "plt.show()"
   ]
  },
  {
   "cell_type": "markdown",
   "metadata": {},
   "source": [
    "### Confusion Matrix"
   ]
  },
  {
   "cell_type": "code",
   "execution_count": null,
   "metadata": {
    "scrolled": true
   },
   "outputs": [],
   "source": [
    "cm_tree = confusion_matrix(y_test, y_pred_tree_vec_tuned)\n",
    "classes = ['Negative', 'Neutral', 'Positive']\n",
    "plot_confusion_matrix(cm_tree, classes, normalize=True,\n",
    "                      title='Decision Tree Confusion Matrix', cmap=plt.cm.Blues)\n",
    "\n",
    "# plt.savefig('Images/dt_conf_matrix.png', dpi = 100)"
   ]
  },
  {
   "cell_type": "code",
   "execution_count": null,
   "metadata": {},
   "outputs": [],
   "source": [
    "cm_tree = confusion_matrix(y_test, y_pred_tree_vec_tuned)\n",
    "classes = ['Negative', 'Neutral', 'Positive']\n",
    "plot_confusion_matrix(cm_tree, classes, normalize=False,\n",
    "                      title='Decision Tree Confusion Matrix', cmap=plt.cm.Blues)\n",
    "\n",
    "# plt.savefig('Images/dt_conf_matrix.png', dpi = 100)"
   ]
  },
  {
   "cell_type": "markdown",
   "metadata": {},
   "source": [
    "# Step 3: Reproducibility\n",
    "\n",
    "[[go back to the top](##Masks-Throughout-COVID-19:-A-Twitter-Sentiment-Analysis)]\n",
    "\n",
    "- Below are the required packages and other information."
   ]
  },
  {
   "cell_type": "code",
   "execution_count": null,
   "metadata": {},
   "outputs": [],
   "source": [
    "%load_ext watermark\n",
    "%watermark -a 'Joshua Szymanowski' -nmv --packages numpy,pandas,geopandas,sklearn,matplotlib,seaborn,pickle,gzip,itertools"
   ]
  },
  {
   "cell_type": "code",
   "execution_count": null,
   "metadata": {},
   "outputs": [],
   "source": [
    "%%time\n",
    "\n",
    "# standard packages\n",
    "import numpy as np\n",
    "import pandas as pd\n",
    "\n",
    "# visualization packages\n",
    "import matplotlib.pyplot as plt\n",
    "%matplotlib inline\n",
    "import seaborn as sns; sns.set_style('ticks')\n",
    "\n",
    "# text processing/nlp packages\n",
    "from nltk.corpus import stopwords\n",
    "from nltk.probability import FreqDist\n",
    "from gensim.matutils import Sparse2Corpus\n",
    "from gensim.models import LdaModel\n",
    "from textblob import TextBlob\n",
    "from sklearn.feature_extraction.text import TfidfVectorizer\n",
    "from scipy.sparse import csr_matrix\n",
    "\n",
    "# modeling packages\n",
    "from sklearn.model_selection import train_test_split\n",
    "from sklearn.preprocessing import MinMaxScaler, StandardScaler\n",
    "from sklearn.naive_bayes import BernoulliNB, MultinomialNB\n",
    "from sklearn.tree import DecisionTreeClassifier\n",
    "from sklearn.metrics import accuracy_score, precision_score, \\\n",
    "    recall_score, f1_score, confusion_matrix, classification_report\n",
    "\n",
    "# saving/loading packages\n",
    "import gzip\n",
    "import pickle\n",
    "\n",
    "# custom functions\n",
    "from functions import *\n",
    "\n",
    "# load dataframe\n",
    "with gzip.open('data/jan_thru_may_labeled_mask_tweets.pkl', 'rb') as hello:\n",
    "    df = pickle.load(hello)\n",
    "    \n",
    "# create stop words list\n",
    "stop_words = stopwords.words('english')\n",
    "# add search term words and hashtags to the list\n",
    "stop_words += ['mask', '#mask',\n",
    "               'masks', '#masks',\n",
    "               'face', '#face',\n",
    "               'facemask', '#facemask',\n",
    "               'facemasks', '#facemasks', \n",
    "               'covid', '#covid',\n",
    "               'covid19', '#covid19',\n",
    "               'corona', '#corona',\n",
    "               'coronavirus', '#coronavirus',\n",
    "               'rona', '#rona',\n",
    "               'virus', '#virus',\n",
    "               'viral', '#viral',\n",
    "               'viruses', '#viruses']\n",
    "# very common/conflicting stop words discovered during eda\n",
    "eda_stop_words = ['wear', 'wearing', 'get', 'one', 'people',\n",
    "                  'us', 'like', 'n95', 'go', 'going', 'would', \n",
    "                  'surgical', 'via', 'also', 'use', 'even', 'know']\n",
    "stop_words += eda_stop_words\n",
    "\n",
    "# create column of processed text\n",
    "df['clean_tweet'] = df['tweet'].apply(lambda x: clean_text(x, stop_words))\n",
    "\n",
    "# custom pattern to tokenize words -- includes hashtags, words with numbers, and contractions\n",
    "pattern = \"(#?[a-zA-Z]+[0-9]*(?:'[a-z]+)?)\"\n",
    "\n",
    "# instantiate a document-term matrix using TfidfVectorizer\n",
    "# only take words with at least 250 appearances\n",
    "tf_idf = TfidfVectorizer(min_df=250, token_pattern=pattern)\n",
    "\n",
    "# run vectorizor\n",
    "data_tf_idf = tf_idf.fit_transform(df.clean_tweet)\n",
    "\n",
    "# convert to DataFrame\n",
    "data_vec = pd.DataFrame(data_tf_idf.toarray(), columns=tf_idf.get_feature_names())\n",
    "\n",
    "    #----IMPORTANT NOTE----#\n",
    "# Our corpus has changed slightly after updating the clean_text function, \n",
    "# so we will be loading the original corpus, in order to keep our original topics.\n",
    "# If you wish to create new topics, uncomment commented code below.\n",
    "\n",
    "# # one of the required inputs is a term-document matrix\n",
    "# tdm = data_vec.transpose()\n",
    "# tdm.head()\n",
    "\n",
    "# # put the term-document matrix into a new gensim format, \n",
    "# # from df ==> sparse matrix ==> gensim corpus\n",
    "# # NOTE: MAY TAKE A FEW MINUTES\n",
    "# sparse_counts = csr_matrix(tdm)\n",
    "# corpus = Sparse2Corpus(sparse_counts)\n",
    "\n",
    "# # gensim also requires dictionary of the all terms and their respective location in the term-document matrix\n",
    "# id2word = dict((v, k) for k, v in tf_idf.vocabulary_.items())\n",
    "\n",
    "# # create the topics\n",
    "# lda = LdaModel(\n",
    "#                 corpus=corpus, \n",
    "#                 id2word=id2word, \n",
    "#                 num_topics=10, \n",
    "#                 passes=100, \n",
    "#                 iterations=100\n",
    "#             )\n",
    "\n",
    "    #----IMPORTANT NOTE----#\n",
    "# If you chose to create your own corpus/topics, comment out these cells\n",
    "\n",
    "# load gensim corpus\n",
    "with gzip.open('data/gensim_corpus_orig.pkl', 'rb') as hello_c:\n",
    "    corpus = pickle.load(hello_c)\n",
    "# load vocab location dictionary\n",
    "with gzip.open('data/gensim_id2word_orig.pkl', 'rb') as hello_i:\n",
    "    id2word = pickle.load(hello_i)\n",
    "# load topics\n",
    "with gzip.open('models/lda_10topics_100passes.pkl', 'rb') as hello:\n",
    "    lda = pickle.load(hello)\n",
    "#-----------------------------#\n",
    "\n",
    "# corpus from LDA model\n",
    "corpus_transformed = lda[corpus]\n",
    "\n",
    "# convert lda tuples to dictionary\n",
    "lda_topics_dict = [dict(x) for x in corpus_transformed]\n",
    "\n",
    "# convert list of lda topic weights to dataframe\n",
    "lda_df = pd.DataFrame(lda_topics_dict)\n",
    "\n",
    "# rename columns\n",
    "lda_df.rename(columns={i: f'lda_{i}' for i in range(10)}, inplace=True)\n",
    "\n",
    "# replace NaNs with 0\n",
    "lda_df.fillna(0, inplace=True)\n",
    "\n",
    "# combine with original dataframe\n",
    "df = pd.concat([df, lda_df], axis=1)\n",
    "\n",
    "# create subjectivity score column\n",
    "df['subjectivity_score'] = df['tweet'].apply(lambda x: TextBlob(x).sentiment.subjectivity)\n",
    "\n",
    "# dummy months dataframe\n",
    "month_dummies = pd.get_dummies(df.month, drop_first=True)\n",
    "\n",
    "# reformat column names\n",
    "month_dummies.columns = ['february', 'march', 'april', 'may']\n",
    "\n",
    "# combine dataframe and dummy columns; drop columns\n",
    "df = pd.concat([df, month_dummies], axis=1).drop(columns='month')\n",
    "\n",
    "# convert to categorical dummy based on whether a tweet received likes or not\n",
    "df['likes'] = np.where(df.nlikes > 0, 1, 0)\n",
    "\n",
    "# convert to categorical dummy based on whether a tweet received likes or not\n",
    "df['replies'] = np.where(df.nreplies > 0, 1, 0)\n",
    "\n",
    "# list of columns to use as features\n",
    "feature_cols = [\n",
    "    'lda_0', 'lda_1', 'lda_2', 'lda_3', 'lda_4',\n",
    "    'lda_5', 'lda_6', 'lda_7', 'lda_8', 'lda_9', \n",
    "    'subjectivity_score', 'february', 'march', \n",
    "    'april', 'may', 'replies', 'likes'\n",
    "]\n",
    "\n",
    "# combine features columns and word vectors dataframe\n",
    "X = pd.concat([df[feature_cols], data_vec], axis=1)\n",
    "y = df['sentiment']\n",
    "\n",
    "# split into train and test data\n",
    "X_train, X_test, y_train, y_test = train_test_split(X, y, test_size=0.3, stratify=y, random_state=1)\n",
    "\n",
    "# create vectors-only training and test sets (removing the first 17 columns)\n",
    "X_train_vec = X_train.iloc[:,17:]\n",
    "X_test_vec = X_test.iloc[:,17:]\n",
    "\n",
    "# basic decision tree with class weights balanced\n",
    "dt_classifier = DecisionTreeClassifier(class_weight='balanced', random_state=99)\n",
    "\n",
    "# fit training data\n",
    "dt_classifier.fit(X_train_vec, y_train)\n",
    "\n",
    "# predict on test data\n",
    "y_preds = tree_vec.predict(X_test_vec)\n",
    "\n",
    "# print out report for test data\n",
    "print(classification_report(y_test, y_preds, target_names=y.unique()))"
   ]
  },
  {
   "cell_type": "code",
   "execution_count": null,
   "metadata": {},
   "outputs": [],
   "source": [
    "%%time\n",
    "\n",
    "# standard packages\n",
    "import numpy as np\n",
    "import pandas as pd\n",
    "\n",
    "# visualization packages\n",
    "import matplotlib.pyplot as plt\n",
    "%matplotlib inline\n",
    "import seaborn as sns; sns.set_style('ticks')\n",
    "\n",
    "# text processing/nlp packages\n",
    "from nltk.corpus import stopwords\n",
    "from nltk.probability import FreqDist\n",
    "from gensim.matutils import Sparse2Corpus\n",
    "from gensim.models import LdaModel\n",
    "from textblob import TextBlob\n",
    "from sklearn.feature_extraction.text import TfidfVectorizer\n",
    "from scipy.sparse import csr_matrix\n",
    "\n",
    "# modeling packages\n",
    "from sklearn.model_selection import train_test_split\n",
    "from sklearn.preprocessing import MinMaxScaler, StandardScaler\n",
    "from sklearn.naive_bayes import BernoulliNB, MultinomialNB\n",
    "from sklearn.tree import DecisionTreeClassifier\n",
    "from sklearn.metrics import accuracy_score, precision_score, \\\n",
    "    recall_score, f1_score, confusion_matrix, classification_report\n",
    "\n",
    "# saving/loading packages\n",
    "import gzip\n",
    "import pickle\n",
    "\n",
    "# custom functions\n",
    "from functions import *\n",
    "\n",
    "# load dataframe\n",
    "with gzip.open('data/jan_thru_may_labeled_mask_tweets.pkl', 'rb') as hello:\n",
    "    df = pickle.load(hello)\n",
    "    \n",
    "# create stop words list\n",
    "stop_words = stopwords.words('english')\n",
    "# add search term words and hashtags to the list\n",
    "stop_words += ['mask', '#mask',\n",
    "               'masks', '#masks',\n",
    "               'face', '#face',\n",
    "               'facemask', '#facemask',\n",
    "               'facemasks', '#facemasks', \n",
    "               'covid', '#covid',\n",
    "               'covid19', '#covid19',\n",
    "               'corona', '#corona',\n",
    "               'coronavirus', '#coronavirus',\n",
    "               'rona', '#rona',\n",
    "               'virus', '#virus',\n",
    "               'viral', '#viral',\n",
    "               'viruses', '#viruses']\n",
    "# very common/conflicting stop words discovered during eda\n",
    "eda_stop_words = ['wear', 'wearing', 'get', 'one', 'people',\n",
    "                  'us', 'like', 'n95', 'go', 'going', 'would', \n",
    "                  'surgical', 'via', 'also', 'use', 'even', 'know']\n",
    "stop_words += eda_stop_words\n",
    "\n",
    "# create column of processed text\n",
    "df['clean_tweet'] = df['tweet'].apply(lambda x: clean_text(x, stop_words))\n",
    "\n",
    "# custom pattern to tokenize words -- includes hashtags, words with numbers, and contractions\n",
    "pattern = \"(#?[a-zA-Z]+[0-9]*(?:'[a-z]+)?)\"\n",
    "\n",
    "# instantiate a document-term matrix using TfidfVectorizer\n",
    "# only take words with at least 250 appearances\n",
    "tf_idf = TfidfVectorizer(min_df=250, token_pattern=pattern)\n",
    "\n",
    "# run vectorizor\n",
    "data_tf_idf = tf_idf.fit_transform(df.clean_tweet)\n",
    "\n",
    "# convert to DataFrame\n",
    "X_final = pd.DataFrame(data_tf_idf.toarray(), columns=tf_idf.get_feature_names())\n",
    "\n",
    "# target variable\n",
    "y = df['sentiment']\n",
    "\n",
    "# split into train and test data\n",
    "X_train_vec, X_test_vec, y_train, y_test = train_test_split(X_final, y, test_size=0.3, stratify=y, random_state=1)\n",
    "\n",
    "# basic decision tree with class weights balanced\n",
    "dt_classifier = DecisionTreeClassifier(class_weight='balanced', random_state=99)\n",
    "\n",
    "# fit training data\n",
    "dt_classifier.fit(X_train_vec, y_train)\n",
    "\n",
    "# predict on test data\n",
    "y_preds = tree_vec.predict(X_test_vec)\n",
    "\n",
    "# print out report for test data\n",
    "print(classification_report(y_test, y_preds, target_names=y.unique()))"
   ]
  }
 ],
 "metadata": {
  "kernelspec": {
   "display_name": "Python 3",
   "language": "python",
   "name": "python3"
  },
  "language_info": {
   "codemirror_mode": {
    "name": "ipython",
    "version": 3
   },
   "file_extension": ".py",
   "mimetype": "text/x-python",
   "name": "python",
   "nbconvert_exporter": "python",
   "pygments_lexer": "ipython3",
   "version": "3.6.9"
  }
 },
 "nbformat": 4,
 "nbformat_minor": 4
}
