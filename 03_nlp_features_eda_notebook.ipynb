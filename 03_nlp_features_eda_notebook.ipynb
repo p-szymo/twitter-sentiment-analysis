{
 "cells": [
  {
   "cell_type": "markdown",
   "metadata": {},
   "source": [
    "# #Masks Throughout COVID-19: A Twitter Sentiment Analysis\n",
    "\n",
    "## Natural Language Processing, Feature Engineering, and Data Exploration\n",
    "\n",
    "## Table of contents\n",
    "1. [Introduction](#Introduction)\n",
    "2. [The problem domain](#The-problem-domain)\n",
    "3. [Required libraries](#Required-libraries)\n",
    "4. [Step 1: Answering the initial questions](#Step-1:-Answering-the-initial-questions)\n",
    "5. [Step 2: Checking the data](#Step-2:-Checking-the-data)\n",
    "6. [Step 3: Cleaning the data](#Step-3:-Cleaning-the-data)\n",
    "7. [Step 4: Exploratory analysis and feature engineering](#Step-4:-Exploratory-analysis-and-feature-engineering)\n",
    "\n",
    "    - [Dummy columns](#Dummy-columns)\n",
    "    - [Vanilla models interruption](#Vanilla-models-interruption)\n",
    "    - [Finishing dummy columns](#Finishing-dummy-columns)\n",
    "\n",
    "\n",
    "8. [Step 5: Modeling](#Step-5:-Modeling)\n",
    "\n",
    "    - [Cross-validation](#Cross-validation)\n",
    "    - [Parameter tuning](#Parameter-tuning)\n",
    "\n",
    "\n",
    "9. [Step 6: Reproducibility](#Step-6:-Reproducibility)\n",
    "10. [Conclusions](#Conclusions)\n",
    "11. [Acknowledgements](#Acknowledgements)"
   ]
  },
  {
   "cell_type": "markdown",
   "metadata": {},
   "source": [
    "## Introduction\n",
    "[[go back to the top](##Masks-Throughout-COVID-19:-A-Twitter-Sentiment-Analysis)]\n",
    "\n",
    "After scraping Twitter with [twint](https://github.com/twintproject/twint), we will use natural language processing (NLP) techniques to analyze the sentiment of tweets relating to masks and coronavirus.\n",
    "\n",
    "Through text processing, exploratory data analysis and feature engineering, we will look for insights into how important words, topics, and subjectivity relate to sentiment.\n",
    "\n",
    "We will then create predictive models that classify tweets as *negative*, *neutral*, or *positive*. This will help us provide further insight and confirm our findings during EDA. *(NOTE: To skip to the modeling notebook, click [here](04_modeling_notebook.ipynb))*.\n",
    "\n",
    "## The problem domain\n",
    "[[go back to the top](##Masks-Throughout-COVID-19:-A-Twitter-Sentiment-Analysis)]\n",
    "\n",
    "The New York City Department of Parks and Recreation would like to use its current data to bolster or modify their environmental policy agenda while also looking for ways to improve their data collection for the next tree census in 2025. There is also some interest within the department to compare data collected by professional staff (members of the Parks Department and TreesCount) with that collected by volunteers. \n",
    "\n",
    "The department has tasked me with the following:\n",
    "\n",
    "- Identify factors that contribute to the health status of a tree.\n",
    "- Create suggestions for improving future censuses.\n",
    "- Build a model that can predict a tree's health status, to verify the status determined by volunteers.\n",
    "\n",
    "## Required libraries\n",
    "[[go back to the top](##Masks-Throughout-COVID-19:-A-Twitter-Sentiment-Analysis)]\n",
    "\n",
    "This notebook uses several Python packages that come standard with the Anaconda Python distribution. The primary libraries that we'll be using are:\n",
    "\n",
    "- **NumPy**: Provides a fast numerical array structure and helper functions.\n",
    "- **pandas**: Provides a DataFrame structure to store data in memory and work with it easily and efficiently.\n",
    "- **scikit-learn**: The essential Machine Learning package in Python.\n",
    "- **SciPy**: The essential statistical analysis package in Python.\n",
    "- **matplotlib**: Basic plotting library in Python; most other Python plotting libraries are built on top of it.\n",
    "- **Seaborn**: Advanced statistical plotting library.\n",
    "- **warnings**: A helpful package to ignore warnings that unnecessarily clutter the notebook.\n",
    "- **watermark**: A Jupyter Notebook extension for printing timestamps, version numbers, and hardware information.\n",
    "\n",
    "This notebook also uses some additional packages that you may have to install:\n",
    "\n",
    "- **GeoPandas**: Provides a specialized GeoDataFrame structure to more easily analyze locational data.\n",
    "- **functions**: Custom functions that I built for this project (included by cloning this project's repo).\n",
    "\n",
    "Run the cell below to import all of the necessary libraries."
   ]
  },
  {
   "cell_type": "code",
   "execution_count": 1,
   "metadata": {},
   "outputs": [],
   "source": [
    "# standard libraries\n",
    "import numpy as np\n",
    "import pandas as pd\n",
    "\n",
    "# visualization libraries\n",
    "import matplotlib\n",
    "%matplotlib inline\n",
    "import seaborn as sns; sns.set_style('ticks')\n",
    "from wordcloud import WordCloud\n",
    "\n",
    "# text processing/nlp libraries\n",
    "from vaderSentiment.vaderSentiment import SentimentIntensityAnalyzer\n",
    "import nltk\n",
    "from nltk.corpus import stopwords\n",
    "from nltk.probability import FreqDist\n",
    "from textblob import TextBlob\n",
    "from sklearn.feature_extraction.text import CountVectorizer, TfidfVectorizer\n",
    "from gensim import matutils, models\n",
    "import scipy.sparse\n",
    "from collections import Counter\n",
    "\n",
    "# saving libraries\n",
    "import gzip\n",
    "import pickle\n",
    "\n",
    "# custom functions\n",
    "from functions import *\n",
    "\n",
    "# reload when functions is edited\n",
    "%load_ext autoreload\n",
    "%autoreload 2"
   ]
  },
  {
   "cell_type": "code",
   "execution_count": 2,
   "metadata": {},
   "outputs": [],
   "source": [
    "# increase column width to more easily read tweets\n",
    "pd.set_option('max_colwidth', 150)"
   ]
  },
  {
   "cell_type": "markdown",
   "metadata": {},
   "source": [
    "# Loading csv"
   ]
  },
  {
   "cell_type": "code",
   "execution_count": 3,
   "metadata": {},
   "outputs": [
    {
     "name": "stderr",
     "output_type": "stream",
     "text": [
      "/opt/anaconda3/envs/learn-env/lib/python3.6/site-packages/IPython/core/interactiveshell.py:3058: DtypeWarning: Columns (15) have mixed types.Specify dtype option on import or set low_memory=False.\n",
      "  interactivity=interactivity, compiler=compiler, result=result)\n"
     ]
    },
    {
     "data": {
      "text/plain": [
       "(575949, 17)"
      ]
     },
     "execution_count": 3,
     "metadata": {},
     "output_type": "execute_result"
    }
   ],
   "source": [
    "# load file\n",
    "df = pd.read_csv('data/jan_thru_may_5k_tweets_clean.csv', index_col=0)\n",
    "\n",
    "# convert date column to datetime\n",
    "df['date'] = df.date.astype('datetime64[ns]')\n",
    "\n",
    "# check shape\n",
    "df.shape"
   ]
  },
  {
   "cell_type": "code",
   "execution_count": 4,
   "metadata": {},
   "outputs": [
    {
     "data": {
      "text/html": [
       "<div>\n",
       "<style scoped>\n",
       "    .dataframe tbody tr th:only-of-type {\n",
       "        vertical-align: middle;\n",
       "    }\n",
       "\n",
       "    .dataframe tbody tr th {\n",
       "        vertical-align: top;\n",
       "    }\n",
       "\n",
       "    .dataframe thead th {\n",
       "        text-align: right;\n",
       "    }\n",
       "</style>\n",
       "<table border=\"1\" class=\"dataframe\">\n",
       "  <thead>\n",
       "    <tr style=\"text-align: right;\">\n",
       "      <th></th>\n",
       "      <th>id</th>\n",
       "      <th>conversation_id</th>\n",
       "      <th>created_at</th>\n",
       "      <th>date</th>\n",
       "      <th>tweet</th>\n",
       "      <th>hashtags</th>\n",
       "      <th>user_id</th>\n",
       "      <th>username</th>\n",
       "      <th>name</th>\n",
       "      <th>link</th>\n",
       "      <th>retweet</th>\n",
       "      <th>nlikes</th>\n",
       "      <th>nreplies</th>\n",
       "      <th>nretweets</th>\n",
       "      <th>quote_url</th>\n",
       "      <th>retweet_id</th>\n",
       "      <th>reply_to</th>\n",
       "    </tr>\n",
       "  </thead>\n",
       "  <tbody>\n",
       "    <tr>\n",
       "      <th>0</th>\n",
       "      <td>1.212523e+18</td>\n",
       "      <td>1.212523e+18</td>\n",
       "      <td>1.577923e+12</td>\n",
       "      <td>2020-01-01</td>\n",
       "      <td>https://mltshp.com/p/1HLSB  \"This is the death mask of Thomas, an unknown peasant that died in a river.\"</td>\n",
       "      <td>[]</td>\n",
       "      <td>8.431951e+17</td>\n",
       "      <td>Best_of_MLTSHP</td>\n",
       "      <td>MLTSHP</td>\n",
       "      <td>https://twitter.com/Best_of_MLTSHP/status/1212523477896294400</td>\n",
       "      <td>False</td>\n",
       "      <td>1.0</td>\n",
       "      <td>0.0</td>\n",
       "      <td>1.0</td>\n",
       "      <td>NaN</td>\n",
       "      <td>NaN</td>\n",
       "      <td>[{'user_id': '843195118924546048', 'username': 'Best_of_MLTSHP'}]</td>\n",
       "    </tr>\n",
       "    <tr>\n",
       "      <th>1</th>\n",
       "      <td>1.212518e+18</td>\n",
       "      <td>1.212518e+18</td>\n",
       "      <td>1.577922e+12</td>\n",
       "      <td>2020-01-01</td>\n",
       "      <td>Ready to heard this? Homemade hair treatment and ann cherry dead sea mud mask... Fucking putas swear they are more woman than me.... Bitch shut th...</td>\n",
       "      <td>[]</td>\n",
       "      <td>1.044739e+18</td>\n",
       "      <td>lumora_lu</td>\n",
       "      <td>MiLu</td>\n",
       "      <td>https://twitter.com/lumora_lu/status/1212518043353530368</td>\n",
       "      <td>False</td>\n",
       "      <td>0.0</td>\n",
       "      <td>0.0</td>\n",
       "      <td>0.0</td>\n",
       "      <td>NaN</td>\n",
       "      <td>NaN</td>\n",
       "      <td>[{'user_id': '1044738746913034241', 'username': 'lumora_lu'}]</td>\n",
       "    </tr>\n",
       "    <tr>\n",
       "      <th>2</th>\n",
       "      <td>1.212518e+18</td>\n",
       "      <td>1.212518e+18</td>\n",
       "      <td>1.577922e+12</td>\n",
       "      <td>2020-01-01</td>\n",
       "      <td>We all know what a joke #CCPChina is when it comes to epidemic outbreak,think of how they stayed silent about #SARS.\\nDear world,stay away from #H...</td>\n",
       "      <td>['#ccpchina', '#sars', '#hk', '#hkers']</td>\n",
       "      <td>9.630325e+17</td>\n",
       "      <td>odiecher</td>\n",
       "      <td>odiecher</td>\n",
       "      <td>https://twitter.com/odiecher/status/1212517557690748928</td>\n",
       "      <td>False</td>\n",
       "      <td>1.0</td>\n",
       "      <td>1.0</td>\n",
       "      <td>1.0</td>\n",
       "      <td>https://twitter.com/WBYeats1865/status/1212430526826479616</td>\n",
       "      <td>NaN</td>\n",
       "      <td>[{'user_id': '963032516759207936', 'username': 'odiecher'}]</td>\n",
       "    </tr>\n",
       "    <tr>\n",
       "      <th>3</th>\n",
       "      <td>1.212516e+18</td>\n",
       "      <td>1.200523e+18</td>\n",
       "      <td>1.577921e+12</td>\n",
       "      <td>2020-01-01</td>\n",
       "      <td>Thought death masks gave you the horn freak</td>\n",
       "      <td>[]</td>\n",
       "      <td>2.819219e+09</td>\n",
       "      <td>Hevysmoker</td>\n",
       "      <td>Ashley Collins</td>\n",
       "      <td>https://twitter.com/Hevysmoker/status/1212515585562726401</td>\n",
       "      <td>False</td>\n",
       "      <td>0.0</td>\n",
       "      <td>0.0</td>\n",
       "      <td>0.0</td>\n",
       "      <td>NaN</td>\n",
       "      <td>NaN</td>\n",
       "      <td>[{'user_id': '2819219369', 'username': 'Hevysmoker'}, {'user_id': '1107018506300780544', 'username': 'cutedeadguys3'}]</td>\n",
       "    </tr>\n",
       "    <tr>\n",
       "      <th>4</th>\n",
       "      <td>1.212510e+18</td>\n",
       "      <td>1.212391e+18</td>\n",
       "      <td>1.577920e+12</td>\n",
       "      <td>2020-01-01</td>\n",
       "      <td>Interesting cult of death mask he’s wearing, 🤔\\nelectronically posing as he did as of the CIA while Brennan was Chief. 🧐</td>\n",
       "      <td>[]</td>\n",
       "      <td>2.361956e+08</td>\n",
       "      <td>FaithR8s</td>\n",
       "      <td>❌Patriot Fan🇺🇸🗽☕️🎶❌</td>\n",
       "      <td>https://twitter.com/FaithR8s/status/1212510409858670593</td>\n",
       "      <td>False</td>\n",
       "      <td>1.0</td>\n",
       "      <td>0.0</td>\n",
       "      <td>1.0</td>\n",
       "      <td>NaN</td>\n",
       "      <td>NaN</td>\n",
       "      <td>[{'user_id': '236195607', 'username': 'FaithR8s'}, {'user_id': '14745988', 'username': 'ThunderB'}, {'user_id': '14138785', 'username': 'Telegraph...</td>\n",
       "    </tr>\n",
       "  </tbody>\n",
       "</table>\n",
       "</div>"
      ],
      "text/plain": [
       "             id  conversation_id    created_at       date  \\\n",
       "0  1.212523e+18     1.212523e+18  1.577923e+12 2020-01-01   \n",
       "1  1.212518e+18     1.212518e+18  1.577922e+12 2020-01-01   \n",
       "2  1.212518e+18     1.212518e+18  1.577922e+12 2020-01-01   \n",
       "3  1.212516e+18     1.200523e+18  1.577921e+12 2020-01-01   \n",
       "4  1.212510e+18     1.212391e+18  1.577920e+12 2020-01-01   \n",
       "\n",
       "                                                                                                                                                   tweet  \\\n",
       "0                                               https://mltshp.com/p/1HLSB  \"This is the death mask of Thomas, an unknown peasant that died in a river.\"   \n",
       "1  Ready to heard this? Homemade hair treatment and ann cherry dead sea mud mask... Fucking putas swear they are more woman than me.... Bitch shut th...   \n",
       "2  We all know what a joke #CCPChina is when it comes to epidemic outbreak,think of how they stayed silent about #SARS.\\nDear world,stay away from #H...   \n",
       "3                                                                                                            Thought death masks gave you the horn freak   \n",
       "4                               Interesting cult of death mask he’s wearing, 🤔\\nelectronically posing as he did as of the CIA while Brennan was Chief. 🧐   \n",
       "\n",
       "                                  hashtags       user_id        username  \\\n",
       "0                                       []  8.431951e+17  Best_of_MLTSHP   \n",
       "1                                       []  1.044739e+18       lumora_lu   \n",
       "2  ['#ccpchina', '#sars', '#hk', '#hkers']  9.630325e+17        odiecher   \n",
       "3                                       []  2.819219e+09      Hevysmoker   \n",
       "4                                       []  2.361956e+08        FaithR8s   \n",
       "\n",
       "                  name  \\\n",
       "0               MLTSHP   \n",
       "1                 MiLu   \n",
       "2             odiecher   \n",
       "3       Ashley Collins   \n",
       "4  ❌Patriot Fan🇺🇸🗽☕️🎶❌   \n",
       "\n",
       "                                                            link  retweet  \\\n",
       "0  https://twitter.com/Best_of_MLTSHP/status/1212523477896294400    False   \n",
       "1       https://twitter.com/lumora_lu/status/1212518043353530368    False   \n",
       "2        https://twitter.com/odiecher/status/1212517557690748928    False   \n",
       "3      https://twitter.com/Hevysmoker/status/1212515585562726401    False   \n",
       "4        https://twitter.com/FaithR8s/status/1212510409858670593    False   \n",
       "\n",
       "   nlikes  nreplies  nretweets  \\\n",
       "0     1.0       0.0        1.0   \n",
       "1     0.0       0.0        0.0   \n",
       "2     1.0       1.0        1.0   \n",
       "3     0.0       0.0        0.0   \n",
       "4     1.0       0.0        1.0   \n",
       "\n",
       "                                                    quote_url  retweet_id  \\\n",
       "0                                                         NaN         NaN   \n",
       "1                                                         NaN         NaN   \n",
       "2  https://twitter.com/WBYeats1865/status/1212430526826479616         NaN   \n",
       "3                                                         NaN         NaN   \n",
       "4                                                         NaN         NaN   \n",
       "\n",
       "                                                                                                                                                reply_to  \n",
       "0                                                                                      [{'user_id': '843195118924546048', 'username': 'Best_of_MLTSHP'}]  \n",
       "1                                                                                          [{'user_id': '1044738746913034241', 'username': 'lumora_lu'}]  \n",
       "2                                                                                            [{'user_id': '963032516759207936', 'username': 'odiecher'}]  \n",
       "3                                 [{'user_id': '2819219369', 'username': 'Hevysmoker'}, {'user_id': '1107018506300780544', 'username': 'cutedeadguys3'}]  \n",
       "4  [{'user_id': '236195607', 'username': 'FaithR8s'}, {'user_id': '14745988', 'username': 'ThunderB'}, {'user_id': '14138785', 'username': 'Telegraph...  "
      ]
     },
     "execution_count": 4,
     "metadata": {},
     "output_type": "execute_result"
    }
   ],
   "source": [
    "df.head()"
   ]
  },
  {
   "cell_type": "markdown",
   "metadata": {},
   "source": [
    "### Drop unnecessary columns"
   ]
  },
  {
   "cell_type": "code",
   "execution_count": 5,
   "metadata": {},
   "outputs": [
    {
     "data": {
      "text/plain": [
       "(575949, 7)"
      ]
     },
     "execution_count": 5,
     "metadata": {},
     "output_type": "execute_result"
    }
   ],
   "source": [
    "# drop columns we know we won't need for this project\n",
    "df.drop(columns=['id', 'conversation_id', 'created_at', 'hashtags', 'user_id', 'name',\n",
    "                 'retweet', 'quote_url', 'retweet_id', 'reply_to'], inplace=True)\n",
    "\n",
    "# check\n",
    "df.shape"
   ]
  },
  {
   "cell_type": "code",
   "execution_count": 6,
   "metadata": {},
   "outputs": [
    {
     "data": {
      "text/html": [
       "<div>\n",
       "<style scoped>\n",
       "    .dataframe tbody tr th:only-of-type {\n",
       "        vertical-align: middle;\n",
       "    }\n",
       "\n",
       "    .dataframe tbody tr th {\n",
       "        vertical-align: top;\n",
       "    }\n",
       "\n",
       "    .dataframe thead th {\n",
       "        text-align: right;\n",
       "    }\n",
       "</style>\n",
       "<table border=\"1\" class=\"dataframe\">\n",
       "  <thead>\n",
       "    <tr style=\"text-align: right;\">\n",
       "      <th></th>\n",
       "      <th>date</th>\n",
       "      <th>tweet</th>\n",
       "      <th>username</th>\n",
       "      <th>link</th>\n",
       "      <th>nlikes</th>\n",
       "      <th>nreplies</th>\n",
       "      <th>nretweets</th>\n",
       "    </tr>\n",
       "  </thead>\n",
       "  <tbody>\n",
       "    <tr>\n",
       "      <th>0</th>\n",
       "      <td>2020-01-01</td>\n",
       "      <td>https://mltshp.com/p/1HLSB  \"This is the death mask of Thomas, an unknown peasant that died in a river.\"</td>\n",
       "      <td>Best_of_MLTSHP</td>\n",
       "      <td>https://twitter.com/Best_of_MLTSHP/status/1212523477896294400</td>\n",
       "      <td>1.0</td>\n",
       "      <td>0.0</td>\n",
       "      <td>1.0</td>\n",
       "    </tr>\n",
       "    <tr>\n",
       "      <th>1</th>\n",
       "      <td>2020-01-01</td>\n",
       "      <td>Ready to heard this? Homemade hair treatment and ann cherry dead sea mud mask... Fucking putas swear they are more woman than me.... Bitch shut th...</td>\n",
       "      <td>lumora_lu</td>\n",
       "      <td>https://twitter.com/lumora_lu/status/1212518043353530368</td>\n",
       "      <td>0.0</td>\n",
       "      <td>0.0</td>\n",
       "      <td>0.0</td>\n",
       "    </tr>\n",
       "    <tr>\n",
       "      <th>2</th>\n",
       "      <td>2020-01-01</td>\n",
       "      <td>We all know what a joke #CCPChina is when it comes to epidemic outbreak,think of how they stayed silent about #SARS.\\nDear world,stay away from #H...</td>\n",
       "      <td>odiecher</td>\n",
       "      <td>https://twitter.com/odiecher/status/1212517557690748928</td>\n",
       "      <td>1.0</td>\n",
       "      <td>1.0</td>\n",
       "      <td>1.0</td>\n",
       "    </tr>\n",
       "    <tr>\n",
       "      <th>3</th>\n",
       "      <td>2020-01-01</td>\n",
       "      <td>Thought death masks gave you the horn freak</td>\n",
       "      <td>Hevysmoker</td>\n",
       "      <td>https://twitter.com/Hevysmoker/status/1212515585562726401</td>\n",
       "      <td>0.0</td>\n",
       "      <td>0.0</td>\n",
       "      <td>0.0</td>\n",
       "    </tr>\n",
       "    <tr>\n",
       "      <th>4</th>\n",
       "      <td>2020-01-01</td>\n",
       "      <td>Interesting cult of death mask he’s wearing, 🤔\\nelectronically posing as he did as of the CIA while Brennan was Chief. 🧐</td>\n",
       "      <td>FaithR8s</td>\n",
       "      <td>https://twitter.com/FaithR8s/status/1212510409858670593</td>\n",
       "      <td>1.0</td>\n",
       "      <td>0.0</td>\n",
       "      <td>1.0</td>\n",
       "    </tr>\n",
       "  </tbody>\n",
       "</table>\n",
       "</div>"
      ],
      "text/plain": [
       "        date  \\\n",
       "0 2020-01-01   \n",
       "1 2020-01-01   \n",
       "2 2020-01-01   \n",
       "3 2020-01-01   \n",
       "4 2020-01-01   \n",
       "\n",
       "                                                                                                                                                   tweet  \\\n",
       "0                                               https://mltshp.com/p/1HLSB  \"This is the death mask of Thomas, an unknown peasant that died in a river.\"   \n",
       "1  Ready to heard this? Homemade hair treatment and ann cherry dead sea mud mask... Fucking putas swear they are more woman than me.... Bitch shut th...   \n",
       "2  We all know what a joke #CCPChina is when it comes to epidemic outbreak,think of how they stayed silent about #SARS.\\nDear world,stay away from #H...   \n",
       "3                                                                                                            Thought death masks gave you the horn freak   \n",
       "4                               Interesting cult of death mask he’s wearing, 🤔\\nelectronically posing as he did as of the CIA while Brennan was Chief. 🧐   \n",
       "\n",
       "         username  \\\n",
       "0  Best_of_MLTSHP   \n",
       "1       lumora_lu   \n",
       "2        odiecher   \n",
       "3      Hevysmoker   \n",
       "4        FaithR8s   \n",
       "\n",
       "                                                            link  nlikes  \\\n",
       "0  https://twitter.com/Best_of_MLTSHP/status/1212523477896294400     1.0   \n",
       "1       https://twitter.com/lumora_lu/status/1212518043353530368     0.0   \n",
       "2        https://twitter.com/odiecher/status/1212517557690748928     1.0   \n",
       "3      https://twitter.com/Hevysmoker/status/1212515585562726401     0.0   \n",
       "4        https://twitter.com/FaithR8s/status/1212510409858670593     1.0   \n",
       "\n",
       "   nreplies  nretweets  \n",
       "0       0.0        1.0  \n",
       "1       0.0        0.0  \n",
       "2       1.0        1.0  \n",
       "3       0.0        0.0  \n",
       "4       0.0        1.0  "
      ]
     },
     "execution_count": 6,
     "metadata": {},
     "output_type": "execute_result"
    }
   ],
   "source": [
    "df.head()"
   ]
  },
  {
   "cell_type": "markdown",
   "metadata": {},
   "source": [
    "### Obtaining target variable"
   ]
  },
  {
   "cell_type": "code",
   "execution_count": 7,
   "metadata": {},
   "outputs": [],
   "source": [
    "# instantiate Vader sentiment analyzer\n",
    "analyzer = SentimentIntensityAnalyzer()\n",
    "\n",
    "# create a column with the compound polarity score\n",
    "df['sentiment_score'] = df['tweet'].apply(lambda x: analyzer.polarity_scores(x)['compound'])"
   ]
  },
  {
   "cell_type": "code",
   "execution_count": 8,
   "metadata": {},
   "outputs": [],
   "source": [
    "# turn this into our target classes: negative, positive, and neutral\n",
    "conditions = [\n",
    "    df.sentiment_score >= .05,\n",
    "    df.sentiment_score <= -.05\n",
    "]\n",
    "\n",
    "choices = [\n",
    "    'positive',\n",
    "    'negative'\n",
    "]\n",
    "\n",
    "df['sentiment'] = np.select(conditions, choices, 'neutral')"
   ]
  },
  {
   "cell_type": "markdown",
   "metadata": {},
   "source": [
    "- **Take a look at our target variable.**"
   ]
  },
  {
   "cell_type": "code",
   "execution_count": 9,
   "metadata": {},
   "outputs": [
    {
     "data": {
      "text/plain": [
       "positive    239222\n",
       "negative    221377\n",
       "neutral     115350\n",
       "Name: sentiment, dtype: int64"
      ]
     },
     "execution_count": 9,
     "metadata": {},
     "output_type": "execute_result"
    }
   ],
   "source": [
    "df.sentiment.value_counts()"
   ]
  },
  {
   "cell_type": "code",
   "execution_count": 10,
   "metadata": {},
   "outputs": [
    {
     "data": {
      "text/plain": [
       "positive    0.415353\n",
       "negative    0.384369\n",
       "neutral     0.200278\n",
       "Name: sentiment, dtype: float64"
      ]
     },
     "execution_count": 10,
     "metadata": {},
     "output_type": "execute_result"
    }
   ],
   "source": [
    "df.sentiment.value_counts(normalize=True)"
   ]
  },
  {
   "cell_type": "code",
   "execution_count": 11,
   "metadata": {},
   "outputs": [],
   "source": [
    "# uncomment to save\n",
    "df.to_csv('data/5k_jan_thru_may_tweets.csv')"
   ]
  },
  {
   "cell_type": "markdown",
   "metadata": {},
   "source": [
    "## Load file with sentiment"
   ]
  },
  {
   "cell_type": "code",
   "execution_count": 12,
   "metadata": {
    "scrolled": false
   },
   "outputs": [
    {
     "data": {
      "text/plain": [
       "(575949, 9)"
      ]
     },
     "execution_count": 12,
     "metadata": {},
     "output_type": "execute_result"
    }
   ],
   "source": [
    "# uncomment to load\n",
    "df = pd.read_csv('data/5k_jan_thru_may_tweets.csv', index_col=0)\n",
    "\n",
    "# convert date column to datetime\n",
    "df['date'] = df.date.astype('datetime64[ns]')\n",
    "\n",
    "df.shape"
   ]
  },
  {
   "cell_type": "markdown",
   "metadata": {},
   "source": [
    "## Cleaning text\n",
    "- **Start with NLTK stopwords and add our own subject-specific ones.**"
   ]
  },
  {
   "cell_type": "code",
   "execution_count": 13,
   "metadata": {},
   "outputs": [],
   "source": [
    "# start with NLTK stop words\n",
    "stop_words = stopwords.words('english')\n",
    "\n",
    "# add search term words and hashtags to the list\n",
    "stop_words += ['mask', '#mask',\n",
    "               'masks', '#masks',\n",
    "               'face', '#face',\n",
    "               'facemask', '#facemask',\n",
    "               'facemasks', '#facemasks', \n",
    "               'covid', '#covid',\n",
    "               'covid19', '#covid19',\n",
    "               'corona', '#corona',\n",
    "               'coronavirus', '#coronavirus',\n",
    "               'rona', '#rona',\n",
    "               'virus', '#virus',\n",
    "               'viral', '#viral',\n",
    "               'viruses', '#viruses']\n",
    "\n",
    "# very common/conflicting stop words discovered during eda\n",
    "eda_stop_words = ['wear', 'wearing', 'get', 'one', 'people', 'us', 'like', 'n95',\n",
    "                  'go', 'going', 'would', 'surgical', 'via', 'also', 'use', 'even', 'know']\n",
    "\n",
    "stop_words += eda_stop_words"
   ]
  },
  {
   "cell_type": "markdown",
   "metadata": {},
   "source": [
    "### Create clean tweet column with our clean_text function\n",
    "- **Also save as a series, because that'll be helpful later on.**"
   ]
  },
  {
   "cell_type": "code",
   "execution_count": 14,
   "metadata": {},
   "outputs": [
    {
     "name": "stdout",
     "output_type": "stream",
     "text": [
      "CPU times: user 6min 39s, sys: 1.46 s, total: 6min 41s\n",
      "Wall time: 6min 43s\n"
     ]
    },
    {
     "data": {
      "text/plain": [
       "0                                                                                                                  death thomas unknown peasant died river\n",
       "1                                                    ready heard homemade hair treatment ann cherry dead sea mud fucking putas swear woman bitch shut fuck\n",
       "2    joke #ccpchina come epidemic outbreakthink stayed silent #sars dear worldstay away #hk im sure infected amongst already dear fellow #hkers facewit...\n",
       "3                                                                                                                            thought death gave horn freak\n",
       "4                                                              interesting cult death thinkingface electronically posing cia brennan chief facewithmonocle\n",
       "Name: clean_tweet, dtype: object"
      ]
     },
     "execution_count": 14,
     "metadata": {},
     "output_type": "execute_result"
    }
   ],
   "source": [
    "%time df['clean_tweet'] = df['tweet'].apply(lambda x: clean_text(x, stop_words))\n",
    "\n",
    "# pull the clean tweet column\n",
    "clean_tweets = df['clean_tweet']\n",
    "clean_tweets.head()"
   ]
  },
  {
   "cell_type": "code",
   "execution_count": 15,
   "metadata": {},
   "outputs": [
    {
     "data": {
      "text/plain": [
       "date               0\n",
       "tweet              0\n",
       "username           0\n",
       "link               0\n",
       "nlikes             0\n",
       "nreplies           0\n",
       "nretweets          0\n",
       "sentiment_score    0\n",
       "sentiment          0\n",
       "clean_tweet        0\n",
       "dtype: int64"
      ]
     },
     "execution_count": 15,
     "metadata": {},
     "output_type": "execute_result"
    }
   ],
   "source": [
    "df.isna().sum()"
   ]
  },
  {
   "cell_type": "markdown",
   "metadata": {},
   "source": [
    "##### Save to pickle"
   ]
  },
  {
   "cell_type": "code",
   "execution_count": 17,
   "metadata": {},
   "outputs": [],
   "source": [
    "# # uncomment to save\n",
    "# clean_tweets.to_pickle('data/clean_tweets.pkl')\n",
    "\n",
    "# # uncomment to load\n",
    "# clean_tweets = pd.read_pickle('data/clean_tweets.pkl')"
   ]
  },
  {
   "cell_type": "markdown",
   "metadata": {},
   "source": [
    "## Sparse vector matrix\n",
    "- **Our main features, which we will also use for LDA topic modeling.**"
   ]
  },
  {
   "cell_type": "code",
   "execution_count": null,
   "metadata": {},
   "outputs": [],
   "source": [
    "# regex pattern to vectorize by\n",
    "pattern = \"(#?[a-zA-Z]+[0-9]*(?:'[a-zx]+)?)\""
   ]
  },
  {
   "cell_type": "code",
   "execution_count": null,
   "metadata": {},
   "outputs": [],
   "source": [
    "# create a document-term matrix using TfidfVectorizer, using custom regex tokenizing pattern\n",
    "# only take words with at least 250 appearances\n",
    "tf_idf = TfidfVectorizer(min_df=250, token_pattern=pattern)\n",
    "%time data_tf_idf = tf_idf.fit_transform(clean_tweets)\n",
    "\n",
    "# save as a DataFrame\n",
    "data_vec = pd.DataFrame(data_tf_idf.toarray(), columns=tf_idf.get_feature_names())\n",
    "data_vec.head()"
   ]
  },
  {
   "cell_type": "code",
   "execution_count": null,
   "metadata": {},
   "outputs": [],
   "source": [
    "data_vec.shape"
   ]
  },
  {
   "cell_type": "code",
   "execution_count": 20,
   "metadata": {},
   "outputs": [],
   "source": [
    "# # uncomment to save\n",
    "# with gzip.open('data/data_vec.pkl', 'wb') as goodbye:\n",
    "#     pickle.dump(data_vec, goodbye, protocol=pickle.HIGHEST_PROTOCOL)\n",
    "\n",
    "# uncomment to load\n",
    "with gzip.open('data/data_vec.pkl', 'rb') as hello:\n",
    "    data_vec = pickle.load(hello)"
   ]
  },
  {
   "cell_type": "markdown",
   "metadata": {},
   "source": [
    "## LDA topic modeling\n",
    "#### PLEASE NOTE: These are not our original topics. Unfortunately we lost those (except for a screenshot, which resides in our Images folder); we used those original topics for our presentation."
   ]
  },
  {
   "cell_type": "code",
   "execution_count": 21,
   "metadata": {},
   "outputs": [
    {
     "ename": "NameError",
     "evalue": "name 'tf_idf' is not defined",
     "output_type": "error",
     "traceback": [
      "\u001b[0;31m---------------------------------------------------------------------------\u001b[0m",
      "\u001b[0;31mNameError\u001b[0m                                 Traceback (most recent call last)",
      "\u001b[0;32m<timed exec>\u001b[0m in \u001b[0;36m<module>\u001b[0;34m\u001b[0m\n",
      "\u001b[0;31mNameError\u001b[0m: name 'tf_idf' is not defined"
     ]
    }
   ],
   "source": [
    "%%time\n",
    "\n",
    "# one of the required inputs is a term-document matrix\n",
    "tdm = data_vec.transpose()\n",
    "tdm.head()\n",
    "\n",
    "# put the term-document matrix into a new gensim format, from df --> sparse matrix --> gensim corpus\n",
    "# TAKES A FEW MINUTES\n",
    "sparse_counts = scipy.sparse.csr_matrix(tdm)\n",
    "corpus = matutils.Sparse2Corpus(sparse_counts)\n",
    "\n",
    "# gensim also requires dictionary of the all terms and their respective location in the term-document matrix\n",
    "id2word = dict((v, k) for k, v in tf_idf.vocabulary_.items())"
   ]
  },
  {
   "cell_type": "markdown",
   "metadata": {},
   "source": [
    "###### Pickle the gensim corpus and vocab locations"
   ]
  },
  {
   "cell_type": "code",
   "execution_count": null,
   "metadata": {},
   "outputs": [],
   "source": [
    "# # uncomment to save\n",
    "# with gzip.open('data/gensim_corpus.pkl', 'wb') as c:\n",
    "#     pickle.dump(corpus, c, protocol=pickle.HIGHEST_PROTOCOL)\n",
    "    \n",
    "# with gzip.open('data/gensim_id2word.pkl', 'wb') as i:\n",
    "#     pickle.dump(id2word, i, protocol=pickle.HIGHEST_PROTOCOL)"
   ]
  },
  {
   "cell_type": "code",
   "execution_count": null,
   "metadata": {},
   "outputs": [],
   "source": [
    "# # uncomment to load\n",
    "# with gzip.open('gensim_corpus.pkl', 'rb') as c:\n",
    "#     corpus = pickle.load(c)\n",
    "    \n",
    "# with gzip.open('gensim_id2word.pkl', 'rb') as i:\n",
    "#     id2word = pickle.load(i)"
   ]
  },
  {
   "cell_type": "markdown",
   "metadata": {},
   "source": [
    "- **Use corpus and dictionary of term locations.**\n",
    "- **Set number of topics and passes to create an LDA model.**\n",
    "    - **NOTE: Uncomment next cell to run. Takes a few hours!**"
   ]
  },
  {
   "cell_type": "code",
   "execution_count": 53,
   "metadata": {},
   "outputs": [
    {
     "data": {
      "text/plain": [
       "[(0,\n",
       "  '0.009*\"protest\" + 0.007*\"facewithtearsofjoy\" + 0.007*\"think\" + 0.007*\"still\" + 0.006*\"want\" + 0.006*\"riot\" + 0.006*\"see\" + 0.006*\"got\" + 0.005*\"make\" + 0.005*\"without\"'),\n",
       " (1,\n",
       "  '0.013*\"facewithmedicalmask\" + 0.011*\"county\" + 0.011*\"weekend\" + 0.010*\"design\" + 0.010*\"#health\" + 0.010*\"thinkingface\" + 0.010*\"shirt\" + 0.009*\"#sale\" + 0.009*\"period\" + 0.009*\"forgot\"'),\n",
       " (2,\n",
       "  '0.015*\"business\" + 0.011*\"healthy\" + 0.010*\"#socialdistancing\" + 0.009*\"need\" + 0.009*\"taking\" + 0.009*\"biden\" + 0.008*\"care\" + 0.008*\"person\" + 0.008*\"u\" + 0.007*\"hide\"'),\n",
       " (3,\n",
       "  '0.014*\"spread\" + 0.013*\"protect\" + 0.011*\"transmission\" + 0.011*\"distance\" + 0.010*\"safe\" + 0.010*\"cloth\" + 0.010*\"stay\" + 0.010*\"others\" + 0.009*\"prevent\" + 0.008*\"help\"'),\n",
       " (4,\n",
       "  '0.022*\"pandemic\" + 0.013*\"fauci\" + 0.012*\"reduce\" + 0.011*\"wave\" + 0.010*\"guidance\" + 0.010*\"healthy\" + 0.010*\"#staysafe\" + 0.009*\"spread\" + 0.009*\"rule\" + 0.008*\"patient\"'),\n",
       " (5,\n",
       "  '0.013*\"lockdown\" + 0.009*\"mandatory\" + 0.009*\"#pandemic\" + 0.009*\"worker\" + 0.008*\"protester\" + 0.007*\"testing\" + 0.007*\"#quarantine\" + 0.007*\"public\" + 0.007*\"governor\" + 0.007*\"cdc\"'),\n",
       " (6,\n",
       "  '0.038*\"study\" + 0.020*\"spike\" + 0.016*\"pandemic\" + 0.015*\"rioter\" + 0.014*\"new\" + 0.014*\"claim\" + 0.014*\"shield\" + 0.012*\"news\" + 0.012*\"stop\" + 0.012*\"restaurant\"'),\n",
       " (7,\n",
       "  '0.016*\"trump\" + 0.014*\"president\" + 0.013*\"#trump\" + 0.011*\"beach\" + 0.009*\"#news\" + 0.009*\"protestors\" + 0.009*\"essential\" + 0.008*\"identity\" + 0.008*\"refuse\" + 0.007*\"tune\"'),\n",
       " (8,\n",
       "  '0.035*\"protesting\" + 0.023*\"nursing\" + 0.021*\"hoax\" + 0.021*\"grocery\" + 0.015*\"apart\" + 0.014*\"data\" + 0.012*\"sale\" + 0.012*\"pack\" + 0.011*\"among\" + 0.010*\"continue\"'),\n",
       " (9,\n",
       "  '0.030*\"social\" + 0.029*\"distancing\" + 0.015*\"death\" + 0.010*\"trump\" + 0.008*\"case\" + 0.007*\"american\" + 0.007*\"still\" + 0.006*\"thing\" + 0.006*\"#wearamask\" + 0.006*\"tested\"')]"
      ]
     },
     "execution_count": 53,
     "metadata": {},
     "output_type": "execute_result"
    }
   ],
   "source": [
    "# %%time\n",
    "\n",
    "# # create the topics\n",
    "# lda = models.LdaModel(corpus=corpus, id2word=id2word, num_topics=10, passes=100, iterations=100)\n",
    "\n",
    "# # view the topics\n",
    "lda.print_topics()"
   ]
  },
  {
   "cell_type": "markdown",
   "metadata": {},
   "source": [
    "### Save/Load LDA model"
   ]
  },
  {
   "cell_type": "code",
   "execution_count": 18,
   "metadata": {},
   "outputs": [],
   "source": [
    "# # uncomment to save\n",
    "# with gzip.open('models/lda_10topics_100passes.pkl', 'wb') as goodbye:\n",
    "#     pickle.dump(lda, goodbye, protocol=pickle.HIGHEST_PROTOCOL)\n",
    "\n",
    "# uncomment to load\n",
    "with gzip.open('models/lda_10topics_100passes.pkl', 'rb') as hello:\n",
    "    lda = pickle.load(hello)"
   ]
  },
  {
   "cell_type": "markdown",
   "metadata": {},
   "source": [
    "- **Assign each tweet to the topic to which it most closely fits.**"
   ]
  },
  {
   "cell_type": "code",
   "execution_count": 22,
   "metadata": {},
   "outputs": [
    {
     "data": {
      "text/plain": [
       "575949"
      ]
     },
     "execution_count": 22,
     "metadata": {},
     "output_type": "execute_result"
    }
   ],
   "source": [
    "# corpus from LDA model\n",
    "corpus_transformed = lda[corpus]\n",
    "\n",
    "# confirm size\n",
    "len(corpus_transformed)"
   ]
  },
  {
   "cell_type": "code",
   "execution_count": 23,
   "metadata": {},
   "outputs": [
    {
     "data": {
      "text/plain": [
       "[(0, 0.03400737),\n",
       " (1, 0.03400346),\n",
       " (2, 0.034003943),\n",
       " (3, 0.034011845),\n",
       " (4, 0.03400346),\n",
       " (5, 0.034005884),\n",
       " (6, 0.03400346),\n",
       " (7, 0.24029602),\n",
       " (8, 0.03400346),\n",
       " (9, 0.4876611)]"
      ]
     },
     "execution_count": 23,
     "metadata": {},
     "output_type": "execute_result"
    }
   ],
   "source": [
    "# check out an example\n",
    "corpus_transformed[0]"
   ]
  },
  {
   "cell_type": "code",
   "execution_count": 24,
   "metadata": {},
   "outputs": [
    {
     "data": {
      "text/plain": [
       "575949"
      ]
     },
     "execution_count": 24,
     "metadata": {},
     "output_type": "execute_result"
    }
   ],
   "source": [
    "%%time\n",
    "\n",
    "# obtain the topic that a resembles the tweet most\n",
    "topics = [lda_getter(x) for x in corpus_transformed]\n",
    "\n",
    "# confirm shape\n",
    "len(topics)"
   ]
  },
  {
   "cell_type": "code",
   "execution_count": 25,
   "metadata": {},
   "outputs": [
    {
     "data": {
      "text/plain": [
       "[9, 0, 0, 0, 4, 7, 0, 1, 7, 2]"
      ]
     },
     "execution_count": 25,
     "metadata": {},
     "output_type": "execute_result"
    }
   ],
   "source": [
    "# check out an example\n",
    "topics[:10]"
   ]
  },
  {
   "cell_type": "code",
   "execution_count": 26,
   "metadata": {},
   "outputs": [
    {
     "data": {
      "text/plain": [
       "0    9\n",
       "1    0\n",
       "2    0\n",
       "3    0\n",
       "4    4\n",
       "Name: lda_topic_max, dtype: int64"
      ]
     },
     "execution_count": 26,
     "metadata": {},
     "output_type": "execute_result"
    }
   ],
   "source": [
    "# turn list into dataframe column\n",
    "df['lda_topic_max'] = topics\n",
    "df['lda_topic_max'].head()"
   ]
  },
  {
   "cell_type": "code",
   "execution_count": 27,
   "metadata": {},
   "outputs": [
    {
     "data": {
      "text/plain": [
       "{0: 0.034007363,\n",
       " 1: 0.03400346,\n",
       " 2: 0.034003936,\n",
       " 3: 0.03401156,\n",
       " 4: 0.03400346,\n",
       " 5: 0.03400588,\n",
       " 6: 0.03400346,\n",
       " 7: 0.24029599,\n",
       " 8: 0.03400346,\n",
       " 9: 0.48766148}"
      ]
     },
     "execution_count": 27,
     "metadata": {},
     "output_type": "execute_result"
    }
   ],
   "source": [
    "# convert lda tuples to dictionary\n",
    "lda_topics_dict = [dict(x) for x in corpus_transformed]\n",
    "\n",
    "# confirm\n",
    "lda_topics_dict[0]"
   ]
  },
  {
   "cell_type": "code",
   "execution_count": 28,
   "metadata": {},
   "outputs": [
    {
     "data": {
      "text/html": [
       "<div>\n",
       "<style scoped>\n",
       "    .dataframe tbody tr th:only-of-type {\n",
       "        vertical-align: middle;\n",
       "    }\n",
       "\n",
       "    .dataframe tbody tr th {\n",
       "        vertical-align: top;\n",
       "    }\n",
       "\n",
       "    .dataframe thead th {\n",
       "        text-align: right;\n",
       "    }\n",
       "</style>\n",
       "<table border=\"1\" class=\"dataframe\">\n",
       "  <thead>\n",
       "    <tr style=\"text-align: right;\">\n",
       "      <th></th>\n",
       "      <th>lda_0</th>\n",
       "      <th>lda_1</th>\n",
       "      <th>lda_2</th>\n",
       "      <th>lda_3</th>\n",
       "      <th>lda_4</th>\n",
       "      <th>lda_5</th>\n",
       "      <th>lda_6</th>\n",
       "      <th>lda_7</th>\n",
       "      <th>lda_8</th>\n",
       "      <th>lda_9</th>\n",
       "    </tr>\n",
       "  </thead>\n",
       "  <tbody>\n",
       "    <tr>\n",
       "      <th>0</th>\n",
       "      <td>0.034007</td>\n",
       "      <td>0.034003</td>\n",
       "      <td>0.034004</td>\n",
       "      <td>0.034012</td>\n",
       "      <td>0.034003</td>\n",
       "      <td>0.034006</td>\n",
       "      <td>0.034003</td>\n",
       "      <td>0.240296</td>\n",
       "      <td>0.034003</td>\n",
       "      <td>0.487661</td>\n",
       "    </tr>\n",
       "    <tr>\n",
       "      <th>1</th>\n",
       "      <td>0.663231</td>\n",
       "      <td>0.021874</td>\n",
       "      <td>0.021892</td>\n",
       "      <td>0.021897</td>\n",
       "      <td>0.021906</td>\n",
       "      <td>0.084468</td>\n",
       "      <td>0.021876</td>\n",
       "      <td>0.099109</td>\n",
       "      <td>0.021873</td>\n",
       "      <td>0.021874</td>\n",
       "    </tr>\n",
       "    <tr>\n",
       "      <th>2</th>\n",
       "      <td>0.685745</td>\n",
       "      <td>0.020862</td>\n",
       "      <td>0.020866</td>\n",
       "      <td>0.020862</td>\n",
       "      <td>0.020862</td>\n",
       "      <td>0.081748</td>\n",
       "      <td>0.020860</td>\n",
       "      <td>0.086471</td>\n",
       "      <td>0.020860</td>\n",
       "      <td>0.020863</td>\n",
       "    </tr>\n",
       "    <tr>\n",
       "      <th>3</th>\n",
       "      <td>0.475635</td>\n",
       "      <td>0.033897</td>\n",
       "      <td>0.033904</td>\n",
       "      <td>0.033899</td>\n",
       "      <td>0.033897</td>\n",
       "      <td>0.033902</td>\n",
       "      <td>0.033897</td>\n",
       "      <td>0.033901</td>\n",
       "      <td>0.253149</td>\n",
       "      <td>0.033919</td>\n",
       "    </tr>\n",
       "    <tr>\n",
       "      <th>4</th>\n",
       "      <td>0.029398</td>\n",
       "      <td>0.259405</td>\n",
       "      <td>0.029399</td>\n",
       "      <td>0.029394</td>\n",
       "      <td>0.411632</td>\n",
       "      <td>0.029402</td>\n",
       "      <td>0.029414</td>\n",
       "      <td>0.029392</td>\n",
       "      <td>0.029392</td>\n",
       "      <td>0.123171</td>\n",
       "    </tr>\n",
       "  </tbody>\n",
       "</table>\n",
       "</div>"
      ],
      "text/plain": [
       "      lda_0     lda_1     lda_2     lda_3     lda_4     lda_5     lda_6  \\\n",
       "0  0.034007  0.034003  0.034004  0.034012  0.034003  0.034006  0.034003   \n",
       "1  0.663231  0.021874  0.021892  0.021897  0.021906  0.084468  0.021876   \n",
       "2  0.685745  0.020862  0.020866  0.020862  0.020862  0.081748  0.020860   \n",
       "3  0.475635  0.033897  0.033904  0.033899  0.033897  0.033902  0.033897   \n",
       "4  0.029398  0.259405  0.029399  0.029394  0.411632  0.029402  0.029414   \n",
       "\n",
       "      lda_7     lda_8     lda_9  \n",
       "0  0.240296  0.034003  0.487661  \n",
       "1  0.099109  0.021873  0.021874  \n",
       "2  0.086471  0.020860  0.020863  \n",
       "3  0.033901  0.253149  0.033919  \n",
       "4  0.029392  0.029392  0.123171  "
      ]
     },
     "execution_count": 28,
     "metadata": {},
     "output_type": "execute_result"
    }
   ],
   "source": [
    "# convert list of lda topic weights to dataframe\n",
    "lda_df = pd.DataFrame(lda_topics_dict)\n",
    "\n",
    "# rename columns\n",
    "lda_df.rename(columns={i: f'lda_{i}' for i in range(10)}, inplace=True)\n",
    "\n",
    "# check it out\n",
    "lda_df.head()"
   ]
  },
  {
   "cell_type": "code",
   "execution_count": 29,
   "metadata": {},
   "outputs": [
    {
     "data": {
      "text/html": [
       "<div>\n",
       "<style scoped>\n",
       "    .dataframe tbody tr th:only-of-type {\n",
       "        vertical-align: middle;\n",
       "    }\n",
       "\n",
       "    .dataframe tbody tr th {\n",
       "        vertical-align: top;\n",
       "    }\n",
       "\n",
       "    .dataframe thead th {\n",
       "        text-align: right;\n",
       "    }\n",
       "</style>\n",
       "<table border=\"1\" class=\"dataframe\">\n",
       "  <thead>\n",
       "    <tr style=\"text-align: right;\">\n",
       "      <th></th>\n",
       "      <th>date</th>\n",
       "      <th>tweet</th>\n",
       "      <th>username</th>\n",
       "      <th>link</th>\n",
       "      <th>nlikes</th>\n",
       "      <th>nreplies</th>\n",
       "      <th>nretweets</th>\n",
       "      <th>sentiment_score</th>\n",
       "      <th>sentiment</th>\n",
       "      <th>clean_tweet</th>\n",
       "      <th>...</th>\n",
       "      <th>lda_0</th>\n",
       "      <th>lda_1</th>\n",
       "      <th>lda_2</th>\n",
       "      <th>lda_3</th>\n",
       "      <th>lda_4</th>\n",
       "      <th>lda_5</th>\n",
       "      <th>lda_6</th>\n",
       "      <th>lda_7</th>\n",
       "      <th>lda_8</th>\n",
       "      <th>lda_9</th>\n",
       "    </tr>\n",
       "  </thead>\n",
       "  <tbody>\n",
       "    <tr>\n",
       "      <th>0</th>\n",
       "      <td>2020-01-01</td>\n",
       "      <td>https://mltshp.com/p/1HLSB  \"This is the death mask of Thomas, an unknown peasant that died in a river.\"</td>\n",
       "      <td>Best_of_MLTSHP</td>\n",
       "      <td>https://twitter.com/Best_of_MLTSHP/status/1212523477896294400</td>\n",
       "      <td>1.0</td>\n",
       "      <td>0.0</td>\n",
       "      <td>1.0</td>\n",
       "      <td>-0.8176</td>\n",
       "      <td>negative</td>\n",
       "      <td>death thomas unknown peasant died river</td>\n",
       "      <td>...</td>\n",
       "      <td>0.034007</td>\n",
       "      <td>0.034003</td>\n",
       "      <td>0.034004</td>\n",
       "      <td>0.034012</td>\n",
       "      <td>0.034003</td>\n",
       "      <td>0.034006</td>\n",
       "      <td>0.034003</td>\n",
       "      <td>0.240296</td>\n",
       "      <td>0.034003</td>\n",
       "      <td>0.487661</td>\n",
       "    </tr>\n",
       "    <tr>\n",
       "      <th>1</th>\n",
       "      <td>2020-01-01</td>\n",
       "      <td>Ready to heard this? Homemade hair treatment and ann cherry dead sea mud mask... Fucking putas swear they are more woman than me.... Bitch shut th...</td>\n",
       "      <td>lumora_lu</td>\n",
       "      <td>https://twitter.com/lumora_lu/status/1212518043353530368</td>\n",
       "      <td>0.0</td>\n",
       "      <td>0.0</td>\n",
       "      <td>0.0</td>\n",
       "      <td>-0.8905</td>\n",
       "      <td>negative</td>\n",
       "      <td>ready heard homemade hair treatment ann cherry dead sea mud fucking putas swear woman bitch shut fuck</td>\n",
       "      <td>...</td>\n",
       "      <td>0.663231</td>\n",
       "      <td>0.021874</td>\n",
       "      <td>0.021892</td>\n",
       "      <td>0.021897</td>\n",
       "      <td>0.021906</td>\n",
       "      <td>0.084468</td>\n",
       "      <td>0.021876</td>\n",
       "      <td>0.099109</td>\n",
       "      <td>0.021873</td>\n",
       "      <td>0.021874</td>\n",
       "    </tr>\n",
       "    <tr>\n",
       "      <th>2</th>\n",
       "      <td>2020-01-01</td>\n",
       "      <td>We all know what a joke #CCPChina is when it comes to epidemic outbreak,think of how they stayed silent about #SARS.\\nDear world,stay away from #H...</td>\n",
       "      <td>odiecher</td>\n",
       "      <td>https://twitter.com/odiecher/status/1212517557690748928</td>\n",
       "      <td>1.0</td>\n",
       "      <td>1.0</td>\n",
       "      <td>1.0</td>\n",
       "      <td>0.6705</td>\n",
       "      <td>positive</td>\n",
       "      <td>joke #ccpchina come epidemic outbreakthink stayed silent #sars dear worldstay away #hk im sure infected amongst already dear fellow #hkers facewit...</td>\n",
       "      <td>...</td>\n",
       "      <td>0.685745</td>\n",
       "      <td>0.020862</td>\n",
       "      <td>0.020866</td>\n",
       "      <td>0.020862</td>\n",
       "      <td>0.020862</td>\n",
       "      <td>0.081748</td>\n",
       "      <td>0.020860</td>\n",
       "      <td>0.086471</td>\n",
       "      <td>0.020860</td>\n",
       "      <td>0.020863</td>\n",
       "    </tr>\n",
       "    <tr>\n",
       "      <th>3</th>\n",
       "      <td>2020-01-01</td>\n",
       "      <td>Thought death masks gave you the horn freak</td>\n",
       "      <td>Hevysmoker</td>\n",
       "      <td>https://twitter.com/Hevysmoker/status/1212515585562726401</td>\n",
       "      <td>0.0</td>\n",
       "      <td>0.0</td>\n",
       "      <td>0.0</td>\n",
       "      <td>-0.7783</td>\n",
       "      <td>negative</td>\n",
       "      <td>thought death gave horn freak</td>\n",
       "      <td>...</td>\n",
       "      <td>0.475635</td>\n",
       "      <td>0.033897</td>\n",
       "      <td>0.033904</td>\n",
       "      <td>0.033899</td>\n",
       "      <td>0.033897</td>\n",
       "      <td>0.033902</td>\n",
       "      <td>0.033897</td>\n",
       "      <td>0.033901</td>\n",
       "      <td>0.253149</td>\n",
       "      <td>0.033919</td>\n",
       "    </tr>\n",
       "    <tr>\n",
       "      <th>4</th>\n",
       "      <td>2020-01-01</td>\n",
       "      <td>Interesting cult of death mask he’s wearing, 🤔\\nelectronically posing as he did as of the CIA while Brennan was Chief. 🧐</td>\n",
       "      <td>FaithR8s</td>\n",
       "      <td>https://twitter.com/FaithR8s/status/1212510409858670593</td>\n",
       "      <td>1.0</td>\n",
       "      <td>0.0</td>\n",
       "      <td>1.0</td>\n",
       "      <td>-0.2960</td>\n",
       "      <td>negative</td>\n",
       "      <td>interesting cult death thinkingface electronically posing cia brennan chief facewithmonocle</td>\n",
       "      <td>...</td>\n",
       "      <td>0.029398</td>\n",
       "      <td>0.259405</td>\n",
       "      <td>0.029399</td>\n",
       "      <td>0.029394</td>\n",
       "      <td>0.411632</td>\n",
       "      <td>0.029402</td>\n",
       "      <td>0.029414</td>\n",
       "      <td>0.029392</td>\n",
       "      <td>0.029392</td>\n",
       "      <td>0.123171</td>\n",
       "    </tr>\n",
       "  </tbody>\n",
       "</table>\n",
       "<p>5 rows × 21 columns</p>\n",
       "</div>"
      ],
      "text/plain": [
       "         date  \\\n",
       "0  2020-01-01   \n",
       "1  2020-01-01   \n",
       "2  2020-01-01   \n",
       "3  2020-01-01   \n",
       "4  2020-01-01   \n",
       "\n",
       "                                                                                                                                                   tweet  \\\n",
       "0                                               https://mltshp.com/p/1HLSB  \"This is the death mask of Thomas, an unknown peasant that died in a river.\"   \n",
       "1  Ready to heard this? Homemade hair treatment and ann cherry dead sea mud mask... Fucking putas swear they are more woman than me.... Bitch shut th...   \n",
       "2  We all know what a joke #CCPChina is when it comes to epidemic outbreak,think of how they stayed silent about #SARS.\\nDear world,stay away from #H...   \n",
       "3                                                                                                            Thought death masks gave you the horn freak   \n",
       "4                               Interesting cult of death mask he’s wearing, 🤔\\nelectronically posing as he did as of the CIA while Brennan was Chief. 🧐   \n",
       "\n",
       "         username  \\\n",
       "0  Best_of_MLTSHP   \n",
       "1       lumora_lu   \n",
       "2        odiecher   \n",
       "3      Hevysmoker   \n",
       "4        FaithR8s   \n",
       "\n",
       "                                                            link  nlikes  \\\n",
       "0  https://twitter.com/Best_of_MLTSHP/status/1212523477896294400     1.0   \n",
       "1       https://twitter.com/lumora_lu/status/1212518043353530368     0.0   \n",
       "2        https://twitter.com/odiecher/status/1212517557690748928     1.0   \n",
       "3      https://twitter.com/Hevysmoker/status/1212515585562726401     0.0   \n",
       "4        https://twitter.com/FaithR8s/status/1212510409858670593     1.0   \n",
       "\n",
       "   nreplies  nretweets  sentiment_score sentiment  \\\n",
       "0       0.0        1.0          -0.8176  negative   \n",
       "1       0.0        0.0          -0.8905  negative   \n",
       "2       1.0        1.0           0.6705  positive   \n",
       "3       0.0        0.0          -0.7783  negative   \n",
       "4       0.0        1.0          -0.2960  negative   \n",
       "\n",
       "                                                                                                                                             clean_tweet  \\\n",
       "0                                                                                                                death thomas unknown peasant died river   \n",
       "1                                                  ready heard homemade hair treatment ann cherry dead sea mud fucking putas swear woman bitch shut fuck   \n",
       "2  joke #ccpchina come epidemic outbreakthink stayed silent #sars dear worldstay away #hk im sure infected amongst already dear fellow #hkers facewit...   \n",
       "3                                                                                                                          thought death gave horn freak   \n",
       "4                                                            interesting cult death thinkingface electronically posing cia brennan chief facewithmonocle   \n",
       "\n",
       "   ...     lda_0     lda_1     lda_2     lda_3     lda_4     lda_5     lda_6  \\\n",
       "0  ...  0.034007  0.034003  0.034004  0.034012  0.034003  0.034006  0.034003   \n",
       "1  ...  0.663231  0.021874  0.021892  0.021897  0.021906  0.084468  0.021876   \n",
       "2  ...  0.685745  0.020862  0.020866  0.020862  0.020862  0.081748  0.020860   \n",
       "3  ...  0.475635  0.033897  0.033904  0.033899  0.033897  0.033902  0.033897   \n",
       "4  ...  0.029398  0.259405  0.029399  0.029394  0.411632  0.029402  0.029414   \n",
       "\n",
       "      lda_7     lda_8     lda_9  \n",
       "0  0.240296  0.034003  0.487661  \n",
       "1  0.099109  0.021873  0.021874  \n",
       "2  0.086471  0.020860  0.020863  \n",
       "3  0.033901  0.253149  0.033919  \n",
       "4  0.029392  0.029392  0.123171  \n",
       "\n",
       "[5 rows x 21 columns]"
      ]
     },
     "execution_count": 29,
     "metadata": {},
     "output_type": "execute_result"
    }
   ],
   "source": [
    "df = pd.concat([df, lda_df], axis=1)\n",
    "df.head()"
   ]
  },
  {
   "cell_type": "code",
   "execution_count": 30,
   "metadata": {},
   "outputs": [
    {
     "data": {
      "text/plain": [
       "(575949, 21)"
      ]
     },
     "execution_count": 30,
     "metadata": {},
     "output_type": "execute_result"
    }
   ],
   "source": [
    "df.shape"
   ]
  },
  {
   "cell_type": "markdown",
   "metadata": {},
   "source": [
    "## Subjectivity\n",
    "- **Use TextBlob to calculate the subjectivity of tweets.**"
   ]
  },
  {
   "cell_type": "code",
   "execution_count": 31,
   "metadata": {},
   "outputs": [
    {
     "data": {
      "text/plain": [
       "0    0.600000\n",
       "1    0.560000\n",
       "2    0.462963\n",
       "3    0.000000\n",
       "4    0.500000\n",
       "Name: subjectivity_score, dtype: float64"
      ]
     },
     "execution_count": 31,
     "metadata": {},
     "output_type": "execute_result"
    }
   ],
   "source": [
    "df['subjectivity_score'] = df['tweet'].apply(lambda x: TextBlob(x).sentiment.subjectivity)\n",
    "df.subjectivity_score.head()"
   ]
  },
  {
   "cell_type": "code",
   "execution_count": 32,
   "metadata": {},
   "outputs": [
    {
     "data": {
      "text/plain": [
       "count    575949.000000\n",
       "mean          0.370732\n",
       "std           0.290762\n",
       "min           0.000000\n",
       "25%           0.050000\n",
       "50%           0.397576\n",
       "75%           0.565000\n",
       "max           1.000000\n",
       "Name: subjectivity_score, dtype: float64"
      ]
     },
     "execution_count": 32,
     "metadata": {},
     "output_type": "execute_result"
    }
   ],
   "source": [
    "df.subjectivity_score.describe()"
   ]
  },
  {
   "cell_type": "code",
   "execution_count": 33,
   "metadata": {},
   "outputs": [
    {
     "data": {
      "text/plain": [
       "<matplotlib.axes._subplots.AxesSubplot at 0x16ea3ac50>"
      ]
     },
     "execution_count": 33,
     "metadata": {},
     "output_type": "execute_result"
    },
    {
     "data": {
      "image/png": "[encoded data removed]",
      "text/plain": [
       "<Figure size 432x288 with 1 Axes>"
      ]
     },
     "metadata": {
      "needs_background": "light"
     },
     "output_type": "display_data"
    }
   ],
   "source": [
    "df.subjectivity_score.hist()"
   ]
  },
  {
   "cell_type": "markdown",
   "metadata": {},
   "source": [
    "- **Look at the relationship between subjectivity and sentiment.**"
   ]
  },
  {
   "cell_type": "code",
   "execution_count": 34,
   "metadata": {},
   "outputs": [
    {
     "data": {
      "text/plain": [
       "<matplotlib.axes._subplots.AxesSubplot at 0x177f8fef0>"
      ]
     },
     "execution_count": 34,
     "metadata": {},
     "output_type": "execute_result"
    },
    {
     "data": {
      "image/png": "[encoded data removed]",
      "text/plain": [
       "<Figure size 432x288 with 1 Axes>"
      ]
     },
     "metadata": {
      "needs_background": "light"
     },
     "output_type": "display_data"
    }
   ],
   "source": [
    "df.boxplot('subjectivity_score', 'sentiment')"
   ]
  },
  {
   "cell_type": "markdown",
   "metadata": {},
   "source": [
    "- **As expected, neutral tweets tend to be more objective, whereas positive and negative tweets are more subjective.**\n",
    "\n",
    "###### How about between subjectivity and LDA topics?"
   ]
  },
  {
   "cell_type": "code",
   "execution_count": 35,
   "metadata": {
    "scrolled": true
   },
   "outputs": [
    {
     "data": {
      "text/plain": [
       "<matplotlib.axes._subplots.AxesSubplot at 0x18ac29710>"
      ]
     },
     "execution_count": 35,
     "metadata": {},
     "output_type": "execute_result"
    },
    {
     "data": {
      "image/png": "[encoded data removed]",
      "text/plain": [
       "<Figure size 432x288 with 1 Axes>"
      ]
     },
     "metadata": {
      "needs_background": "light"
     },
     "output_type": "display_data"
    }
   ],
   "source": [
    "df.boxplot('subjectivity_score', 'lda_topic_max')"
   ]
  },
  {
   "cell_type": "markdown",
   "metadata": {},
   "source": [
    "- **Some difference here but nothing too telling, given the generalness of LDA topics.**\n",
    "\n",
    "###### Make sure our DataFrame has all the columns."
   ]
  },
  {
   "cell_type": "code",
   "execution_count": 36,
   "metadata": {},
   "outputs": [
    {
     "data": {
      "text/plain": [
       "Index(['date', 'tweet', 'username', 'link', 'nlikes', 'nreplies', 'nretweets',\n",
       "       'sentiment_score', 'sentiment', 'clean_tweet', 'lda_topic_max', 'lda_0',\n",
       "       'lda_1', 'lda_2', 'lda_3', 'lda_4', 'lda_5', 'lda_6', 'lda_7', 'lda_8',\n",
       "       'lda_9', 'subjectivity_score'],\n",
       "      dtype='object')"
      ]
     },
     "execution_count": 36,
     "metadata": {},
     "output_type": "execute_result"
    }
   ],
   "source": [
    "df.columns"
   ]
  },
  {
   "cell_type": "markdown",
   "metadata": {},
   "source": [
    "- **Save for good measure, this time using pickle so we don't have to keep converting the date column.**\n",
    "- **Also, some clean tweets are empty after removing stopwords, so this prevents them from being converted to NaNs.**"
   ]
  },
  {
   "cell_type": "code",
   "execution_count": 50,
   "metadata": {},
   "outputs": [],
   "source": [
    "# # uncomment to save\n",
    "# with gzip.open('data/5k_jan_thru_may_tweets_plus_features.pkl', 'wb') as goodbye:\n",
    "#     pickle.dump(df, goodbye, protocol=pickle.HIGHEST_PROTOCOL)\n",
    "\n",
    "# # uncomment to load\n",
    "# with gzip.open('data/5k_jan_thru_may_tweets_plus_features.pkl', 'rb') as hello:\n",
    "#     df = pickle.load(hello)"
   ]
  },
  {
   "cell_type": "markdown",
   "metadata": {},
   "source": [
    "# EDA\n",
    "## Sentiment over time\n",
    "### By day"
   ]
  },
  {
   "cell_type": "code",
   "execution_count": null,
   "metadata": {},
   "outputs": [],
   "source": [
    "# proportion of sentiments by day\n",
    "df.groupby('date')['sentiment'].value_counts(normalize=True).unstack()"
   ]
  },
  {
   "cell_type": "code",
   "execution_count": null,
   "metadata": {},
   "outputs": [],
   "source": [
    "# proportion of sentiments by day\n",
    "sent_by_day = df.groupby('date')['sentiment'].value_counts(normalize=True).unstack()\n",
    "\n",
    "# plot a stacked line graph\n",
    "p1 = sent_by_day.plot.area(stacked=True, figsize=(20,12),\n",
    "                           color=['orangered', 'gold', 'forestgreen'], alpha=0.7)\n",
    "\n",
    "# prettify the graph\n",
    "p1.set_title('Tweet Sentiment Distribution Over Time', fontsize=30, pad=15)\n",
    "p1.set_xlabel('Date', fontsize=28)\n",
    "p1.set_ylabel('Percentage of Tweets', fontsize=28, labelpad=15)\n",
    "p1.legend(['Negative', 'Neutral', 'Positive'], facecolor='white', framealpha=1,\n",
    "          bbox_to_anchor=(1.01, 1.0), fontsize=25)\n",
    "plt.setp(p1.get_xticklabels(), fontsize=22)\n",
    "plt.setp(p1.get_yticklabels(), fontsize=22);\n",
    "\n",
    "# prepare to save and display\n",
    "plt.tight_layout()\n",
    "# # uncomment to save\n",
    "# plt.savefig('charts/sentiment_stacked_line.png', bbox_inches='tight', transparent=True)\n",
    "\n",
    "plt.show()"
   ]
  },
  {
   "cell_type": "markdown",
   "metadata": {},
   "source": [
    "- **Tweets start off as overwhelming negative in the first half of January, though it should be noted that there are far fewer tweets from that time period, so this should be taken with a rather large grain of salt.**\n",
    "- **Mid-February is another point of interest, with a large spike in negative tweets, perhaps corresponding to the first rumblings of COVID in the US.**\n",
    "- **Negativity appears to gradually decrease until the end of April, which corresponds with a spike in Topic 7 (Trump and the social distancing protests), and negativity increases until the end of May.**\n",
    "- **Positivity has its strongest moments in mid- to late-March, but stays fairly constant throughout.**\n",
    "- **Overall, we don't see any overwhelming shift in sentiment, merely a fairly consistently polarized twitterverse.**\n",
    "\n",
    "### Top tweets per day\n",
    "- **See if the most popular tweets have a different distribution of sentiment over time.**"
   ]
  },
  {
   "cell_type": "code",
   "execution_count": null,
   "metadata": {},
   "outputs": [],
   "source": [
    "# create dataframe of top twenty tweets per day by likes\n",
    "top_20_by_day = []\n",
    "for i in df.groupby('date')['nlikes'].nlargest(20).index:\n",
    "    top_20_by_day.append(i[1])\n",
    "    \n",
    "top_20_by_day = df.loc[top_20_by_day]\n",
    "top_20_by_day.shape"
   ]
  },
  {
   "cell_type": "code",
   "execution_count": null,
   "metadata": {},
   "outputs": [],
   "source": [
    "# proportion of sentiments of top twenty tweets by day\n",
    "sent_top_20_by_day = top_20_by_day.groupby('date')['sentiment'].value_counts(normalize=True).unstack()\n",
    "\n",
    "# plot a stacked line graph\n",
    "p2 = sent_top_20_by_day.plot.area(stacked=True, figsize=(20,12),\n",
    "                                   color=['orangered', 'gold', 'forestgreen'], alpha=0.7)\n",
    "\n",
    "# prettify the chart\n",
    "p2.set_title('Sentiment of Daily Top Twenty Tweets', fontsize=30, pad=10)\n",
    "p2.set_xlabel('Date', fontsize=28)\n",
    "p2.set_ylabel('Percentage of Tweets', fontsize=28, labelpad=15)\n",
    "p2.set_yticklabels(range(0,101,20), fontsize=22)\n",
    "plt.setp(p2.get_xticklabels(), fontsize=22)\n",
    "p2.legend(['Negative', 'Neutral', 'Positive'], facecolor='white', framealpha=1,\n",
    "          bbox_to_anchor=(1.01, 1.0), fontsize=25)\n",
    "\n",
    "# prepare to save and display\n",
    "plt.tight_layout()\n",
    "# # uncomment to save\n",
    "# plt.savefig('charts/sentiment_top20_stacked_line.png', bbox_inches='tight', transparent=True)\n",
    "\n",
    "plt.show()"
   ]
  },
  {
   "cell_type": "markdown",
   "metadata": {},
   "source": [
    "- **No obvious trends here, just a lot of noise back and forth.**\n",
    "    - ***Maybe* skews positive toward the end, but both positive and negative again hover in the 40% range.**"
   ]
  },
  {
   "cell_type": "markdown",
   "metadata": {},
   "source": [
    "### Month"
   ]
  },
  {
   "cell_type": "code",
   "execution_count": null,
   "metadata": {},
   "outputs": [],
   "source": [
    "df['month'] = df.date.apply(lambda x: x.month)\n",
    "df['month'].head()"
   ]
  },
  {
   "cell_type": "code",
   "execution_count": null,
   "metadata": {
    "scrolled": true
   },
   "outputs": [],
   "source": [
    "df.groupby('month').sentiment.value_counts(normalize=True)"
   ]
  },
  {
   "cell_type": "code",
   "execution_count": null,
   "metadata": {},
   "outputs": [],
   "source": [
    "# prepare data for stacked bar, sort by percentage of trees in good health\n",
    "month_sentiment = df.groupby('month').sentiment.value_counts(normalize=True).unstack()\n",
    "\n",
    "# plot stacked bar graph\n",
    "p3 = month_sentiment.plot(kind='bar', stacked=True, figsize=(8,6),\n",
    "                           color=['orangered', 'gold', 'forestgreen'], alpha=0.7, fontsize=14)\n",
    "\n",
    "# prettify the graph\n",
    "p3.set_title('Distribution of Sentiment Over Time', fontsize=22, pad=10)\n",
    "p3.set_xlabel('Month', fontsize=18, labelpad=10)\n",
    "p3.set_xticklabels(['Jan', 'Feb', 'Mar', 'Apr', 'May'], rotation='horizontal', fontsize=18)\n",
    "p3.set_ylabel('Health Status', fontsize=18, labelpad=10)\n",
    "p3.legend(['Negative', 'Neutral', 'Positive'], fontsize=18, bbox_to_anchor=(1,1))\n",
    "\n",
    "# prepare to save and display\n",
    "plt.tight_layout()\n",
    "# # uncomment to save\n",
    "# plt.savefig('charts/sentiment_month_barstack.png', bbox_inches='tight', transparent=True)\n",
    "\n",
    "plt.show()"
   ]
  },
  {
   "cell_type": "markdown",
   "metadata": {},
   "source": [
    "- **Positive tweets gain a slight edge during March and April, but are generally fairly even.**\n",
    "- **April stands out for having noticeably more neutral tweets, perhaps a result of wider news coverage.**"
   ]
  },
  {
   "cell_type": "markdown",
   "metadata": {},
   "source": [
    "### Number of likes"
   ]
  },
  {
   "cell_type": "code",
   "execution_count": null,
   "metadata": {},
   "outputs": [],
   "source": [
    "df.boxplot('nlikes', 'sentiment', showfliers=False)"
   ]
  },
  {
   "cell_type": "code",
   "execution_count": null,
   "metadata": {
    "scrolled": true
   },
   "outputs": [],
   "source": [
    "df[df.nlikes > 0].groupby('sentiment').tweet.count()"
   ]
  },
  {
   "cell_type": "code",
   "execution_count": null,
   "metadata": {},
   "outputs": [],
   "source": [
    "df[df.nlikes > 0].boxplot('nlikes', 'sentiment', showfliers=False)"
   ]
  },
  {
   "cell_type": "code",
   "execution_count": null,
   "metadata": {},
   "outputs": [],
   "source": [
    "df[df.nlikes > 10].groupby('sentiment')['tweet'].count()"
   ]
  },
  {
   "cell_type": "code",
   "execution_count": null,
   "metadata": {},
   "outputs": [],
   "source": [
    "df[df.nlikes > 10].boxplot('nlikes', 'sentiment', showfliers=False)"
   ]
  },
  {
   "cell_type": "markdown",
   "metadata": {},
   "source": [
    "- **Number of likes appears static across different sentiment.**\n",
    "\n",
    "\n",
    "- **We'll next look at top words (after removing stop words and lemmatizing).**\n",
    "\n",
    "## Top words and vocabulary statistics"
   ]
  },
  {
   "cell_type": "code",
   "execution_count": null,
   "metadata": {},
   "outputs": [],
   "source": [
    "# make tweets into one big string\n",
    "big_string = ' '.join(clean_tweets)\n",
    "big_string[:100]"
   ]
  },
  {
   "cell_type": "code",
   "execution_count": null,
   "metadata": {},
   "outputs": [],
   "source": [
    "# split it into words\n",
    "words = big_string.split()"
   ]
  },
  {
   "cell_type": "markdown",
   "metadata": {},
   "source": [
    "###### Number of words in our corpus"
   ]
  },
  {
   "cell_type": "code",
   "execution_count": null,
   "metadata": {},
   "outputs": [],
   "source": [
    "len(words)"
   ]
  },
  {
   "cell_type": "markdown",
   "metadata": {},
   "source": [
    "###### Total unique vocabulary"
   ]
  },
  {
   "cell_type": "code",
   "execution_count": null,
   "metadata": {},
   "outputs": [],
   "source": [
    "total_vocab = set(words)\n",
    "len(total_vocab)"
   ]
  },
  {
   "cell_type": "markdown",
   "metadata": {},
   "source": [
    "- **Create a word list with corresponding frequencies in the corpus and look at the 25 most frequent words in our cleaned tweets.**"
   ]
  },
  {
   "cell_type": "code",
   "execution_count": null,
   "metadata": {},
   "outputs": [],
   "source": [
    "Counter(words).most_common(25)"
   ]
  },
  {
   "cell_type": "markdown",
   "metadata": {},
   "source": [
    "- **Create a similar object in dictionary format and convert to DataFrame.**"
   ]
  },
  {
   "cell_type": "code",
   "execution_count": null,
   "metadata": {},
   "outputs": [],
   "source": [
    "fdist = FreqDist(words)\n",
    "fdist"
   ]
  },
  {
   "cell_type": "code",
   "execution_count": null,
   "metadata": {},
   "outputs": [],
   "source": [
    "word_counts = pd.DataFrame(data=fdist.values(), index=fdist.keys(), columns=['word_count'])\n",
    "word_counts = word_counts.sort_values('word_count', ascending=False)\n",
    "word_counts.head()"
   ]
  },
  {
   "cell_type": "markdown",
   "metadata": {},
   "source": [
    "- **Take the top 25 words and create a visualization.**"
   ]
  },
  {
   "cell_type": "code",
   "execution_count": null,
   "metadata": {},
   "outputs": [],
   "source": [
    "top25_words = word_counts.iloc[:25,:]"
   ]
  },
  {
   "cell_type": "code",
   "execution_count": null,
   "metadata": {},
   "outputs": [],
   "source": [
    "# prettify the chart\n",
    "plt.figure(figsize=(25,10))\n",
    "plt.title('Top 25 Words', fontsize=30, pad=15)\n",
    "plt.ylabel('Word Count', fontsize=28, labelpad=15)\n",
    "plt.xticks(rotation=45, fontsize=22)\n",
    "plt.yticks(fontsize=22)\n",
    "plt.ylim(bottom=15000, top=41000)\n",
    "\n",
    "# plot bar chart with twitter blue ;)\n",
    "plt.bar(top25_words.index, top25_words.word_count, color='#38A1F3')\n",
    "\n",
    "# prepare to save and display\n",
    "plt.tight_layout()\n",
    "# # uncomment to save\n",
    "# plt.savefig('charts/top25_words_bar.png', bbox_inches='tight', transparent=True)\n",
    "\n",
    "plt.show()"
   ]
  },
  {
   "cell_type": "code",
   "execution_count": null,
   "metadata": {},
   "outputs": [],
   "source": [
    "df.columns"
   ]
  },
  {
   "cell_type": "code",
   "execution_count": null,
   "metadata": {},
   "outputs": [],
   "source": [
    "df.sentiment.head()"
   ]
  },
  {
   "cell_type": "code",
   "execution_count": null,
   "metadata": {},
   "outputs": [],
   "source": [
    "plt.figure(figsize=(40,40))\n",
    "\n",
    "sentiments = list(df.sentiment.unique())\n",
    "\n",
    "for i, sentiment in enumerate(sentiments):\n",
    "    # create a series of processed tweets\n",
    "    sentiment_string_series = df[df.sentiment == sentiment].clean_tweet\n",
    "    \n",
    "    # convert the series to one big string\n",
    "    sentiment_big_string = ' '.join(sentiment_string_series)\n",
    "    \n",
    "    # split the big string so we get all words in the category\n",
    "    sentiment_words = sentiment_big_string.split()\n",
    "    \n",
    "    # create dictionary of word counts\n",
    "    fdist = FreqDist(sentiment_words)\n",
    "    \n",
    "    # convert word counts to dataframe\n",
    "    fdist_df = pd.DataFrame(data=fdist.values(), index=fdist.keys(), columns=['word_count'])\n",
    "    fdist_df = fdist_df.sort_values('word_count', ascending=False)\n",
    "    \n",
    "    # look at the top 25 words for the genre\n",
    "    top_25 = fdist_df.iloc[:25,:]\n",
    "\n",
    "    # set dimension of plots\n",
    "    nrows = 3\n",
    "    ncols = 1\n",
    "    plt.subplot(nrows, ncols, i+1)\n",
    "\n",
    "    # list of colors\n",
    "    colors = ['orangered', 'forestgreen', 'gold']\n",
    "    \n",
    "    # prettify\n",
    "    plt.title(f'{sentiment.title()} -- Top 25 Words', fontsize=50, pad=15, x=0.5, y=0.9)\n",
    "    plt.ylabel('Word Count', fontsize=40, labelpad=15)\n",
    "    plt.xticks(rotation=70, fontsize=35)\n",
    "    plt.yticks(fontsize=35)\n",
    "    \n",
    "    # plot\n",
    "    plt.bar(top_25.index, top_25.word_count, color=colors[i])\n",
    "    plt.tight_layout()\n",
    "    \n",
    "# # uncomment to save\n",
    "# plt.savefig('charts/top25_words_each_sentiment_bar.png', bbox_inches='tight', transparent=True)"
   ]
  },
  {
   "cell_type": "markdown",
   "metadata": {},
   "source": [
    "### Word Clouds"
   ]
  },
  {
   "cell_type": "code",
   "execution_count": null,
   "metadata": {},
   "outputs": [],
   "source": [
    "# word cloud\n",
    "word_dict = dict(Counter(words))\n",
    "wordcloud = WordCloud(colormap='Spectral', width=1200, height=600).generate_from_frequencies(word_dict)\n",
    "\n",
    "plt.figure(figsize=(20,10), facecolor='k')\n",
    "plt.imshow(wordcloud, interpolation='bilinear')\n",
    "plt.axis(\"off\")\n",
    "plt.tight_layout(pad=0)\n",
    "\n",
    "# save\n",
    "plt.savefig('charts/word_cloud_all.png', bbox_inches='tight', transparent=True)"
   ]
  },
  {
   "cell_type": "markdown",
   "metadata": {},
   "source": [
    "- **Now, we'll look at word clouds for each of the categories.**"
   ]
  },
  {
   "cell_type": "code",
   "execution_count": null,
   "metadata": {
    "scrolled": false
   },
   "outputs": [],
   "source": [
    "# instantiate a figure\n",
    "plt.figure(figsize=(20,35))\n",
    "\n",
    "# loop over sentiments list created earlier\n",
    "for i, sentiment in enumerate(sentiments):\n",
    "    \n",
    "    # create a series of processed tweets\n",
    "    sentiment_string_series = df[df.sentiment == sentiment].clean_tweet\n",
    "    \n",
    "    # convert the series to one big string\n",
    "    sentiment_big_string = ' '.join(sentiment_string_series)\n",
    "    \n",
    "    # split the big string so we get all words in the category\n",
    "    sentiment_words = sentiment_big_string.split()\n",
    "    \n",
    "    # create a dictionary for easy word cloud creation\n",
    "    sentiment_word_dict = dict(Counter(sentiment_words))\n",
    "\n",
    "    # create word cloud\n",
    "    sentiment_wordcloud = WordCloud(colormap='Spectral', width=1200, height=600).\\\n",
    "                                                        generate_from_frequencies(sentiment_word_dict)\n",
    "\n",
    "    # set dimension of plots\n",
    "    nrows = 3\n",
    "    ncols = 1\n",
    "\n",
    "    # plot\n",
    "    plt.subplot(nrows, ncols, i+1)\n",
    "    plt.plot()\n",
    "    plt.imshow(sentiment_wordcloud, interpolation='bilinear')\n",
    "    plt.axis('off')\n",
    "    plt.title(f'{sentiment.title()} Tweets', fontsize=50, pad=25)\n",
    "\n",
    "# # uncomment to save\n",
    "# plt.savefig('charts/word_cloud_each_sentiment.png', bbox_inches='tight', transparent=True)"
   ]
  },
  {
   "cell_type": "code",
   "execution_count": null,
   "metadata": {},
   "outputs": [],
   "source": []
  },
  {
   "cell_type": "markdown",
   "metadata": {},
   "source": [
    "## LDA\n",
    "### Topic distribution by day"
   ]
  },
  {
   "cell_type": "code",
   "execution_count": null,
   "metadata": {},
   "outputs": [],
   "source": [
    "# sort by percentage of trees in good health\n",
    "days = df.groupby('date').lda_topic_max.value_counts(normalize=True).unstack()\n",
    "\n",
    "# plot a stacked bar graph\n",
    "p4 = days.plot.area(stacked=True, figsize=(16,9), alpha=0.7, fontsize=16)\n",
    "\n",
    "# prettify the graph\n",
    "p4.set_title('Topics Across Time', fontsize=25, pad=15)\n",
    "p4.set_xlabel('Date', fontsize=22, labelpad=10)\n",
    "p4.set_ylabel('Percentage of Tweets', fontsize=22, labelpad=10)\n",
    "p4.set_yticklabels(range(0,101,20), fontsize=16)\n",
    "p4.legend([f'lda_{i}' for i in range(10)], facecolor='white',\n",
    "          framealpha=1, bbox_to_anchor=(1.01, 1.0), fontsize=18)\n",
    "\n",
    "# prepare to save and display\n",
    "plt.tight_layout()\n",
    "# # uncomment to save\n",
    "# plt.savefig('charts/topics_across_time_barstack.png', bbox_inches='tight', transparent=True)\n",
    "\n",
    "plt.show()"
   ]
  },
  {
   "cell_type": "markdown",
   "metadata": {},
   "source": [
    "- **Not the most readable graph, but does show some interesting activity around January 20 and the end of April.**\n",
    "\n",
    "- **We'll now look at the relationship between sentiment and topics.**\n",
    "\n",
    "### Sentiment distribution by topic"
   ]
  },
  {
   "cell_type": "code",
   "execution_count": null,
   "metadata": {},
   "outputs": [],
   "source": [
    "# sort by percentage of topics in good health\n",
    "days = df.groupby('lda_topic_max').sentiment.value_counts(normalize=True).unstack()\n",
    "\n",
    "# plot a stacked bar graph\n",
    "p5 = days.plot(kind='bar', stacked=True, figsize=(12,7), color=['orangered', 'gold', 'forestgreen'],\n",
    "               alpha=0.7, fontsize=16)\n",
    "\n",
    "# prettify the chart\n",
    "p5.set_title('Tweet Sentiment by Topic', fontsize=20, pad=10)\n",
    "p5.set_xlabel('LDA Topic', fontsize=18, labelpad=10)\n",
    "p5.set_ylabel('Percentage of Tweets', fontsize=18, labelpad=10)\n",
    "p5.set_xticklabels(range(10), rotation=0, fontsize=16)\n",
    "p5.set_yticklabels(range(0,101,20), fontsize=16)\n",
    "p5.legend(['negative', 'neutral', 'positive'], facecolor='white', framealpha=1,\n",
    "          bbox_to_anchor=(1.01, 1.0), fontsize=16)\n",
    "\n",
    "# prepare to save and display\n",
    "plt.tight_layout()\n",
    "# # uncomment to save \n",
    "# plt.savefig('charts/sentiment_topics_barstack.png', bbox_inches='tight', transparent=True)\n",
    "\n",
    "plt.show()"
   ]
  },
  {
   "cell_type": "markdown",
   "metadata": {},
   "source": [
    "- **Tweet topics have some definite affects on sentiment.**\n",
    "    - **Topic 1 seems a bit strange to contain such a large amount of neutral tweets, something I assume mostly applies to news tweets, which makes sense for topic 6 (*news*, *study*, *claim*) and topic 8 (*data*, *nursing*).**\n",
    "        - **Topic 1 has emojis, one of which is the generally ironic thinkingface and the other generally pro-mask.**\n",
    "        - **Topic 8 does oddly contain *hoax* though this may be in relation to a news story reporting people's feelings toward COVID.**\n",
    "    - **Topic 9 has a lot of negative tweets, which seems to make sense, discussing things like trump, death, social distancing (viewed negatively by some).**\n",
    "    - **Topic 3 has the most positive tweets, which also seems to make sense, given words like *protect*, *help*, *others*, etc. It appears to be about the common good and using masks to help keep others safe.**\n",
    "    - **Topic 7 interestingly has about equal numbers for all sentiment categories, and it does indeed seem to be the most polarizing of topics.**\n",
    "    - **Topics 0 and 9 are relatively non-neutral.**"
   ]
  },
  {
   "cell_type": "code",
   "execution_count": null,
   "metadata": {
    "scrolled": false
   },
   "outputs": [],
   "source": [
    "lda.print_topics()"
   ]
  },
  {
   "cell_type": "markdown",
   "metadata": {},
   "source": [
    "### Another look at sentiment distribution by topic"
   ]
  },
  {
   "cell_type": "code",
   "execution_count": null,
   "metadata": {},
   "outputs": [],
   "source": [
    "# instantiate a figure\n",
    "plt.figure(figsize=(12,24))\n",
    "\n",
    "# loop over sentiments list created earlier\n",
    "for i, sentiment in enumerate(sentiments):\n",
    "    \n",
    "    sentiment_df = df[df.sentiment == sentiment]\n",
    "\n",
    "    # set dimension of plots\n",
    "    nrows = 3\n",
    "    ncols = 1\n",
    "    plt.subplot(nrows, ncols, i+1)\n",
    "\n",
    "    # list of colors\n",
    "    colors = ['orangered', 'forestgreen', 'gold']\n",
    "    \n",
    "    # prettify chart\n",
    "    plt.title(f'Number of {sentiment.title()} Tweets by Topic', fontsize=28, pad=15)\n",
    "    plt.xlabel('LDA Topic Number', fontsize=22, labelpad=15)\n",
    "    plt.ylabel('Tweet Count', fontsize=24, labelpad=15)\n",
    "    plt.xticks(range(10), rotation=0, fontsize=20)\n",
    "    plt.yticks(fontsize=20)\n",
    "    plt.ylim(bottom=0, top=70000)\n",
    "    \n",
    "    # plot, making sure to sort the labels so they go in sequential order\n",
    "    plt.bar(sentiment_df.lda_topic_max.value_counts().sort_index().index,\n",
    "            sentiment_df.lda_topic_max.value_counts().sort_index(), \n",
    "            color=colors[i])\n",
    "    plt.tight_layout(pad=5)\n",
    "    \n",
    "# # uncomment to save\n",
    "# plt.savefig('charts/sentiment_topics_each_sentiment_barstack.png', bbox_inches='tight', transparent=True)"
   ]
  },
  {
   "cell_type": "markdown",
   "metadata": {},
   "source": [
    "- **This gives you a little more sense of how similarly sentiment is distributed across topics, with the shapes of these bars more or less the same across the three categories.**\n",
    "- **Some notable exceptions:**\n",
    "    - **Topic 5 has a large relative share of neutral tweets.**\n",
    "    - **Topic 3 has a large relative share of positive tweets.**\n",
    "    - **Topic 9 has a large relative share of negative tweets.**\n",
    "    - **Topics 1, 6, and 7 are pretty evenly split amongst the three categories.**\n",
    "    \n",
    "### LDA with numerical data\n",
    "- **We'll look at number of likes, replies, and retweets across the topics.**"
   ]
  },
  {
   "cell_type": "code",
   "execution_count": null,
   "metadata": {},
   "outputs": [],
   "source": [
    "df[df.nlikes > 10].boxplot('nlikes', 'lda_topic_max', showfliers=False)"
   ]
  },
  {
   "cell_type": "code",
   "execution_count": null,
   "metadata": {},
   "outputs": [],
   "source": [
    "df[df.nreplies > 10].boxplot('nreplies', 'lda_topic_max', showfliers=False)"
   ]
  },
  {
   "cell_type": "code",
   "execution_count": null,
   "metadata": {},
   "outputs": [],
   "source": [
    "df[df.nretweets > 10].boxplot('nretweets', 'lda_topic_max', showfliers=False)"
   ]
  },
  {
   "cell_type": "markdown",
   "metadata": {},
   "source": [
    "- **No standout topics here.**"
   ]
  },
  {
   "cell_type": "code",
   "execution_count": null,
   "metadata": {},
   "outputs": [],
   "source": []
  }
 ],
 "metadata": {
  "kernelspec": {
   "display_name": "Python 3",
   "language": "python",
   "name": "python3"
  },
  "language_info": {
   "codemirror_mode": {
    "name": "ipython",
    "version": 3
   },
   "file_extension": ".py",
   "mimetype": "text/x-python",
   "name": "python",
   "nbconvert_exporter": "python",
   "pygments_lexer": "ipython3",
   "version": "3.6.9"
  }
 },
 "nbformat": 4,
 "nbformat_minor": 4
}
