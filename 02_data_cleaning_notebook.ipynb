{
 "cells": [
  {
   "cell_type": "markdown",
   "metadata": {},
   "source": [
    "# Data Cleaning\n",
    "\n",
    "## Cleaning and combining dataframes\n",
    "\n",
    "- In this notebook, [Eric Blander](https://github.com/EricB10) and [I](https://github.com/p-szymo) clean up the raw data we scraped in our Twitter scraping [notebook](01_twitter_scraping_notebook.ipynb).\n",
    "- We then combine it all into one large CSV file.\n",
    "\n",
    "## Table of contents\n",
    "1. [Monthly dataframe cleaning](#Monthly-dataframe-cleaning)\n",
    "\n",
    "    - [January](#January)\n",
    "    - [February](#February)\n",
    "    - [March](#March)\n",
    "        - [First half](#First-half)\n",
    "        - [Second half](#Second-half)\n",
    "    - [April](#April)\n",
    "    - [May](#May)\n",
    "    \n",
    "\n",
    "2. [Downsize to 5,000 tweets per day](#Downsize-to-5,000-tweets-per-day)\n",
    "3. [Combine DataFrames](#Combine-DataFrames)\n",
    "\n",
    "    - [Save](#Save)"
   ]
  },
  {
   "cell_type": "code",
   "execution_count": 1,
   "metadata": {},
   "outputs": [],
   "source": [
    "# import standard libraries\n",
    "import numpy as np\n",
    "import pandas as pd"
   ]
  },
  {
   "cell_type": "markdown",
   "metadata": {},
   "source": [
    "## Monthly dataframe cleaning\n",
    "\n",
    "[[go back to the top](#Data-Cleaning)]\n",
    "\n",
    "- After loading raw datasets:\n",
    "    - Check for NaN values and determine whether they can be dropped.\n",
    "    - Check for incorrectly scraped values and change or drop them.\n",
    "    - Drop unnecessary columns.\n",
    "    - Reset index.\n",
    "    - Save.\n",
    "\n",
    "### January\n",
    "\n",
    "[[go back to the top](#Data-Cleaning)]"
   ]
  },
  {
   "cell_type": "code",
   "execution_count": 71,
   "metadata": {},
   "outputs": [
    {
     "name": "stderr",
     "output_type": "stream",
     "text": [
      "/Users/eric/opt/anaconda3/lib/python3.7/site-packages/IPython/core/interactiveshell.py:3063: DtypeWarning: Columns (1,3,11,12) have mixed types.Specify dtype option on import or set low_memory=False.\n",
      "  interactivity=interactivity, compiler=compiler, result=result)\n"
     ]
    },
    {
     "data": {
      "text/html": [
       "<div>\n",
       "<style scoped>\n",
       "    .dataframe tbody tr th:only-of-type {\n",
       "        vertical-align: middle;\n",
       "    }\n",
       "\n",
       "    .dataframe tbody tr th {\n",
       "        vertical-align: top;\n",
       "    }\n",
       "\n",
       "    .dataframe thead th {\n",
       "        text-align: right;\n",
       "    }\n",
       "</style>\n",
       "<table border=\"1\" class=\"dataframe\">\n",
       "  <thead>\n",
       "    <tr style=\"text-align: right;\">\n",
       "      <th></th>\n",
       "      <th>id</th>\n",
       "      <th>conversation_id</th>\n",
       "      <th>created_at</th>\n",
       "      <th>date</th>\n",
       "      <th>tweet</th>\n",
       "      <th>hashtags</th>\n",
       "      <th>user_id</th>\n",
       "      <th>username</th>\n",
       "      <th>name</th>\n",
       "      <th>link</th>\n",
       "      <th>retweet</th>\n",
       "      <th>nlikes</th>\n",
       "      <th>nreplies</th>\n",
       "      <th>nretweets</th>\n",
       "      <th>quote_url</th>\n",
       "      <th>retweet_id</th>\n",
       "      <th>reply_to</th>\n",
       "    </tr>\n",
       "  </thead>\n",
       "  <tbody>\n",
       "    <tr>\n",
       "      <th>0</th>\n",
       "      <td>1212523886329380865</td>\n",
       "      <td>1.212524e+18</td>\n",
       "      <td>1577923196000</td>\n",
       "      <td>2020-01-01</td>\n",
       "      <td>SpongeBob: slides down Sand Mountain\\nThe tree...</td>\n",
       "      <td>[]</td>\n",
       "      <td>1.099210e+18</td>\n",
       "      <td>Matt04181</td>\n",
       "      <td>Matt0417 (CEO of POOP)</td>\n",
       "      <td>https://twitter.com/Matt04181/status/121252388...</td>\n",
       "      <td>False</td>\n",
       "      <td>4</td>\n",
       "      <td>0.0</td>\n",
       "      <td>0.0</td>\n",
       "      <td>NaN</td>\n",
       "      <td>NaN</td>\n",
       "      <td>[{'user_id': '1099209894295678977', 'username'...</td>\n",
       "    </tr>\n",
       "    <tr>\n",
       "      <th>1</th>\n",
       "      <td>1212523880558026753</td>\n",
       "      <td>1.212524e+18</td>\n",
       "      <td>1577923195000</td>\n",
       "      <td>2020-01-01</td>\n",
       "      <td>Started 2020 with freshly washed bed sheets, a...</td>\n",
       "      <td>[]</td>\n",
       "      <td>5.777754e+07</td>\n",
       "      <td>standtallx</td>\n",
       "      <td>Emma 🧛🏻‍♀️</td>\n",
       "      <td>https://twitter.com/standtallx/status/12125238...</td>\n",
       "      <td>False</td>\n",
       "      <td>3</td>\n",
       "      <td>2.0</td>\n",
       "      <td>0.0</td>\n",
       "      <td>NaN</td>\n",
       "      <td>NaN</td>\n",
       "      <td>[{'user_id': '57777541', 'username': 'standtal...</td>\n",
       "    </tr>\n",
       "    <tr>\n",
       "      <th>2</th>\n",
       "      <td>1212523828888449024</td>\n",
       "      <td>1.212421e+18</td>\n",
       "      <td>1577923183000</td>\n",
       "      <td>2020-01-01</td>\n",
       "      <td>Using the coverage of his yellow card to mask ...</td>\n",
       "      <td>['#classicjose', '#coverup']</td>\n",
       "      <td>3.466098e+08</td>\n",
       "      <td>5_Times_LFC</td>\n",
       "      <td>6 Times LFC</td>\n",
       "      <td>https://twitter.com/5_Times_LFC/status/1212523...</td>\n",
       "      <td>False</td>\n",
       "      <td>0</td>\n",
       "      <td>0.0</td>\n",
       "      <td>0.0</td>\n",
       "      <td>NaN</td>\n",
       "      <td>NaN</td>\n",
       "      <td>[{'user_id': '346609834', 'username': '5_Times...</td>\n",
       "    </tr>\n",
       "    <tr>\n",
       "      <th>3</th>\n",
       "      <td>1212523807128186882</td>\n",
       "      <td>1.212403e+18</td>\n",
       "      <td>1577923177000</td>\n",
       "      <td>2020-01-01</td>\n",
       "      <td>The mask  pic.twitter.com/vHi9pC9S62</td>\n",
       "      <td>[]</td>\n",
       "      <td>1.070006e+18</td>\n",
       "      <td>kagura_shelby</td>\n",
       "      <td>mugiwara no</td>\n",
       "      <td>https://twitter.com/kagura_shelby/status/12125...</td>\n",
       "      <td>False</td>\n",
       "      <td>3</td>\n",
       "      <td>0.0</td>\n",
       "      <td>0.0</td>\n",
       "      <td>NaN</td>\n",
       "      <td>NaN</td>\n",
       "      <td>[{'user_id': '1070005555777945600', 'username'...</td>\n",
       "    </tr>\n",
       "    <tr>\n",
       "      <th>4</th>\n",
       "      <td>1212523752925229056</td>\n",
       "      <td>1.212513e+18</td>\n",
       "      <td>1577923164000</td>\n",
       "      <td>2020-01-01</td>\n",
       "      <td>I know what you mean, I've been depressed too ...</td>\n",
       "      <td>['#hugs']</td>\n",
       "      <td>4.865904e+07</td>\n",
       "      <td>IBdaSweet1</td>\n",
       "      <td>Luwamba L.J.Taylor</td>\n",
       "      <td>https://twitter.com/IBdaSweet1/status/12125237...</td>\n",
       "      <td>False</td>\n",
       "      <td>1</td>\n",
       "      <td>0.0</td>\n",
       "      <td>0.0</td>\n",
       "      <td>NaN</td>\n",
       "      <td>NaN</td>\n",
       "      <td>[{'user_id': '48659042', 'username': 'IBdaSwee...</td>\n",
       "    </tr>\n",
       "  </tbody>\n",
       "</table>\n",
       "</div>"
      ],
      "text/plain": [
       "                    id  conversation_id     created_at        date  \\\n",
       "0  1212523886329380865     1.212524e+18  1577923196000  2020-01-01   \n",
       "1  1212523880558026753     1.212524e+18  1577923195000  2020-01-01   \n",
       "2  1212523828888449024     1.212421e+18  1577923183000  2020-01-01   \n",
       "3  1212523807128186882     1.212403e+18  1577923177000  2020-01-01   \n",
       "4  1212523752925229056     1.212513e+18  1577923164000  2020-01-01   \n",
       "\n",
       "                                               tweet  \\\n",
       "0  SpongeBob: slides down Sand Mountain\\nThe tree...   \n",
       "1  Started 2020 with freshly washed bed sheets, a...   \n",
       "2  Using the coverage of his yellow card to mask ...   \n",
       "3               The mask  pic.twitter.com/vHi9pC9S62   \n",
       "4  I know what you mean, I've been depressed too ...   \n",
       "\n",
       "                       hashtags       user_id       username  \\\n",
       "0                            []  1.099210e+18      Matt04181   \n",
       "1                            []  5.777754e+07     standtallx   \n",
       "2  ['#classicjose', '#coverup']  3.466098e+08    5_Times_LFC   \n",
       "3                            []  1.070006e+18  kagura_shelby   \n",
       "4                     ['#hugs']  4.865904e+07     IBdaSweet1   \n",
       "\n",
       "                     name                                               link  \\\n",
       "0  Matt0417 (CEO of POOP)  https://twitter.com/Matt04181/status/121252388...   \n",
       "1              Emma 🧛🏻‍♀️  https://twitter.com/standtallx/status/12125238...   \n",
       "2             6 Times LFC  https://twitter.com/5_Times_LFC/status/1212523...   \n",
       "3             mugiwara no  https://twitter.com/kagura_shelby/status/12125...   \n",
       "4      Luwamba L.J.Taylor  https://twitter.com/IBdaSweet1/status/12125237...   \n",
       "\n",
       "  retweet nlikes  nreplies  nretweets quote_url  retweet_id  \\\n",
       "0   False      4       0.0        0.0       NaN         NaN   \n",
       "1   False      3       2.0        0.0       NaN         NaN   \n",
       "2   False      0       0.0        0.0       NaN         NaN   \n",
       "3   False      3       0.0        0.0       NaN         NaN   \n",
       "4   False      1       0.0        0.0       NaN         NaN   \n",
       "\n",
       "                                            reply_to  \n",
       "0  [{'user_id': '1099209894295678977', 'username'...  \n",
       "1  [{'user_id': '57777541', 'username': 'standtal...  \n",
       "2  [{'user_id': '346609834', 'username': '5_Times...  \n",
       "3  [{'user_id': '1070005555777945600', 'username'...  \n",
       "4  [{'user_id': '48659042', 'username': 'IBdaSwee...  "
      ]
     },
     "execution_count": 71,
     "metadata": {},
     "output_type": "execute_result"
    }
   ],
   "source": [
    "# load january datframe and take a look\n",
    "jan = pd.read_csv('data/january_tweets.csv', index_col=0)\n",
    "jan.head()"
   ]
  },
  {
   "cell_type": "code",
   "execution_count": 73,
   "metadata": {},
   "outputs": [
    {
     "data": {
      "text/plain": [
       "(487435, 17)"
      ]
     },
     "execution_count": 73,
     "metadata": {},
     "output_type": "execute_result"
    }
   ],
   "source": [
    "# look at size of dataframe\n",
    "jan.shape"
   ]
  },
  {
   "cell_type": "code",
   "execution_count": 74,
   "metadata": {},
   "outputs": [
    {
     "data": {
      "text/plain": [
       "id                  10674\n",
       "conversation_id     10674\n",
       "created_at          10674\n",
       "date                10674\n",
       "tweet               10674\n",
       "hashtags            21349\n",
       "user_id             21349\n",
       "username            21349\n",
       "name                21365\n",
       "link                21351\n",
       "retweet             21351\n",
       "nlikes              21349\n",
       "nreplies            21351\n",
       "nretweets           21351\n",
       "quote_url          446776\n",
       "retweet_id         487435\n",
       "reply_to            21351\n",
       "dtype: int64"
      ]
     },
     "execution_count": 74,
     "metadata": {},
     "output_type": "execute_result"
    }
   ],
   "source": [
    "# check for NaN values\n",
    "jan.isna().sum()"
   ]
  },
  {
   "cell_type": "code",
   "execution_count": 72,
   "metadata": {},
   "outputs": [
    {
     "data": {
      "text/plain": [
       "array(['2020-01-01', '2020-01-02', '2020-01-03', '2020-01-04',\n",
       "       'Dream Doctor®', '2020-01-05', '2020-01-06', '2020-01-07',\n",
       "       '2020-01-08', nan, 'We The Curators', '2020-01-09', '2020-01-10',\n",
       "       '2020-01-11', '2020-01-12', '2020-01-13', '2020-01-14',\n",
       "       '2020-01-15', '2020-01-16', '2020-01-17', '2020-01-18',\n",
       "       '2020-01-19', '2020-01-20', '2020-01-21', '2020-01-22',\n",
       "       '2020-01-23', '2020-01-24', '2020-01-25', '2020-01-26',\n",
       "       '2020-01-27', '2020-01-28', '2020-01-29', '2020-01-30',\n",
       "       '2020-01-31'], dtype=object)"
      ]
     },
     "execution_count": 72,
     "metadata": {},
     "output_type": "execute_result"
    }
   ],
   "source": [
    "# check for strange values\n",
    "jan['date'].unique()"
   ]
  },
  {
   "cell_type": "code",
   "execution_count": 78,
   "metadata": {},
   "outputs": [
    {
     "data": {
      "text/plain": [
       "(487435, 17)"
      ]
     },
     "execution_count": 78,
     "metadata": {},
     "output_type": "execute_result"
    }
   ],
   "source": [
    "# create a copy to clean\n",
    "jan_clean = jan.copy()\n",
    "\n",
    "# check shape\n",
    "jan_clean.shape"
   ]
  },
  {
   "cell_type": "code",
   "execution_count": 79,
   "metadata": {},
   "outputs": [
    {
     "data": {
      "text/plain": [
       "(476761, 17)"
      ]
     },
     "execution_count": 79,
     "metadata": {},
     "output_type": "execute_result"
    }
   ],
   "source": [
    "# drop rows with all NaN values\n",
    "jan_clean.dropna(how='all', inplace=True)\n",
    "\n",
    "# confirm\n",
    "jan_clean.shape"
   ]
  },
  {
   "cell_type": "code",
   "execution_count": 85,
   "metadata": {},
   "outputs": [
    {
     "data": {
      "text/html": [
       "<div>\n",
       "<style scoped>\n",
       "    .dataframe tbody tr th:only-of-type {\n",
       "        vertical-align: middle;\n",
       "    }\n",
       "\n",
       "    .dataframe tbody tr th {\n",
       "        vertical-align: top;\n",
       "    }\n",
       "\n",
       "    .dataframe thead th {\n",
       "        text-align: right;\n",
       "    }\n",
       "</style>\n",
       "<table border=\"1\" class=\"dataframe\">\n",
       "  <thead>\n",
       "    <tr style=\"text-align: right;\">\n",
       "      <th></th>\n",
       "      <th>id</th>\n",
       "      <th>conversation_id</th>\n",
       "      <th>created_at</th>\n",
       "      <th>date</th>\n",
       "      <th>tweet</th>\n",
       "      <th>hashtags</th>\n",
       "      <th>user_id</th>\n",
       "      <th>username</th>\n",
       "      <th>name</th>\n",
       "      <th>link</th>\n",
       "      <th>retweet</th>\n",
       "      <th>nlikes</th>\n",
       "      <th>nreplies</th>\n",
       "      <th>nretweets</th>\n",
       "      <th>quote_url</th>\n",
       "      <th>retweet_id</th>\n",
       "      <th>reply_to</th>\n",
       "    </tr>\n",
       "  </thead>\n",
       "  <tbody>\n",
       "    <tr>\n",
       "      <th>98304</th>\n",
       "      <td>[]</td>\n",
       "      <td>2.991984e+09</td>\n",
       "      <td>WeTheCurators2</td>\n",
       "      <td>We The Curators</td>\n",
       "      <td>https://twitter.com/WeTheCurators2/status/1214...</td>\n",
       "      <td>False</td>\n",
       "      <td>0.0</td>\n",
       "      <td>0</td>\n",
       "      <td>0</td>\n",
       "      <td>NaN</td>\n",
       "      <td>NaN</td>\n",
       "      <td>[{'user_id': '2991984139', 'username': 'WeTheC...</td>\n",
       "      <td>NaN</td>\n",
       "      <td>NaN</td>\n",
       "      <td>NaN</td>\n",
       "      <td>NaN</td>\n",
       "      <td>NaN</td>\n",
       "    </tr>\n",
       "  </tbody>\n",
       "</table>\n",
       "</div>"
      ],
      "text/plain": [
       "       id  conversation_id      created_at             date  \\\n",
       "98304  []     2.991984e+09  WeTheCurators2  We The Curators   \n",
       "\n",
       "                                                   tweet hashtags  user_id  \\\n",
       "98304  https://twitter.com/WeTheCurators2/status/1214...    False      0.0   \n",
       "\n",
       "      username name link retweet  \\\n",
       "98304        0    0  NaN     NaN   \n",
       "\n",
       "                                                  nlikes  nreplies  nretweets  \\\n",
       "98304  [{'user_id': '2991984139', 'username': 'WeTheC...       NaN        NaN   \n",
       "\n",
       "      quote_url  retweet_id reply_to  \n",
       "98304       NaN         NaN      NaN  "
      ]
     },
     "execution_count": 85,
     "metadata": {},
     "output_type": "execute_result"
    }
   ],
   "source": [
    "# look at instances with scraping error \n",
    "jan_clean[jan_clean['date'] == 'Dream Doctor®']\n",
    "jan_clean[jan_clean['date'] == 'We The Curators']"
   ]
  },
  {
   "cell_type": "code",
   "execution_count": 86,
   "metadata": {},
   "outputs": [
    {
     "data": {
      "text/plain": [
       "(476759, 17)"
      ]
     },
     "execution_count": 86,
     "metadata": {},
     "output_type": "execute_result"
    }
   ],
   "source": [
    "# drop those rows\n",
    "jan_clean.drop(index=[28907, 98304], inplace=True)\n",
    "\n",
    "# confirm\n",
    "jan_clean.shape"
   ]
  },
  {
   "cell_type": "code",
   "execution_count": 341,
   "metadata": {},
   "outputs": [
    {
     "data": {
      "text/plain": [
       "array(['2020-01-01', '2020-01-02', '2020-01-03', '2020-01-04',\n",
       "       '2020-01-05', '2020-01-06', '2020-01-07', '2020-01-08',\n",
       "       '2020-01-09', '2020-01-10', '2020-01-11', '2020-01-12',\n",
       "       '2020-01-13', '2020-01-14', '2020-01-15', '2020-01-16',\n",
       "       '2020-01-17', '2020-01-18', '2020-01-19', '2020-01-20',\n",
       "       '2020-01-21', '2020-01-22', '2020-01-23', '2020-01-24',\n",
       "       '2020-01-25', '2020-01-26', '2020-01-27', '2020-01-28',\n",
       "       '2020-01-29', '2020-01-30', '2020-01-31'], dtype=object)"
      ]
     },
     "execution_count": 341,
     "metadata": {},
     "output_type": "execute_result"
    }
   ],
   "source": [
    "# check\n",
    "jan_clean['date'].unique()"
   ]
  },
  {
   "cell_type": "code",
   "execution_count": 344,
   "metadata": {},
   "outputs": [
    {
     "data": {
      "text/plain": [
       "(450482, 17)"
      ]
     },
     "execution_count": 344,
     "metadata": {},
     "output_type": "execute_result"
    }
   ],
   "source": [
    "# drop duplicate tweets and/or retweets\n",
    "jan_clean = jan_clean.drop_duplicates(subset='tweet')\n",
    "\n",
    "# confirm\n",
    "jan_clean.shape"
   ]
  },
  {
   "cell_type": "code",
   "execution_count": 359,
   "metadata": {},
   "outputs": [
    {
     "data": {
      "text/plain": [
       "id                      0\n",
       "conversation_id         0\n",
       "created_at              0\n",
       "date                    0\n",
       "tweet                   0\n",
       "hashtags                2\n",
       "user_id                 2\n",
       "username                2\n",
       "name                   18\n",
       "link                    2\n",
       "retweet                 2\n",
       "nlikes                  2\n",
       "nreplies                2\n",
       "nretweets               2\n",
       "quote_url          410160\n",
       "retweet_id         450482\n",
       "reply_to                2\n",
       "dtype: int64"
      ]
     },
     "execution_count": 359,
     "metadata": {},
     "output_type": "execute_result"
    }
   ],
   "source": [
    "# take another look at NaN values\n",
    "jan_clean.isna().sum()"
   ]
  },
  {
   "cell_type": "code",
   "execution_count": 366,
   "metadata": {},
   "outputs": [
    {
     "data": {
      "text/plain": [
       "(450464, 17)"
      ]
     },
     "execution_count": 366,
     "metadata": {},
     "output_type": "execute_result"
    }
   ],
   "source": [
    "# drop any tweets missing a value for name (takes care of other NaN values)\n",
    "jan_clean.dropna(subset=['name'], inplace=True)\n",
    "jan_clean.shape"
   ]
  },
  {
   "cell_type": "code",
   "execution_count": null,
   "metadata": {},
   "outputs": [],
   "source": [
    "# drop quote_url and retweet_id columns\n",
    "jan_clean.drop(columns=['quote_url', 'retweet_id'], inplace=True)"
   ]
  },
  {
   "cell_type": "code",
   "execution_count": 368,
   "metadata": {},
   "outputs": [
    {
     "data": {
      "text/html": [
       "<div>\n",
       "<style scoped>\n",
       "    .dataframe tbody tr th:only-of-type {\n",
       "        vertical-align: middle;\n",
       "    }\n",
       "\n",
       "    .dataframe tbody tr th {\n",
       "        vertical-align: top;\n",
       "    }\n",
       "\n",
       "    .dataframe thead th {\n",
       "        text-align: right;\n",
       "    }\n",
       "</style>\n",
       "<table border=\"1\" class=\"dataframe\">\n",
       "  <thead>\n",
       "    <tr style=\"text-align: right;\">\n",
       "      <th></th>\n",
       "      <th>id</th>\n",
       "      <th>conversation_id</th>\n",
       "      <th>created_at</th>\n",
       "      <th>date</th>\n",
       "      <th>tweet</th>\n",
       "      <th>hashtags</th>\n",
       "      <th>user_id</th>\n",
       "      <th>username</th>\n",
       "      <th>name</th>\n",
       "      <th>link</th>\n",
       "      <th>retweet</th>\n",
       "      <th>nlikes</th>\n",
       "      <th>nreplies</th>\n",
       "      <th>nretweets</th>\n",
       "      <th>quote_url</th>\n",
       "      <th>retweet_id</th>\n",
       "      <th>reply_to</th>\n",
       "    </tr>\n",
       "  </thead>\n",
       "  <tbody>\n",
       "    <tr>\n",
       "      <th>0</th>\n",
       "      <td>1.212524e+18</td>\n",
       "      <td>1.212524e+18</td>\n",
       "      <td>1.577923e+12</td>\n",
       "      <td>2020-01-01</td>\n",
       "      <td>SpongeBob: slides down Sand Mountain\\nThe tree...</td>\n",
       "      <td>[]</td>\n",
       "      <td>1.099210e+18</td>\n",
       "      <td>Matt04181</td>\n",
       "      <td>Matt0417 (CEO of POOP)</td>\n",
       "      <td>https://twitter.com/Matt04181/status/121252388...</td>\n",
       "      <td>False</td>\n",
       "      <td>4.0</td>\n",
       "      <td>0.0</td>\n",
       "      <td>0.0</td>\n",
       "      <td>NaN</td>\n",
       "      <td>NaN</td>\n",
       "      <td>[{'user_id': '1099209894295678977', 'username'...</td>\n",
       "    </tr>\n",
       "    <tr>\n",
       "      <th>1</th>\n",
       "      <td>1.212524e+18</td>\n",
       "      <td>1.212524e+18</td>\n",
       "      <td>1.577923e+12</td>\n",
       "      <td>2020-01-01</td>\n",
       "      <td>Started 2020 with freshly washed bed sheets, a...</td>\n",
       "      <td>[]</td>\n",
       "      <td>5.777754e+07</td>\n",
       "      <td>standtallx</td>\n",
       "      <td>Emma 🧛🏻‍♀️</td>\n",
       "      <td>https://twitter.com/standtallx/status/12125238...</td>\n",
       "      <td>False</td>\n",
       "      <td>3.0</td>\n",
       "      <td>2.0</td>\n",
       "      <td>0.0</td>\n",
       "      <td>NaN</td>\n",
       "      <td>NaN</td>\n",
       "      <td>[{'user_id': '57777541', 'username': 'standtal...</td>\n",
       "    </tr>\n",
       "    <tr>\n",
       "      <th>2</th>\n",
       "      <td>1.212524e+18</td>\n",
       "      <td>1.212421e+18</td>\n",
       "      <td>1.577923e+12</td>\n",
       "      <td>2020-01-01</td>\n",
       "      <td>Using the coverage of his yellow card to mask ...</td>\n",
       "      <td>['#classicjose', '#coverup']</td>\n",
       "      <td>3.466098e+08</td>\n",
       "      <td>5_Times_LFC</td>\n",
       "      <td>6 Times LFC</td>\n",
       "      <td>https://twitter.com/5_Times_LFC/status/1212523...</td>\n",
       "      <td>False</td>\n",
       "      <td>0.0</td>\n",
       "      <td>0.0</td>\n",
       "      <td>0.0</td>\n",
       "      <td>NaN</td>\n",
       "      <td>NaN</td>\n",
       "      <td>[{'user_id': '346609834', 'username': '5_Times...</td>\n",
       "    </tr>\n",
       "    <tr>\n",
       "      <th>3</th>\n",
       "      <td>1.212524e+18</td>\n",
       "      <td>1.212403e+18</td>\n",
       "      <td>1.577923e+12</td>\n",
       "      <td>2020-01-01</td>\n",
       "      <td>The mask  pic.twitter.com/vHi9pC9S62</td>\n",
       "      <td>[]</td>\n",
       "      <td>1.070006e+18</td>\n",
       "      <td>kagura_shelby</td>\n",
       "      <td>mugiwara no</td>\n",
       "      <td>https://twitter.com/kagura_shelby/status/12125...</td>\n",
       "      <td>False</td>\n",
       "      <td>3.0</td>\n",
       "      <td>0.0</td>\n",
       "      <td>0.0</td>\n",
       "      <td>NaN</td>\n",
       "      <td>NaN</td>\n",
       "      <td>[{'user_id': '1070005555777945600', 'username'...</td>\n",
       "    </tr>\n",
       "    <tr>\n",
       "      <th>4</th>\n",
       "      <td>1.212524e+18</td>\n",
       "      <td>1.212513e+18</td>\n",
       "      <td>1.577923e+12</td>\n",
       "      <td>2020-01-01</td>\n",
       "      <td>I know what you mean, I've been depressed too ...</td>\n",
       "      <td>['#hugs']</td>\n",
       "      <td>4.865904e+07</td>\n",
       "      <td>IBdaSweet1</td>\n",
       "      <td>Luwamba L.J.Taylor</td>\n",
       "      <td>https://twitter.com/IBdaSweet1/status/12125237...</td>\n",
       "      <td>False</td>\n",
       "      <td>1.0</td>\n",
       "      <td>0.0</td>\n",
       "      <td>0.0</td>\n",
       "      <td>NaN</td>\n",
       "      <td>NaN</td>\n",
       "      <td>[{'user_id': '48659042', 'username': 'IBdaSwee...</td>\n",
       "    </tr>\n",
       "  </tbody>\n",
       "</table>\n",
       "</div>"
      ],
      "text/plain": [
       "             id  conversation_id    created_at        date  \\\n",
       "0  1.212524e+18     1.212524e+18  1.577923e+12  2020-01-01   \n",
       "1  1.212524e+18     1.212524e+18  1.577923e+12  2020-01-01   \n",
       "2  1.212524e+18     1.212421e+18  1.577923e+12  2020-01-01   \n",
       "3  1.212524e+18     1.212403e+18  1.577923e+12  2020-01-01   \n",
       "4  1.212524e+18     1.212513e+18  1.577923e+12  2020-01-01   \n",
       "\n",
       "                                               tweet  \\\n",
       "0  SpongeBob: slides down Sand Mountain\\nThe tree...   \n",
       "1  Started 2020 with freshly washed bed sheets, a...   \n",
       "2  Using the coverage of his yellow card to mask ...   \n",
       "3               The mask  pic.twitter.com/vHi9pC9S62   \n",
       "4  I know what you mean, I've been depressed too ...   \n",
       "\n",
       "                       hashtags       user_id       username  \\\n",
       "0                            []  1.099210e+18      Matt04181   \n",
       "1                            []  5.777754e+07     standtallx   \n",
       "2  ['#classicjose', '#coverup']  3.466098e+08    5_Times_LFC   \n",
       "3                            []  1.070006e+18  kagura_shelby   \n",
       "4                     ['#hugs']  4.865904e+07     IBdaSweet1   \n",
       "\n",
       "                     name                                               link  \\\n",
       "0  Matt0417 (CEO of POOP)  https://twitter.com/Matt04181/status/121252388...   \n",
       "1              Emma 🧛🏻‍♀️  https://twitter.com/standtallx/status/12125238...   \n",
       "2             6 Times LFC  https://twitter.com/5_Times_LFC/status/1212523...   \n",
       "3             mugiwara no  https://twitter.com/kagura_shelby/status/12125...   \n",
       "4      Luwamba L.J.Taylor  https://twitter.com/IBdaSweet1/status/12125237...   \n",
       "\n",
       "  retweet  nlikes  nreplies  nretweets quote_url  retweet_id  \\\n",
       "0   False     4.0       0.0        0.0       NaN         NaN   \n",
       "1   False     3.0       2.0        0.0       NaN         NaN   \n",
       "2   False     0.0       0.0        0.0       NaN         NaN   \n",
       "3   False     3.0       0.0        0.0       NaN         NaN   \n",
       "4   False     1.0       0.0        0.0       NaN         NaN   \n",
       "\n",
       "                                            reply_to  \n",
       "0  [{'user_id': '1099209894295678977', 'username'...  \n",
       "1  [{'user_id': '57777541', 'username': 'standtal...  \n",
       "2  [{'user_id': '346609834', 'username': '5_Times...  \n",
       "3  [{'user_id': '1070005555777945600', 'username'...  \n",
       "4  [{'user_id': '48659042', 'username': 'IBdaSwee...  "
      ]
     },
     "execution_count": 368,
     "metadata": {},
     "output_type": "execute_result"
    }
   ],
   "source": [
    "# reset index\n",
    "jan_clean.reset_index(drop=True, inplace=True)\n",
    "\n",
    "# confirm\n",
    "jan_clean.head()"
   ]
  },
  {
   "cell_type": "code",
   "execution_count": 369,
   "metadata": {},
   "outputs": [],
   "source": [
    "# save to csv\n",
    "jan_clean.to_csv('data/jan_tweets_clean.csv')"
   ]
  },
  {
   "cell_type": "markdown",
   "metadata": {},
   "source": [
    "### February\n",
    "\n",
    "[[go back to the top](#Data-Cleaning)]"
   ]
  },
  {
   "cell_type": "code",
   "execution_count": 25,
   "metadata": {},
   "outputs": [
    {
     "name": "stderr",
     "output_type": "stream",
     "text": [
      "/Users/eric/opt/anaconda3/lib/python3.7/site-packages/IPython/core/interactiveshell.py:3063: DtypeWarning: Columns (1,3,4,5,6,8,9,10,11,12,15,17) have mixed types.Specify dtype option on import or set low_memory=False.\n",
      "  interactivity=interactivity, compiler=compiler, result=result)\n"
     ]
    },
    {
     "data": {
      "text/html": [
       "<div>\n",
       "<style scoped>\n",
       "    .dataframe tbody tr th:only-of-type {\n",
       "        vertical-align: middle;\n",
       "    }\n",
       "\n",
       "    .dataframe tbody tr th {\n",
       "        vertical-align: top;\n",
       "    }\n",
       "\n",
       "    .dataframe thead th {\n",
       "        text-align: right;\n",
       "    }\n",
       "</style>\n",
       "<table border=\"1\" class=\"dataframe\">\n",
       "  <thead>\n",
       "    <tr style=\"text-align: right;\">\n",
       "      <th></th>\n",
       "      <th>id</th>\n",
       "      <th>conversation_id</th>\n",
       "      <th>created_at</th>\n",
       "      <th>date</th>\n",
       "      <th>tweet</th>\n",
       "      <th>hashtags</th>\n",
       "      <th>user_id</th>\n",
       "      <th>username</th>\n",
       "      <th>name</th>\n",
       "      <th>link</th>\n",
       "      <th>retweet</th>\n",
       "      <th>nlikes</th>\n",
       "      <th>nreplies</th>\n",
       "      <th>nretweets</th>\n",
       "      <th>quote_url</th>\n",
       "      <th>retweet_id</th>\n",
       "      <th>reply_to</th>\n",
       "    </tr>\n",
       "  </thead>\n",
       "  <tbody>\n",
       "    <tr>\n",
       "      <th>0</th>\n",
       "      <td>1223757879305367552</td>\n",
       "      <td>1.223758e+18</td>\n",
       "      <td>1580601589000</td>\n",
       "      <td>2020-02-01</td>\n",
       "      <td>Bought Bruno Fernandes, play him at CDM? Wtf a...</td>\n",
       "      <td>[]</td>\n",
       "      <td>2.221553e+09</td>\n",
       "      <td>chong_wh96</td>\n",
       "      <td>Chong_wH</td>\n",
       "      <td>https://twitter.com/chong_wh96/status/12237578...</td>\n",
       "      <td>False</td>\n",
       "      <td>0</td>\n",
       "      <td>0.0</td>\n",
       "      <td>0.0</td>\n",
       "      <td>NaN</td>\n",
       "      <td>NaN</td>\n",
       "      <td>[{'user_id': '2221552537', 'username': 'chong_...</td>\n",
       "    </tr>\n",
       "    <tr>\n",
       "      <th>1</th>\n",
       "      <td>1223757878827159552</td>\n",
       "      <td>1.223758e+18</td>\n",
       "      <td>1580601589000</td>\n",
       "      <td>2020-02-01</td>\n",
       "      <td>My sister sent me $90 worth of face masks and ...</td>\n",
       "      <td>[]</td>\n",
       "      <td>3.075768e+09</td>\n",
       "      <td>Yamanik30</td>\n",
       "      <td>ACAB</td>\n",
       "      <td>https://twitter.com/Yamanik30/status/122375787...</td>\n",
       "      <td>False</td>\n",
       "      <td>6</td>\n",
       "      <td>0.0</td>\n",
       "      <td>0.0</td>\n",
       "      <td>NaN</td>\n",
       "      <td>NaN</td>\n",
       "      <td>[{'user_id': '3075767827', 'username': 'Yamani...</td>\n",
       "    </tr>\n",
       "    <tr>\n",
       "      <th>2</th>\n",
       "      <td>1223757871751426049</td>\n",
       "      <td>1.223758e+18</td>\n",
       "      <td>1580601587000</td>\n",
       "      <td>2020-02-01</td>\n",
       "      <td>Because Nigeria is currently 51% Muslim and th...</td>\n",
       "      <td>[]</td>\n",
       "      <td>2.184187e+07</td>\n",
       "      <td>Dimplez</td>\n",
       "      <td>Dimplez 🇳🇬</td>\n",
       "      <td>https://twitter.com/Dimplez/status/12237578717...</td>\n",
       "      <td>False</td>\n",
       "      <td>16</td>\n",
       "      <td>0.0</td>\n",
       "      <td>3.0</td>\n",
       "      <td>https://twitter.com/JesseLehrich/status/122336...</td>\n",
       "      <td>NaN</td>\n",
       "      <td>[{'user_id': '21841872', 'username': 'Dimplez'}]</td>\n",
       "    </tr>\n",
       "    <tr>\n",
       "      <th>3</th>\n",
       "      <td>1223757866911326209</td>\n",
       "      <td>1.223758e+18</td>\n",
       "      <td>1580601586000</td>\n",
       "      <td>2020-02-01</td>\n",
       "      <td>When you were a mask to stop the cronavirus bu...</td>\n",
       "      <td>[]</td>\n",
       "      <td>1.209989e+18</td>\n",
       "      <td>Harry31348302</td>\n",
       "      <td>Harry</td>\n",
       "      <td>https://twitter.com/Harry31348302/status/12237...</td>\n",
       "      <td>False</td>\n",
       "      <td>0</td>\n",
       "      <td>0.0</td>\n",
       "      <td>0.0</td>\n",
       "      <td>NaN</td>\n",
       "      <td>NaN</td>\n",
       "      <td>[{'user_id': '1209988745790918656', 'username'...</td>\n",
       "    </tr>\n",
       "    <tr>\n",
       "      <th>4</th>\n",
       "      <td>1223757863627018241</td>\n",
       "      <td>1.223757e+18</td>\n",
       "      <td>1580601585000</td>\n",
       "      <td>2020-02-01</td>\n",
       "      <td>This 'MeshGraphic' implementation supports:\\n\\...</td>\n",
       "      <td>[]</td>\n",
       "      <td>1.478940e+09</td>\n",
       "      <td>Softdrink_117</td>\n",
       "      <td>Softdrink 117</td>\n",
       "      <td>https://twitter.com/Softdrink_117/status/12237...</td>\n",
       "      <td>False</td>\n",
       "      <td>0</td>\n",
       "      <td>0.0</td>\n",
       "      <td>0.0</td>\n",
       "      <td>NaN</td>\n",
       "      <td>NaN</td>\n",
       "      <td>[{'user_id': '1478940204', 'username': 'Softdr...</td>\n",
       "    </tr>\n",
       "  </tbody>\n",
       "</table>\n",
       "</div>"
      ],
      "text/plain": [
       "                    id  conversation_id     created_at        date  \\\n",
       "0  1223757879305367552     1.223758e+18  1580601589000  2020-02-01   \n",
       "1  1223757878827159552     1.223758e+18  1580601589000  2020-02-01   \n",
       "2  1223757871751426049     1.223758e+18  1580601587000  2020-02-01   \n",
       "3  1223757866911326209     1.223758e+18  1580601586000  2020-02-01   \n",
       "4  1223757863627018241     1.223757e+18  1580601585000  2020-02-01   \n",
       "\n",
       "                                               tweet hashtags       user_id  \\\n",
       "0  Bought Bruno Fernandes, play him at CDM? Wtf a...       []  2.221553e+09   \n",
       "1  My sister sent me $90 worth of face masks and ...       []  3.075768e+09   \n",
       "2  Because Nigeria is currently 51% Muslim and th...       []  2.184187e+07   \n",
       "3  When you were a mask to stop the cronavirus bu...       []  1.209989e+18   \n",
       "4  This 'MeshGraphic' implementation supports:\\n\\...       []  1.478940e+09   \n",
       "\n",
       "        username           name  \\\n",
       "0     chong_wh96       Chong_wH   \n",
       "1      Yamanik30           ACAB   \n",
       "2        Dimplez     Dimplez 🇳🇬   \n",
       "3  Harry31348302          Harry   \n",
       "4  Softdrink_117  Softdrink 117   \n",
       "\n",
       "                                                link retweet nlikes  nreplies  \\\n",
       "0  https://twitter.com/chong_wh96/status/12237578...   False      0       0.0   \n",
       "1  https://twitter.com/Yamanik30/status/122375787...   False      6       0.0   \n",
       "2  https://twitter.com/Dimplez/status/12237578717...   False     16       0.0   \n",
       "3  https://twitter.com/Harry31348302/status/12237...   False      0       0.0   \n",
       "4  https://twitter.com/Softdrink_117/status/12237...   False      0       0.0   \n",
       "\n",
       "   nretweets                                          quote_url  retweet_id  \\\n",
       "0        0.0                                                NaN         NaN   \n",
       "1        0.0                                                NaN         NaN   \n",
       "2        3.0  https://twitter.com/JesseLehrich/status/122336...         NaN   \n",
       "3        0.0                                                NaN         NaN   \n",
       "4        0.0                                                NaN         NaN   \n",
       "\n",
       "                                            reply_to  \n",
       "0  [{'user_id': '2221552537', 'username': 'chong_...  \n",
       "1  [{'user_id': '3075767827', 'username': 'Yamani...  \n",
       "2   [{'user_id': '21841872', 'username': 'Dimplez'}]  \n",
       "3  [{'user_id': '1209988745790918656', 'username'...  \n",
       "4  [{'user_id': '1478940204', 'username': 'Softdr...  "
      ]
     },
     "execution_count": 25,
     "metadata": {},
     "output_type": "execute_result"
    }
   ],
   "source": [
    "# load february datframe and take a look\n",
    "feb = pd.read_csv('data/february_tweets.csv', index_col=0)\n",
    "feb.head()"
   ]
  },
  {
   "cell_type": "code",
   "execution_count": 35,
   "metadata": {},
   "outputs": [
    {
     "data": {
      "text/plain": [
       "(626691, 17)"
      ]
     },
     "execution_count": 35,
     "metadata": {},
     "output_type": "execute_result"
    }
   ],
   "source": [
    "# look at size of dataframe\n",
    "feb.shape"
   ]
  },
  {
   "cell_type": "code",
   "execution_count": 26,
   "metadata": {},
   "outputs": [
    {
     "data": {
      "text/plain": [
       "id                  42530\n",
       "conversation_id     42530\n",
       "created_at          42530\n",
       "date                42530\n",
       "tweet               42530\n",
       "hashtags            72125\n",
       "user_id             72125\n",
       "username            72127\n",
       "name                72143\n",
       "link                72131\n",
       "retweet             72131\n",
       "nlikes              72125\n",
       "nreplies            72131\n",
       "nretweets           72131\n",
       "quote_url          581219\n",
       "retweet_id         626691\n",
       "reply_to            72131\n",
       "dtype: int64"
      ]
     },
     "execution_count": 26,
     "metadata": {},
     "output_type": "execute_result"
    }
   ],
   "source": [
    "# check for NaN values\n",
    "feb.isna().sum()"
   ]
  },
  {
   "cell_type": "code",
   "execution_count": 36,
   "metadata": {
    "scrolled": true
   },
   "outputs": [
    {
     "data": {
      "text/plain": [
       "array(['2020-02-01', '2020-02-02', '2020-02-03', '2020-02-04',\n",
       "       '2020-02-05', '2020-02-06', '2020-02-07', '2020-02-08',\n",
       "       '2020-02-09', 'jack', '2020-02-10', '2020-02-11', '2020-02-12',\n",
       "       '2020-02-13', 'KennyWonKenOhBe', '2020-02-14', '2020-02-15',\n",
       "       '2020-02-16', '2020-02-17', 'AsiaNews EN', '2020-02-18', 'Femina',\n",
       "       '2020-02-19', '2020-02-20', '2020-02-21', '2020-02-22',\n",
       "       '2020-02-23', nan, 'We The Curators', '2020-02-24', '2020-02-25',\n",
       "       '2020-02-26', '2020-02-27', '2020-02-28', 'Vivian Kwan',\n",
       "       '2020-02-29'], dtype=object)"
      ]
     },
     "execution_count": 36,
     "metadata": {},
     "output_type": "execute_result"
    }
   ],
   "source": [
    "# check for strange values\n",
    "feb['date'].unique()"
   ]
  },
  {
   "cell_type": "code",
   "execution_count": 88,
   "metadata": {},
   "outputs": [
    {
     "data": {
      "text/plain": [
       "(626691, 17)"
      ]
     },
     "execution_count": 88,
     "metadata": {},
     "output_type": "execute_result"
    }
   ],
   "source": [
    "# create a copy to clean\n",
    "feb_clean = feb.copy()\n",
    "\n",
    "# check shape\n",
    "feb_clean.shape"
   ]
  },
  {
   "cell_type": "code",
   "execution_count": 89,
   "metadata": {},
   "outputs": [
    {
     "data": {
      "text/plain": [
       "(584161, 17)"
      ]
     },
     "execution_count": 89,
     "metadata": {},
     "output_type": "execute_result"
    }
   ],
   "source": [
    "# drop rows with all NaN values\n",
    "feb_clean.dropna(how='all', inplace=True)\n",
    "\n",
    "# confirm\n",
    "feb_clean.shape"
   ]
  },
  {
   "cell_type": "code",
   "execution_count": 98,
   "metadata": {},
   "outputs": [
    {
     "data": {
      "text/html": [
       "<div>\n",
       "<style scoped>\n",
       "    .dataframe tbody tr th:only-of-type {\n",
       "        vertical-align: middle;\n",
       "    }\n",
       "\n",
       "    .dataframe tbody tr th {\n",
       "        vertical-align: top;\n",
       "    }\n",
       "\n",
       "    .dataframe thead th {\n",
       "        text-align: right;\n",
       "    }\n",
       "</style>\n",
       "<table border=\"1\" class=\"dataframe\">\n",
       "  <thead>\n",
       "    <tr style=\"text-align: right;\">\n",
       "      <th></th>\n",
       "      <th>id</th>\n",
       "      <th>conversation_id</th>\n",
       "      <th>created_at</th>\n",
       "      <th>date</th>\n",
       "      <th>tweet</th>\n",
       "      <th>hashtags</th>\n",
       "      <th>user_id</th>\n",
       "      <th>username</th>\n",
       "      <th>name</th>\n",
       "      <th>link</th>\n",
       "      <th>retweet</th>\n",
       "      <th>nlikes</th>\n",
       "      <th>nreplies</th>\n",
       "      <th>nretweets</th>\n",
       "      <th>quote_url</th>\n",
       "      <th>retweet_id</th>\n",
       "      <th>reply_to</th>\n",
       "    </tr>\n",
       "  </thead>\n",
       "  <tbody>\n",
       "    <tr>\n",
       "      <th>156900</th>\n",
       "      <td>['#end_of_the_world', '#china', '#wuhan', '#as...</td>\n",
       "      <td>1.071292e+18</td>\n",
       "      <td>jack24415701</td>\n",
       "      <td>jack</td>\n",
       "      <td>https://twitter.com/jack24415701/status/122646...</td>\n",
       "      <td>False</td>\n",
       "      <td>0.0</td>\n",
       "      <td>0</td>\n",
       "      <td>0</td>\n",
       "      <td>NaN</td>\n",
       "      <td>NaN</td>\n",
       "      <td>[{'user_id': '1071291991873413121', 'username'...</td>\n",
       "      <td>NaN</td>\n",
       "      <td>NaN</td>\n",
       "      <td>NaN</td>\n",
       "      <td>NaN</td>\n",
       "      <td>NaN</td>\n",
       "    </tr>\n",
       "  </tbody>\n",
       "</table>\n",
       "</div>"
      ],
      "text/plain": [
       "                                                       id  conversation_id  \\\n",
       "156900  ['#end_of_the_world', '#china', '#wuhan', '#as...     1.071292e+18   \n",
       "\n",
       "          created_at  date                                              tweet  \\\n",
       "156900  jack24415701  jack  https://twitter.com/jack24415701/status/122646...   \n",
       "\n",
       "       hashtags  user_id username name link retweet  \\\n",
       "156900    False      0.0        0    0  NaN     NaN   \n",
       "\n",
       "                                                   nlikes  nreplies  \\\n",
       "156900  [{'user_id': '1071291991873413121', 'username'...       NaN   \n",
       "\n",
       "        nretweets quote_url  retweet_id reply_to  \n",
       "156900        NaN       NaN         NaN      NaN  "
      ]
     },
     "execution_count": 98,
     "metadata": {},
     "output_type": "execute_result"
    }
   ],
   "source": [
    "# look at instances with scraping error \n",
    "feb_clean[feb_clean['date'] == 'KennyWonKenOhBe']\n",
    "feb_clean[feb_clean['date'] == 'AsiaNews EN']\n",
    "feb_clean[feb_clean['date'] == 'Femina']\n",
    "feb_clean[feb_clean['date'] == 'We The Curators']\n",
    "feb_clean[feb_clean['date'] == 'Vivian Kwan']\n",
    "feb_clean[feb_clean['date'] == 'jack']"
   ]
  },
  {
   "cell_type": "code",
   "execution_count": 99,
   "metadata": {},
   "outputs": [
    {
     "data": {
      "text/plain": [
       "(584155, 17)"
      ]
     },
     "execution_count": 99,
     "metadata": {},
     "output_type": "execute_result"
    }
   ],
   "source": [
    "# space to drop those rows\n",
    "feb_clean.drop(index=[156900], inplace=True)\n",
    "\n",
    "# confirm\n",
    "feb_clean.shape"
   ]
  },
  {
   "cell_type": "code",
   "execution_count": 100,
   "metadata": {},
   "outputs": [
    {
     "data": {
      "text/plain": [
       "array(['2020-02-01', '2020-02-02', '2020-02-03', '2020-02-04',\n",
       "       '2020-02-05', '2020-02-06', '2020-02-07', '2020-02-08',\n",
       "       '2020-02-09', '2020-02-10', '2020-02-11', '2020-02-12',\n",
       "       '2020-02-13', '2020-02-14', '2020-02-15', '2020-02-16',\n",
       "       '2020-02-17', '2020-02-18', '2020-02-19', '2020-02-20',\n",
       "       '2020-02-21', '2020-02-22', '2020-02-23', '2020-02-24',\n",
       "       '2020-02-25', '2020-02-26', '2020-02-27', '2020-02-28',\n",
       "       '2020-02-29'], dtype=object)"
      ]
     },
     "execution_count": 100,
     "metadata": {},
     "output_type": "execute_result"
    }
   ],
   "source": [
    "# check\n",
    "feb_clean['date'].unique()"
   ]
  },
  {
   "cell_type": "code",
   "execution_count": 350,
   "metadata": {},
   "outputs": [
    {
     "data": {
      "text/plain": [
       "(536891, 17)"
      ]
     },
     "execution_count": 350,
     "metadata": {},
     "output_type": "execute_result"
    }
   ],
   "source": [
    "# drop duplicate tweets and/or retweets\n",
    "feb_clean = feb_clean.drop_duplicates(subset='tweet')\n",
    "\n",
    "# confirm\n",
    "feb_clean.shape"
   ]
  },
  {
   "cell_type": "code",
   "execution_count": 371,
   "metadata": {},
   "outputs": [
    {
     "data": {
      "text/plain": [
       "id                      0\n",
       "conversation_id         0\n",
       "created_at              0\n",
       "date                    0\n",
       "tweet                   0\n",
       "hashtags                6\n",
       "user_id                 6\n",
       "username                8\n",
       "name                   24\n",
       "link                    6\n",
       "retweet                 6\n",
       "nlikes                  6\n",
       "nreplies                6\n",
       "nretweets               6\n",
       "quote_url          491745\n",
       "retweet_id         536891\n",
       "reply_to                6\n",
       "dtype: int64"
      ]
     },
     "execution_count": 371,
     "metadata": {},
     "output_type": "execute_result"
    }
   ],
   "source": [
    "# take another look at NaN values\n",
    "feb_clean.isna().sum()"
   ]
  },
  {
   "cell_type": "code",
   "execution_count": 374,
   "metadata": {},
   "outputs": [
    {
     "data": {
      "text/plain": [
       "(536865, 17)"
      ]
     },
     "execution_count": 374,
     "metadata": {},
     "output_type": "execute_result"
    }
   ],
   "source": [
    "# drop any tweets missing a value for name or username (takes care of other NaN values)\n",
    "feb_clean.dropna(subset=['name', 'username'], inplace=True)\n",
    "\n",
    "# confirm\n",
    "feb_clean.shape"
   ]
  },
  {
   "cell_type": "code",
   "execution_count": null,
   "metadata": {},
   "outputs": [],
   "source": [
    "# drop quote_url and retweet_id columns\n",
    "feb_clean.drop(columns=['quote_url', 'retweet_id'], inplace=True)"
   ]
  },
  {
   "cell_type": "code",
   "execution_count": 376,
   "metadata": {},
   "outputs": [
    {
     "data": {
      "text/html": [
       "<div>\n",
       "<style scoped>\n",
       "    .dataframe tbody tr th:only-of-type {\n",
       "        vertical-align: middle;\n",
       "    }\n",
       "\n",
       "    .dataframe tbody tr th {\n",
       "        vertical-align: top;\n",
       "    }\n",
       "\n",
       "    .dataframe thead th {\n",
       "        text-align: right;\n",
       "    }\n",
       "</style>\n",
       "<table border=\"1\" class=\"dataframe\">\n",
       "  <thead>\n",
       "    <tr style=\"text-align: right;\">\n",
       "      <th></th>\n",
       "      <th>id</th>\n",
       "      <th>conversation_id</th>\n",
       "      <th>created_at</th>\n",
       "      <th>date</th>\n",
       "      <th>tweet</th>\n",
       "      <th>hashtags</th>\n",
       "      <th>user_id</th>\n",
       "      <th>username</th>\n",
       "      <th>name</th>\n",
       "      <th>link</th>\n",
       "      <th>retweet</th>\n",
       "      <th>nlikes</th>\n",
       "      <th>nreplies</th>\n",
       "      <th>nretweets</th>\n",
       "      <th>quote_url</th>\n",
       "      <th>retweet_id</th>\n",
       "      <th>reply_to</th>\n",
       "    </tr>\n",
       "  </thead>\n",
       "  <tbody>\n",
       "    <tr>\n",
       "      <th>0</th>\n",
       "      <td>1.223758e+18</td>\n",
       "      <td>1.223758e+18</td>\n",
       "      <td>1.580602e+12</td>\n",
       "      <td>2020-02-01</td>\n",
       "      <td>Bought Bruno Fernandes, play him at CDM? Wtf a...</td>\n",
       "      <td>[]</td>\n",
       "      <td>2.221553e+09</td>\n",
       "      <td>chong_wh96</td>\n",
       "      <td>Chong_wH</td>\n",
       "      <td>https://twitter.com/chong_wh96/status/12237578...</td>\n",
       "      <td>False</td>\n",
       "      <td>0.0</td>\n",
       "      <td>0.0</td>\n",
       "      <td>0.0</td>\n",
       "      <td>NaN</td>\n",
       "      <td>NaN</td>\n",
       "      <td>[{'user_id': '2221552537', 'username': 'chong_...</td>\n",
       "    </tr>\n",
       "    <tr>\n",
       "      <th>1</th>\n",
       "      <td>1.223758e+18</td>\n",
       "      <td>1.223758e+18</td>\n",
       "      <td>1.580602e+12</td>\n",
       "      <td>2020-02-01</td>\n",
       "      <td>My sister sent me $90 worth of face masks and ...</td>\n",
       "      <td>[]</td>\n",
       "      <td>3.075768e+09</td>\n",
       "      <td>Yamanik30</td>\n",
       "      <td>ACAB</td>\n",
       "      <td>https://twitter.com/Yamanik30/status/122375787...</td>\n",
       "      <td>False</td>\n",
       "      <td>6.0</td>\n",
       "      <td>0.0</td>\n",
       "      <td>0.0</td>\n",
       "      <td>NaN</td>\n",
       "      <td>NaN</td>\n",
       "      <td>[{'user_id': '3075767827', 'username': 'Yamani...</td>\n",
       "    </tr>\n",
       "    <tr>\n",
       "      <th>2</th>\n",
       "      <td>1.223758e+18</td>\n",
       "      <td>1.223758e+18</td>\n",
       "      <td>1.580602e+12</td>\n",
       "      <td>2020-02-01</td>\n",
       "      <td>Because Nigeria is currently 51% Muslim and th...</td>\n",
       "      <td>[]</td>\n",
       "      <td>2.184187e+07</td>\n",
       "      <td>Dimplez</td>\n",
       "      <td>Dimplez 🇳🇬</td>\n",
       "      <td>https://twitter.com/Dimplez/status/12237578717...</td>\n",
       "      <td>False</td>\n",
       "      <td>16.0</td>\n",
       "      <td>0.0</td>\n",
       "      <td>3.0</td>\n",
       "      <td>https://twitter.com/JesseLehrich/status/122336...</td>\n",
       "      <td>NaN</td>\n",
       "      <td>[{'user_id': '21841872', 'username': 'Dimplez'}]</td>\n",
       "    </tr>\n",
       "    <tr>\n",
       "      <th>3</th>\n",
       "      <td>1.223758e+18</td>\n",
       "      <td>1.223758e+18</td>\n",
       "      <td>1.580602e+12</td>\n",
       "      <td>2020-02-01</td>\n",
       "      <td>When you were a mask to stop the cronavirus bu...</td>\n",
       "      <td>[]</td>\n",
       "      <td>1.209989e+18</td>\n",
       "      <td>Harry31348302</td>\n",
       "      <td>Harry</td>\n",
       "      <td>https://twitter.com/Harry31348302/status/12237...</td>\n",
       "      <td>False</td>\n",
       "      <td>0.0</td>\n",
       "      <td>0.0</td>\n",
       "      <td>0.0</td>\n",
       "      <td>NaN</td>\n",
       "      <td>NaN</td>\n",
       "      <td>[{'user_id': '1209988745790918656', 'username'...</td>\n",
       "    </tr>\n",
       "    <tr>\n",
       "      <th>4</th>\n",
       "      <td>1.223758e+18</td>\n",
       "      <td>1.223757e+18</td>\n",
       "      <td>1.580602e+12</td>\n",
       "      <td>2020-02-01</td>\n",
       "      <td>This 'MeshGraphic' implementation supports:\\n\\...</td>\n",
       "      <td>[]</td>\n",
       "      <td>1.478940e+09</td>\n",
       "      <td>Softdrink_117</td>\n",
       "      <td>Softdrink 117</td>\n",
       "      <td>https://twitter.com/Softdrink_117/status/12237...</td>\n",
       "      <td>False</td>\n",
       "      <td>0.0</td>\n",
       "      <td>0.0</td>\n",
       "      <td>0.0</td>\n",
       "      <td>NaN</td>\n",
       "      <td>NaN</td>\n",
       "      <td>[{'user_id': '1478940204', 'username': 'Softdr...</td>\n",
       "    </tr>\n",
       "  </tbody>\n",
       "</table>\n",
       "</div>"
      ],
      "text/plain": [
       "             id  conversation_id    created_at        date  \\\n",
       "0  1.223758e+18     1.223758e+18  1.580602e+12  2020-02-01   \n",
       "1  1.223758e+18     1.223758e+18  1.580602e+12  2020-02-01   \n",
       "2  1.223758e+18     1.223758e+18  1.580602e+12  2020-02-01   \n",
       "3  1.223758e+18     1.223758e+18  1.580602e+12  2020-02-01   \n",
       "4  1.223758e+18     1.223757e+18  1.580602e+12  2020-02-01   \n",
       "\n",
       "                                               tweet hashtags       user_id  \\\n",
       "0  Bought Bruno Fernandes, play him at CDM? Wtf a...       []  2.221553e+09   \n",
       "1  My sister sent me $90 worth of face masks and ...       []  3.075768e+09   \n",
       "2  Because Nigeria is currently 51% Muslim and th...       []  2.184187e+07   \n",
       "3  When you were a mask to stop the cronavirus bu...       []  1.209989e+18   \n",
       "4  This 'MeshGraphic' implementation supports:\\n\\...       []  1.478940e+09   \n",
       "\n",
       "        username           name  \\\n",
       "0     chong_wh96       Chong_wH   \n",
       "1      Yamanik30           ACAB   \n",
       "2        Dimplez     Dimplez 🇳🇬   \n",
       "3  Harry31348302          Harry   \n",
       "4  Softdrink_117  Softdrink 117   \n",
       "\n",
       "                                                link retweet  nlikes  \\\n",
       "0  https://twitter.com/chong_wh96/status/12237578...   False     0.0   \n",
       "1  https://twitter.com/Yamanik30/status/122375787...   False     6.0   \n",
       "2  https://twitter.com/Dimplez/status/12237578717...   False    16.0   \n",
       "3  https://twitter.com/Harry31348302/status/12237...   False     0.0   \n",
       "4  https://twitter.com/Softdrink_117/status/12237...   False     0.0   \n",
       "\n",
       "   nreplies  nretweets                                          quote_url  \\\n",
       "0       0.0        0.0                                                NaN   \n",
       "1       0.0        0.0                                                NaN   \n",
       "2       0.0        3.0  https://twitter.com/JesseLehrich/status/122336...   \n",
       "3       0.0        0.0                                                NaN   \n",
       "4       0.0        0.0                                                NaN   \n",
       "\n",
       "   retweet_id                                           reply_to  \n",
       "0         NaN  [{'user_id': '2221552537', 'username': 'chong_...  \n",
       "1         NaN  [{'user_id': '3075767827', 'username': 'Yamani...  \n",
       "2         NaN   [{'user_id': '21841872', 'username': 'Dimplez'}]  \n",
       "3         NaN  [{'user_id': '1209988745790918656', 'username'...  \n",
       "4         NaN  [{'user_id': '1478940204', 'username': 'Softdr...  "
      ]
     },
     "execution_count": 376,
     "metadata": {},
     "output_type": "execute_result"
    }
   ],
   "source": [
    "# reset index\n",
    "feb_clean.reset_index(drop=True, inplace=True)\n",
    "\n",
    "# confirm\n",
    "feb_clean.head()"
   ]
  },
  {
   "cell_type": "code",
   "execution_count": 377,
   "metadata": {},
   "outputs": [],
   "source": [
    "# save to csv\n",
    "feb_clean.to_csv('data/feb_tweets_clean.csv')"
   ]
  },
  {
   "cell_type": "markdown",
   "metadata": {},
   "source": [
    "### March\n",
    "\n",
    "[[go back to the top](#Data-Cleaning)]\n",
    "\n",
    "- Due to some issues with the scraper, March was scraped in separate halves.\n",
    "\n",
    "### First half\n",
    "\n",
    "[[go back to the top](#Data-Cleaning)]"
   ]
  },
  {
   "cell_type": "code",
   "execution_count": 31,
   "metadata": {},
   "outputs": [
    {
     "name": "stderr",
     "output_type": "stream",
     "text": [
      "/Users/eric/opt/anaconda3/lib/python3.7/site-packages/IPython/core/interactiveshell.py:3063: DtypeWarning: Columns (1,3,11,12) have mixed types.Specify dtype option on import or set low_memory=False.\n",
      "  interactivity=interactivity, compiler=compiler, result=result)\n"
     ]
    },
    {
     "data": {
      "text/html": [
       "<div>\n",
       "<style scoped>\n",
       "    .dataframe tbody tr th:only-of-type {\n",
       "        vertical-align: middle;\n",
       "    }\n",
       "\n",
       "    .dataframe tbody tr th {\n",
       "        vertical-align: top;\n",
       "    }\n",
       "\n",
       "    .dataframe thead th {\n",
       "        text-align: right;\n",
       "    }\n",
       "</style>\n",
       "<table border=\"1\" class=\"dataframe\">\n",
       "  <thead>\n",
       "    <tr style=\"text-align: right;\">\n",
       "      <th></th>\n",
       "      <th>id</th>\n",
       "      <th>conversation_id</th>\n",
       "      <th>created_at</th>\n",
       "      <th>date</th>\n",
       "      <th>tweet</th>\n",
       "      <th>hashtags</th>\n",
       "      <th>user_id</th>\n",
       "      <th>username</th>\n",
       "      <th>name</th>\n",
       "      <th>link</th>\n",
       "      <th>retweet</th>\n",
       "      <th>nlikes</th>\n",
       "      <th>nreplies</th>\n",
       "      <th>nretweets</th>\n",
       "      <th>quote_url</th>\n",
       "      <th>retweet_id</th>\n",
       "      <th>reply_to</th>\n",
       "    </tr>\n",
       "  </thead>\n",
       "  <tbody>\n",
       "    <tr>\n",
       "      <th>0</th>\n",
       "      <td>1234267158877818880</td>\n",
       "      <td>1.234266e+18</td>\n",
       "      <td>1583107196000</td>\n",
       "      <td>2020-03-01</td>\n",
       "      <td>Wearing a mask on a train track somewhere in B...</td>\n",
       "      <td>[]</td>\n",
       "      <td>1.222977e+18</td>\n",
       "      <td>KirkP31369321</td>\n",
       "      <td>Kirks Poutine</td>\n",
       "      <td>https://twitter.com/KirkP31369321/status/12342...</td>\n",
       "      <td>False</td>\n",
       "      <td>1</td>\n",
       "      <td>0.0</td>\n",
       "      <td>0.0</td>\n",
       "      <td>NaN</td>\n",
       "      <td>NaN</td>\n",
       "      <td>[{'user_id': '1222977020705091588', 'username'...</td>\n",
       "    </tr>\n",
       "    <tr>\n",
       "      <th>1</th>\n",
       "      <td>1234267142259953664</td>\n",
       "      <td>1.234267e+18</td>\n",
       "      <td>1583107192000</td>\n",
       "      <td>2020-03-01</td>\n",
       "      <td>Were willing to start wearing surgical masks e...</td>\n",
       "      <td>[]</td>\n",
       "      <td>1.317655e+09</td>\n",
       "      <td>KCUNLEASHED96</td>\n",
       "      <td>KC UNLEASHED96</td>\n",
       "      <td>https://twitter.com/KCUNLEASHED96/status/12342...</td>\n",
       "      <td>False</td>\n",
       "      <td>0</td>\n",
       "      <td>0.0</td>\n",
       "      <td>0.0</td>\n",
       "      <td>https://twitter.com/sssniperwolf/status/123426...</td>\n",
       "      <td>NaN</td>\n",
       "      <td>[{'user_id': '1317654776', 'username': 'KCUNLE...</td>\n",
       "    </tr>\n",
       "    <tr>\n",
       "      <th>2</th>\n",
       "      <td>1234267140955336704</td>\n",
       "      <td>1.234254e+18</td>\n",
       "      <td>1583107192000</td>\n",
       "      <td>2020-03-01</td>\n",
       "      <td>It's target are your lungs, don't give it acce...</td>\n",
       "      <td>[]</td>\n",
       "      <td>3.199808e+09</td>\n",
       "      <td>1spark780</td>\n",
       "      <td>Judy</td>\n",
       "      <td>https://twitter.com/1spark780/status/123426714...</td>\n",
       "      <td>False</td>\n",
       "      <td>0</td>\n",
       "      <td>0.0</td>\n",
       "      <td>0.0</td>\n",
       "      <td>NaN</td>\n",
       "      <td>NaN</td>\n",
       "      <td>[{'user_id': '3199808368', 'username': '1spark...</td>\n",
       "    </tr>\n",
       "    <tr>\n",
       "      <th>3</th>\n",
       "      <td>1234267136018665472</td>\n",
       "      <td>1.234259e+18</td>\n",
       "      <td>1583107191000</td>\n",
       "      <td>2020-03-01</td>\n",
       "      <td>The new police issue masks might not prevent c...</td>\n",
       "      <td>[]</td>\n",
       "      <td>3.931759e+09</td>\n",
       "      <td>hueman_being</td>\n",
       "      <td>Ken Parker</td>\n",
       "      <td>https://twitter.com/hueman_being/status/123426...</td>\n",
       "      <td>False</td>\n",
       "      <td>0</td>\n",
       "      <td>0.0</td>\n",
       "      <td>0.0</td>\n",
       "      <td>NaN</td>\n",
       "      <td>NaN</td>\n",
       "      <td>[{'user_id': '3931759154', 'username': 'hueman...</td>\n",
       "    </tr>\n",
       "    <tr>\n",
       "      <th>4</th>\n",
       "      <td>1234267124304154625</td>\n",
       "      <td>1.234267e+18</td>\n",
       "      <td>1583107188000</td>\n",
       "      <td>2020-03-01</td>\n",
       "      <td>hey i’m sad so i’m gonna do a face mask and th...</td>\n",
       "      <td>[]</td>\n",
       "      <td>4.252255e+08</td>\n",
       "      <td>beratings</td>\n",
       "      <td>baby bug</td>\n",
       "      <td>https://twitter.com/beratings/status/123426712...</td>\n",
       "      <td>False</td>\n",
       "      <td>14</td>\n",
       "      <td>1.0</td>\n",
       "      <td>0.0</td>\n",
       "      <td>NaN</td>\n",
       "      <td>NaN</td>\n",
       "      <td>[{'user_id': '425225495', 'username': 'beratin...</td>\n",
       "    </tr>\n",
       "  </tbody>\n",
       "</table>\n",
       "</div>"
      ],
      "text/plain": [
       "                    id  conversation_id     created_at        date  \\\n",
       "0  1234267158877818880     1.234266e+18  1583107196000  2020-03-01   \n",
       "1  1234267142259953664     1.234267e+18  1583107192000  2020-03-01   \n",
       "2  1234267140955336704     1.234254e+18  1583107192000  2020-03-01   \n",
       "3  1234267136018665472     1.234259e+18  1583107191000  2020-03-01   \n",
       "4  1234267124304154625     1.234267e+18  1583107188000  2020-03-01   \n",
       "\n",
       "                                               tweet hashtags       user_id  \\\n",
       "0  Wearing a mask on a train track somewhere in B...       []  1.222977e+18   \n",
       "1  Were willing to start wearing surgical masks e...       []  1.317655e+09   \n",
       "2  It's target are your lungs, don't give it acce...       []  3.199808e+09   \n",
       "3  The new police issue masks might not prevent c...       []  3.931759e+09   \n",
       "4  hey i’m sad so i’m gonna do a face mask and th...       []  4.252255e+08   \n",
       "\n",
       "        username            name  \\\n",
       "0  KirkP31369321   Kirks Poutine   \n",
       "1  KCUNLEASHED96  KC UNLEASHED96   \n",
       "2      1spark780            Judy   \n",
       "3   hueman_being      Ken Parker   \n",
       "4      beratings        baby bug   \n",
       "\n",
       "                                                link retweet nlikes  nreplies  \\\n",
       "0  https://twitter.com/KirkP31369321/status/12342...   False      1       0.0   \n",
       "1  https://twitter.com/KCUNLEASHED96/status/12342...   False      0       0.0   \n",
       "2  https://twitter.com/1spark780/status/123426714...   False      0       0.0   \n",
       "3  https://twitter.com/hueman_being/status/123426...   False      0       0.0   \n",
       "4  https://twitter.com/beratings/status/123426712...   False     14       1.0   \n",
       "\n",
       "   nretweets                                          quote_url  retweet_id  \\\n",
       "0        0.0                                                NaN         NaN   \n",
       "1        0.0  https://twitter.com/sssniperwolf/status/123426...         NaN   \n",
       "2        0.0                                                NaN         NaN   \n",
       "3        0.0                                                NaN         NaN   \n",
       "4        0.0                                                NaN         NaN   \n",
       "\n",
       "                                            reply_to  \n",
       "0  [{'user_id': '1222977020705091588', 'username'...  \n",
       "1  [{'user_id': '1317654776', 'username': 'KCUNLE...  \n",
       "2  [{'user_id': '3199808368', 'username': '1spark...  \n",
       "3  [{'user_id': '3931759154', 'username': 'hueman...  \n",
       "4  [{'user_id': '425225495', 'username': 'beratin...  "
      ]
     },
     "execution_count": 31,
     "metadata": {},
     "output_type": "execute_result"
    }
   ],
   "source": [
    "# load  datframe and take a look\n",
    "mar01 = pd.read_csv('data/march01_tweets.csv', index_col=0)\n",
    "mar01.head()"
   ]
  },
  {
   "cell_type": "code",
   "execution_count": 102,
   "metadata": {},
   "outputs": [
    {
     "data": {
      "text/plain": [
       "(737002, 17)"
      ]
     },
     "execution_count": 102,
     "metadata": {},
     "output_type": "execute_result"
    }
   ],
   "source": [
    "# create a copy to clean\n",
    "mar01_clean = mar01.copy()\n",
    "\n",
    "# look at size of dataframe\n",
    "mar01_clean.shape"
   ]
  },
  {
   "cell_type": "code",
   "execution_count": 103,
   "metadata": {},
   "outputs": [
    {
     "data": {
      "text/plain": [
       "(736996, 17)"
      ]
     },
     "execution_count": 103,
     "metadata": {},
     "output_type": "execute_result"
    }
   ],
   "source": [
    "# drop rows with all NaN values\n",
    "mar01_clean.dropna(how='all', inplace=True)\n",
    "\n",
    "# check\n",
    "mar01_clean.shape"
   ]
  },
  {
   "cell_type": "code",
   "execution_count": 104,
   "metadata": {},
   "outputs": [
    {
     "data": {
      "text/plain": [
       "array(['2020-03-01', 'Vivian Kwan', '2020-03-02', '2020-03-03',\n",
       "       'James Clarke', '2020-03-04', '2020-03-05', '2020-03-06',\n",
       "       '2020-03-07', '2020-03-08', '2020-03-09',\n",
       "       'Haloo Automation Equipment', 'Celecare Medical', '2020-03-10',\n",
       "       '2020-03-11', 'AsiaNews EN', 'Dianna Olukotun', 'Winn🔥',\n",
       "       '2020-03-12', '2020-03-13', '2020-03-14', '2020-03-15',\n",
       "       '2020-03-16'], dtype=object)"
      ]
     },
     "execution_count": 104,
     "metadata": {},
     "output_type": "execute_result"
    }
   ],
   "source": [
    "# check for strange values\n",
    "mar01_clean['date'].unique()"
   ]
  },
  {
   "cell_type": "code",
   "execution_count": 112,
   "metadata": {},
   "outputs": [
    {
     "data": {
      "text/html": [
       "<div>\n",
       "<style scoped>\n",
       "    .dataframe tbody tr th:only-of-type {\n",
       "        vertical-align: middle;\n",
       "    }\n",
       "\n",
       "    .dataframe tbody tr th {\n",
       "        vertical-align: top;\n",
       "    }\n",
       "\n",
       "    .dataframe thead th {\n",
       "        text-align: right;\n",
       "    }\n",
       "</style>\n",
       "<table border=\"1\" class=\"dataframe\">\n",
       "  <thead>\n",
       "    <tr style=\"text-align: right;\">\n",
       "      <th></th>\n",
       "      <th>id</th>\n",
       "      <th>conversation_id</th>\n",
       "      <th>created_at</th>\n",
       "      <th>date</th>\n",
       "      <th>tweet</th>\n",
       "      <th>hashtags</th>\n",
       "      <th>user_id</th>\n",
       "      <th>username</th>\n",
       "      <th>name</th>\n",
       "      <th>link</th>\n",
       "      <th>retweet</th>\n",
       "      <th>nlikes</th>\n",
       "      <th>nreplies</th>\n",
       "      <th>nretweets</th>\n",
       "      <th>quote_url</th>\n",
       "      <th>retweet_id</th>\n",
       "      <th>reply_to</th>\n",
       "    </tr>\n",
       "  </thead>\n",
       "  <tbody>\n",
       "    <tr>\n",
       "      <th>414281</th>\n",
       "      <td>[]</td>\n",
       "      <td>1.204048e+18</td>\n",
       "      <td>SherwinCaliwag</td>\n",
       "      <td>Winn🔥</td>\n",
       "      <td>https://twitter.com/SherwinCaliwag/status/1237...</td>\n",
       "      <td>False</td>\n",
       "      <td>0.0</td>\n",
       "      <td>0</td>\n",
       "      <td>0</td>\n",
       "      <td>NaN</td>\n",
       "      <td>NaN</td>\n",
       "      <td>[{'user_id': '1204047724259078144', 'username'...</td>\n",
       "      <td>NaN</td>\n",
       "      <td>NaN</td>\n",
       "      <td>NaN</td>\n",
       "      <td>NaN</td>\n",
       "      <td>NaN</td>\n",
       "    </tr>\n",
       "  </tbody>\n",
       "</table>\n",
       "</div>"
      ],
      "text/plain": [
       "        id  conversation_id      created_at   date  \\\n",
       "414281  []     1.204048e+18  SherwinCaliwag  Winn🔥   \n",
       "\n",
       "                                                    tweet hashtags  user_id  \\\n",
       "414281  https://twitter.com/SherwinCaliwag/status/1237...    False      0.0   \n",
       "\n",
       "       username name link retweet  \\\n",
       "414281        0    0  NaN     NaN   \n",
       "\n",
       "                                                   nlikes  nreplies  \\\n",
       "414281  [{'user_id': '1204047724259078144', 'username'...       NaN   \n",
       "\n",
       "        nretweets quote_url  retweet_id reply_to  \n",
       "414281        NaN       NaN         NaN      NaN  "
      ]
     },
     "execution_count": 112,
     "metadata": {},
     "output_type": "execute_result"
    }
   ],
   "source": [
    "# look at instances with scraping error \n",
    "mar01_clean[mar01_clean['date'] == 'Vivian Kwan']\n",
    "mar01_clean[mar01_clean['date'] == 'James Clarke']\n",
    "mar01_clean[mar01_clean['date'] == 'Haloo Automation Equipment']\n",
    "mar01_clean[mar01_clean['date'] == 'Celecare Medical']\n",
    "mar01_clean[mar01_clean['date'] == 'AsiaNews EN']\n",
    "mar01_clean[mar01_clean['date'] == 'Dianna Olukotun']\n",
    "mar01_clean[mar01_clean['date'] == 'Winn🔥']"
   ]
  },
  {
   "cell_type": "code",
   "execution_count": 114,
   "metadata": {},
   "outputs": [
    {
     "data": {
      "text/plain": [
       "(736989, 17)"
      ]
     },
     "execution_count": 114,
     "metadata": {},
     "output_type": "execute_result"
    }
   ],
   "source": [
    "# drop those rows\n",
    "mar01_clean.drop(index=[24153, 82771, 315351, 316618, 381513, 393868, 414281], inplace=True)\n",
    "\n",
    "# check\n",
    "mar01_clean.shape"
   ]
  },
  {
   "cell_type": "code",
   "execution_count": 115,
   "metadata": {},
   "outputs": [
    {
     "data": {
      "text/plain": [
       "array(['2020-03-01', '2020-03-02', '2020-03-03', '2020-03-04',\n",
       "       '2020-03-05', '2020-03-06', '2020-03-07', '2020-03-08',\n",
       "       '2020-03-09', '2020-03-10', '2020-03-11', '2020-03-12',\n",
       "       '2020-03-13', '2020-03-14', '2020-03-15', '2020-03-16'],\n",
       "      dtype=object)"
      ]
     },
     "execution_count": 115,
     "metadata": {},
     "output_type": "execute_result"
    }
   ],
   "source": [
    "# confirm\n",
    "mar01_clean['date'].unique()"
   ]
  },
  {
   "cell_type": "code",
   "execution_count": 389,
   "metadata": {},
   "outputs": [
    {
     "data": {
      "text/plain": [
       "(695994, 17)"
      ]
     },
     "execution_count": 389,
     "metadata": {},
     "output_type": "execute_result"
    }
   ],
   "source": [
    "# drop duplicate tweets and/or retweets\n",
    "mar01_clean = mar01_clean.drop_duplicates(subset='tweet')\n",
    "\n",
    "# check\n",
    "mar01_clean.shape"
   ]
  },
  {
   "cell_type": "code",
   "execution_count": 390,
   "metadata": {},
   "outputs": [
    {
     "data": {
      "text/plain": [
       "id                      0\n",
       "conversation_id         0\n",
       "created_at              0\n",
       "date                    0\n",
       "tweet                   0\n",
       "hashtags                7\n",
       "user_id                 7\n",
       "username                7\n",
       "name                   36\n",
       "link                    7\n",
       "retweet                 7\n",
       "nlikes                  7\n",
       "nreplies                7\n",
       "nretweets               7\n",
       "quote_url          640207\n",
       "retweet_id         695994\n",
       "reply_to                7\n",
       "dtype: int64"
      ]
     },
     "execution_count": 390,
     "metadata": {},
     "output_type": "execute_result"
    }
   ],
   "source": [
    "# check for remaining NaN values\n",
    "mar01_clean.isna().sum()"
   ]
  },
  {
   "cell_type": "code",
   "execution_count": 391,
   "metadata": {},
   "outputs": [
    {
     "data": {
      "text/plain": [
       "(695958, 17)"
      ]
     },
     "execution_count": 391,
     "metadata": {},
     "output_type": "execute_result"
    }
   ],
   "source": [
    "# drop any tweets missing a value for name or username (takes care of other NaN values)\n",
    "mar01_clean.dropna(subset=['name', 'username'], inplace=True)\n",
    "\n",
    "# check\n",
    "mar01_clean.shape"
   ]
  },
  {
   "cell_type": "code",
   "execution_count": null,
   "metadata": {},
   "outputs": [],
   "source": [
    "# drop quote_url and retweet_id columns\n",
    "mar01_clean.drop(columns=['quote_url', 'retweet_id'], inplace=True)"
   ]
  },
  {
   "cell_type": "code",
   "execution_count": 393,
   "metadata": {},
   "outputs": [
    {
     "data": {
      "text/html": [
       "<div>\n",
       "<style scoped>\n",
       "    .dataframe tbody tr th:only-of-type {\n",
       "        vertical-align: middle;\n",
       "    }\n",
       "\n",
       "    .dataframe tbody tr th {\n",
       "        vertical-align: top;\n",
       "    }\n",
       "\n",
       "    .dataframe thead th {\n",
       "        text-align: right;\n",
       "    }\n",
       "</style>\n",
       "<table border=\"1\" class=\"dataframe\">\n",
       "  <thead>\n",
       "    <tr style=\"text-align: right;\">\n",
       "      <th></th>\n",
       "      <th>id</th>\n",
       "      <th>conversation_id</th>\n",
       "      <th>created_at</th>\n",
       "      <th>date</th>\n",
       "      <th>tweet</th>\n",
       "      <th>hashtags</th>\n",
       "      <th>user_id</th>\n",
       "      <th>username</th>\n",
       "      <th>name</th>\n",
       "      <th>link</th>\n",
       "      <th>retweet</th>\n",
       "      <th>nlikes</th>\n",
       "      <th>nreplies</th>\n",
       "      <th>nretweets</th>\n",
       "      <th>quote_url</th>\n",
       "      <th>retweet_id</th>\n",
       "      <th>reply_to</th>\n",
       "    </tr>\n",
       "  </thead>\n",
       "  <tbody>\n",
       "    <tr>\n",
       "      <th>0</th>\n",
       "      <td>1234267158877818880</td>\n",
       "      <td>1.234266e+18</td>\n",
       "      <td>1583107196000</td>\n",
       "      <td>2020-03-01</td>\n",
       "      <td>Wearing a mask on a train track somewhere in B...</td>\n",
       "      <td>[]</td>\n",
       "      <td>1.222977e+18</td>\n",
       "      <td>KirkP31369321</td>\n",
       "      <td>Kirks Poutine</td>\n",
       "      <td>https://twitter.com/KirkP31369321/status/12342...</td>\n",
       "      <td>False</td>\n",
       "      <td>1.0</td>\n",
       "      <td>0.0</td>\n",
       "      <td>0.0</td>\n",
       "      <td>NaN</td>\n",
       "      <td>NaN</td>\n",
       "      <td>[{'user_id': '1222977020705091588', 'username'...</td>\n",
       "    </tr>\n",
       "    <tr>\n",
       "      <th>1</th>\n",
       "      <td>1234267142259953664</td>\n",
       "      <td>1.234267e+18</td>\n",
       "      <td>1583107192000</td>\n",
       "      <td>2020-03-01</td>\n",
       "      <td>Were willing to start wearing surgical masks e...</td>\n",
       "      <td>[]</td>\n",
       "      <td>1.317655e+09</td>\n",
       "      <td>KCUNLEASHED96</td>\n",
       "      <td>KC UNLEASHED96</td>\n",
       "      <td>https://twitter.com/KCUNLEASHED96/status/12342...</td>\n",
       "      <td>False</td>\n",
       "      <td>0.0</td>\n",
       "      <td>0.0</td>\n",
       "      <td>0.0</td>\n",
       "      <td>https://twitter.com/sssniperwolf/status/123426...</td>\n",
       "      <td>NaN</td>\n",
       "      <td>[{'user_id': '1317654776', 'username': 'KCUNLE...</td>\n",
       "    </tr>\n",
       "    <tr>\n",
       "      <th>2</th>\n",
       "      <td>1234267140955336704</td>\n",
       "      <td>1.234254e+18</td>\n",
       "      <td>1583107192000</td>\n",
       "      <td>2020-03-01</td>\n",
       "      <td>It's target are your lungs, don't give it acce...</td>\n",
       "      <td>[]</td>\n",
       "      <td>3.199808e+09</td>\n",
       "      <td>1spark780</td>\n",
       "      <td>Judy</td>\n",
       "      <td>https://twitter.com/1spark780/status/123426714...</td>\n",
       "      <td>False</td>\n",
       "      <td>0.0</td>\n",
       "      <td>0.0</td>\n",
       "      <td>0.0</td>\n",
       "      <td>NaN</td>\n",
       "      <td>NaN</td>\n",
       "      <td>[{'user_id': '3199808368', 'username': '1spark...</td>\n",
       "    </tr>\n",
       "    <tr>\n",
       "      <th>3</th>\n",
       "      <td>1234267136018665472</td>\n",
       "      <td>1.234259e+18</td>\n",
       "      <td>1583107191000</td>\n",
       "      <td>2020-03-01</td>\n",
       "      <td>The new police issue masks might not prevent c...</td>\n",
       "      <td>[]</td>\n",
       "      <td>3.931759e+09</td>\n",
       "      <td>hueman_being</td>\n",
       "      <td>Ken Parker</td>\n",
       "      <td>https://twitter.com/hueman_being/status/123426...</td>\n",
       "      <td>False</td>\n",
       "      <td>0.0</td>\n",
       "      <td>0.0</td>\n",
       "      <td>0.0</td>\n",
       "      <td>NaN</td>\n",
       "      <td>NaN</td>\n",
       "      <td>[{'user_id': '3931759154', 'username': 'hueman...</td>\n",
       "    </tr>\n",
       "    <tr>\n",
       "      <th>4</th>\n",
       "      <td>1234267124304154625</td>\n",
       "      <td>1.234267e+18</td>\n",
       "      <td>1583107188000</td>\n",
       "      <td>2020-03-01</td>\n",
       "      <td>hey i’m sad so i’m gonna do a face mask and th...</td>\n",
       "      <td>[]</td>\n",
       "      <td>4.252255e+08</td>\n",
       "      <td>beratings</td>\n",
       "      <td>baby bug</td>\n",
       "      <td>https://twitter.com/beratings/status/123426712...</td>\n",
       "      <td>False</td>\n",
       "      <td>14.0</td>\n",
       "      <td>1.0</td>\n",
       "      <td>0.0</td>\n",
       "      <td>NaN</td>\n",
       "      <td>NaN</td>\n",
       "      <td>[{'user_id': '425225495', 'username': 'beratin...</td>\n",
       "    </tr>\n",
       "  </tbody>\n",
       "</table>\n",
       "</div>"
      ],
      "text/plain": [
       "                    id  conversation_id     created_at        date  \\\n",
       "0  1234267158877818880     1.234266e+18  1583107196000  2020-03-01   \n",
       "1  1234267142259953664     1.234267e+18  1583107192000  2020-03-01   \n",
       "2  1234267140955336704     1.234254e+18  1583107192000  2020-03-01   \n",
       "3  1234267136018665472     1.234259e+18  1583107191000  2020-03-01   \n",
       "4  1234267124304154625     1.234267e+18  1583107188000  2020-03-01   \n",
       "\n",
       "                                               tweet hashtags       user_id  \\\n",
       "0  Wearing a mask on a train track somewhere in B...       []  1.222977e+18   \n",
       "1  Were willing to start wearing surgical masks e...       []  1.317655e+09   \n",
       "2  It's target are your lungs, don't give it acce...       []  3.199808e+09   \n",
       "3  The new police issue masks might not prevent c...       []  3.931759e+09   \n",
       "4  hey i’m sad so i’m gonna do a face mask and th...       []  4.252255e+08   \n",
       "\n",
       "        username            name  \\\n",
       "0  KirkP31369321   Kirks Poutine   \n",
       "1  KCUNLEASHED96  KC UNLEASHED96   \n",
       "2      1spark780            Judy   \n",
       "3   hueman_being      Ken Parker   \n",
       "4      beratings        baby bug   \n",
       "\n",
       "                                                link retweet  nlikes  \\\n",
       "0  https://twitter.com/KirkP31369321/status/12342...   False     1.0   \n",
       "1  https://twitter.com/KCUNLEASHED96/status/12342...   False     0.0   \n",
       "2  https://twitter.com/1spark780/status/123426714...   False     0.0   \n",
       "3  https://twitter.com/hueman_being/status/123426...   False     0.0   \n",
       "4  https://twitter.com/beratings/status/123426712...   False    14.0   \n",
       "\n",
       "   nreplies  nretweets                                          quote_url  \\\n",
       "0       0.0        0.0                                                NaN   \n",
       "1       0.0        0.0  https://twitter.com/sssniperwolf/status/123426...   \n",
       "2       0.0        0.0                                                NaN   \n",
       "3       0.0        0.0                                                NaN   \n",
       "4       1.0        0.0                                                NaN   \n",
       "\n",
       "   retweet_id                                           reply_to  \n",
       "0         NaN  [{'user_id': '1222977020705091588', 'username'...  \n",
       "1         NaN  [{'user_id': '1317654776', 'username': 'KCUNLE...  \n",
       "2         NaN  [{'user_id': '3199808368', 'username': '1spark...  \n",
       "3         NaN  [{'user_id': '3931759154', 'username': 'hueman...  \n",
       "4         NaN  [{'user_id': '425225495', 'username': 'beratin...  "
      ]
     },
     "execution_count": 393,
     "metadata": {},
     "output_type": "execute_result"
    }
   ],
   "source": [
    "# reset index\n",
    "mar01_clean.reset_index(drop=True, inplace=True)\n",
    "\n",
    "# check\n",
    "mar01_clean.head()"
   ]
  },
  {
   "cell_type": "markdown",
   "metadata": {},
   "source": [
    "### Second half\n",
    "\n",
    "[[go back to the top](#Data-Cleaning)]"
   ]
  },
  {
   "cell_type": "code",
   "execution_count": 405,
   "metadata": {},
   "outputs": [
    {
     "data": {
      "text/plain": [
       "(143294, 17)"
      ]
     },
     "execution_count": 405,
     "metadata": {},
     "output_type": "execute_result"
    }
   ],
   "source": [
    "# load dataframes\n",
    "mar17_10k = pd.read_csv('data/10k_march17_tweets.csv', index_col=0)\n",
    "mar18_10k = pd.read_csv('data/10k_march18_tweets.csv', index_col=0, encoding='utf8', engine='python')\n",
    "\n",
    "# combine, reset index, and check shape\n",
    "mar17_clean_10k = pd.concat([mar17_10k, mar18_10k])\n",
    "mar17_clean_10k.reset_index(drop=True, inplace=True)\n",
    "mar17_clean_10k.shape"
   ]
  },
  {
   "cell_type": "code",
   "execution_count": 407,
   "metadata": {},
   "outputs": [
    {
     "data": {
      "text/plain": [
       "(143292, 17)"
      ]
     },
     "execution_count": 407,
     "metadata": {},
     "output_type": "execute_result"
    }
   ],
   "source": [
    "# drop rows with all NaN values\n",
    "mar17_clean_10k.dropna(how='all', inplace=True)\n",
    "\n",
    "# check\n",
    "mar17_clean_10k.shape"
   ]
  },
  {
   "cell_type": "code",
   "execution_count": 409,
   "metadata": {},
   "outputs": [
    {
     "data": {
      "text/plain": [
       "array(['2020-03-17', '2020-03-18', '2020-03-19', 'Combo Gadgets',\n",
       "       '2020-03-20', '2020-03-21', '2020-03-22', '2020-03-23',\n",
       "       '2020-03-24', '2020-03-25', '2020-03-26', '2020-03-27',\n",
       "       '2020-03-28', '2020-03-29', 'Stat Butler', '2020-03-30',\n",
       "       '2020-03-31'], dtype=object)"
      ]
     },
     "execution_count": 409,
     "metadata": {},
     "output_type": "execute_result"
    }
   ],
   "source": [
    "# check for any strange values\n",
    "mar17_clean_10k['date'].unique()"
   ]
  },
  {
   "cell_type": "code",
   "execution_count": 410,
   "metadata": {},
   "outputs": [
    {
     "data": {
      "text/html": [
       "<div>\n",
       "<style scoped>\n",
       "    .dataframe tbody tr th:only-of-type {\n",
       "        vertical-align: middle;\n",
       "    }\n",
       "\n",
       "    .dataframe tbody tr th {\n",
       "        vertical-align: top;\n",
       "    }\n",
       "\n",
       "    .dataframe thead th {\n",
       "        text-align: right;\n",
       "    }\n",
       "</style>\n",
       "<table border=\"1\" class=\"dataframe\">\n",
       "  <thead>\n",
       "    <tr style=\"text-align: right;\">\n",
       "      <th></th>\n",
       "      <th>id</th>\n",
       "      <th>conversation_id</th>\n",
       "      <th>created_at</th>\n",
       "      <th>date</th>\n",
       "      <th>tweet</th>\n",
       "      <th>hashtags</th>\n",
       "      <th>user_id</th>\n",
       "      <th>username</th>\n",
       "      <th>name</th>\n",
       "      <th>link</th>\n",
       "      <th>retweet</th>\n",
       "      <th>nlikes</th>\n",
       "      <th>nreplies</th>\n",
       "      <th>nretweets</th>\n",
       "      <th>quote_url</th>\n",
       "      <th>retweet_id</th>\n",
       "      <th>reply_to</th>\n",
       "    </tr>\n",
       "  </thead>\n",
       "  <tbody>\n",
       "    <tr>\n",
       "      <th>121954</th>\n",
       "      <td>[]</td>\n",
       "      <td>9.819696e+17</td>\n",
       "      <td>stat_butler</td>\n",
       "      <td>Stat Butler</td>\n",
       "      <td>https://twitter.com/stat_butler/status/1244265...</td>\n",
       "      <td>False</td>\n",
       "      <td>0.0</td>\n",
       "      <td>0</td>\n",
       "      <td>0</td>\n",
       "      <td>NaN</td>\n",
       "      <td>NaN</td>\n",
       "      <td>[{'user_id': '981969608277135360', 'username':...</td>\n",
       "      <td>NaN</td>\n",
       "      <td>NaN</td>\n",
       "      <td>None</td>\n",
       "      <td>NaN</td>\n",
       "      <td>None</td>\n",
       "    </tr>\n",
       "    <tr>\n",
       "      <th>122265</th>\n",
       "      <td>[]</td>\n",
       "      <td>9.819696e+17</td>\n",
       "      <td>stat_butler</td>\n",
       "      <td>Stat Butler</td>\n",
       "      <td>https://twitter.com/stat_butler/status/1244260...</td>\n",
       "      <td>False</td>\n",
       "      <td>0.0</td>\n",
       "      <td>0</td>\n",
       "      <td>1</td>\n",
       "      <td>NaN</td>\n",
       "      <td>NaN</td>\n",
       "      <td>[{'user_id': '981969608277135360', 'username':...</td>\n",
       "      <td>NaN</td>\n",
       "      <td>NaN</td>\n",
       "      <td>None</td>\n",
       "      <td>NaN</td>\n",
       "      <td>None</td>\n",
       "    </tr>\n",
       "  </tbody>\n",
       "</table>\n",
       "</div>"
      ],
      "text/plain": [
       "        id  conversation_id   created_at         date  \\\n",
       "121954  []     9.819696e+17  stat_butler  Stat Butler   \n",
       "122265  []     9.819696e+17  stat_butler  Stat Butler   \n",
       "\n",
       "                                                    tweet hashtags  user_id  \\\n",
       "121954  https://twitter.com/stat_butler/status/1244265...    False      0.0   \n",
       "122265  https://twitter.com/stat_butler/status/1244260...    False      0.0   \n",
       "\n",
       "       username name link retweet  \\\n",
       "121954        0    0  NaN     NaN   \n",
       "122265        0    1  NaN     NaN   \n",
       "\n",
       "                                                   nlikes  nreplies  \\\n",
       "121954  [{'user_id': '981969608277135360', 'username':...       NaN   \n",
       "122265  [{'user_id': '981969608277135360', 'username':...       NaN   \n",
       "\n",
       "        nretweets quote_url  retweet_id reply_to  \n",
       "121954        NaN      None         NaN     None  \n",
       "122265        NaN      None         NaN     None  "
      ]
     },
     "execution_count": 410,
     "metadata": {},
     "output_type": "execute_result"
    }
   ],
   "source": [
    "# look at instances with scraping error \n",
    "mar17_clean_10k[mar17_clean_10k['date'] == 'Combo Gadgets']\n",
    "mar17_clean_10k[mar17_clean_10k['date'] == 'Stat Butler']"
   ]
  },
  {
   "cell_type": "code",
   "execution_count": 411,
   "metadata": {},
   "outputs": [
    {
     "data": {
      "text/plain": [
       "(143289, 17)"
      ]
     },
     "execution_count": 411,
     "metadata": {},
     "output_type": "execute_result"
    }
   ],
   "source": [
    "# drop those rows\n",
    "mar17_clean_10k.drop(index=[22752, 121954, 122265], inplace=True)\n",
    "\n",
    "# check\n",
    "mar17_clean_10k.shape"
   ]
  },
  {
   "cell_type": "code",
   "execution_count": 412,
   "metadata": {},
   "outputs": [
    {
     "data": {
      "text/plain": [
       "(143289, 17)"
      ]
     },
     "execution_count": 412,
     "metadata": {},
     "output_type": "execute_result"
    }
   ],
   "source": [
    "# reset index\n",
    "mar17_clean_10k.reset_index(drop=True, inplace=True)\n",
    "\n",
    "# check\n",
    "mar17_clean_10k.shape"
   ]
  },
  {
   "cell_type": "code",
   "execution_count": 418,
   "metadata": {},
   "outputs": [
    {
     "data": {
      "text/plain": [
       "(839247, 17)"
      ]
     },
     "execution_count": 418,
     "metadata": {},
     "output_type": "execute_result"
    }
   ],
   "source": [
    "# combine with first half of march\n",
    "mar_clean_10k = pd.concat([mar01_clean, mar17_clean_10k])\n",
    "\n",
    "# check shape\n",
    "mar_clean_10k.shape"
   ]
  },
  {
   "cell_type": "code",
   "execution_count": 431,
   "metadata": {},
   "outputs": [
    {
     "data": {
      "text/plain": [
       "(830115, 17)"
      ]
     },
     "execution_count": 431,
     "metadata": {},
     "output_type": "execute_result"
    }
   ],
   "source": [
    "# drop duplicate tweets and/or retweets\n",
    "mar_clean_10k = mar_clean_10k.drop_duplicates(subset='tweet')\n",
    "\n",
    "# check\n",
    "mar_clean_10k.shape"
   ]
  },
  {
   "cell_type": "code",
   "execution_count": 432,
   "metadata": {},
   "outputs": [
    {
     "data": {
      "text/plain": [
       "id                      0\n",
       "conversation_id         0\n",
       "created_at              0\n",
       "date                    0\n",
       "tweet                   0\n",
       "hashtags               10\n",
       "user_id                10\n",
       "username               10\n",
       "name                   42\n",
       "link                   10\n",
       "retweet                10\n",
       "nlikes                 10\n",
       "nreplies               10\n",
       "nretweets              10\n",
       "quote_url          764081\n",
       "retweet_id         830115\n",
       "reply_to               10\n",
       "dtype: int64"
      ]
     },
     "execution_count": 432,
     "metadata": {},
     "output_type": "execute_result"
    }
   ],
   "source": [
    "# check for remaining NaN values\n",
    "mar_clean_10k.isna().sum()"
   ]
  },
  {
   "cell_type": "code",
   "execution_count": 433,
   "metadata": {},
   "outputs": [
    {
     "name": "stderr",
     "output_type": "stream",
     "text": [
      "/Users/eric/opt/anaconda3/lib/python3.7/site-packages/ipykernel_launcher.py:1: SettingWithCopyWarning: \n",
      "A value is trying to be set on a copy of a slice from a DataFrame\n",
      "\n",
      "See the caveats in the documentation: https://pandas.pydata.org/pandas-docs/stable/user_guide/indexing.html#returning-a-view-versus-a-copy\n",
      "  \"\"\"Entry point for launching an IPython kernel.\n"
     ]
    },
    {
     "data": {
      "text/plain": [
       "(830073, 17)"
      ]
     },
     "execution_count": 433,
     "metadata": {},
     "output_type": "execute_result"
    }
   ],
   "source": [
    "# drop any tweets missing a value for name or username (takes care of other NaN values)\n",
    "mar_clean_10k.dropna(subset=['name', 'username'], inplace=True)\n",
    "\n",
    "# check\n",
    "mar_clean_10k.shape"
   ]
  },
  {
   "cell_type": "code",
   "execution_count": 436,
   "metadata": {},
   "outputs": [
    {
     "data": {
      "text/plain": [
       "(830073, 17)"
      ]
     },
     "execution_count": 436,
     "metadata": {},
     "output_type": "execute_result"
    }
   ],
   "source": [
    "# reset index\n",
    "mar_clean_10k.reset_index(drop=True, inplace=True)\n",
    "\n",
    "# check\n",
    "mar_clean_10k.shape"
   ]
  },
  {
   "cell_type": "code",
   "execution_count": null,
   "metadata": {},
   "outputs": [],
   "source": [
    "# drop quote_url and retweet_id columns\n",
    "mar_clean_10k.drop(columns=['quote_url', 'retweet_id'], inplace=True)"
   ]
  },
  {
   "cell_type": "code",
   "execution_count": 437,
   "metadata": {},
   "outputs": [],
   "source": [
    "# save to csv\n",
    "mar_clean_10k.to_csv('data/mar_tweets_clean_10k_from_17th.csv')"
   ]
  },
  {
   "cell_type": "markdown",
   "metadata": {},
   "source": [
    "### April\n",
    "\n",
    "[[go back to the top](#Data-Cleaning)]"
   ]
  },
  {
   "cell_type": "code",
   "execution_count": 448,
   "metadata": {},
   "outputs": [
    {
     "name": "stderr",
     "output_type": "stream",
     "text": [
      "/Users/eric/opt/anaconda3/lib/python3.7/site-packages/IPython/core/interactiveshell.py:3063: DtypeWarning: Columns (0,1,3,4,5,6,8,9,10,11,12,15,17) have mixed types.Specify dtype option on import or set low_memory=False.\n",
      "  interactivity=interactivity, compiler=compiler, result=result)\n"
     ]
    },
    {
     "data": {
      "text/plain": [
       "(334598, 17)"
      ]
     },
     "execution_count": 448,
     "metadata": {},
     "output_type": "execute_result"
    }
   ],
   "source": [
    "apr_10k = pd.read_csv('data/10k_april_tweets.csv', index_col=0)\n",
    "apr_10k.shape"
   ]
  },
  {
   "cell_type": "code",
   "execution_count": 450,
   "metadata": {},
   "outputs": [
    {
     "data": {
      "text/plain": [
       "array(['2020-04-01', '2020-04-02', '2020-04-03', nan, 'Thomas Paine ✊',\n",
       "       '2020-04-04', '2020-04-05', '2020-04-06', '2020-04-07',\n",
       "       '2020-04-08', '2020-04-09', '2020-04-10', '2020-04-11',\n",
       "       '2020-04-12', '2020-04-13', '2020-04-14', '2020-04-15',\n",
       "       '2020-04-16', '2020-04-17', '2020-04-18', '2020-04-19',\n",
       "       '2020-04-20', '2020-04-21', '2020-04-22', '2020-04-23',\n",
       "       '2020-04-24', '2020-04-25', '2020-04-26', '2020-04-27',\n",
       "       '2020-04-28', '2020-04-29', '2020-04-30'], dtype=object)"
      ]
     },
     "execution_count": 450,
     "metadata": {},
     "output_type": "execute_result"
    }
   ],
   "source": [
    "apr_10k['date'].unique()"
   ]
  },
  {
   "cell_type": "code",
   "execution_count": 451,
   "metadata": {},
   "outputs": [
    {
     "data": {
      "text/plain": [
       "(334598, 17)"
      ]
     },
     "execution_count": 451,
     "metadata": {},
     "output_type": "execute_result"
    }
   ],
   "source": [
    "# create a copy to clean\n",
    "apr_clean_10k = apr_10k.copy()\n",
    "\n",
    "# check shape\n",
    "apr_clean_10k.shape"
   ]
  },
  {
   "cell_type": "code",
   "execution_count": 452,
   "metadata": {},
   "outputs": [
    {
     "data": {
      "text/plain": [
       "(299811, 17)"
      ]
     },
     "execution_count": 452,
     "metadata": {},
     "output_type": "execute_result"
    }
   ],
   "source": [
    "# drop rows with all NaN values\n",
    "apr_clean_10k.dropna(how='all', inplace=True)\n",
    "\n",
    "# check\n",
    "apr_clean_10k.shape"
   ]
  },
  {
   "cell_type": "code",
   "execution_count": 455,
   "metadata": {},
   "outputs": [
    {
     "data": {
      "text/plain": [
       "id                      0\n",
       "conversation_id         0\n",
       "created_at              0\n",
       "date                    0\n",
       "tweet                   0\n",
       "hashtags             2019\n",
       "user_id              2019\n",
       "username             2019\n",
       "name                 2025\n",
       "link                 2020\n",
       "retweet              2020\n",
       "nlikes               2019\n",
       "nreplies             2020\n",
       "nretweets            2020\n",
       "quote_url          280944\n",
       "retweet_id         299811\n",
       "reply_to             2020\n",
       "dtype: int64"
      ]
     },
     "execution_count": 455,
     "metadata": {},
     "output_type": "execute_result"
    }
   ],
   "source": [
    "# check for NaN values\n",
    "apr_clean_10k.isna().sum()"
   ]
  },
  {
   "cell_type": "code",
   "execution_count": 458,
   "metadata": {},
   "outputs": [
    {
     "data": {
      "text/plain": [
       "(297785, 17)"
      ]
     },
     "execution_count": 458,
     "metadata": {},
     "output_type": "execute_result"
    }
   ],
   "source": [
    "# drop any tweets missing a value for name or username  or link (takes care of other NaN values)\n",
    "apr_clean_10k.dropna(subset=['name', 'username', 'link'], inplace=True)\n",
    "\n",
    "# check\n",
    "apr_clean_10k.shape"
   ]
  },
  {
   "cell_type": "code",
   "execution_count": 460,
   "metadata": {},
   "outputs": [
    {
     "data": {
      "text/plain": [
       "array(['2020-04-01', '2020-04-02', '2020-04-03', '2020-04-04',\n",
       "       '2020-04-05', '2020-04-06', '2020-04-07', '2020-04-08',\n",
       "       '2020-04-09', '2020-04-10', '2020-04-11', '2020-04-12',\n",
       "       '2020-04-13', '2020-04-14', '2020-04-15', '2020-04-16',\n",
       "       '2020-04-17', '2020-04-18', '2020-04-19', '2020-04-20',\n",
       "       '2020-04-21', '2020-04-22', '2020-04-23', '2020-04-24',\n",
       "       '2020-04-25', '2020-04-26', '2020-04-27', '2020-04-28',\n",
       "       '2020-04-29', '2020-04-30'], dtype=object)"
      ]
     },
     "execution_count": 460,
     "metadata": {},
     "output_type": "execute_result"
    }
   ],
   "source": [
    "# confirm no weird scrapes\n",
    "apr_clean_10k['date'].unique()"
   ]
  },
  {
   "cell_type": "code",
   "execution_count": 461,
   "metadata": {},
   "outputs": [
    {
     "data": {
      "text/plain": [
       "(297785, 17)"
      ]
     },
     "execution_count": 461,
     "metadata": {},
     "output_type": "execute_result"
    }
   ],
   "source": [
    "# reset index\n",
    "apr_clean_10k.reset_index(drop=True, inplace=True)\n",
    "\n",
    "# check\n",
    "apr_clean_10k.shape"
   ]
  },
  {
   "cell_type": "code",
   "execution_count": null,
   "metadata": {},
   "outputs": [],
   "source": [
    "# drop quote_url and retweet_id columns\n",
    "apr_clean_10k.drop(columns=['quote_url', 'retweet_id'], inplace=True)"
   ]
  },
  {
   "cell_type": "code",
   "execution_count": 462,
   "metadata": {},
   "outputs": [],
   "source": [
    "# save to csv\n",
    "apr_clean_10k.to_csv('data/apr_tweets_clean_10k.csv')"
   ]
  },
  {
   "cell_type": "markdown",
   "metadata": {},
   "source": [
    "### May\n",
    "\n",
    "[[go back to the top](#Data-Cleaning)]\n",
    "\n",
    "*NOTE: the DataFrame for May was cleaned using a lost notebook and will be imported below.*"
   ]
  },
  {
   "cell_type": "markdown",
   "metadata": {},
   "source": [
    "## Downsize to 5,000 tweets per day\n",
    "\n",
    "[[go back to the top](#Data-Cleaning)]\n",
    "\n",
    "- Prelimary work has shown us that we have too much data to compute efficiently.\n",
    "- To account for this, we'll be downsizing to a maximum of 5000 tweets per day."
   ]
  },
  {
   "cell_type": "code",
   "execution_count": 463,
   "metadata": {},
   "outputs": [
    {
     "data": {
      "text/plain": [
       "((450464, 17), (536865, 17), (830073, 17), (297785, 17))"
      ]
     },
     "execution_count": 463,
     "metadata": {},
     "output_type": "execute_result"
    }
   ],
   "source": [
    "# look at shapes of each dataframe\n",
    "jan_clean.shape, feb_clean.shape, mar_clean_10k.shape, apr_clean_10k.shape"
   ]
  },
  {
   "cell_type": "code",
   "execution_count": 464,
   "metadata": {},
   "outputs": [
    {
     "data": {
      "text/plain": [
       "((40724, 17), (78094, 17), (152131, 17), (150000, 17))"
      ]
     },
     "execution_count": 464,
     "metadata": {},
     "output_type": "execute_result"
    }
   ],
   "source": [
    "# set up a filter and only use tweets that contain at least one of these terms\n",
    "filt = 'covid|dead|death|doctor|infect|novel|nurse|outbreak|rona|sars|viral|virus|wuhan'\n",
    "\n",
    "jan_5k = jan_clean[jan_clean['tweet'].str.contains(filt)].groupby('date').head(5000)\n",
    "jan_5k.reset_index(drop=True, inplace=True)\n",
    "\n",
    "feb_5k = feb_clean[feb_clean['tweet'].str.contains(filt)].groupby('date').head(5000)\n",
    "feb_5k.reset_index(drop=True, inplace=True)\n",
    "\n",
    "mar_5k = mar_clean_10k[mar_clean_10k['tweet'].str.contains(filt)].groupby('date').head(5000)\n",
    "mar_5k.reset_index(drop=True, inplace=True)\n",
    "\n",
    "apr_5k = apr_clean_10k[apr_clean_10k['tweet'].str.contains(filt)].groupby('date').head(5000)\n",
    "apr_5k.reset_index(drop=True, inplace=True)\n",
    "\n",
    "# look at new shapes\n",
    "jan_5k.shape, feb_5k.shape, mar_5k.shape, apr_5k.shape"
   ]
  },
  {
   "cell_type": "code",
   "execution_count": 465,
   "metadata": {},
   "outputs": [
    {
     "data": {
      "text/plain": [
       "date\n",
       "2020-01-01      91\n",
       "2020-01-02     157\n",
       "2020-01-03     156\n",
       "2020-01-04     155\n",
       "2020-01-05     174\n",
       "2020-01-06     192\n",
       "2020-01-07     164\n",
       "2020-01-08     168\n",
       "2020-01-09     178\n",
       "2020-01-10     163\n",
       "2020-01-11     120\n",
       "2020-01-12     215\n",
       "2020-01-13     175\n",
       "2020-01-14     192\n",
       "2020-01-15     188\n",
       "2020-01-16     144\n",
       "2020-01-17     156\n",
       "2020-01-18     124\n",
       "2020-01-19     110\n",
       "2020-01-20     347\n",
       "2020-01-21     725\n",
       "2020-01-22    1183\n",
       "2020-01-23    1985\n",
       "2020-01-24    2331\n",
       "2020-01-25    3324\n",
       "2020-01-26    3879\n",
       "2020-01-27    3928\n",
       "2020-01-28    5000\n",
       "2020-01-29    5000\n",
       "2020-01-30    5000\n",
       "2020-01-31    5000\n",
       "Name: tweet, dtype: int64"
      ]
     },
     "execution_count": 465,
     "metadata": {},
     "output_type": "execute_result"
    }
   ],
   "source": [
    "# check out daily tweet counts for january\n",
    "jan_5k[jan_5k.tweet.str.contains(filt)].groupby('date')['tweet'].count()"
   ]
  },
  {
   "cell_type": "code",
   "execution_count": 466,
   "metadata": {},
   "outputs": [
    {
     "data": {
      "text/plain": [
       "date\n",
       "2020-02-01    4057\n",
       "2020-02-02    3792\n",
       "2020-02-03    3080\n",
       "2020-02-04    2960\n",
       "2020-02-05    2309\n",
       "2020-02-06    2614\n",
       "2020-02-07    3202\n",
       "2020-02-08    2322\n",
       "2020-02-09    1914\n",
       "2020-02-10    2450\n",
       "2020-02-11    2131\n",
       "2020-02-12    1875\n",
       "2020-02-13    2135\n",
       "2020-02-14    1948\n",
       "2020-02-15    1398\n",
       "2020-02-16    1719\n",
       "2020-02-17    1540\n",
       "2020-02-18    1536\n",
       "2020-02-19    1415\n",
       "2020-02-20    1349\n",
       "2020-02-21    1760\n",
       "2020-02-22    1563\n",
       "2020-02-23    1993\n",
       "2020-02-24    2877\n",
       "2020-02-25    4155\n",
       "2020-02-26    5000\n",
       "2020-02-27    5000\n",
       "2020-02-28    5000\n",
       "2020-02-29    5000\n",
       "Name: tweet, dtype: int64"
      ]
     },
     "execution_count": 466,
     "metadata": {},
     "output_type": "execute_result"
    }
   ],
   "source": [
    "# check out daily tweet counts for february\n",
    "feb_5k[feb_5k.tweet.str.contains(filt)].groupby('date')['tweet'].count()"
   ]
  },
  {
   "cell_type": "code",
   "execution_count": 467,
   "metadata": {},
   "outputs": [
    {
     "data": {
      "text/plain": [
       "date\n",
       "2020-03-01    5000\n",
       "2020-03-02    5000\n",
       "2020-03-03    5000\n",
       "2020-03-04    5000\n",
       "2020-03-05    5000\n",
       "2020-03-06    5000\n",
       "2020-03-07    5000\n",
       "2020-03-08    5000\n",
       "2020-03-09    5000\n",
       "2020-03-10    5000\n",
       "2020-03-11    5000\n",
       "2020-03-12    5000\n",
       "2020-03-13    5000\n",
       "2020-03-14    5000\n",
       "2020-03-15    5000\n",
       "2020-03-16    5000\n",
       "2020-03-17    5000\n",
       "2020-03-18    5000\n",
       "2020-03-19    5000\n",
       "2020-03-20    5000\n",
       "2020-03-21    5000\n",
       "2020-03-22    5000\n",
       "2020-03-23    5000\n",
       "2020-03-24    5000\n",
       "2020-03-25    5000\n",
       "2020-03-26    5000\n",
       "2020-03-27    5000\n",
       "2020-03-28    2131\n",
       "2020-03-29    5000\n",
       "2020-03-30    5000\n",
       "2020-03-31    5000\n",
       "Name: tweet, dtype: int64"
      ]
     },
     "execution_count": 467,
     "metadata": {},
     "output_type": "execute_result"
    }
   ],
   "source": [
    "# check out daily tweet counts for march [note: reason for strange dip for march 28 remains unsolved]\n",
    "mar_5k[mar_5k.tweet.str.contains(filt)].groupby('date')['tweet'].count()"
   ]
  },
  {
   "cell_type": "code",
   "execution_count": 468,
   "metadata": {},
   "outputs": [
    {
     "data": {
      "text/plain": [
       "date\n",
       "2020-04-01    5000\n",
       "2020-04-02    5000\n",
       "2020-04-03    5000\n",
       "2020-04-04    5000\n",
       "2020-04-05    5000\n",
       "2020-04-06    5000\n",
       "2020-04-07    5000\n",
       "2020-04-08    5000\n",
       "2020-04-09    5000\n",
       "2020-04-10    5000\n",
       "2020-04-11    5000\n",
       "2020-04-12    5000\n",
       "2020-04-13    5000\n",
       "2020-04-14    5000\n",
       "2020-04-15    5000\n",
       "2020-04-16    5000\n",
       "2020-04-17    5000\n",
       "2020-04-18    5000\n",
       "2020-04-19    5000\n",
       "2020-04-20    5000\n",
       "2020-04-21    5000\n",
       "2020-04-22    5000\n",
       "2020-04-23    5000\n",
       "2020-04-24    5000\n",
       "2020-04-25    5000\n",
       "2020-04-26    5000\n",
       "2020-04-27    5000\n",
       "2020-04-28    5000\n",
       "2020-04-29    5000\n",
       "2020-04-30    5000\n",
       "Name: tweet, dtype: int64"
      ]
     },
     "execution_count": 468,
     "metadata": {},
     "output_type": "execute_result"
    }
   ],
   "source": [
    "# check out daily tweet counts for april\n",
    "apr_5k[apr_5k.tweet.str.contains(filt)].groupby('date')['tweet'].count()"
   ]
  },
  {
   "cell_type": "code",
   "execution_count": null,
   "metadata": {},
   "outputs": [],
   "source": [
    "# save clean dataframes\n",
    "jan_5k = pd.to_csv('data/5k_jan_tweets.csv', index_col=0)\n",
    "feb_5k = pd.to_csv('data/5k_feb_tweets.csv', index_col=0)\n",
    "mar_5k = pd.to_csv('data/5k_mar_tweets.csv', index_col=0)\n",
    "apr_5k = pd.to_csv('data/5k_apr_tweets.csv', index_col=0)"
   ]
  },
  {
   "cell_type": "markdown",
   "metadata": {},
   "source": [
    "## Combine DataFrames\n",
    "\n",
    "[[go back to the top](#Data-Cleaning)]\n",
    "\n",
    "*NOTE: the DataFrame for May was cleaned using a lost notebook and will be imported below.*\n",
    "\n",
    "- Import DataFrames.\n",
    "- Combine DataFrames.\n",
    "- Save."
   ]
  },
  {
   "cell_type": "code",
   "execution_count": 2,
   "metadata": {},
   "outputs": [
    {
     "data": {
      "text/plain": [
       "((40724, 17), (78094, 17), (152131, 17), (150000, 17), (155000, 15))"
      ]
     },
     "execution_count": 2,
     "metadata": {},
     "output_type": "execute_result"
    }
   ],
   "source": [
    "# import dataframes\n",
    "jan_5k = pd.read_csv('data/5k_jan_tweets.csv', index_col=0)\n",
    "feb_5k = pd.read_csv('data/5k_feb_tweets.csv', index_col=0)\n",
    "mar_5k = pd.read_csv('data/5k_mar_tweets.csv', index_col=0)\n",
    "apr_5k = pd.read_csv('data/5k_apr_tweets.csv', index_col=0)\n",
    "may_5k = pd.read_csv('data/5k_may_tweets.csv', index_col=0)\n",
    "\n",
    "# check shapes \n",
    "jan_5k.shape, feb_5k.shape, mar_5k.shape, apr_5k.shape, may_5k.shape"
   ]
  },
  {
   "cell_type": "code",
   "execution_count": 9,
   "metadata": {},
   "outputs": [
    {
     "data": {
      "text/plain": [
       "(575949, 17)"
      ]
     },
     "execution_count": 9,
     "metadata": {},
     "output_type": "execute_result"
    }
   ],
   "source": [
    "# combine dataframes\n",
    "df = pd.concat([jan_5k, feb_5k, mar_5k, apr_5k, may_5k])\n",
    "\n",
    "# check shape\n",
    "df.shape"
   ]
  },
  {
   "cell_type": "code",
   "execution_count": 10,
   "metadata": {},
   "outputs": [
    {
     "data": {
      "text/html": [
       "<div>\n",
       "<style scoped>\n",
       "    .dataframe tbody tr th:only-of-type {\n",
       "        vertical-align: middle;\n",
       "    }\n",
       "\n",
       "    .dataframe tbody tr th {\n",
       "        vertical-align: top;\n",
       "    }\n",
       "\n",
       "    .dataframe thead th {\n",
       "        text-align: right;\n",
       "    }\n",
       "</style>\n",
       "<table border=\"1\" class=\"dataframe\">\n",
       "  <thead>\n",
       "    <tr style=\"text-align: right;\">\n",
       "      <th></th>\n",
       "      <th>id</th>\n",
       "      <th>conversation_id</th>\n",
       "      <th>created_at</th>\n",
       "      <th>date</th>\n",
       "      <th>tweet</th>\n",
       "      <th>hashtags</th>\n",
       "      <th>user_id</th>\n",
       "      <th>username</th>\n",
       "      <th>name</th>\n",
       "      <th>link</th>\n",
       "      <th>retweet</th>\n",
       "      <th>nlikes</th>\n",
       "      <th>nreplies</th>\n",
       "      <th>nretweets</th>\n",
       "      <th>quote_url</th>\n",
       "      <th>retweet_id</th>\n",
       "      <th>reply_to</th>\n",
       "    </tr>\n",
       "  </thead>\n",
       "  <tbody>\n",
       "    <tr>\n",
       "      <th>0</th>\n",
       "      <td>1.212523e+18</td>\n",
       "      <td>1.212523e+18</td>\n",
       "      <td>1.577923e+12</td>\n",
       "      <td>2020-01-01</td>\n",
       "      <td>https://mltshp.com/p/1HLSB  \"This is the deat...</td>\n",
       "      <td>[]</td>\n",
       "      <td>8.431951e+17</td>\n",
       "      <td>Best_of_MLTSHP</td>\n",
       "      <td>MLTSHP</td>\n",
       "      <td>https://twitter.com/Best_of_MLTSHP/status/1212...</td>\n",
       "      <td>False</td>\n",
       "      <td>1.0</td>\n",
       "      <td>0.0</td>\n",
       "      <td>1.0</td>\n",
       "      <td>NaN</td>\n",
       "      <td>NaN</td>\n",
       "      <td>[{'user_id': '843195118924546048', 'username':...</td>\n",
       "    </tr>\n",
       "    <tr>\n",
       "      <th>1</th>\n",
       "      <td>1.212518e+18</td>\n",
       "      <td>1.212518e+18</td>\n",
       "      <td>1.577922e+12</td>\n",
       "      <td>2020-01-01</td>\n",
       "      <td>Ready to heard this? Homemade hair treatment a...</td>\n",
       "      <td>[]</td>\n",
       "      <td>1.044739e+18</td>\n",
       "      <td>lumora_lu</td>\n",
       "      <td>MiLu</td>\n",
       "      <td>https://twitter.com/lumora_lu/status/121251804...</td>\n",
       "      <td>False</td>\n",
       "      <td>0.0</td>\n",
       "      <td>0.0</td>\n",
       "      <td>0.0</td>\n",
       "      <td>NaN</td>\n",
       "      <td>NaN</td>\n",
       "      <td>[{'user_id': '1044738746913034241', 'username'...</td>\n",
       "    </tr>\n",
       "    <tr>\n",
       "      <th>2</th>\n",
       "      <td>1.212518e+18</td>\n",
       "      <td>1.212518e+18</td>\n",
       "      <td>1.577922e+12</td>\n",
       "      <td>2020-01-01</td>\n",
       "      <td>We all know what a joke #CCPChina is when it c...</td>\n",
       "      <td>['#ccpchina', '#sars', '#hk', '#hkers']</td>\n",
       "      <td>9.630325e+17</td>\n",
       "      <td>odiecher</td>\n",
       "      <td>odiecher</td>\n",
       "      <td>https://twitter.com/odiecher/status/1212517557...</td>\n",
       "      <td>False</td>\n",
       "      <td>1.0</td>\n",
       "      <td>1.0</td>\n",
       "      <td>1.0</td>\n",
       "      <td>https://twitter.com/WBYeats1865/status/1212430...</td>\n",
       "      <td>NaN</td>\n",
       "      <td>[{'user_id': '963032516759207936', 'username':...</td>\n",
       "    </tr>\n",
       "    <tr>\n",
       "      <th>3</th>\n",
       "      <td>1.212516e+18</td>\n",
       "      <td>1.200523e+18</td>\n",
       "      <td>1.577921e+12</td>\n",
       "      <td>2020-01-01</td>\n",
       "      <td>Thought death masks gave you the horn freak</td>\n",
       "      <td>[]</td>\n",
       "      <td>2.819219e+09</td>\n",
       "      <td>Hevysmoker</td>\n",
       "      <td>Ashley Collins</td>\n",
       "      <td>https://twitter.com/Hevysmoker/status/12125155...</td>\n",
       "      <td>False</td>\n",
       "      <td>0.0</td>\n",
       "      <td>0.0</td>\n",
       "      <td>0.0</td>\n",
       "      <td>NaN</td>\n",
       "      <td>NaN</td>\n",
       "      <td>[{'user_id': '2819219369', 'username': 'Hevysm...</td>\n",
       "    </tr>\n",
       "    <tr>\n",
       "      <th>4</th>\n",
       "      <td>1.212510e+18</td>\n",
       "      <td>1.212391e+18</td>\n",
       "      <td>1.577920e+12</td>\n",
       "      <td>2020-01-01</td>\n",
       "      <td>Interesting cult of death mask he’s wearing, 🤔...</td>\n",
       "      <td>[]</td>\n",
       "      <td>2.361956e+08</td>\n",
       "      <td>FaithR8s</td>\n",
       "      <td>❌Patriot Fan🇺🇸🗽☕️🎶❌</td>\n",
       "      <td>https://twitter.com/FaithR8s/status/1212510409...</td>\n",
       "      <td>False</td>\n",
       "      <td>1.0</td>\n",
       "      <td>0.0</td>\n",
       "      <td>1.0</td>\n",
       "      <td>NaN</td>\n",
       "      <td>NaN</td>\n",
       "      <td>[{'user_id': '236195607', 'username': 'FaithR8...</td>\n",
       "    </tr>\n",
       "  </tbody>\n",
       "</table>\n",
       "</div>"
      ],
      "text/plain": [
       "             id  conversation_id    created_at        date  \\\n",
       "0  1.212523e+18     1.212523e+18  1.577923e+12  2020-01-01   \n",
       "1  1.212518e+18     1.212518e+18  1.577922e+12  2020-01-01   \n",
       "2  1.212518e+18     1.212518e+18  1.577922e+12  2020-01-01   \n",
       "3  1.212516e+18     1.200523e+18  1.577921e+12  2020-01-01   \n",
       "4  1.212510e+18     1.212391e+18  1.577920e+12  2020-01-01   \n",
       "\n",
       "                                               tweet  \\\n",
       "0   https://mltshp.com/p/1HLSB  \"This is the deat...   \n",
       "1  Ready to heard this? Homemade hair treatment a...   \n",
       "2  We all know what a joke #CCPChina is when it c...   \n",
       "3        Thought death masks gave you the horn freak   \n",
       "4  Interesting cult of death mask he’s wearing, 🤔...   \n",
       "\n",
       "                                  hashtags       user_id        username  \\\n",
       "0                                       []  8.431951e+17  Best_of_MLTSHP   \n",
       "1                                       []  1.044739e+18       lumora_lu   \n",
       "2  ['#ccpchina', '#sars', '#hk', '#hkers']  9.630325e+17        odiecher   \n",
       "3                                       []  2.819219e+09      Hevysmoker   \n",
       "4                                       []  2.361956e+08        FaithR8s   \n",
       "\n",
       "                  name                                               link  \\\n",
       "0               MLTSHP  https://twitter.com/Best_of_MLTSHP/status/1212...   \n",
       "1                 MiLu  https://twitter.com/lumora_lu/status/121251804...   \n",
       "2             odiecher  https://twitter.com/odiecher/status/1212517557...   \n",
       "3       Ashley Collins  https://twitter.com/Hevysmoker/status/12125155...   \n",
       "4  ❌Patriot Fan🇺🇸🗽☕️🎶❌  https://twitter.com/FaithR8s/status/1212510409...   \n",
       "\n",
       "   retweet  nlikes  nreplies  nretweets  \\\n",
       "0    False     1.0       0.0        1.0   \n",
       "1    False     0.0       0.0        0.0   \n",
       "2    False     1.0       1.0        1.0   \n",
       "3    False     0.0       0.0        0.0   \n",
       "4    False     1.0       0.0        1.0   \n",
       "\n",
       "                                           quote_url  retweet_id  \\\n",
       "0                                                NaN         NaN   \n",
       "1                                                NaN         NaN   \n",
       "2  https://twitter.com/WBYeats1865/status/1212430...         NaN   \n",
       "3                                                NaN         NaN   \n",
       "4                                                NaN         NaN   \n",
       "\n",
       "                                            reply_to  \n",
       "0  [{'user_id': '843195118924546048', 'username':...  \n",
       "1  [{'user_id': '1044738746913034241', 'username'...  \n",
       "2  [{'user_id': '963032516759207936', 'username':...  \n",
       "3  [{'user_id': '2819219369', 'username': 'Hevysm...  \n",
       "4  [{'user_id': '236195607', 'username': 'FaithR8...  "
      ]
     },
     "execution_count": 10,
     "metadata": {},
     "output_type": "execute_result"
    }
   ],
   "source": [
    "# reset index\n",
    "df.reset_index(drop=True, inplace=True)\n",
    "\n",
    "# take a look at the first 5 rows\n",
    "df.head()"
   ]
  },
  {
   "cell_type": "code",
   "execution_count": 11,
   "metadata": {
    "scrolled": true
   },
   "outputs": [
    {
     "data": {
      "text/html": [
       "<div>\n",
       "<style scoped>\n",
       "    .dataframe tbody tr th:only-of-type {\n",
       "        vertical-align: middle;\n",
       "    }\n",
       "\n",
       "    .dataframe tbody tr th {\n",
       "        vertical-align: top;\n",
       "    }\n",
       "\n",
       "    .dataframe thead th {\n",
       "        text-align: right;\n",
       "    }\n",
       "</style>\n",
       "<table border=\"1\" class=\"dataframe\">\n",
       "  <thead>\n",
       "    <tr style=\"text-align: right;\">\n",
       "      <th></th>\n",
       "      <th>id</th>\n",
       "      <th>conversation_id</th>\n",
       "      <th>created_at</th>\n",
       "      <th>date</th>\n",
       "      <th>tweet</th>\n",
       "      <th>hashtags</th>\n",
       "      <th>user_id</th>\n",
       "      <th>username</th>\n",
       "      <th>name</th>\n",
       "      <th>link</th>\n",
       "      <th>retweet</th>\n",
       "      <th>nlikes</th>\n",
       "      <th>nreplies</th>\n",
       "      <th>nretweets</th>\n",
       "      <th>quote_url</th>\n",
       "      <th>retweet_id</th>\n",
       "      <th>reply_to</th>\n",
       "    </tr>\n",
       "  </thead>\n",
       "  <tbody>\n",
       "    <tr>\n",
       "      <th>575944</th>\n",
       "      <td>1.266992e+18</td>\n",
       "      <td>1.266992e+18</td>\n",
       "      <td>1.590909e+12</td>\n",
       "      <td>2020-05-31</td>\n",
       "      <td>Cuomo urges protesters to 'demonstrate with a ...</td>\n",
       "      <td>[]</td>\n",
       "      <td>3.424594e+08</td>\n",
       "      <td>chrisusanz</td>\n",
       "      <td>Christopher</td>\n",
       "      <td>https://twitter.com/chrisusanz/status/12669917...</td>\n",
       "      <td>False</td>\n",
       "      <td>0.0</td>\n",
       "      <td>0.0</td>\n",
       "      <td>0.0</td>\n",
       "      <td>NaN</td>\n",
       "      <td>NaN</td>\n",
       "      <td>[{'user_id': '342459363', 'username': 'chrisus...</td>\n",
       "    </tr>\n",
       "    <tr>\n",
       "      <th>575945</th>\n",
       "      <td>1.266992e+18</td>\n",
       "      <td>1.266992e+18</td>\n",
       "      <td>1.590909e+12</td>\n",
       "      <td>2020-05-31</td>\n",
       "      <td>Advantages of wearing face masks: \\n1. Haven’t...</td>\n",
       "      <td>['#covid19', '#coronapandemic', '#sundayvibes']</td>\n",
       "      <td>1.361908e+09</td>\n",
       "      <td>HusaynZ</td>\n",
       "      <td>Rogue Aviator 🇵🇰</td>\n",
       "      <td>https://twitter.com/HusaynZ/status/12669916005...</td>\n",
       "      <td>False</td>\n",
       "      <td>62.0</td>\n",
       "      <td>10.0</td>\n",
       "      <td>11.0</td>\n",
       "      <td>NaN</td>\n",
       "      <td>NaN</td>\n",
       "      <td>[{'user_id': '1361908454', 'username': 'Husayn...</td>\n",
       "    </tr>\n",
       "    <tr>\n",
       "      <th>575946</th>\n",
       "      <td>1.266992e+18</td>\n",
       "      <td>1.266992e+18</td>\n",
       "      <td>1.590909e+12</td>\n",
       "      <td>2020-05-31</td>\n",
       "      <td>The model of South Korea will have to be follo...</td>\n",
       "      <td>[]</td>\n",
       "      <td>3.223174e+09</td>\n",
       "      <td>moussetafaa</td>\n",
       "      <td>Mustafa</td>\n",
       "      <td>https://twitter.com/moussetafaa/status/1266991...</td>\n",
       "      <td>False</td>\n",
       "      <td>0.0</td>\n",
       "      <td>1.0</td>\n",
       "      <td>0.0</td>\n",
       "      <td>NaN</td>\n",
       "      <td>NaN</td>\n",
       "      <td>[{'user_id': '3223174388', 'username': 'mousse...</td>\n",
       "    </tr>\n",
       "    <tr>\n",
       "      <th>575947</th>\n",
       "      <td>1.266992e+18</td>\n",
       "      <td>1.266992e+18</td>\n",
       "      <td>1.590909e+12</td>\n",
       "      <td>2020-05-31</td>\n",
       "      <td>Aeroflot: passengers must change face masks ev...</td>\n",
       "      <td>['#aviation', '#airline', '#aircraft', '#covid...</td>\n",
       "      <td>1.545939e+07</td>\n",
       "      <td>SpeedBird_NCL</td>\n",
       "      <td>SpeedBird</td>\n",
       "      <td>https://twitter.com/SpeedBird_NCL/status/12669...</td>\n",
       "      <td>False</td>\n",
       "      <td>1.0</td>\n",
       "      <td>0.0</td>\n",
       "      <td>0.0</td>\n",
       "      <td>NaN</td>\n",
       "      <td>NaN</td>\n",
       "      <td>[{'user_id': '15459391', 'username': 'SpeedBir...</td>\n",
       "    </tr>\n",
       "    <tr>\n",
       "      <th>575948</th>\n",
       "      <td>1.266991e+18</td>\n",
       "      <td>1.266991e+18</td>\n",
       "      <td>1.590909e+12</td>\n",
       "      <td>2020-05-31</td>\n",
       "      <td>Corona said mask on 2020 said fuck it mask off...</td>\n",
       "      <td>[]</td>\n",
       "      <td>7.181234e+17</td>\n",
       "      <td>sharunbelll</td>\n",
       "      <td>moona love ❣️</td>\n",
       "      <td>https://twitter.com/sharunbelll/status/1266991...</td>\n",
       "      <td>False</td>\n",
       "      <td>1.0</td>\n",
       "      <td>0.0</td>\n",
       "      <td>1.0</td>\n",
       "      <td>NaN</td>\n",
       "      <td>NaN</td>\n",
       "      <td>[{'user_id': '718123376804376576', 'username':...</td>\n",
       "    </tr>\n",
       "  </tbody>\n",
       "</table>\n",
       "</div>"
      ],
      "text/plain": [
       "                  id  conversation_id    created_at        date  \\\n",
       "575944  1.266992e+18     1.266992e+18  1.590909e+12  2020-05-31   \n",
       "575945  1.266992e+18     1.266992e+18  1.590909e+12  2020-05-31   \n",
       "575946  1.266992e+18     1.266992e+18  1.590909e+12  2020-05-31   \n",
       "575947  1.266992e+18     1.266992e+18  1.590909e+12  2020-05-31   \n",
       "575948  1.266991e+18     1.266991e+18  1.590909e+12  2020-05-31   \n",
       "\n",
       "                                                    tweet  \\\n",
       "575944  Cuomo urges protesters to 'demonstrate with a ...   \n",
       "575945  Advantages of wearing face masks: \\n1. Haven’t...   \n",
       "575946  The model of South Korea will have to be follo...   \n",
       "575947  Aeroflot: passengers must change face masks ev...   \n",
       "575948  Corona said mask on 2020 said fuck it mask off...   \n",
       "\n",
       "                                                 hashtags       user_id  \\\n",
       "575944                                                 []  3.424594e+08   \n",
       "575945    ['#covid19', '#coronapandemic', '#sundayvibes']  1.361908e+09   \n",
       "575946                                                 []  3.223174e+09   \n",
       "575947  ['#aviation', '#airline', '#aircraft', '#covid...  1.545939e+07   \n",
       "575948                                                 []  7.181234e+17   \n",
       "\n",
       "             username              name  \\\n",
       "575944     chrisusanz       Christopher   \n",
       "575945        HusaynZ  Rogue Aviator 🇵🇰   \n",
       "575946    moussetafaa           Mustafa   \n",
       "575947  SpeedBird_NCL         SpeedBird   \n",
       "575948    sharunbelll     moona love ❣️   \n",
       "\n",
       "                                                     link  retweet  nlikes  \\\n",
       "575944  https://twitter.com/chrisusanz/status/12669917...    False     0.0   \n",
       "575945  https://twitter.com/HusaynZ/status/12669916005...    False    62.0   \n",
       "575946  https://twitter.com/moussetafaa/status/1266991...    False     0.0   \n",
       "575947  https://twitter.com/SpeedBird_NCL/status/12669...    False     1.0   \n",
       "575948  https://twitter.com/sharunbelll/status/1266991...    False     1.0   \n",
       "\n",
       "        nreplies  nretweets quote_url  retweet_id  \\\n",
       "575944       0.0        0.0       NaN         NaN   \n",
       "575945      10.0       11.0       NaN         NaN   \n",
       "575946       1.0        0.0       NaN         NaN   \n",
       "575947       0.0        0.0       NaN         NaN   \n",
       "575948       0.0        1.0       NaN         NaN   \n",
       "\n",
       "                                                 reply_to  \n",
       "575944  [{'user_id': '342459363', 'username': 'chrisus...  \n",
       "575945  [{'user_id': '1361908454', 'username': 'Husayn...  \n",
       "575946  [{'user_id': '3223174388', 'username': 'mousse...  \n",
       "575947  [{'user_id': '15459391', 'username': 'SpeedBir...  \n",
       "575948  [{'user_id': '718123376804376576', 'username':...  "
      ]
     },
     "execution_count": 11,
     "metadata": {},
     "output_type": "execute_result"
    }
   ],
   "source": [
    "# look at the last 5 rows\n",
    "df.tail()"
   ]
  },
  {
   "cell_type": "markdown",
   "metadata": {},
   "source": [
    "### Save\n",
    "\n",
    "[[go back to the top](#Data-Cleaning)]"
   ]
  },
  {
   "cell_type": "code",
   "execution_count": 12,
   "metadata": {},
   "outputs": [],
   "source": [
    "# save!\n",
    "df.to_csv('data/jan_thru_may_5k_tweets_clean.csv')"
   ]
  }
 ],
 "metadata": {
  "kernelspec": {
   "display_name": "Python 3",
   "language": "python",
   "name": "python3"
  },
  "language_info": {
   "codemirror_mode": {
    "name": "ipython",
    "version": 3
   },
   "file_extension": ".py",
   "mimetype": "text/x-python",
   "name": "python",
   "nbconvert_exporter": "python",
   "pygments_lexer": "ipython3",
   "version": "3.6.9"
  }
 },
 "nbformat": 4,
 "nbformat_minor": 4
}
