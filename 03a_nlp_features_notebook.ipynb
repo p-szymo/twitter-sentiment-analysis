{
 "cells": [
  {
   "cell_type": "markdown",
   "metadata": {},
   "source": [
    "# NLP & Feature Engineering\n",
    "- **Import necessary libraries.**"
   ]
  },
  {
   "cell_type": "code",
   "execution_count": 19,
   "metadata": {},
   "outputs": [
    {
     "name": "stdout",
     "output_type": "stream",
     "text": [
      "The autoreload extension is already loaded. To reload it, use:\n",
      "  %reload_ext autoreload\n"
     ]
    }
   ],
   "source": [
    "# standard libraries\n",
    "import numpy as np\n",
    "import pandas as pd\n",
    "\n",
    "# visualization libraries\n",
    "import matplotlib\n",
    "%matplotlib inline\n",
    "import seaborn as sns; sns.set_style('ticks')\n",
    "\n",
    "# text processing/nlp libraries\n",
    "from vaderSentiment.vaderSentiment import SentimentIntensityAnalyzer\n",
    "import nltk\n",
    "from nltk.corpus import stopwords\n",
    "from nltk.probability import FreqDist\n",
    "from textblob import TextBlob\n",
    "from sklearn.feature_extraction.text import CountVectorizer, TfidfVectorizer\n",
    "from gensim import matutils, models\n",
    "import scipy.sparse\n",
    "from collections import Counter\n",
    "\n",
    "# saving libraries\n",
    "import gzip\n",
    "import pickle\n",
    "\n",
    "# custom functions\n",
    "from functions import *\n",
    "\n",
    "# reload when functions is edited\n",
    "%load_ext autoreload\n",
    "%autoreload 2"
   ]
  },
  {
   "cell_type": "code",
   "execution_count": 2,
   "metadata": {},
   "outputs": [],
   "source": [
    "# increase column width to more easily read tweets\n",
    "pd.set_option('max_colwidth', 150)"
   ]
  },
  {
   "cell_type": "markdown",
   "metadata": {},
   "source": [
    "# Loading csv"
   ]
  },
  {
   "cell_type": "code",
   "execution_count": 3,
   "metadata": {},
   "outputs": [
    {
     "name": "stderr",
     "output_type": "stream",
     "text": [
      "/opt/anaconda3/envs/learn-env/lib/python3.6/site-packages/IPython/core/interactiveshell.py:3058: DtypeWarning: Columns (15) have mixed types.Specify dtype option on import or set low_memory=False.\n",
      "  interactivity=interactivity, compiler=compiler, result=result)\n"
     ]
    },
    {
     "data": {
      "text/plain": [
       "(575949, 17)"
      ]
     },
     "execution_count": 3,
     "metadata": {},
     "output_type": "execute_result"
    }
   ],
   "source": [
    "df = pd.read_csv('data/jan_thru_may_5k_tweets_clean.csv', index_col=0)\n",
    "df.shape"
   ]
  },
  {
   "cell_type": "code",
   "execution_count": 4,
   "metadata": {},
   "outputs": [
    {
     "data": {
      "text/html": [
       "<div>\n",
       "<style scoped>\n",
       "    .dataframe tbody tr th:only-of-type {\n",
       "        vertical-align: middle;\n",
       "    }\n",
       "\n",
       "    .dataframe tbody tr th {\n",
       "        vertical-align: top;\n",
       "    }\n",
       "\n",
       "    .dataframe thead th {\n",
       "        text-align: right;\n",
       "    }\n",
       "</style>\n",
       "<table border=\"1\" class=\"dataframe\">\n",
       "  <thead>\n",
       "    <tr style=\"text-align: right;\">\n",
       "      <th></th>\n",
       "      <th>id</th>\n",
       "      <th>conversation_id</th>\n",
       "      <th>created_at</th>\n",
       "      <th>date</th>\n",
       "      <th>tweet</th>\n",
       "      <th>hashtags</th>\n",
       "      <th>user_id</th>\n",
       "      <th>username</th>\n",
       "      <th>name</th>\n",
       "      <th>link</th>\n",
       "      <th>retweet</th>\n",
       "      <th>nlikes</th>\n",
       "      <th>nreplies</th>\n",
       "      <th>nretweets</th>\n",
       "      <th>quote_url</th>\n",
       "      <th>retweet_id</th>\n",
       "      <th>reply_to</th>\n",
       "    </tr>\n",
       "  </thead>\n",
       "  <tbody>\n",
       "    <tr>\n",
       "      <th>0</th>\n",
       "      <td>1.212523e+18</td>\n",
       "      <td>1.212523e+18</td>\n",
       "      <td>1.577923e+12</td>\n",
       "      <td>2020-01-01</td>\n",
       "      <td>https://mltshp.com/p/1HLSB  \"This is the death mask of Thomas, an unknown peasant that died in a river.\"</td>\n",
       "      <td>[]</td>\n",
       "      <td>8.431951e+17</td>\n",
       "      <td>Best_of_MLTSHP</td>\n",
       "      <td>MLTSHP</td>\n",
       "      <td>https://twitter.com/Best_of_MLTSHP/status/1212523477896294400</td>\n",
       "      <td>False</td>\n",
       "      <td>1.0</td>\n",
       "      <td>0.0</td>\n",
       "      <td>1.0</td>\n",
       "      <td>NaN</td>\n",
       "      <td>NaN</td>\n",
       "      <td>[{'user_id': '843195118924546048', 'username': 'Best_of_MLTSHP'}]</td>\n",
       "    </tr>\n",
       "    <tr>\n",
       "      <th>1</th>\n",
       "      <td>1.212518e+18</td>\n",
       "      <td>1.212518e+18</td>\n",
       "      <td>1.577922e+12</td>\n",
       "      <td>2020-01-01</td>\n",
       "      <td>Ready to heard this? Homemade hair treatment and ann cherry dead sea mud mask... Fucking putas swear they are more woman than me.... Bitch shut th...</td>\n",
       "      <td>[]</td>\n",
       "      <td>1.044739e+18</td>\n",
       "      <td>lumora_lu</td>\n",
       "      <td>MiLu</td>\n",
       "      <td>https://twitter.com/lumora_lu/status/1212518043353530368</td>\n",
       "      <td>False</td>\n",
       "      <td>0.0</td>\n",
       "      <td>0.0</td>\n",
       "      <td>0.0</td>\n",
       "      <td>NaN</td>\n",
       "      <td>NaN</td>\n",
       "      <td>[{'user_id': '1044738746913034241', 'username': 'lumora_lu'}]</td>\n",
       "    </tr>\n",
       "    <tr>\n",
       "      <th>2</th>\n",
       "      <td>1.212518e+18</td>\n",
       "      <td>1.212518e+18</td>\n",
       "      <td>1.577922e+12</td>\n",
       "      <td>2020-01-01</td>\n",
       "      <td>We all know what a joke #CCPChina is when it comes to epidemic outbreak,think of how they stayed silent about #SARS.\\nDear world,stay away from #H...</td>\n",
       "      <td>['#ccpchina', '#sars', '#hk', '#hkers']</td>\n",
       "      <td>9.630325e+17</td>\n",
       "      <td>odiecher</td>\n",
       "      <td>odiecher</td>\n",
       "      <td>https://twitter.com/odiecher/status/1212517557690748928</td>\n",
       "      <td>False</td>\n",
       "      <td>1.0</td>\n",
       "      <td>1.0</td>\n",
       "      <td>1.0</td>\n",
       "      <td>https://twitter.com/WBYeats1865/status/1212430526826479616</td>\n",
       "      <td>NaN</td>\n",
       "      <td>[{'user_id': '963032516759207936', 'username': 'odiecher'}]</td>\n",
       "    </tr>\n",
       "    <tr>\n",
       "      <th>3</th>\n",
       "      <td>1.212516e+18</td>\n",
       "      <td>1.200523e+18</td>\n",
       "      <td>1.577921e+12</td>\n",
       "      <td>2020-01-01</td>\n",
       "      <td>Thought death masks gave you the horn freak</td>\n",
       "      <td>[]</td>\n",
       "      <td>2.819219e+09</td>\n",
       "      <td>Hevysmoker</td>\n",
       "      <td>Ashley Collins</td>\n",
       "      <td>https://twitter.com/Hevysmoker/status/1212515585562726401</td>\n",
       "      <td>False</td>\n",
       "      <td>0.0</td>\n",
       "      <td>0.0</td>\n",
       "      <td>0.0</td>\n",
       "      <td>NaN</td>\n",
       "      <td>NaN</td>\n",
       "      <td>[{'user_id': '2819219369', 'username': 'Hevysmoker'}, {'user_id': '1107018506300780544', 'username': 'cutedeadguys3'}]</td>\n",
       "    </tr>\n",
       "    <tr>\n",
       "      <th>4</th>\n",
       "      <td>1.212510e+18</td>\n",
       "      <td>1.212391e+18</td>\n",
       "      <td>1.577920e+12</td>\n",
       "      <td>2020-01-01</td>\n",
       "      <td>Interesting cult of death mask he’s wearing, 🤔\\nelectronically posing as he did as of the CIA while Brennan was Chief. 🧐</td>\n",
       "      <td>[]</td>\n",
       "      <td>2.361956e+08</td>\n",
       "      <td>FaithR8s</td>\n",
       "      <td>❌Patriot Fan🇺🇸🗽☕️🎶❌</td>\n",
       "      <td>https://twitter.com/FaithR8s/status/1212510409858670593</td>\n",
       "      <td>False</td>\n",
       "      <td>1.0</td>\n",
       "      <td>0.0</td>\n",
       "      <td>1.0</td>\n",
       "      <td>NaN</td>\n",
       "      <td>NaN</td>\n",
       "      <td>[{'user_id': '236195607', 'username': 'FaithR8s'}, {'user_id': '14745988', 'username': 'ThunderB'}, {'user_id': '14138785', 'username': 'Telegraph...</td>\n",
       "    </tr>\n",
       "  </tbody>\n",
       "</table>\n",
       "</div>"
      ],
      "text/plain": [
       "             id  conversation_id    created_at        date  \\\n",
       "0  1.212523e+18     1.212523e+18  1.577923e+12  2020-01-01   \n",
       "1  1.212518e+18     1.212518e+18  1.577922e+12  2020-01-01   \n",
       "2  1.212518e+18     1.212518e+18  1.577922e+12  2020-01-01   \n",
       "3  1.212516e+18     1.200523e+18  1.577921e+12  2020-01-01   \n",
       "4  1.212510e+18     1.212391e+18  1.577920e+12  2020-01-01   \n",
       "\n",
       "                                                                                                                                                   tweet  \\\n",
       "0                                               https://mltshp.com/p/1HLSB  \"This is the death mask of Thomas, an unknown peasant that died in a river.\"   \n",
       "1  Ready to heard this? Homemade hair treatment and ann cherry dead sea mud mask... Fucking putas swear they are more woman than me.... Bitch shut th...   \n",
       "2  We all know what a joke #CCPChina is when it comes to epidemic outbreak,think of how they stayed silent about #SARS.\\nDear world,stay away from #H...   \n",
       "3                                                                                                            Thought death masks gave you the horn freak   \n",
       "4                               Interesting cult of death mask he’s wearing, 🤔\\nelectronically posing as he did as of the CIA while Brennan was Chief. 🧐   \n",
       "\n",
       "                                  hashtags       user_id        username  \\\n",
       "0                                       []  8.431951e+17  Best_of_MLTSHP   \n",
       "1                                       []  1.044739e+18       lumora_lu   \n",
       "2  ['#ccpchina', '#sars', '#hk', '#hkers']  9.630325e+17        odiecher   \n",
       "3                                       []  2.819219e+09      Hevysmoker   \n",
       "4                                       []  2.361956e+08        FaithR8s   \n",
       "\n",
       "                  name  \\\n",
       "0               MLTSHP   \n",
       "1                 MiLu   \n",
       "2             odiecher   \n",
       "3       Ashley Collins   \n",
       "4  ❌Patriot Fan🇺🇸🗽☕️🎶❌   \n",
       "\n",
       "                                                            link  retweet  \\\n",
       "0  https://twitter.com/Best_of_MLTSHP/status/1212523477896294400    False   \n",
       "1       https://twitter.com/lumora_lu/status/1212518043353530368    False   \n",
       "2        https://twitter.com/odiecher/status/1212517557690748928    False   \n",
       "3      https://twitter.com/Hevysmoker/status/1212515585562726401    False   \n",
       "4        https://twitter.com/FaithR8s/status/1212510409858670593    False   \n",
       "\n",
       "   nlikes  nreplies  nretweets  \\\n",
       "0     1.0       0.0        1.0   \n",
       "1     0.0       0.0        0.0   \n",
       "2     1.0       1.0        1.0   \n",
       "3     0.0       0.0        0.0   \n",
       "4     1.0       0.0        1.0   \n",
       "\n",
       "                                                    quote_url  retweet_id  \\\n",
       "0                                                         NaN         NaN   \n",
       "1                                                         NaN         NaN   \n",
       "2  https://twitter.com/WBYeats1865/status/1212430526826479616         NaN   \n",
       "3                                                         NaN         NaN   \n",
       "4                                                         NaN         NaN   \n",
       "\n",
       "                                                                                                                                                reply_to  \n",
       "0                                                                                      [{'user_id': '843195118924546048', 'username': 'Best_of_MLTSHP'}]  \n",
       "1                                                                                          [{'user_id': '1044738746913034241', 'username': 'lumora_lu'}]  \n",
       "2                                                                                            [{'user_id': '963032516759207936', 'username': 'odiecher'}]  \n",
       "3                                 [{'user_id': '2819219369', 'username': 'Hevysmoker'}, {'user_id': '1107018506300780544', 'username': 'cutedeadguys3'}]  \n",
       "4  [{'user_id': '236195607', 'username': 'FaithR8s'}, {'user_id': '14745988', 'username': 'ThunderB'}, {'user_id': '14138785', 'username': 'Telegraph...  "
      ]
     },
     "execution_count": 4,
     "metadata": {},
     "output_type": "execute_result"
    }
   ],
   "source": [
    "df.head()"
   ]
  },
  {
   "cell_type": "markdown",
   "metadata": {},
   "source": [
    "### Drop unnecessary columns"
   ]
  },
  {
   "cell_type": "code",
   "execution_count": 7,
   "metadata": {},
   "outputs": [
    {
     "data": {
      "text/plain": [
       "(575949, 7)"
      ]
     },
     "execution_count": 7,
     "metadata": {},
     "output_type": "execute_result"
    }
   ],
   "source": [
    "# drop columns we know we won't need for this project\n",
    "df.drop(columns=['id', 'conversation_id', 'created_at', 'hashtags', 'user_id', 'name',\n",
    "                 'retweet', 'quote_url', 'retweet_id', 'reply_to'], inplace=True)\n",
    "\n",
    "# check\n",
    "df.shape"
   ]
  },
  {
   "cell_type": "code",
   "execution_count": 8,
   "metadata": {},
   "outputs": [
    {
     "data": {
      "text/html": [
       "<div>\n",
       "<style scoped>\n",
       "    .dataframe tbody tr th:only-of-type {\n",
       "        vertical-align: middle;\n",
       "    }\n",
       "\n",
       "    .dataframe tbody tr th {\n",
       "        vertical-align: top;\n",
       "    }\n",
       "\n",
       "    .dataframe thead th {\n",
       "        text-align: right;\n",
       "    }\n",
       "</style>\n",
       "<table border=\"1\" class=\"dataframe\">\n",
       "  <thead>\n",
       "    <tr style=\"text-align: right;\">\n",
       "      <th></th>\n",
       "      <th>date</th>\n",
       "      <th>tweet</th>\n",
       "      <th>username</th>\n",
       "      <th>link</th>\n",
       "      <th>nlikes</th>\n",
       "      <th>nreplies</th>\n",
       "      <th>nretweets</th>\n",
       "    </tr>\n",
       "  </thead>\n",
       "  <tbody>\n",
       "    <tr>\n",
       "      <th>0</th>\n",
       "      <td>2020-01-01</td>\n",
       "      <td>https://mltshp.com/p/1HLSB  \"This is the death mask of Thomas, an unknown peasant that died in a river.\"</td>\n",
       "      <td>Best_of_MLTSHP</td>\n",
       "      <td>https://twitter.com/Best_of_MLTSHP/status/1212523477896294400</td>\n",
       "      <td>1.0</td>\n",
       "      <td>0.0</td>\n",
       "      <td>1.0</td>\n",
       "    </tr>\n",
       "    <tr>\n",
       "      <th>1</th>\n",
       "      <td>2020-01-01</td>\n",
       "      <td>Ready to heard this? Homemade hair treatment and ann cherry dead sea mud mask... Fucking putas swear they are more woman than me.... Bitch shut th...</td>\n",
       "      <td>lumora_lu</td>\n",
       "      <td>https://twitter.com/lumora_lu/status/1212518043353530368</td>\n",
       "      <td>0.0</td>\n",
       "      <td>0.0</td>\n",
       "      <td>0.0</td>\n",
       "    </tr>\n",
       "    <tr>\n",
       "      <th>2</th>\n",
       "      <td>2020-01-01</td>\n",
       "      <td>We all know what a joke #CCPChina is when it comes to epidemic outbreak,think of how they stayed silent about #SARS.\\nDear world,stay away from #H...</td>\n",
       "      <td>odiecher</td>\n",
       "      <td>https://twitter.com/odiecher/status/1212517557690748928</td>\n",
       "      <td>1.0</td>\n",
       "      <td>1.0</td>\n",
       "      <td>1.0</td>\n",
       "    </tr>\n",
       "    <tr>\n",
       "      <th>3</th>\n",
       "      <td>2020-01-01</td>\n",
       "      <td>Thought death masks gave you the horn freak</td>\n",
       "      <td>Hevysmoker</td>\n",
       "      <td>https://twitter.com/Hevysmoker/status/1212515585562726401</td>\n",
       "      <td>0.0</td>\n",
       "      <td>0.0</td>\n",
       "      <td>0.0</td>\n",
       "    </tr>\n",
       "    <tr>\n",
       "      <th>4</th>\n",
       "      <td>2020-01-01</td>\n",
       "      <td>Interesting cult of death mask he’s wearing, 🤔\\nelectronically posing as he did as of the CIA while Brennan was Chief. 🧐</td>\n",
       "      <td>FaithR8s</td>\n",
       "      <td>https://twitter.com/FaithR8s/status/1212510409858670593</td>\n",
       "      <td>1.0</td>\n",
       "      <td>0.0</td>\n",
       "      <td>1.0</td>\n",
       "    </tr>\n",
       "  </tbody>\n",
       "</table>\n",
       "</div>"
      ],
      "text/plain": [
       "         date  \\\n",
       "0  2020-01-01   \n",
       "1  2020-01-01   \n",
       "2  2020-01-01   \n",
       "3  2020-01-01   \n",
       "4  2020-01-01   \n",
       "\n",
       "                                                                                                                                                   tweet  \\\n",
       "0                                               https://mltshp.com/p/1HLSB  \"This is the death mask of Thomas, an unknown peasant that died in a river.\"   \n",
       "1  Ready to heard this? Homemade hair treatment and ann cherry dead sea mud mask... Fucking putas swear they are more woman than me.... Bitch shut th...   \n",
       "2  We all know what a joke #CCPChina is when it comes to epidemic outbreak,think of how they stayed silent about #SARS.\\nDear world,stay away from #H...   \n",
       "3                                                                                                            Thought death masks gave you the horn freak   \n",
       "4                               Interesting cult of death mask he’s wearing, 🤔\\nelectronically posing as he did as of the CIA while Brennan was Chief. 🧐   \n",
       "\n",
       "         username  \\\n",
       "0  Best_of_MLTSHP   \n",
       "1       lumora_lu   \n",
       "2        odiecher   \n",
       "3      Hevysmoker   \n",
       "4        FaithR8s   \n",
       "\n",
       "                                                            link  nlikes  \\\n",
       "0  https://twitter.com/Best_of_MLTSHP/status/1212523477896294400     1.0   \n",
       "1       https://twitter.com/lumora_lu/status/1212518043353530368     0.0   \n",
       "2        https://twitter.com/odiecher/status/1212517557690748928     1.0   \n",
       "3      https://twitter.com/Hevysmoker/status/1212515585562726401     0.0   \n",
       "4        https://twitter.com/FaithR8s/status/1212510409858670593     1.0   \n",
       "\n",
       "   nreplies  nretweets  \n",
       "0       0.0        1.0  \n",
       "1       0.0        0.0  \n",
       "2       1.0        1.0  \n",
       "3       0.0        0.0  \n",
       "4       0.0        1.0  "
      ]
     },
     "execution_count": 8,
     "metadata": {},
     "output_type": "execute_result"
    }
   ],
   "source": [
    "df.head()"
   ]
  },
  {
   "cell_type": "markdown",
   "metadata": {},
   "source": [
    "### Obtaining target variable"
   ]
  },
  {
   "cell_type": "code",
   "execution_count": 9,
   "metadata": {},
   "outputs": [],
   "source": [
    "# instantiate Vader sentiment analyzer\n",
    "analyzer = SentimentIntensityAnalyzer()\n",
    "\n",
    "# create a column with the compound polarity score\n",
    "df['sentiment_score'] = df['tweet'].apply(lambda x: analyzer.polarity_scores(x)['compound'])"
   ]
  },
  {
   "cell_type": "code",
   "execution_count": 10,
   "metadata": {},
   "outputs": [],
   "source": [
    "# turn this into our target classes: negative, positive, and neutral\n",
    "conditions = [\n",
    "    df.sentiment_score >= .05,\n",
    "    df.sentiment_score <= -.05\n",
    "]\n",
    "\n",
    "choices = [\n",
    "    'positive',\n",
    "    'negative'\n",
    "]\n",
    "\n",
    "df['sentiment'] = np.select(conditions, choices, 'neutral')"
   ]
  },
  {
   "cell_type": "markdown",
   "metadata": {},
   "source": [
    "- **Take a look at our target variable.**"
   ]
  },
  {
   "cell_type": "code",
   "execution_count": 11,
   "metadata": {},
   "outputs": [
    {
     "data": {
      "text/plain": [
       "positive    239222\n",
       "negative    221377\n",
       "neutral     115350\n",
       "Name: sentiment, dtype: int64"
      ]
     },
     "execution_count": 11,
     "metadata": {},
     "output_type": "execute_result"
    }
   ],
   "source": [
    "df.sentiment.value_counts()"
   ]
  },
  {
   "cell_type": "code",
   "execution_count": 12,
   "metadata": {},
   "outputs": [
    {
     "data": {
      "text/plain": [
       "positive    0.415353\n",
       "negative    0.384369\n",
       "neutral     0.200278\n",
       "Name: sentiment, dtype: float64"
      ]
     },
     "execution_count": 12,
     "metadata": {},
     "output_type": "execute_result"
    }
   ],
   "source": [
    "df.sentiment.value_counts(normalize=True)"
   ]
  },
  {
   "cell_type": "code",
   "execution_count": 13,
   "metadata": {},
   "outputs": [],
   "source": [
    "# # uncomment to save\n",
    "# df.to_csv('data/5k_jan_thru_may_tweets.csv')"
   ]
  },
  {
   "cell_type": "markdown",
   "metadata": {},
   "source": [
    "## Load file with sentiment"
   ]
  },
  {
   "cell_type": "code",
   "execution_count": 14,
   "metadata": {
    "scrolled": false
   },
   "outputs": [
    {
     "data": {
      "text/plain": [
       "(575949, 9)"
      ]
     },
     "execution_count": 14,
     "metadata": {},
     "output_type": "execute_result"
    }
   ],
   "source": [
    "# # uncomment to load\n",
    "# df = pd.read_csv('data/5k_jan_thru_may_tweets.csv', index_col=0)\n",
    "df.shape"
   ]
  },
  {
   "cell_type": "code",
   "execution_count": 15,
   "metadata": {},
   "outputs": [],
   "source": [
    "# convert date column to datetime\n",
    "df['date'] = df.date.astype('datetime64[ns]')"
   ]
  },
  {
   "cell_type": "markdown",
   "metadata": {},
   "source": [
    "## Cleaning text\n",
    "- **Start with NLTK stopwords and add our own subject-specific ones.**"
   ]
  },
  {
   "cell_type": "code",
   "execution_count": 16,
   "metadata": {},
   "outputs": [],
   "source": [
    "# start with NLTK stop words\n",
    "stop_words = stopwords.words('english')\n",
    "\n",
    "# add search term words and hashtags to the list\n",
    "stop_words += ['mask', '#mask',\n",
    "               'masks', '#masks',\n",
    "               'face', '#face',\n",
    "               'facemask', '#facemask',\n",
    "               'facemasks', '#facemasks', \n",
    "               'covid', '#covid',\n",
    "               'covid19', '#covid19',\n",
    "               'corona', '#corona',\n",
    "               'coronavirus', '#coronavirus',\n",
    "               'rona', '#rona',\n",
    "               'virus', '#virus',\n",
    "               'viral', '#viral',\n",
    "               'viruses', '#viruses']\n",
    "\n",
    "# very common/conflicting stop words discovered during eda\n",
    "eda_stop_words = ['wear', 'wearing', 'get', 'one', 'people', 'us', 'like', 'n95',\n",
    "                  'go', 'going', 'would', 'surgical', 'via', 'also', 'use', 'even', 'know']\n",
    "\n",
    "stop_words += eda_stop_words"
   ]
  },
  {
   "cell_type": "markdown",
   "metadata": {},
   "source": [
    "### Create clean tweet column with our clean_text function\n",
    "- **Also save as a series, because that'll be helpful later on.**"
   ]
  },
  {
   "cell_type": "code",
   "execution_count": 17,
   "metadata": {},
   "outputs": [
    {
     "name": "stdout",
     "output_type": "stream",
     "text": [
      "CPU times: user 7min 32s, sys: 1.96 s, total: 7min 34s\n",
      "Wall time: 7min 37s\n"
     ]
    },
    {
     "data": {
      "text/plain": [
       "0                                                                                                                  death thomas unknown peasant died river\n",
       "1                                                    ready heard homemade hair treatment ann cherry dead sea mud fucking putas swear woman bitch shut fuck\n",
       "2    joke #ccpchina come epidemic outbreakthink stayed silent #sars dear worldstay away #hk im sure infected amongst already dear fellow #hkers facewit...\n",
       "3                                                                                                                            thought death gave horn freak\n",
       "4                                                              interesting cult death thinkingface electronically posing cia brennan chief facewithmonocle\n",
       "Name: clean_tweet, dtype: object"
      ]
     },
     "execution_count": 17,
     "metadata": {},
     "output_type": "execute_result"
    }
   ],
   "source": [
    "%time df['clean_tweet'] = df['tweet'].apply(lambda x: clean_text(x, stop_words))\n",
    "\n",
    "# pull the clean tweet column\n",
    "clean_tweets = df['clean_tweet']\n",
    "clean_tweets.head()"
   ]
  },
  {
   "cell_type": "markdown",
   "metadata": {},
   "source": [
    "##### Save to pickle"
   ]
  },
  {
   "cell_type": "code",
   "execution_count": 18,
   "metadata": {},
   "outputs": [],
   "source": [
    "# # uncomment to save\n",
    "# clean_tweets.to_pickle('data/clean_tweets.pkl')\n",
    "\n",
    "# # uncomment to load\n",
    "# clean_tweets = pd.read_pickle('data/clean_tweets.pkl')"
   ]
  },
  {
   "cell_type": "markdown",
   "metadata": {},
   "source": [
    "## Top words and vocabulary statistics"
   ]
  },
  {
   "cell_type": "code",
   "execution_count": 24,
   "metadata": {},
   "outputs": [
    {
     "data": {
      "text/plain": [
       "'death thomas unknown peasant died river ready heard homemade hair treatment ann cherry dead sea mud '"
      ]
     },
     "execution_count": 24,
     "metadata": {},
     "output_type": "execute_result"
    }
   ],
   "source": [
    "# make tweets into one big string\n",
    "big_string = ' '.join(clean_tweets)\n",
    "big_string[:100]"
   ]
  },
  {
   "cell_type": "code",
   "execution_count": 25,
   "metadata": {},
   "outputs": [],
   "source": [
    "# split it into words\n",
    "words = big_string.split()"
   ]
  },
  {
   "cell_type": "markdown",
   "metadata": {},
   "source": [
    "###### Number of words in our corpus"
   ]
  },
  {
   "cell_type": "code",
   "execution_count": 26,
   "metadata": {},
   "outputs": [
    {
     "data": {
      "text/plain": [
       "7793391"
      ]
     },
     "execution_count": 26,
     "metadata": {},
     "output_type": "execute_result"
    }
   ],
   "source": [
    "len(words)"
   ]
  },
  {
   "cell_type": "markdown",
   "metadata": {},
   "source": [
    "###### Total unique vocabulary"
   ]
  },
  {
   "cell_type": "code",
   "execution_count": 27,
   "metadata": {},
   "outputs": [
    {
     "data": {
      "text/plain": [
       "243080"
      ]
     },
     "execution_count": 27,
     "metadata": {},
     "output_type": "execute_result"
    }
   ],
   "source": [
    "total_vocab = set(words)\n",
    "len(total_vocab)"
   ]
  },
  {
   "cell_type": "markdown",
   "metadata": {},
   "source": [
    "- **Create a word list with corresponding frequencies in the corpus and look at the 25 most frequent words in our cleaned tweets.**"
   ]
  },
  {
   "cell_type": "code",
   "execution_count": 28,
   "metadata": {},
   "outputs": [
    {
     "data": {
      "text/plain": [
       "[('hand', 40134),\n",
       " ('need', 39383),\n",
       " ('spread', 33418),\n",
       " ('protect', 32088),\n",
       " ('make', 31605),\n",
       " ('help', 30306),\n",
       " ('say', 28477),\n",
       " ('glove', 27649),\n",
       " ('public', 25717),\n",
       " ('hospital', 25525),\n",
       " ('new', 25340),\n",
       " ('time', 25085),\n",
       " ('medical', 24652),\n",
       " ('china', 24641),\n",
       " ('doctor', 24152),\n",
       " ('home', 23986),\n",
       " ('work', 23382),\n",
       " ('day', 22567),\n",
       " ('stop', 21958),\n",
       " ('trump', 21074),\n",
       " ('infected', 21008),\n",
       " ('please', 20635),\n",
       " ('everyone', 20359),\n",
       " ('health', 20312),\n",
       " ('death', 20287)]"
      ]
     },
     "execution_count": 28,
     "metadata": {},
     "output_type": "execute_result"
    }
   ],
   "source": [
    "Counter(words).most_common(25)"
   ]
  },
  {
   "cell_type": "markdown",
   "metadata": {},
   "source": [
    "- **Create a similar object in dictionary format and convert to DataFrame.**"
   ]
  },
  {
   "cell_type": "code",
   "execution_count": 29,
   "metadata": {},
   "outputs": [
    {
     "data": {
      "text/plain": [
       "FreqDist({'hand': 40134, 'need': 39383, 'spread': 33418, 'protect': 32088, 'make': 31605, 'help': 30306, 'say': 28477, 'glove': 27649, 'public': 25717, 'hospital': 25525, ...})"
      ]
     },
     "execution_count": 29,
     "metadata": {},
     "output_type": "execute_result"
    }
   ],
   "source": [
    "fdist = FreqDist(words)\n",
    "fdist"
   ]
  },
  {
   "cell_type": "code",
   "execution_count": 30,
   "metadata": {},
   "outputs": [
    {
     "data": {
      "text/html": [
       "<div>\n",
       "<style scoped>\n",
       "    .dataframe tbody tr th:only-of-type {\n",
       "        vertical-align: middle;\n",
       "    }\n",
       "\n",
       "    .dataframe tbody tr th {\n",
       "        vertical-align: top;\n",
       "    }\n",
       "\n",
       "    .dataframe thead th {\n",
       "        text-align: right;\n",
       "    }\n",
       "</style>\n",
       "<table border=\"1\" class=\"dataframe\">\n",
       "  <thead>\n",
       "    <tr style=\"text-align: right;\">\n",
       "      <th></th>\n",
       "      <th>word_count</th>\n",
       "    </tr>\n",
       "  </thead>\n",
       "  <tbody>\n",
       "    <tr>\n",
       "      <th>hand</th>\n",
       "      <td>40134</td>\n",
       "    </tr>\n",
       "    <tr>\n",
       "      <th>need</th>\n",
       "      <td>39383</td>\n",
       "    </tr>\n",
       "    <tr>\n",
       "      <th>spread</th>\n",
       "      <td>33418</td>\n",
       "    </tr>\n",
       "    <tr>\n",
       "      <th>protect</th>\n",
       "      <td>32088</td>\n",
       "    </tr>\n",
       "    <tr>\n",
       "      <th>make</th>\n",
       "      <td>31605</td>\n",
       "    </tr>\n",
       "  </tbody>\n",
       "</table>\n",
       "</div>"
      ],
      "text/plain": [
       "         word_count\n",
       "hand          40134\n",
       "need          39383\n",
       "spread        33418\n",
       "protect       32088\n",
       "make          31605"
      ]
     },
     "execution_count": 30,
     "metadata": {},
     "output_type": "execute_result"
    }
   ],
   "source": [
    "word_counts = pd.DataFrame(data=fdist.values(), index=fdist.keys(), columns=['word_count'])\n",
    "word_counts = word_counts.sort_values('word_count', ascending=False)\n",
    "word_counts.head()"
   ]
  },
  {
   "cell_type": "markdown",
   "metadata": {},
   "source": [
    "- **Take the top 25 words and create a visualization.**"
   ]
  },
  {
   "cell_type": "code",
   "execution_count": 31,
   "metadata": {},
   "outputs": [],
   "source": [
    "top25_words = word_counts.iloc[:25,:]"
   ]
  },
  {
   "cell_type": "code",
   "execution_count": 32,
   "metadata": {},
   "outputs": [
    {
     "data": {
      "image/png": "[encoded data removed]",
      "text/plain": [
       "<Figure size 1800x720 with 1 Axes>"
      ]
     },
     "metadata": {},
     "output_type": "display_data"
    }
   ],
   "source": [
    "# prettify the chart\n",
    "plt.figure(figsize=(25,10))\n",
    "plt.title('Top 25 Words', fontsize=30, pad=15)\n",
    "plt.ylabel('Word Count', fontsize=28, labelpad=15)\n",
    "plt.xticks(rotation=45, fontsize=22)\n",
    "plt.yticks(fontsize=22)\n",
    "plt.ylim(bottom=15000, top=41000)\n",
    "\n",
    "# plot bar chart with twitter blue ;)\n",
    "plt.bar(top25_words.index, top25_words.word_count, color='#38A1F3');"
   ]
  },
  {
   "cell_type": "markdown",
   "metadata": {},
   "source": [
    "## Sparse vector matrix\n",
    "- **Our main features, which we will also use for LDA topic modeling.**"
   ]
  },
  {
   "cell_type": "code",
   "execution_count": 21,
   "metadata": {},
   "outputs": [],
   "source": [
    "# regex pattern to vectorize by\n",
    "pattern = \"(#?[a-zA-Z]+[0-9]*(?:'[a-zx]+)?)\""
   ]
  },
  {
   "cell_type": "code",
   "execution_count": 22,
   "metadata": {},
   "outputs": [
    {
     "name": "stdout",
     "output_type": "stream",
     "text": [
      "CPU times: user 8.28 s, sys: 202 ms, total: 8.49 s\n",
      "Wall time: 8.51 s\n"
     ]
    },
    {
     "data": {
      "text/html": [
       "<div>\n",
       "<style scoped>\n",
       "    .dataframe tbody tr th:only-of-type {\n",
       "        vertical-align: middle;\n",
       "    }\n",
       "\n",
       "    .dataframe tbody tr th {\n",
       "        vertical-align: top;\n",
       "    }\n",
       "\n",
       "    .dataframe thead th {\n",
       "        text-align: right;\n",
       "    }\n",
       "</style>\n",
       "<table border=\"1\" class=\"dataframe\">\n",
       "  <thead>\n",
       "    <tr style=\"text-align: right;\">\n",
       "      <th></th>\n",
       "      <th>#airlines</th>\n",
       "      <th>#amazon</th>\n",
       "      <th>#america</th>\n",
       "      <th>#americanairlines</th>\n",
       "      <th>#art</th>\n",
       "      <th>#besafe</th>\n",
       "      <th>#breaking</th>\n",
       "      <th>#breakingnews</th>\n",
       "      <th>#business</th>\n",
       "      <th>#california</th>\n",
       "      <th>...</th>\n",
       "      <th>yorkers</th>\n",
       "      <th>young</th>\n",
       "      <th>youre</th>\n",
       "      <th>youth</th>\n",
       "      <th>youtube</th>\n",
       "      <th>yr</th>\n",
       "      <th>zanyface</th>\n",
       "      <th>zero</th>\n",
       "      <th>zombie</th>\n",
       "      <th>zone</th>\n",
       "    </tr>\n",
       "  </thead>\n",
       "  <tbody>\n",
       "    <tr>\n",
       "      <th>0</th>\n",
       "      <td>0.0</td>\n",
       "      <td>0.0</td>\n",
       "      <td>0.0</td>\n",
       "      <td>0.0</td>\n",
       "      <td>0.0</td>\n",
       "      <td>0.0</td>\n",
       "      <td>0.0</td>\n",
       "      <td>0.0</td>\n",
       "      <td>0.0</td>\n",
       "      <td>0.0</td>\n",
       "      <td>...</td>\n",
       "      <td>0.0</td>\n",
       "      <td>0.0</td>\n",
       "      <td>0.0</td>\n",
       "      <td>0.0</td>\n",
       "      <td>0.0</td>\n",
       "      <td>0.0</td>\n",
       "      <td>0.0</td>\n",
       "      <td>0.0</td>\n",
       "      <td>0.0</td>\n",
       "      <td>0.0</td>\n",
       "    </tr>\n",
       "    <tr>\n",
       "      <th>1</th>\n",
       "      <td>0.0</td>\n",
       "      <td>0.0</td>\n",
       "      <td>0.0</td>\n",
       "      <td>0.0</td>\n",
       "      <td>0.0</td>\n",
       "      <td>0.0</td>\n",
       "      <td>0.0</td>\n",
       "      <td>0.0</td>\n",
       "      <td>0.0</td>\n",
       "      <td>0.0</td>\n",
       "      <td>...</td>\n",
       "      <td>0.0</td>\n",
       "      <td>0.0</td>\n",
       "      <td>0.0</td>\n",
       "      <td>0.0</td>\n",
       "      <td>0.0</td>\n",
       "      <td>0.0</td>\n",
       "      <td>0.0</td>\n",
       "      <td>0.0</td>\n",
       "      <td>0.0</td>\n",
       "      <td>0.0</td>\n",
       "    </tr>\n",
       "    <tr>\n",
       "      <th>2</th>\n",
       "      <td>0.0</td>\n",
       "      <td>0.0</td>\n",
       "      <td>0.0</td>\n",
       "      <td>0.0</td>\n",
       "      <td>0.0</td>\n",
       "      <td>0.0</td>\n",
       "      <td>0.0</td>\n",
       "      <td>0.0</td>\n",
       "      <td>0.0</td>\n",
       "      <td>0.0</td>\n",
       "      <td>...</td>\n",
       "      <td>0.0</td>\n",
       "      <td>0.0</td>\n",
       "      <td>0.0</td>\n",
       "      <td>0.0</td>\n",
       "      <td>0.0</td>\n",
       "      <td>0.0</td>\n",
       "      <td>0.0</td>\n",
       "      <td>0.0</td>\n",
       "      <td>0.0</td>\n",
       "      <td>0.0</td>\n",
       "    </tr>\n",
       "    <tr>\n",
       "      <th>3</th>\n",
       "      <td>0.0</td>\n",
       "      <td>0.0</td>\n",
       "      <td>0.0</td>\n",
       "      <td>0.0</td>\n",
       "      <td>0.0</td>\n",
       "      <td>0.0</td>\n",
       "      <td>0.0</td>\n",
       "      <td>0.0</td>\n",
       "      <td>0.0</td>\n",
       "      <td>0.0</td>\n",
       "      <td>...</td>\n",
       "      <td>0.0</td>\n",
       "      <td>0.0</td>\n",
       "      <td>0.0</td>\n",
       "      <td>0.0</td>\n",
       "      <td>0.0</td>\n",
       "      <td>0.0</td>\n",
       "      <td>0.0</td>\n",
       "      <td>0.0</td>\n",
       "      <td>0.0</td>\n",
       "      <td>0.0</td>\n",
       "    </tr>\n",
       "    <tr>\n",
       "      <th>4</th>\n",
       "      <td>0.0</td>\n",
       "      <td>0.0</td>\n",
       "      <td>0.0</td>\n",
       "      <td>0.0</td>\n",
       "      <td>0.0</td>\n",
       "      <td>0.0</td>\n",
       "      <td>0.0</td>\n",
       "      <td>0.0</td>\n",
       "      <td>0.0</td>\n",
       "      <td>0.0</td>\n",
       "      <td>...</td>\n",
       "      <td>0.0</td>\n",
       "      <td>0.0</td>\n",
       "      <td>0.0</td>\n",
       "      <td>0.0</td>\n",
       "      <td>0.0</td>\n",
       "      <td>0.0</td>\n",
       "      <td>0.0</td>\n",
       "      <td>0.0</td>\n",
       "      <td>0.0</td>\n",
       "      <td>0.0</td>\n",
       "    </tr>\n",
       "  </tbody>\n",
       "</table>\n",
       "<p>5 rows × 3712 columns</p>\n",
       "</div>"
      ],
      "text/plain": [
       "   #airlines  #amazon  #america  #americanairlines  #art  #besafe  #breaking  \\\n",
       "0        0.0      0.0       0.0                0.0   0.0      0.0        0.0   \n",
       "1        0.0      0.0       0.0                0.0   0.0      0.0        0.0   \n",
       "2        0.0      0.0       0.0                0.0   0.0      0.0        0.0   \n",
       "3        0.0      0.0       0.0                0.0   0.0      0.0        0.0   \n",
       "4        0.0      0.0       0.0                0.0   0.0      0.0        0.0   \n",
       "\n",
       "   #breakingnews  #business  #california  ...  yorkers  young  youre  youth  \\\n",
       "0            0.0        0.0          0.0  ...      0.0    0.0    0.0    0.0   \n",
       "1            0.0        0.0          0.0  ...      0.0    0.0    0.0    0.0   \n",
       "2            0.0        0.0          0.0  ...      0.0    0.0    0.0    0.0   \n",
       "3            0.0        0.0          0.0  ...      0.0    0.0    0.0    0.0   \n",
       "4            0.0        0.0          0.0  ...      0.0    0.0    0.0    0.0   \n",
       "\n",
       "   youtube   yr  zanyface  zero  zombie  zone  \n",
       "0      0.0  0.0       0.0   0.0     0.0   0.0  \n",
       "1      0.0  0.0       0.0   0.0     0.0   0.0  \n",
       "2      0.0  0.0       0.0   0.0     0.0   0.0  \n",
       "3      0.0  0.0       0.0   0.0     0.0   0.0  \n",
       "4      0.0  0.0       0.0   0.0     0.0   0.0  \n",
       "\n",
       "[5 rows x 3712 columns]"
      ]
     },
     "execution_count": 22,
     "metadata": {},
     "output_type": "execute_result"
    }
   ],
   "source": [
    "# create a document-term matrix using TfidfVectorizer, using custom regex tokenizing pattern\n",
    "# only take words with at least 250 appearances\n",
    "tf_idf = TfidfVectorizer(min_df=250, token_pattern=pattern)\n",
    "%time data_tf_idf = tf_idf.fit_transform(clean_tweets)\n",
    "\n",
    "# save as a DataFrame\n",
    "data_vec = pd.DataFrame(data_tf_idf.toarray(), columns=tf_idf.get_feature_names())\n",
    "data_vec.head()"
   ]
  },
  {
   "cell_type": "code",
   "execution_count": 23,
   "metadata": {},
   "outputs": [
    {
     "data": {
      "text/plain": [
       "(575949, 3712)"
      ]
     },
     "execution_count": 23,
     "metadata": {},
     "output_type": "execute_result"
    }
   ],
   "source": [
    "data_vec.shape"
   ]
  },
  {
   "cell_type": "markdown",
   "metadata": {},
   "source": [
    "###### Pickle the gensim corpus and vocab locations"
   ]
  },
  {
   "cell_type": "code",
   "execution_count": 42,
   "metadata": {},
   "outputs": [],
   "source": [
    "# uncomment to save\n",
    "# with gzip.open('data/gensim_corpus.pkl', 'wb') as c:\n",
    "#     pickle.dump(corpus, c, protocol=pickle.HIGHEST_PROTOCOL)\n",
    "    \n",
    "# with gzip.open('data/gensim_id2word.pkl', 'wb') as i:\n",
    "#     pickle.dump(id2word, i, protocol=pickle.HIGHEST_PROTOCOL)"
   ]
  },
  {
   "cell_type": "code",
   "execution_count": 48,
   "metadata": {},
   "outputs": [],
   "source": [
    "# uncomment to load\n",
    "# with gzip.open('gensim_corpus.pkl', 'rb') as c:\n",
    "#     corpus = pickle.load(c)\n",
    "    \n",
    "# with gzip.open('gensim_id2word.pkl', 'rb') as i:\n",
    "#     id2word = pickle.load(i)"
   ]
  },
  {
   "cell_type": "markdown",
   "metadata": {},
   "source": [
    "## LDA topic modeling\n",
    "#### PLEASE NOTE: These are not our original topics. Unfortunately we lost those (except for a screenshot, which resides in our Images folder); we used those original topics for our presentation."
   ]
  },
  {
   "cell_type": "code",
   "execution_count": 34,
   "metadata": {},
   "outputs": [
    {
     "name": "stdout",
     "output_type": "stream",
     "text": [
      "CPU times: user 1min 15s, sys: 21.6 s, total: 1min 36s\n",
      "Wall time: 1min 52s\n"
     ]
    }
   ],
   "source": [
    "%%time\n",
    "\n",
    "# one of the required inputs is a term-document matrix\n",
    "tdm = data_vec.transpose()\n",
    "tdm.head()\n",
    "\n",
    "# put the term-document matrix into a new gensim format, from df --> sparse matrix --> gensim corpus\n",
    "# TAKES A FEW MINUTES\n",
    "sparse_counts = scipy.sparse.csr_matrix(tdm)\n",
    "corpus = matutils.Sparse2Corpus(sparse_counts)\n",
    "\n",
    "# gensim also requires dictionary of the all terms and their respective location in the term-document matrix\n",
    "id2word = dict((v, k) for k, v in tf_idf.vocabulary_.items())"
   ]
  },
  {
   "cell_type": "markdown",
   "metadata": {},
   "source": [
    "- **Use corpus and dictionary of term locations.**\n",
    "- **Set number of topics and passes to create an LDA model.**\n",
    "\n",
    "###### NOTE: keeping passes low due to the size of our dataset."
   ]
  },
  {
   "cell_type": "code",
   "execution_count": 37,
   "metadata": {},
   "outputs": [
    {
     "name": "stdout",
     "output_type": "stream",
     "text": [
      "CPU times: user 3h 12min 16s, sys: 17.3 s, total: 3h 12min 33s\n",
      "Wall time: 3h 12min 51s\n"
     ]
    },
    {
     "data": {
      "text/plain": [
       "[(0,\n",
       "  '0.009*\"protest\" + 0.007*\"facewithtearsofjoy\" + 0.007*\"think\" + 0.007*\"still\" + 0.006*\"want\" + 0.006*\"riot\" + 0.006*\"see\" + 0.006*\"got\" + 0.005*\"make\" + 0.005*\"without\"'),\n",
       " (1,\n",
       "  '0.013*\"facewithmedicalmask\" + 0.011*\"county\" + 0.011*\"weekend\" + 0.010*\"design\" + 0.010*\"#health\" + 0.010*\"thinkingface\" + 0.010*\"shirt\" + 0.009*\"#sale\" + 0.009*\"period\" + 0.009*\"forgot\"'),\n",
       " (2,\n",
       "  '0.015*\"business\" + 0.011*\"healthy\" + 0.010*\"#socialdistancing\" + 0.009*\"need\" + 0.009*\"taking\" + 0.009*\"biden\" + 0.008*\"care\" + 0.008*\"person\" + 0.008*\"u\" + 0.007*\"hide\"'),\n",
       " (3,\n",
       "  '0.014*\"spread\" + 0.013*\"protect\" + 0.011*\"transmission\" + 0.011*\"distance\" + 0.010*\"safe\" + 0.010*\"cloth\" + 0.010*\"stay\" + 0.010*\"others\" + 0.009*\"prevent\" + 0.008*\"help\"'),\n",
       " (4,\n",
       "  '0.022*\"pandemic\" + 0.013*\"fauci\" + 0.012*\"reduce\" + 0.011*\"wave\" + 0.010*\"guidance\" + 0.010*\"healthy\" + 0.010*\"#staysafe\" + 0.009*\"spread\" + 0.009*\"rule\" + 0.008*\"patient\"'),\n",
       " (5,\n",
       "  '0.013*\"lockdown\" + 0.009*\"mandatory\" + 0.009*\"#pandemic\" + 0.009*\"worker\" + 0.008*\"protester\" + 0.007*\"testing\" + 0.007*\"#quarantine\" + 0.007*\"public\" + 0.007*\"governor\" + 0.007*\"cdc\"'),\n",
       " (6,\n",
       "  '0.038*\"study\" + 0.020*\"spike\" + 0.016*\"pandemic\" + 0.015*\"rioter\" + 0.014*\"new\" + 0.014*\"claim\" + 0.014*\"shield\" + 0.012*\"news\" + 0.012*\"stop\" + 0.012*\"restaurant\"'),\n",
       " (7,\n",
       "  '0.016*\"trump\" + 0.014*\"president\" + 0.013*\"#trump\" + 0.011*\"beach\" + 0.009*\"#news\" + 0.009*\"protestors\" + 0.009*\"essential\" + 0.008*\"identity\" + 0.008*\"refuse\" + 0.007*\"tune\"'),\n",
       " (8,\n",
       "  '0.035*\"protesting\" + 0.023*\"nursing\" + 0.021*\"hoax\" + 0.021*\"grocery\" + 0.015*\"apart\" + 0.014*\"data\" + 0.012*\"sale\" + 0.012*\"pack\" + 0.011*\"among\" + 0.010*\"continue\"'),\n",
       " (9,\n",
       "  '0.030*\"social\" + 0.029*\"distancing\" + 0.015*\"death\" + 0.010*\"trump\" + 0.008*\"case\" + 0.007*\"american\" + 0.007*\"still\" + 0.006*\"thing\" + 0.006*\"#wearamask\" + 0.006*\"tested\"')]"
      ]
     },
     "execution_count": 37,
     "metadata": {},
     "output_type": "execute_result"
    }
   ],
   "source": [
    "%%time\n",
    "\n",
    "# create the topics\n",
    "lda = models.LdaModel(corpus=corpus, id2word=id2word, num_topics=10, passes=100, iterations=100)\n",
    "\n",
    "# view the topics\n",
    "lda.print_topics()"
   ]
  },
  {
   "cell_type": "markdown",
   "metadata": {},
   "source": [
    "### Save/Load LDA model"
   ]
  },
  {
   "cell_type": "code",
   "execution_count": 41,
   "metadata": {},
   "outputs": [],
   "source": [
    "# # uncomment to save\n",
    "# with gzip.open('models/lda_10topics_100passes.pkl', 'wb') as goodbye:\n",
    "#     pickle.dump(lda, goodbye, protocol=pickle.HIGHEST_PROTOCOL)\n",
    "\n",
    "# # uncomment to load\n",
    "# with gzip.open('models/lda_10topics_100passes.pkl', 'rb') as hello:\n",
    "#     lda = pickle.load(hello)"
   ]
  },
  {
   "cell_type": "markdown",
   "metadata": {},
   "source": [
    "###### Assign each tweet to the topic to which it most closely fits"
   ]
  },
  {
   "cell_type": "code",
   "execution_count": 44,
   "metadata": {},
   "outputs": [
    {
     "data": {
      "text/plain": [
       "575949"
      ]
     },
     "execution_count": 44,
     "metadata": {},
     "output_type": "execute_result"
    }
   ],
   "source": [
    "# corpus from LDA model\n",
    "corpus_transformed = lda[corpus]\n",
    "\n",
    "# confirm size\n",
    "len(corpus_transformed)"
   ]
  },
  {
   "cell_type": "code",
   "execution_count": 45,
   "metadata": {},
   "outputs": [
    {
     "data": {
      "text/plain": [
       "[(0, 0.03400737),\n",
       " (1, 0.03400346),\n",
       " (2, 0.034003943),\n",
       " (3, 0.034011845),\n",
       " (4, 0.03400346),\n",
       " (5, 0.034005884),\n",
       " (6, 0.03400346),\n",
       " (7, 0.24029602),\n",
       " (8, 0.03400346),\n",
       " (9, 0.4876611)]"
      ]
     },
     "execution_count": 45,
     "metadata": {},
     "output_type": "execute_result"
    }
   ],
   "source": [
    "# check out an example\n",
    "corpus_transformed[0]"
   ]
  },
  {
   "cell_type": "code",
   "execution_count": 53,
   "metadata": {},
   "outputs": [
    {
     "data": {
      "text/plain": [
       "575949"
      ]
     },
     "execution_count": 53,
     "metadata": {},
     "output_type": "execute_result"
    }
   ],
   "source": [
    "# obtain the topic that a resembles the tweet most\n",
    "topics = [lda_getter(x) for x in corpus_transformed]\n",
    "\n",
    "# confirm shape\n",
    "len(topics)"
   ]
  },
  {
   "cell_type": "code",
   "execution_count": 54,
   "metadata": {},
   "outputs": [
    {
     "data": {
      "text/plain": [
       "[9, 0, 0, 0, 4, 7, 0, 1, 7, 2]"
      ]
     },
     "execution_count": 54,
     "metadata": {},
     "output_type": "execute_result"
    }
   ],
   "source": [
    "# check out an example\n",
    "topics[:10]"
   ]
  },
  {
   "cell_type": "code",
   "execution_count": 55,
   "metadata": {},
   "outputs": [
    {
     "data": {
      "text/plain": [
       "0    9\n",
       "1    0\n",
       "2    0\n",
       "3    0\n",
       "4    4\n",
       "Name: lda_topic_max, dtype: int64"
      ]
     },
     "execution_count": 55,
     "metadata": {},
     "output_type": "execute_result"
    }
   ],
   "source": [
    "# turn list into dataframe column\n",
    "df['lda_topic_max'] = topics\n",
    "df['lda_topic_max'].head()"
   ]
  },
  {
   "cell_type": "code",
   "execution_count": 60,
   "metadata": {},
   "outputs": [
    {
     "data": {
      "text/html": [
       "<div>\n",
       "<style scoped>\n",
       "    .dataframe tbody tr th:only-of-type {\n",
       "        vertical-align: middle;\n",
       "    }\n",
       "\n",
       "    .dataframe tbody tr th {\n",
       "        vertical-align: top;\n",
       "    }\n",
       "\n",
       "    .dataframe thead th {\n",
       "        text-align: right;\n",
       "    }\n",
       "</style>\n",
       "<table border=\"1\" class=\"dataframe\">\n",
       "  <thead>\n",
       "    <tr style=\"text-align: right;\">\n",
       "      <th></th>\n",
       "      <th>lda_0</th>\n",
       "      <th>lda_1</th>\n",
       "      <th>lda_2</th>\n",
       "      <th>lda_3</th>\n",
       "      <th>lda_4</th>\n",
       "      <th>lda_5</th>\n",
       "      <th>lda_6</th>\n",
       "      <th>lda_7</th>\n",
       "      <th>lda_8</th>\n",
       "      <th>lda_9</th>\n",
       "    </tr>\n",
       "  </thead>\n",
       "  <tbody>\n",
       "    <tr>\n",
       "      <th>0</th>\n",
       "      <td>NaN</td>\n",
       "      <td>NaN</td>\n",
       "      <td>NaN</td>\n",
       "      <td>NaN</td>\n",
       "      <td>NaN</td>\n",
       "      <td>NaN</td>\n",
       "      <td>NaN</td>\n",
       "      <td>NaN</td>\n",
       "      <td>NaN</td>\n",
       "      <td>NaN</td>\n",
       "    </tr>\n",
       "    <tr>\n",
       "      <th>1</th>\n",
       "      <td>NaN</td>\n",
       "      <td>NaN</td>\n",
       "      <td>NaN</td>\n",
       "      <td>NaN</td>\n",
       "      <td>NaN</td>\n",
       "      <td>NaN</td>\n",
       "      <td>NaN</td>\n",
       "      <td>NaN</td>\n",
       "      <td>NaN</td>\n",
       "      <td>NaN</td>\n",
       "    </tr>\n",
       "    <tr>\n",
       "      <th>2</th>\n",
       "      <td>NaN</td>\n",
       "      <td>NaN</td>\n",
       "      <td>NaN</td>\n",
       "      <td>NaN</td>\n",
       "      <td>NaN</td>\n",
       "      <td>NaN</td>\n",
       "      <td>NaN</td>\n",
       "      <td>NaN</td>\n",
       "      <td>NaN</td>\n",
       "      <td>NaN</td>\n",
       "    </tr>\n",
       "    <tr>\n",
       "      <th>3</th>\n",
       "      <td>NaN</td>\n",
       "      <td>NaN</td>\n",
       "      <td>NaN</td>\n",
       "      <td>NaN</td>\n",
       "      <td>NaN</td>\n",
       "      <td>NaN</td>\n",
       "      <td>NaN</td>\n",
       "      <td>NaN</td>\n",
       "      <td>NaN</td>\n",
       "      <td>NaN</td>\n",
       "    </tr>\n",
       "    <tr>\n",
       "      <th>4</th>\n",
       "      <td>NaN</td>\n",
       "      <td>NaN</td>\n",
       "      <td>NaN</td>\n",
       "      <td>NaN</td>\n",
       "      <td>NaN</td>\n",
       "      <td>NaN</td>\n",
       "      <td>NaN</td>\n",
       "      <td>NaN</td>\n",
       "      <td>NaN</td>\n",
       "      <td>NaN</td>\n",
       "    </tr>\n",
       "  </tbody>\n",
       "</table>\n",
       "</div>"
      ],
      "text/plain": [
       "   lda_0  lda_1  lda_2  lda_3  lda_4  lda_5  lda_6  lda_7  lda_8  lda_9\n",
       "0    NaN    NaN    NaN    NaN    NaN    NaN    NaN    NaN    NaN    NaN\n",
       "1    NaN    NaN    NaN    NaN    NaN    NaN    NaN    NaN    NaN    NaN\n",
       "2    NaN    NaN    NaN    NaN    NaN    NaN    NaN    NaN    NaN    NaN\n",
       "3    NaN    NaN    NaN    NaN    NaN    NaN    NaN    NaN    NaN    NaN\n",
       "4    NaN    NaN    NaN    NaN    NaN    NaN    NaN    NaN    NaN    NaN"
      ]
     },
     "execution_count": 60,
     "metadata": {},
     "output_type": "execute_result"
    }
   ],
   "source": [
    "lda_df = pd.DataFrame([dict(x) for x in corpus_transformed], columns=[f'lda_{i}' for i in range(10)])\n",
    "lda_df.head()"
   ]
  },
  {
   "cell_type": "code",
   "execution_count": null,
   "metadata": {},
   "outputs": [],
   "source": [
    "lda_df = pd.DataFrame(corpus_transformed, columns=[f'lda_{i}' for i in range(10)])\n",
    "lda_df.head()"
   ]
  },
  {
   "cell_type": "code",
   "execution_count": 57,
   "metadata": {},
   "outputs": [
    {
     "data": {
      "text/plain": [
       "{0: 0.034007363,\n",
       " 1: 0.03400346,\n",
       " 2: 0.034003936,\n",
       " 3: 0.034011565,\n",
       " 4: 0.03400346,\n",
       " 5: 0.03400588,\n",
       " 6: 0.03400346,\n",
       " 7: 0.24029599,\n",
       " 8: 0.03400346,\n",
       " 9: 0.48766142}"
      ]
     },
     "execution_count": 57,
     "metadata": {},
     "output_type": "execute_result"
    }
   ],
   "source": [
    "dict(corpus_transformed[0])"
   ]
  },
  {
   "cell_type": "markdown",
   "metadata": {},
   "source": [
    "##### Let's see if there's any discernable relationship between topics and time"
   ]
  },
  {
   "cell_type": "code",
   "execution_count": 56,
   "metadata": {},
   "outputs": [
    {
     "data": {
      "image/png": "[encoded data removed]",
      "text/plain": [
       "<Figure size 720x432 with 1 Axes>"
      ]
     },
     "metadata": {
      "needs_background": "light"
     },
     "output_type": "display_data"
    }
   ],
   "source": [
    "# sort by percentage of trees in good health\n",
    "days = df.groupby('date').lda.value_counts(normalize=True).unstack()\n",
    "\n",
    "# plot a stacked bar graph\n",
    "p1 = days.plot.area(stacked = True, figsize=(10,6),\n",
    "#                    title = 'Tree Health Across Boroughs', \n",
    "                   alpha = .70, fontsize=14)\n",
    "\n",
    "p1.set_title('Topics Across Time', fontsize=20, pad=10)\n",
    "p1.set_xlabel('Date', fontsize=18, labelpad=10)\n",
    "p1.set_ylabel('Percentage of Tweets', fontsize=18, labelpad=10)\n",
    "p1.legend([f'lda_{i}' for i in range(10)], facecolor='white',\n",
    "          framealpha=1, bbox_to_anchor=(1.01, 1.0), loc='upper left')\n",
    "plt.show()"
   ]
  },
  {
   "cell_type": "markdown",
   "metadata": {},
   "source": [
    "##### Cool looking graph but not super helpful\n",
    "##### Look at the relationship between sentiment and topics"
   ]
  },
  {
   "cell_type": "code",
   "execution_count": 57,
   "metadata": {},
   "outputs": [
    {
     "data": {
      "image/png": "[encoded data removed]",
      "text/plain": [
       "<Figure size 720x432 with 1 Axes>"
      ]
     },
     "metadata": {
      "needs_background": "light"
     },
     "output_type": "display_data"
    }
   ],
   "source": [
    "# sort by percentage of trees in good health\n",
    "days = df.groupby('lda').sentiment.value_counts(normalize=True).unstack()\n",
    "\n",
    "# plot a stacked bar graph\n",
    "p1 = days.plot(kind='bar', stacked = True, figsize=(10,6),\n",
    "#                    title = 'Tree Health Across Boroughs', \n",
    "                   color = ['red', 'goldenrod', 'green'], alpha = .70, fontsize=14)\n",
    "\n",
    "p1.set_title('Tweet Sentiment by Topic', fontsize=20, pad=10)\n",
    "p1.set_xlabel('LDA Topic', fontsize=18, labelpad=10)\n",
    "p1.set_ylabel('Sentiment', fontsize=18, labelpad=10)\n",
    "p1.legend(['negative', 'neutral', 'positive'], facecolor='white', framealpha=1)\n",
    "plt.show()"
   ]
  },
  {
   "cell_type": "markdown",
   "metadata": {},
   "source": [
    "##### Some definite affect on sentiment based on tweet topic"
   ]
  },
  {
   "cell_type": "code",
   "execution_count": 58,
   "metadata": {},
   "outputs": [
    {
     "data": {
      "text/plain": [
       "[(0,\n",
       "  '0.058*\"facewithmedicalmask\" + 0.028*\"week\" + 0.023*\"today\" + 0.020*\"#staysafe\" + 0.019*\"order\" + 0.018*\"#lockdown\" + 0.016*\"employee\" + 0.015*\"crisis\" + 0.013*\"local\" + 0.013*\"box\"'),\n",
       " (1,\n",
       "  '0.064*\"new\" + 0.057*\"case\" + 0.049*\"death\" + 0.038*\"protest\" + 0.020*\"lockdown\" + 0.017*\"number\" + 0.017*\"fear\" + 0.015*\"news\" + 0.015*\"droplet\" + 0.013*\"country\"'),\n",
       " (2,\n",
       "  '0.052*\"home\" + 0.044*\"stay\" + 0.042*\"please\" + 0.040*\"safe\" + 0.040*\"keep\" + 0.039*\"hand\" + 0.023*\"take\" + 0.015*\"wash\" + 0.012*\"#socialdistancing\" + 0.012*\"sanitizer\"'),\n",
       " (3,\n",
       "  '0.045*\"trump\" + 0.014*\"business\" + 0.014*\"police\" + 0.013*\"fauci\" + 0.013*\"life\" + 0.011*\"say\" + 0.011*\"american\" + 0.011*\"rule\" + 0.010*\"positive\" + 0.010*\"second\"'),\n",
       " (4,\n",
       "  '0.052*\"social\" + 0.045*\"distancing\" + 0.034*\"spread\" + 0.030*\"protect\" + 0.021*\"others\" + 0.019*\"stop\" + 0.017*\"infected\" + 0.017*\"distance\" + 0.017*\"prevent\" + 0.016*\"help\"'),\n",
       " (5,\n",
       "  '0.025*\"state\" + 0.018*\"health\" + 0.016*\"worker\" + 0.014*\"patient\" + 0.012*\"medical\" + 0.012*\"care\" + 0.012*\"million\" + 0.012*\"community\" + 0.011*\"hospital\" + 0.011*\"testing\"'),\n",
       " (6,\n",
       "  '0.018*\"make\" + 0.015*\"cloth\" + 0.010*\"filter\" + 0.009*\"take\" + 0.009*\"stop\" + 0.009*\"good\" + 0.009*\"kill\" + 0.008*\"rollingonthefloorlaughing\" + 0.008*\"micron\" + 0.007*\"air\"'),\n",
       " (7,\n",
       "  '0.017*\"pandemic\" + 0.013*\"still\" + 0.013*\"think\" + 0.011*\"want\" + 0.010*\"thing\" + 0.010*\"day\" + 0.010*\"see\" + 0.010*\"without\" + 0.010*\"got\" + 0.009*\"store\"'),\n",
       " (8,\n",
       "  '0.044*\"risk\" + 0.034*\"u\" + 0.028*\"study\" + 0.023*\"reduce\" + 0.022*\"say\" + 0.021*\"eye\" + 0.020*\"nose\" + 0.019*\"mouth\" + 0.018*\"expert\" + 0.017*\"spread\"'),\n",
       " (9,\n",
       "  '0.018*\"test\" + 0.018*\"open\" + 0.013*\"riot\" + 0.013*\"public\" + 0.012*\"mandatory\" + 0.011*\"effective\" + 0.010*\"refuse\" + 0.010*\"foot\" + 0.009*\"glove\" + 0.009*\"week\"')]"
      ]
     },
     "execution_count": 58,
     "metadata": {},
     "output_type": "execute_result"
    }
   ],
   "source": [
    "lda.print_topics()"
   ]
  },
  {
   "cell_type": "markdown",
   "metadata": {},
   "source": [
    "## Subjectivity\n",
    "##### Use TextBlob to calculate the subjectivity of tweets"
   ]
  },
  {
   "cell_type": "code",
   "execution_count": 59,
   "metadata": {},
   "outputs": [
    {
     "data": {
      "text/plain": [
       "0    0.600000\n",
       "1    0.560000\n",
       "2    0.462963\n",
       "3    0.000000\n",
       "4    0.500000\n",
       "Name: subjectivity_score, dtype: float64"
      ]
     },
     "execution_count": 59,
     "metadata": {},
     "output_type": "execute_result"
    }
   ],
   "source": [
    "df['subjectivity_score'] = df['tweet'].apply(lambda x: TextBlob(x).sentiment.subjectivity)\n",
    "df.subjectivity_score.head()"
   ]
  },
  {
   "cell_type": "code",
   "execution_count": 60,
   "metadata": {},
   "outputs": [
    {
     "data": {
      "text/plain": [
       "count    575949.000000\n",
       "mean          0.370732\n",
       "std           0.290762\n",
       "min           0.000000\n",
       "25%           0.050000\n",
       "50%           0.397576\n",
       "75%           0.565000\n",
       "max           1.000000\n",
       "Name: subjectivity_score, dtype: float64"
      ]
     },
     "execution_count": 60,
     "metadata": {},
     "output_type": "execute_result"
    }
   ],
   "source": [
    "df.subjectivity_score.describe()"
   ]
  },
  {
   "cell_type": "code",
   "execution_count": 61,
   "metadata": {},
   "outputs": [
    {
     "data": {
      "text/plain": [
       "<matplotlib.axes._subplots.AxesSubplot at 0x5c0a1cba8>"
      ]
     },
     "execution_count": 61,
     "metadata": {},
     "output_type": "execute_result"
    },
    {
     "data": {
      "image/png": "[encoded data removed]",
      "text/plain": [
       "<Figure size 432x288 with 1 Axes>"
      ]
     },
     "metadata": {
      "needs_background": "light"
     },
     "output_type": "display_data"
    }
   ],
   "source": [
    "df.subjectivity_score.hist()"
   ]
  },
  {
   "cell_type": "markdown",
   "metadata": {},
   "source": [
    "###### Look at the relationship between subjectivity and sentiment"
   ]
  },
  {
   "cell_type": "code",
   "execution_count": 62,
   "metadata": {},
   "outputs": [
    {
     "data": {
      "text/plain": [
       "<matplotlib.axes._subplots.AxesSubplot at 0x147c452b0>"
      ]
     },
     "execution_count": 62,
     "metadata": {},
     "output_type": "execute_result"
    },
    {
     "data": {
      "image/png": "[encoded data removed]",
      "text/plain": [
       "<Figure size 432x288 with 1 Axes>"
      ]
     },
     "metadata": {
      "needs_background": "light"
     },
     "output_type": "display_data"
    }
   ],
   "source": [
    "df.boxplot('subjectivity_score', 'sentiment')"
   ]
  },
  {
   "cell_type": "markdown",
   "metadata": {},
   "source": [
    "###### As expected, neutral tweets tend to be more objective, whereas positive and negative tweets are more subjective.\n",
    "\n",
    "###### How about between subjectivity and LDA topics?"
   ]
  },
  {
   "cell_type": "code",
   "execution_count": 63,
   "metadata": {
    "scrolled": true
   },
   "outputs": [
    {
     "data": {
      "text/plain": [
       "<matplotlib.axes._subplots.AxesSubplot at 0x147ea5cc0>"
      ]
     },
     "execution_count": 63,
     "metadata": {},
     "output_type": "execute_result"
    },
    {
     "data": {
      "image/png": "[encoded data removed]",
      "text/plain": [
       "<Figure size 432x288 with 1 Axes>"
      ]
     },
     "metadata": {
      "needs_background": "light"
     },
     "output_type": "display_data"
    }
   ],
   "source": [
    "df.boxplot('subjectivity_score', 'lda')"
   ]
  },
  {
   "cell_type": "markdown",
   "metadata": {},
   "source": [
    "###### Some difference here but nothing too telling, given the generalness of LDA topics.\n",
    "###### Make sure our DataFrame has all the columns."
   ]
  },
  {
   "cell_type": "code",
   "execution_count": 64,
   "metadata": {},
   "outputs": [
    {
     "data": {
      "text/plain": [
       "Index(['id', 'conversation_id', 'created_at', 'date', 'tweet', 'hashtags',\n",
       "       'user_id', 'username', 'name', 'link', 'retweet', 'nlikes', 'nreplies',\n",
       "       'nretweets', 'quote_url', 'retweet_id', 'reply_to', 'sentiment_score',\n",
       "       'sentiment', 'month', 'clean_tweet', 'lda_scores', 'lda',\n",
       "       'subjectivity_score'],\n",
       "      dtype='object')"
      ]
     },
     "execution_count": 64,
     "metadata": {},
     "output_type": "execute_result"
    }
   ],
   "source": [
    "df.columns"
   ]
  },
  {
   "cell_type": "markdown",
   "metadata": {},
   "source": [
    "#### Save for good measure"
   ]
  },
  {
   "cell_type": "code",
   "execution_count": 65,
   "metadata": {},
   "outputs": [],
   "source": [
    "# uncomment to save\n",
    "# df.to_csv('Datasets/5k_jan_thru_may_tweets_plus_features.csv')"
   ]
  },
  {
   "cell_type": "code",
   "execution_count": null,
   "metadata": {},
   "outputs": [],
   "source": []
  },
  {
   "cell_type": "markdown",
   "metadata": {},
   "source": [
    "# EDA/Feature Engineering\n",
    "- **See if number of likes has an effect on sentiment**"
   ]
  },
  {
   "cell_type": "code",
   "execution_count": 14,
   "metadata": {
    "scrolled": true
   },
   "outputs": [
    {
     "data": {
      "text/plain": [
       "sentiment\n",
       "negative    105461\n",
       "neutral      49184\n",
       "positive    121344\n",
       "Name: tweet, dtype: int64"
      ]
     },
     "execution_count": 14,
     "metadata": {},
     "output_type": "execute_result"
    }
   ],
   "source": [
    "df[df.nlikes > 0].groupby('sentiment').tweet.count()"
   ]
  },
  {
   "cell_type": "code",
   "execution_count": 15,
   "metadata": {},
   "outputs": [
    {
     "data": {
      "text/plain": [
       "sentiment\n",
       "negative    18052\n",
       "neutral      8219\n",
       "positive    21359\n",
       "Name: tweet, dtype: int64"
      ]
     },
     "execution_count": 15,
     "metadata": {},
     "output_type": "execute_result"
    }
   ],
   "source": [
    "df[df.nlikes > 10].groupby('sentiment')['tweet'].count()"
   ]
  },
  {
   "cell_type": "markdown",
   "metadata": {},
   "source": [
    "- **Doesn't seem to affect much**\n",
    "\n",
    "- **How about month?**"
   ]
  },
  {
   "cell_type": "code",
   "execution_count": 16,
   "metadata": {},
   "outputs": [
    {
     "data": {
      "text/plain": [
       "0    1\n",
       "1    1\n",
       "2    1\n",
       "3    1\n",
       "4    1\n",
       "Name: month, dtype: int64"
      ]
     },
     "execution_count": 16,
     "metadata": {},
     "output_type": "execute_result"
    }
   ],
   "source": [
    "df['month'] = df.date.apply(lambda x: x.month)\n",
    "df['month'].head()"
   ]
  },
  {
   "cell_type": "code",
   "execution_count": 17,
   "metadata": {
    "scrolled": true
   },
   "outputs": [
    {
     "data": {
      "text/plain": [
       "month  sentiment\n",
       "1      positive     0.412410\n",
       "       negative     0.409071\n",
       "       neutral      0.178519\n",
       "2      negative     0.421351\n",
       "       positive     0.401875\n",
       "       neutral      0.176774\n",
       "3      positive     0.430681\n",
       "       negative     0.387311\n",
       "       neutral      0.182008\n",
       "4      positive     0.405673\n",
       "       negative     0.346020\n",
       "       neutral      0.248307\n",
       "5      positive     0.417239\n",
       "       negative     0.393471\n",
       "       neutral      0.189290\n",
       "Name: sentiment, dtype: float64"
      ]
     },
     "execution_count": 17,
     "metadata": {},
     "output_type": "execute_result"
    }
   ],
   "source": [
    "df.groupby('month').sentiment.value_counts(normalize=True)"
   ]
  },
  {
   "cell_type": "code",
   "execution_count": 23,
   "metadata": {},
   "outputs": [
    {
     "data": {
      "image/png": "[encoded data removed]",
      "text/plain": [
       "<Figure size 576x432 with 1 Axes>"
      ]
     },
     "metadata": {
      "needs_background": "light"
     },
     "output_type": "display_data"
    }
   ],
   "source": [
    "# prepare data for stacked bar, sort by percentage of trees in good health\n",
    "month_sentiment = df.groupby('month').sentiment.value_counts(normalize=True).unstack()\n",
    "\n",
    "# plot stacked bar graph\n",
    "p1 = month_sentiment.plot(kind='bar', stacked=True, figsize=(8,6),\n",
    "                           color=['orangered', 'gold', 'forestgreen'], alpha=0.7, fontsize=14)\n",
    "\n",
    "# prettify the graph\n",
    "p1.set_title('Distribution of Sentiment Over Time', fontsize=22, pad=10)\n",
    "p1.set_xlabel('Month', fontsize=18, labelpad=10)\n",
    "p1.set_xticklabels(['Jan', 'Feb', 'Mar', 'Apr', 'May'], rotation='horizontal', fontsize=18)\n",
    "p1.set_ylabel('Health Status', fontsize=18, labelpad=10)\n",
    "p1.legend(['Negative', 'Neutral', 'Positive'], fontsize=20, bbox_to_anchor=(1,1))\n",
    "\n",
    "# prepare to save and display\n",
    "plt.tight_layout()\n",
    "plt.savefig('images/sentiment_month_barstack.png', bbox_inches='tight', transparent=True)\n",
    "plt.show()"
   ]
  },
  {
   "cell_type": "code",
   "execution_count": 21,
   "metadata": {},
   "outputs": [
    {
     "data": {
      "text/plain": [
       "month  sentiment\n",
       "1      positive     0.412361\n",
       "       negative     0.409046\n",
       "       neutral      0.178592\n",
       "2      negative     0.421300\n",
       "       positive     0.401849\n",
       "       neutral      0.176851\n",
       "3      positive     0.430622\n",
       "       negative     0.387278\n",
       "       neutral      0.182100\n",
       "4      positive     0.405667\n",
       "       negative     0.346007\n",
       "       neutral      0.248327\n",
       "5      positive     0.417187\n",
       "       negative     0.393458\n",
       "       neutral      0.189355\n",
       "Name: sentiment, dtype: float64"
      ]
     },
     "execution_count": 21,
     "metadata": {},
     "output_type": "execute_result"
    }
   ],
   "source": [
    "df.groupby('month').sentiment.value_counts(normalize=True)"
   ]
  },
  {
   "cell_type": "markdown",
   "metadata": {},
   "source": [
    "- **Not much effect here either**"
   ]
  }
 ],
 "metadata": {
  "kernelspec": {
   "display_name": "Python 3",
   "language": "python",
   "name": "python3"
  },
  "language_info": {
   "codemirror_mode": {
    "name": "ipython",
    "version": 3
   },
   "file_extension": ".py",
   "mimetype": "text/x-python",
   "name": "python",
   "nbconvert_exporter": "python",
   "pygments_lexer": "ipython3",
   "version": "3.6.9"
  }
 },
 "nbformat": 4,
 "nbformat_minor": 4
}
